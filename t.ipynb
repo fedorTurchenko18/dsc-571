{
 "cells": [
  {
   "cell_type": "code",
   "execution_count": null,
   "metadata": {},
   "outputs": [],
   "source": [
    "import requests\n",
    "import pandas as pd\n",
    "import numpy as np\n",
    "import joblib\n",
    "import shap\n",
    "import plotly.graph_objects as go\n",
    "from datetime import datetime\n",
    "shap.initjs()"
   ]
  },
  {
   "cell_type": "code",
   "execution_count": null,
   "metadata": {},
   "outputs": [],
   "source": [
    "try:\n",
    "    customers, sales = joblib.load('customers.joblib'), joblib.load('sales.joblib')\n",
    "except:\n",
    "    customers, sales = pd.read_excel('ucy_eko_data.xlsx', sheet_name='smile_customers'), pd.read_excel('ucy_eko_data.xlsx', sheet_name='smile_sales')\n",
    "    joblib.dump(customers, 'customers.joblib')\n",
    "    joblib.dump(sales, 'sales.joblib')"
   ]
  },
  {
   "cell_type": "code",
   "execution_count": null,
   "metadata": {},
   "outputs": [],
   "source": [
    "with pd.ExcelWriter(\"ui-test.xlsx\") as writer:\n",
    "   \n",
    "    # use to_excel function and specify the sheet_name and index\n",
    "    # to store the dataframe in specified sheet\n",
    "    sales[sales['ciid'].isin(['5665633CF0744F28A8FD9DBA949E2409', '6258CF24B0C543D295A540CA327DE4CC'])].to_excel(writer, sheet_name=\"smile_sales\", index=False)\n",
    "    customers[customers['ciid'].isin(['5665633CF0744F28A8FD9DBA949E2409', '6258CF24B0C543D295A540CA327DE4CC'])].to_excel(writer, sheet_name=\"smile_customers\", index=False)"
   ]
  },
  {
   "cell_type": "code",
   "execution_count": null,
   "metadata": {},
   "outputs": [],
   "source": [
    "customers[customers['accreccreateddate'].dt.year==2022]"
   ]
  },
  {
   "cell_type": "code",
   "execution_count": null,
   "metadata": {},
   "outputs": [],
   "source": [
    "user = '6258CF24B0C543D295A540CA327DE4CC'\n",
    "sales_cut = sales[sales['ciid']==user].drop('ciid', axis=1)\n",
    "sales_cut"
   ]
  },
  {
   "cell_type": "code",
   "execution_count": null,
   "metadata": {},
   "outputs": [],
   "source": [
    "user = '6A0244DF519548A59309CBB153D03624' # few data\n",
    "# user = '794E3FB06AA94F24B16AD0FB9AFC5D31' # much data\n",
    "# user = '159A08CEB97647189FF0C2F7AFC87F1C' # outdated\n",
    "import json\n",
    "\n",
    "sales_cut = sales[sales['ciid']==user].drop('ciid', axis=1)\n",
    "# sales_cut['receiptdate'] = sales['receiptdate'].apply(datetime.timestamp)\n",
    "sales_cut['receiptdate'] = sales['receiptdate'].apply(str)\n",
    "sales_cut = sales_cut.to_dict(orient='list')\n",
    "# sales_cut = json.dumps(sales_cut)\n",
    "customers_cut = customers[customers['ciid']==user].drop('ciid', axis=1).dropna(axis=1)\n",
    "customers_cut['accreccreateddate'] = customers_cut['accreccreateddate'].apply(str)\n",
    "customers_cut = customers_cut.to_dict(orient='list')\n",
    "# customers_cut = json.dumps(customers_cut)"
   ]
  },
  {
   "cell_type": "code",
   "execution_count": null,
   "metadata": {},
   "outputs": [],
   "source": [
    "request = requests.post(\n",
    "    'http://0.0.0.0:8000/predict',\n",
    "    json={\n",
    "        'user': {'ciid': user},\n",
    "        'sales': sales_cut,\n",
    "        'customers': customers_cut,\n",
    "        'request_fields': {'fields': ['prediction', 'confidence', 'shapley_values']}\n",
    "    }\n",
    ")"
   ]
  },
  {
   "cell_type": "code",
   "execution_count": null,
   "metadata": {},
   "outputs": [],
   "source": [
    "response = request.json()\n",
    "shapley_values = np.array(response['shapley_values']['shapley_values'])\n",
    "X = pd.DataFrame(response['shapley_values']['X'])\n",
    "y = pd.DataFrame(response['shapley_values']['y'])\n",
    "ev = response['shapley_values']['shapley_expected_value']"
   ]
  },
  {
   "cell_type": "code",
   "execution_count": null,
   "metadata": {},
   "outputs": [],
   "source": [
    "shapley_values_explainer = shap.Explanation(\n",
    "    values=shapley_values,\n",
    "    data=X.values,\n",
    "    base_values=np.array([ev]*X.shape[0], dtype=np.float32),\n",
    "    feature_names=X.columns\n",
    ")"
   ]
  },
  {
   "cell_type": "code",
   "execution_count": null,
   "metadata": {},
   "outputs": [],
   "source": [
    "request = requests.post(\n",
    "    'http://0.0.0.0:8000/predict_cluster',\n",
    "    json={\n",
    "        'user': {'ciid': user},\n",
    "        'sales': sales_cut,\n",
    "        'customers': customers_cut\n",
    "    }\n",
    ")"
   ]
  },
  {
   "cell_type": "code",
   "execution_count": null,
   "metadata": {},
   "outputs": [],
   "source": [
    "response = request.json()\n",
    "cluster = response['cluster']\n",
    "label = response['label']\n",
    "similarities = response['similarities']\n",
    "clusters_mapping = response['clusters_mapping']"
   ]
  },
  {
   "cell_type": "code",
   "execution_count": null,
   "metadata": {},
   "outputs": [],
   "source": [
    "response"
   ]
  },
  {
   "cell_type": "code",
   "execution_count": null,
   "metadata": {},
   "outputs": [],
   "source": [
    "customers[customers['accreccreateddate'] < datetime(year=2021, month=6, day=1)]"
   ]
  },
  {
   "cell_type": "code",
   "execution_count": null,
   "metadata": {},
   "outputs": [],
   "source": [
    "import pickle, json\n",
    "from services.app_api.features.extractor import FeatureExtractor\n",
    "from sklearn.preprocessing import StandardScaler\n",
    "from scipy.spatial.distance import cdist\n",
    "with open('services/app_api/configs/centroids_table.table.json', 'r') as f:\n",
    "    centroids_table = json.load(f)\n",
    "centroids = centroids_table['data']\n",
    "with open('services/app_api/features/winsorizing_object_for_threshold.pkl', 'rb') as f:\n",
    "    winsor = pickle.load(f)\n",
    "sales_cut = sales[sales['ciid']==user]\n",
    "customers_cut = customers[customers['ciid']==user]\n",
    "fe = FeatureExtractor(generation_type='continuous', filtering_set='customers', period=60, subperiod=60, perform_split=False)\n",
    "X, _ = fe.transform(sales_cut, customers_cut)\n",
    "X.columns = [f'{col[:col.find(\"_1-60\")]}' for col in X.columns]\n",
    "X = X[['monetary', 'recency', 'average_days_between_visits']]\n",
    "# outliers winsorization\n",
    "monetary_threshold = winsor.max()\n",
    "X.loc[X['monetary'] > monetary_threshold, 'monetary'] = monetary_threshold\n",
    "# Assure proper scaling (ref: https://stackoverflow.com/questions/46555820/sklearn-standardscaler-returns-all-zeros)\n",
    "X = X.to_numpy()[0]\n",
    "X = StandardScaler().fit_transform(X[:, np.newaxis])\n",
    "# Reshape: 1 col 3 rows => 3 cols 1 row\n",
    "# to assure proper distance computation\n",
    "X = X.reshape(1, -1)\n",
    "euclidean_distances = cdist(X, centroids, 'euclidean')\n",
    "similarities = np.exp(-euclidean_distances).astype(np.float64)\n",
    "cluster = similarities[0].tolist().index(similarities.max())"
   ]
  },
  {
   "cell_type": "code",
   "execution_count": null,
   "metadata": {},
   "outputs": [],
   "source": [
    "X"
   ]
  },
  {
   "cell_type": "code",
   "execution_count": null,
   "metadata": {},
   "outputs": [],
   "source": [
    "centroids"
   ]
  },
  {
   "cell_type": "code",
   "execution_count": null,
   "metadata": {},
   "outputs": [],
   "source": [
    "euclidean_distances"
   ]
  },
  {
   "cell_type": "code",
   "execution_count": null,
   "metadata": {},
   "outputs": [],
   "source": [
    "similarities"
   ]
  },
  {
   "cell_type": "code",
   "execution_count": null,
   "metadata": {},
   "outputs": [],
   "source": [
    "similarities/similarities.sum()"
   ]
  },
  {
   "cell_type": "code",
   "execution_count": null,
   "metadata": {},
   "outputs": [],
   "source": [
    "customers"
   ]
  },
  {
   "cell_type": "code",
   "execution_count": null,
   "metadata": {},
   "outputs": [],
   "source": [
    "similarities = similarities/total_score\n",
    "similarities"
   ]
  },
  {
   "cell_type": "code",
   "execution_count": null,
   "metadata": {},
   "outputs": [],
   "source": [
    "from services.app_api.features.extractor import FeatureExtractor\n",
    "from plotly import graph_objects as go\n",
    "import plotly.express as px\n",
    "import inflect"
   ]
  },
  {
   "cell_type": "code",
   "execution_count": null,
   "metadata": {},
   "outputs": [],
   "source": [
    "fe = FeatureExtractor(generation_type='continuous', filtering_set='customers', period=60, subperiod=30)"
   ]
  },
  {
   "cell_type": "code",
   "execution_count": null,
   "metadata": {},
   "outputs": [],
   "source": [
    "df = fe.filter_sales(sales=sales, customers=customers)\n",
    "df = fe.extract_subperiods(df)\n",
    "df['months_enum'] = df['breaks'].apply(lambda x: int(int(x[x.find('-')+len('-'):])/30))"
   ]
  },
  {
   "cell_type": "code",
   "execution_count": null,
   "metadata": {},
   "outputs": [],
   "source": [
    "df['ciid'].unique().shape"
   ]
  },
  {
   "cell_type": "code",
   "execution_count": null,
   "metadata": {},
   "outputs": [],
   "source": [
    "df_chart = df.drop_duplicates(['ciid', 'receiptid'])\\\n",
    "    .groupby(['months_enum'])['receiptid'].count()\\\n",
    "        .to_frame('Total Visits per Month')\\\n",
    "            .reset_index()\\\n",
    "                .rename({'months_enum': 'Month Since First Visit'}, axis=1)\n",
    "num_convert = inflect.engine()\n",
    "df_chart['Month Since First Visit'] = df_chart['Month Since First Visit'].apply(lambda x: f'{num_convert.ordinal(x)}')"
   ]
  },
  {
   "cell_type": "code",
   "execution_count": null,
   "metadata": {},
   "outputs": [],
   "source": [
    "LAST_MONTH = 12\n",
    "cmap = px.colors.sequential.dense\n",
    "fig = go.Figure(\n",
    "    go.Funnel(\n",
    "        y=df_chart.iloc[:LAST_MONTH, :]['Month Since First Visit'],\n",
    "        x=df_chart.iloc[:LAST_MONTH, :]['Total Visits per Month'],\n",
    "        textinfo='value+percent initial',\n",
    "        marker={\n",
    "            'color': cmap\n",
    "        }\n",
    "    )\n",
    ")\n",
    "fig.update_layout(\n",
    "    title='Visits Funnel Throughout User Lifetime (users registered after June 1, 2021)',\n",
    "    yaxis_title='Month Since First Visit'\n",
    ")\n",
    "fig.show()"
   ]
  },
  {
   "cell_type": "code",
   "execution_count": null,
   "metadata": {},
   "outputs": [],
   "source": [
    "import json\n",
    "fig_json = fig.to_plotly_json()\n",
    "fig_json['data'][0]['x'] = fig_json['data'][0]['x'].tolist()\n",
    "fig_json['data'][0]['y'] = fig_json['data'][0]['y'].tolist()\n",
    "\n",
    "with open('service/app_ui/static/funnel.json', 'w') as f:\n",
    "    json.dump(fig_json, f)"
   ]
  },
  {
   "cell_type": "code",
   "execution_count": null,
   "metadata": {},
   "outputs": [],
   "source": [
    "def extract_days_between_visits(sales, subperiod = None):\n",
    "    '''\n",
    "    Method to extract the average number of days between visits feature\n",
    "    '''\n",
    "    def compute_max(s):\n",
    "        # NaT occur if customer made only one visit\n",
    "        if type(s) == pd._libs.tslibs.nattype.NaTType:\n",
    "            return 0\n",
    "        else:\n",
    "            # return s[~pd.isnull(s)].days.sum()/s.shape[0]\n",
    "            return s[~pd.isnull(s)].days.max()\n",
    "\n",
    "    # Visit - unique `receiptdate` entry\n",
    "    # Therefore, drop duplicates of this column for each user\n",
    "    if subperiod:\n",
    "        tmp = sales.drop_duplicates(['ciid', 'receiptdate'])\\\n",
    "                .sort_values(['ciid', 'receiptdate'])\\\n",
    "                    .groupby(['ciid', 'breaks'])\\\n",
    "                        .agg(days_between_visits = pd.NamedAgg('receiptdate', pd.Series.diff))\\\n",
    "                            .reset_index()\n",
    "    else:\n",
    "        tmp = sales.drop_duplicates(['ciid', 'receiptdate'])\\\n",
    "                .sort_values(['ciid', 'receiptdate'])\\\n",
    "                    .groupby('ciid')\\\n",
    "                        .agg(days_between_visits = pd.NamedAgg('receiptdate', pd.Series.diff))\\\n",
    "                            .reset_index()\n",
    "    tmp['max_days_between_visits'] = tmp['days_between_visits'].apply(compute_max)\n",
    "\n",
    "    sales = pd.merge(\n",
    "        sales,\n",
    "        tmp[['ciid', 'max_days_between_visits']],\n",
    "        how='left',\n",
    "        on='ciid'\n",
    "    )\n",
    "    return sales"
   ]
  },
  {
   "cell_type": "code",
   "execution_count": null,
   "metadata": {},
   "outputs": [],
   "source": [
    "df = extract_days_between_visits(sales)\n",
    "# df = extract_days_between_visits(df)"
   ]
  },
  {
   "cell_type": "code",
   "execution_count": null,
   "metadata": {},
   "outputs": [],
   "source": [
    "df['ciid'].unique().shape[0]"
   ]
  },
  {
   "cell_type": "code",
   "execution_count": null,
   "metadata": {},
   "outputs": [],
   "source": [
    "sales"
   ]
  },
  {
   "cell_type": "code",
   "execution_count": null,
   "metadata": {},
   "outputs": [],
   "source": [
    "df_chart = df.pivot_table(values='max_days_between_visits', index='ciid', aggfunc='mean')"
   ]
  },
  {
   "cell_type": "code",
   "execution_count": null,
   "metadata": {},
   "outputs": [],
   "source": [
    "SUBPERIOD = np.floor(df_chart['max_days_between_visits'].max()/7).astype(int)\n",
    "new_series = pd.cut(df_chart['max_days_between_visits'], bins=SUBPERIOD)\n",
    "weeks = 1\n",
    "labels = [f'<= {weeks} Week'] # whatever `period` value is, first one will always be 1-`days`\n",
    "lower = 0\n",
    "upper = weeks\n",
    "for i in range(1, len(new_series.cat.categories)):\n",
    "    lower += weeks\n",
    "    upper += weeks\n",
    "    labels.append(f'{lower} to {upper} Weeks')\n",
    "new_series = new_series.cat.rename_categories(labels)"
   ]
  },
  {
   "cell_type": "code",
   "execution_count": null,
   "metadata": {},
   "outputs": [],
   "source": [
    "df_chart = pd.merge(\n",
    "    df_chart,\n",
    "    pd.DataFrame(new_series).reset_index().rename({'max_days_between_visits': 'max_weeks_between_visits'}, axis=1),\n",
    "    how='left',\n",
    "    on='ciid'\n",
    ")"
   ]
  },
  {
   "cell_type": "code",
   "execution_count": null,
   "metadata": {},
   "outputs": [],
   "source": [
    "def combine_categories(s):\n",
    "    try:\n",
    "        val = int(s[:s.find(' ')])\n",
    "        if val >= 12:\n",
    "            return 'More than 12 weeks'\n",
    "        else:\n",
    "            return s\n",
    "    except ValueError:\n",
    "        return s\n",
    "df_chart['max_weeks_between_visits'] = df_chart['max_weeks_between_visits'].apply(lambda x: combine_categories(x))"
   ]
  },
  {
   "cell_type": "code",
   "execution_count": null,
   "metadata": {},
   "outputs": [],
   "source": [
    "chart_values = df_chart['max_weeks_between_visits'].value_counts()\n",
    "fig = go.Figure(\n",
    "    [\n",
    "        go.Bar(\n",
    "            x=chart_values.values,\n",
    "            y=chart_values.index,\n",
    "            text=chart_values.values,\n",
    "            textposition='outside',\n",
    "            orientation='h'\n",
    "        )\n",
    "    ]\n",
    ")\n",
    "# horizontal line\n",
    "fig.add_trace(\n",
    "    go.Scatter(\n",
    "        x=[int(chart_values[chart_values.index!='More than 12 weeks'].sum()), int(chart_values[chart_values.index!='More than 12 weeks'].sum())],\n",
    "        y=[labels[0], labels[11]],\n",
    "        orientation='h',\n",
    "        mode='lines',\n",
    "        line={'dash': 'dot'},\n",
    "    )\n",
    ")\n",
    "# text (value)\n",
    "fig.add_trace(\n",
    "    go.Scatter(\n",
    "        x=[int(chart_values[chart_values.index!='More than 12 weeks'].sum())],\n",
    "        y=[labels[6]],\n",
    "        text=f\"{chart_values[chart_values.index!='More than 12 weeks'].sum():,}\",\n",
    "        orientation='h',\n",
    "        mode='text',\n",
    "        textposition='middle right'\n",
    "    )\n",
    ")\n",
    "# left vertical line\n",
    "fig.add_shape(\n",
    "    type='line',\n",
    "    x0=0,\n",
    "    x1=int(chart_values[chart_values.index!='More than 12 weeks'].sum()),\n",
    "    y0=labels[0],\n",
    "    y1=labels[0],\n",
    "    line={\n",
    "        'color': 'red',\n",
    "        'width': 2,\n",
    "        'dash': 'dot'\n",
    "    }\n",
    ")\n",
    "# right vertical line\n",
    "fig.add_shape(\n",
    "    type='line',\n",
    "    x0=0,\n",
    "    x1=int(chart_values[chart_values.index!='More than 12 weeks'].sum()),\n",
    "    y0=labels[11],\n",
    "    y1=labels[11],\n",
    "    line={\n",
    "        'color': 'red',\n",
    "        'width': 2,\n",
    "        'dash': 'dot'\n",
    "    }\n",
    ")\n",
    "# remove legend\n",
    "for trace in fig['data']: \n",
    "    trace['showlegend'] = False\n",
    "fig.data[0]['text'] = ['' if i != chart_values['More than 12 weeks'] else f'{int(i):,}' for i in fig.data[0]['text']]\n",
    "fig.update_yaxes(\n",
    "    categoryorder='array',\n",
    "    categoryarray=new_series.cat.categories[:12].tolist()+['More than 12 weeks']\n",
    ")\n",
    "fig.update_layout(\n",
    "    title='Maximum Breaks between Visits',\n",
    "    yaxis_title='Number of Users',\n",
    "    xaxis_title='Break Duration'\n",
    ")"
   ]
  },
  {
   "cell_type": "code",
   "execution_count": null,
   "metadata": {},
   "outputs": [],
   "source": [
    "fig_json = fig.to_plotly_json()\n",
    "fig_json['data'][0]['x'] = fig_json['data'][0]['x'].tolist()\n",
    "fig_json['data'][0]['y'] = fig_json['data'][0]['y'].tolist()\n",
    "\n",
    "with open('service/app_ui/static/max_breaks_horizontal.json', 'w') as f:\n",
    "    json.dump(fig_json, f)"
   ]
  },
  {
   "cell_type": "code",
   "execution_count": null,
   "metadata": {},
   "outputs": [],
   "source": [
    "from plotly.subplots import make_subplots\n",
    "\n",
    "sales['year'] = sales['receiptdate'].dt.year\n",
    "sales['month'] = sales['receiptdate'].dt.month\n",
    "sales['month_name'] = sales['receiptdate'].dt.month_name()\n",
    "\n",
    "col_map = {'month_year': 'Month', 'receiptid': 'Total Visits', 'ciid': 'Total Unique Users'}\n",
    "\n",
    "monthly_visits = sales.\\\n",
    "    groupby(['year', 'month', 'month_name'], as_index=False).\\\n",
    "    agg({'receiptid': 'count', 'ciid': pd.Series.nunique})\n",
    "monthly_visits.sort_values(['year', 'month'], ascending=True, inplace=True)\n",
    "monthly_visits['month_year'] = monthly_visits['month_name'] + ' ' + monthly_visits['year'].astype(str)\n",
    "monthly_visits.rename(columns=col_map, inplace=True)\n",
    "\n",
    "period_start, period_end = sales['receiptdate'].min(), sales['receiptdate'].max()\n",
    "\n",
    "fig = make_subplots(specs=[[{'secondary_y': True}]])\n",
    "\n",
    "## Unique visits chart\n",
    "fig.add_trace(\n",
    "    go.Scatter(\n",
    "        name='Unique visits',\n",
    "        x=monthly_visits[col_map['month_year']],\n",
    "        y=monthly_visits[col_map['receiptid']]\n",
    "    ),\n",
    "    secondary_y=False\n",
    ")\n",
    "\n",
    "## June 2021 straight line\n",
    "june_2021 = monthly_visits[col_map['month_year']][monthly_visits[col_map['month_year']]=='June 2021']\n",
    "fig.add_trace(\n",
    "    go.Scatter(\n",
    "        x=['June 2021', 'June 2021'],\n",
    "        name='',\n",
    "        mode='lines',\n",
    "        y=[\n",
    "            0,\n",
    "            150000\n",
    "        ],\n",
    "        line={'dash': 'dot'}\n",
    "    )\n",
    ")\n",
    "## Unique users chart\n",
    "fig.add_trace(\n",
    "    go.Scatter(\n",
    "        name='Unique users',\n",
    "        x=monthly_visits[col_map['month_year']],\n",
    "        y=monthly_visits[col_map['ciid']],\n",
    "        line={'dash': 'dash'}\n",
    "    ),\n",
    "    secondary_y=True\n",
    ")\n",
    "## Visits dot\n",
    "fig.add_trace(\n",
    "    go.Scatter(\n",
    "        mode='lines+markers+text',\n",
    "        x=june_2021,\n",
    "        y=monthly_visits[col_map['receiptid']][june_2021.index],\n",
    "        marker={'size': 8, 'color': 'blue'},\n",
    "        text=f\"{monthly_visits[col_map['receiptid']][june_2021.index].values[0]:,} unique visits\",\n",
    "        textposition='top left'\n",
    "    ),\n",
    "    secondary_y=False\n",
    ")\n",
    "## Users dot\n",
    "fig.add_trace(\n",
    "    go.Scatter(\n",
    "        mode='lines+markers+text',\n",
    "        x=june_2021,\n",
    "        y=monthly_visits[col_map['ciid']][june_2021.index],\n",
    "        marker={'size': 8, 'color': 'green'},\n",
    "        text=f\"{monthly_visits[col_map['ciid']][june_2021.index].values[0]:,} unique users\",\n",
    "        textposition='bottom right'\n",
    "    ),\n",
    "    secondary_y=True\n",
    ")\n",
    "## Settings\n",
    "# x axis\n",
    "fig.update_xaxes(\n",
    "    tickangle=-45,\n",
    "    tickvals=[i for i in range(0, monthly_visits.shape[0]) if i % 2 == 1]\n",
    ")\n",
    "# vists y axis\n",
    "fig.update_yaxes(\n",
    "    title_text='Visits, thousands',\n",
    "    tickvals=[i for i in range(1000, 201000, 1000) if i % 10000 == 0],\n",
    "    range=[\n",
    "        monthly_visits[col_map['receiptid']].min(),\n",
    "        monthly_visits[col_map['receiptid']].max()\n",
    "    ],\n",
    "    secondary_y=False\n",
    ")\n",
    "# users y axis\n",
    "fig.update_yaxes(\n",
    "    title_text='Users, thousands',\n",
    "    tickvals=[i for i in range(1000, 41000, 1000) if i % 5000 == 0],\n",
    "    range=[\n",
    "        monthly_visits[col_map['ciid']].min(),\n",
    "        monthly_visits[col_map['ciid']].max()\n",
    "    ],\n",
    "    secondary_y=True\n",
    ")\n",
    "# layout\n",
    "fig.update_layout(\n",
    "    title=f'Monthly Visits from {period_start.month_name()} {period_start.day}, {period_start.year} to {period_end.month_name()} {period_end.day}, {period_end.year}',\n",
    "    showlegend=True\n",
    ")\n",
    "# Remove extras from legend\n",
    "for trace in fig['data']:\n",
    "    if not trace['name']:\n",
    "        trace['showlegend'] = False\n",
    "fig.show()"
   ]
  },
  {
   "cell_type": "code",
   "execution_count": null,
   "metadata": {},
   "outputs": [],
   "source": [
    "fig_json = fig.to_plotly_json()\n",
    "fig_json['data'][0]['x'] = fig_json['data'][0]['x'].tolist()\n",
    "fig_json['data'][0]['y'] = fig_json['data'][0]['y'].tolist()\n",
    "\n",
    "fig_json['data'][2]['x'] = fig_json['data'][2]['x'].tolist()\n",
    "fig_json['data'][2]['y'] = fig_json['data'][2]['y'].tolist()\n",
    "\n",
    "fig_json['data'][3]['x'] = fig_json['data'][3]['x'].tolist()\n",
    "fig_json['data'][3]['y'] = fig_json['data'][3]['y'].tolist()\n",
    "\n",
    "fig_json['data'][4]['x'] = fig_json['data'][4]['x'].tolist()\n",
    "fig_json['data'][4]['y'] = fig_json['data'][4]['y'].tolist()\n",
    "\n",
    "with open('service/app_ui/static/monthly_visits.json', 'w') as f:\n",
    "    json.dump(fig_json, f)"
   ]
  },
  {
   "cell_type": "code",
   "execution_count": null,
   "metadata": {},
   "outputs": [],
   "source": [
    "fe = FeatureExtractor(target_month=3, n_purchases=2, perform_split=False, generation_type='continuous', filtering_set='customers', period=60, subperiod=60)\n",
    "df, y_2 = fe.transform(sales, customers)\n",
    "df['target_2_visits'] = y_2\n",
    "fe = FeatureExtractor(target_month=3, n_purchases=1, perform_split=False, generation_type='continuous', filtering_set='customers', period=60, subperiod=60)\n",
    "_, y_1 = fe.transform(sales, customers)\n",
    "df['target_1_visit'] = y_1"
   ]
  },
  {
   "cell_type": "code",
   "execution_count": null,
   "metadata": {},
   "outputs": [],
   "source": [
    "df.columns = [f'{col[:col.find(\"_1-60\")]}' if '_1-60' in col else col for col in df.columns]\n",
    "df.head()"
   ]
  },
  {
   "cell_type": "code",
   "execution_count": null,
   "metadata": {},
   "outputs": [],
   "source": [
    "df_agg = pd.concat(\n",
    "    [\n",
    "        df.groupby('target_1_visit')[['average_days_between_visits', 'monetary', 'recency']].median(),\n",
    "        df.groupby('target_2_visits')[['average_days_between_visits', 'monetary', 'recency']].median()\n",
    "    ],\n",
    "    axis=0\n",
    ")\n",
    "df_agg.index = [\n",
    "    'No visits at month 3',\n",
    "    'At least 1 visit at month 3',\n",
    "    'No or 1 visit at month 3',\n",
    "    'At least 2 visits at month 3',\n",
    "]\n",
    "df_agg"
   ]
  },
  {
   "cell_type": "code",
   "execution_count": null,
   "metadata": {},
   "outputs": [],
   "source": [
    "fig = go.Figure(\n",
    "    go.Heatmap(\n",
    "        x=df_agg.columns,\n",
    "        y=df_agg.index,\n",
    "        z=df_agg.values,\n",
    "        text=df_agg.values.astype(str),\n",
    "        texttemplate='%{text:.2f}',\n",
    "    )\n",
    ")\n",
    "fig.show()"
   ]
  },
  {
   "cell_type": "code",
   "execution_count": null,
   "metadata": {},
   "outputs": [],
   "source": []
  },
  {
   "cell_type": "code",
   "execution_count": null,
   "metadata": {},
   "outputs": [],
   "source": []
  },
  {
   "cell_type": "code",
   "execution_count": null,
   "metadata": {},
   "outputs": [],
   "source": []
  },
  {
   "cell_type": "code",
   "execution_count": null,
   "metadata": {},
   "outputs": [],
   "source": []
  },
  {
   "cell_type": "code",
   "execution_count": null,
   "metadata": {},
   "outputs": [],
   "source": [
    "customers.isna().sum()*100 / customers.shape[0]"
   ]
  },
  {
   "cell_type": "code",
   "execution_count": null,
   "metadata": {},
   "outputs": [],
   "source": [
    "sales[\n",
    "    sales['ciid'].isin(customers[(~customers['cigender'].isna()) & (~customers['ciyearofbirth'].isna())]['ciid'])\n",
    "]"
   ]
  },
  {
   "cell_type": "code",
   "execution_count": null,
   "metadata": {},
   "outputs": [],
   "source": [
    "(677380 / sales.shape[0])*100"
   ]
  },
  {
   "cell_type": "code",
   "execution_count": null,
   "metadata": {},
   "outputs": [],
   "source": [
    "import pickle\n",
    "from sklearn.preprocessing import StandardScaler\n",
    "\n",
    "def extract_clustering_feature(df_customer_level: pd.DataFrame):\n",
    "    '''\n",
    "    Method to extract clusters (i.e. customer segments) based on RFM variables\n",
    "    TODO: add extended docstring\n",
    "    '''\n",
    "    # Load clustering model\n",
    "    with open('service/app_api/features/clustering_model.pkl', 'rb') as f:\n",
    "        model = pickle.load(f)\n",
    "    # Load `scipy.stats.mstats.winsorize` output object to define threshold for the `monetary` variable\n",
    "    with open('service/app_api/features/winsorizing_object_for_threshold.pkl', 'rb') as f:\n",
    "        winsor = pickle.load(f)\n",
    "    X_clust = df_customer_level[['monetary', 'recency', 'average_days_between_visits']]\n",
    "    monetary_threshold = winsor.max()\n",
    "    # Perform winsorization\n",
    "    X_clust.loc[X_clust['monetary'] > monetary_threshold, 'monetary'] = monetary_threshold\n",
    "    scaler = StandardScaler()\n",
    "    labels = pd.Categorical(\n",
    "        model.predict(\n",
    "            scaler.fit_transform(X_clust)\n",
    "        )\n",
    "    )\n",
    "    df_customer_level['segments'] = labels\n",
    "    df_customer_level['segments'] = df_customer_level['segments'].cat.rename_categories({2: 'frequent_drivers', 1: 'passerbys', 0: 'regular_drivers'})\n",
    "    return df_customer_level"
   ]
  },
  {
   "cell_type": "code",
   "execution_count": null,
   "metadata": {},
   "outputs": [],
   "source": [
    "from services.app_api.features.extractor import FeatureExtractor\n",
    "fe = FeatureExtractor(target_month=3, n_purchases=2, perform_split=False, generation_type='continuous', filtering_set='customers', period=60, subperiod=60)\n",
    "X, y = fe.transform(sales=sales, customers=customers)"
   ]
  },
  {
   "cell_type": "code",
   "execution_count": null,
   "metadata": {},
   "outputs": [],
   "source": [
    "X"
   ]
  },
  {
   "cell_type": "code",
   "execution_count": null,
   "metadata": {},
   "outputs": [],
   "source": [
    "l = [0.331075,\n",
    "-0.041019,\n",
    "-0.013123,\n",
    "0.014812,\n",
    "-0.019510,\n",
    "-0.020479,\n",
    "0.033687,\n",
    "0.034522,\n",
    "-0.037530,\n",
    "0.044057,\n",
    "0.090234]\n",
    "sum(l)"
   ]
  },
  {
   "cell_type": "code",
   "execution_count": null,
   "metadata": {},
   "outputs": [],
   "source": []
  }
 ],
 "metadata": {
  "kernelspec": {
   "display_name": "Python 3",
   "language": "python",
   "name": "python3"
  },
  "language_info": {
   "codemirror_mode": {
    "name": "ipython",
    "version": 3
   },
   "file_extension": ".py",
   "mimetype": "text/x-python",
   "name": "python",
   "nbconvert_exporter": "python",
   "pygments_lexer": "ipython3",
   "version": "3.10.13"
  }
 },
 "nbformat": 4,
 "nbformat_minor": 2
}
