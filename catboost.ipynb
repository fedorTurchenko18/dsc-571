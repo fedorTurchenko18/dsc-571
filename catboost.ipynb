{
 "cells": [
  {
   "cell_type": "code",
   "execution_count": 1,
   "metadata": {},
   "outputs": [
    {
     "name": "stderr",
     "output_type": "stream",
     "text": [
      "/opt/homebrew/lib/python3.10/site-packages/umap/distances.py:1063: NumbaDeprecationWarning: The 'nopython' keyword argument was not supplied to the 'numba.jit' decorator. The implicit default value for this argument is currently False, but it will be changed to True in Numba 0.59.0. See https://numba.readthedocs.io/en/stable/reference/deprecation.html#deprecation-of-object-mode-fall-back-behaviour-when-using-jit for details.\n",
      "  @numba.jit()\n",
      "/opt/homebrew/lib/python3.10/site-packages/umap/distances.py:1071: NumbaDeprecationWarning: The 'nopython' keyword argument was not supplied to the 'numba.jit' decorator. The implicit default value for this argument is currently False, but it will be changed to True in Numba 0.59.0. See https://numba.readthedocs.io/en/stable/reference/deprecation.html#deprecation-of-object-mode-fall-back-behaviour-when-using-jit for details.\n",
      "  @numba.jit()\n",
      "/opt/homebrew/lib/python3.10/site-packages/umap/distances.py:1086: NumbaDeprecationWarning: The 'nopython' keyword argument was not supplied to the 'numba.jit' decorator. The implicit default value for this argument is currently False, but it will be changed to True in Numba 0.59.0. See https://numba.readthedocs.io/en/stable/reference/deprecation.html#deprecation-of-object-mode-fall-back-behaviour-when-using-jit for details.\n",
      "  @numba.jit()\n",
      "/opt/homebrew/lib/python3.10/site-packages/umap/umap_.py:660: NumbaDeprecationWarning: The 'nopython' keyword argument was not supplied to the 'numba.jit' decorator. The implicit default value for this argument is currently False, but it will be changed to True in Numba 0.59.0. See https://numba.readthedocs.io/en/stable/reference/deprecation.html#deprecation-of-object-mode-fall-back-behaviour-when-using-jit for details.\n",
      "  @numba.jit()\n"
     ]
    }
   ],
   "source": [
    "import pandas as pd\n",
    "import joblib\n",
    "import matplotlib.pyplot as plt\n",
    "\n",
    "from features.extractor import FeatureExtractor\n",
    "from tuning.optuna_tuning import OptunaTuner\n",
    "from configs import utils\n",
    "\n",
    "from catboost import CatBoostClassifier\n",
    "from sklearn.metrics import classification_report, accuracy_score\n",
    "import optuna\n",
    "import wandb"
   ]
  },
  {
   "cell_type": "code",
   "execution_count": 2,
   "metadata": {},
   "outputs": [],
   "source": [
    "try:\n",
    "    customers, sales = joblib.load('customers.joblib'), joblib.load('sales.joblib')\n",
    "except:\n",
    "    customers, sales = pd.read_excel('ucy_eko_data.xlsx', sheet_name='smile_customers'), pd.read_excel('ucy_eko_data.xlsx', sheet_name='smile_sales')\n",
    "    joblib.dump(customers, 'customers.joblib')\n",
    "    joblib.dump(sales, 'sales.joblib')"
   ]
  },
  {
   "cell_type": "code",
   "execution_count": 3,
   "metadata": {},
   "outputs": [
    {
     "name": "stdout",
     "output_type": "stream",
     "text": [
      "Token will not been saved to git credential helper. Pass `add_to_git_credential=True` if you want to set the git credential as well.\n",
      "Token is valid (permission: write).\n",
      "Your token has been saved to /Users/fedorturchenko/.cache/huggingface/token\n",
      "Login successful\n",
      "Successfully logged out.\n"
     ]
    },
    {
     "data": {
      "text/plain": [
       "prodcatbroad_1-15               category\n",
       "prodcatbroad_16-30              category\n",
       "prodcatbroad_31-45              category\n",
       "prodcatbroad_46-60              category\n",
       "peak_hour_1-15                  category\n",
       "peak_hour_16-30                 category\n",
       "peak_hour_31-45                 category\n",
       "peak_hour_46-60                 category\n",
       "weekday_1-15                    category\n",
       "weekday_16-30                   category\n",
       "weekday_31-45                   category\n",
       "weekday_46-60                   category\n",
       "fuel_type_1-15                  category\n",
       "fuel_type_16-30                 category\n",
       "fuel_type_31-45                 category\n",
       "fuel_type_46-60                 category\n",
       "last_purchase_share_1-15         float32\n",
       "last_purchase_share_16-30        float32\n",
       "last_purchase_share_31-45        float32\n",
       "last_purchase_share_46-60        float32\n",
       "full_non_fuel_purchase_1-15     category\n",
       "full_non_fuel_purchase_16-30    category\n",
       "full_non_fuel_purchase_31-45    category\n",
       "full_non_fuel_purchase_46-60    category\n",
       "segments                        category\n",
       "dtype: object"
      ]
     },
     "execution_count": 3,
     "metadata": {},
     "output_type": "execute_result"
    }
   ],
   "source": [
    "fe = FeatureExtractor(sales=sales, customers=customers, target_month=3, perform_split=False, generation_type='categorical', filtering_set='sales', period=60, subperiod=15)\n",
    "X, y = fe.transform()\n",
    "X.dtypes"
   ]
  },
  {
   "cell_type": "code",
   "execution_count": 4,
   "metadata": {},
   "outputs": [],
   "source": [
    "X_train, X_test, y_train, y_test = fe.perform_train_test_split(X, y)"
   ]
  },
  {
   "cell_type": "markdown",
   "metadata": {},
   "source": [
    "## Default Parameters Performance"
   ]
  },
  {
   "cell_type": "code",
   "execution_count": 5,
   "metadata": {},
   "outputs": [],
   "source": [
    "cat = CatBoostClassifier(cat_features=[col for col in X_train.columns if 'last_purchase_share' not in col], random_seed=571)"
   ]
  },
  {
   "cell_type": "code",
   "execution_count": 6,
   "metadata": {},
   "outputs": [
    {
     "name": "stdout",
     "output_type": "stream",
     "text": [
      "Learning rate set to 0.057211\n",
      "0:\tlearn: 0.6667778\ttotal: 105ms\tremaining: 1m 44s\n",
      "1:\tlearn: 0.6438352\ttotal: 151ms\tremaining: 1m 15s\n",
      "2:\tlearn: 0.6232545\ttotal: 189ms\tremaining: 1m 2s\n",
      "3:\tlearn: 0.6055267\ttotal: 240ms\tremaining: 59.7s\n",
      "4:\tlearn: 0.5900876\ttotal: 302ms\tremaining: 1m\n",
      "5:\tlearn: 0.5771433\ttotal: 349ms\tremaining: 57.8s\n",
      "6:\tlearn: 0.5652399\ttotal: 402ms\tremaining: 57s\n",
      "7:\tlearn: 0.5556213\ttotal: 463ms\tremaining: 57.5s\n",
      "8:\tlearn: 0.5467303\ttotal: 507ms\tremaining: 55.8s\n",
      "9:\tlearn: 0.5391370\ttotal: 558ms\tremaining: 55.2s\n",
      "10:\tlearn: 0.5324739\ttotal: 610ms\tremaining: 54.8s\n",
      "11:\tlearn: 0.5267068\ttotal: 663ms\tremaining: 54.5s\n",
      "12:\tlearn: 0.5214045\ttotal: 719ms\tremaining: 54.6s\n",
      "13:\tlearn: 0.5171008\ttotal: 768ms\tremaining: 54.1s\n",
      "14:\tlearn: 0.5130786\ttotal: 814ms\tremaining: 53.4s\n",
      "15:\tlearn: 0.5095021\ttotal: 868ms\tremaining: 53.4s\n",
      "16:\tlearn: 0.5066908\ttotal: 914ms\tremaining: 52.8s\n",
      "17:\tlearn: 0.5041241\ttotal: 955ms\tremaining: 52.1s\n",
      "18:\tlearn: 0.5017778\ttotal: 1.01s\tremaining: 52s\n",
      "19:\tlearn: 0.4997583\ttotal: 1.05s\tremaining: 51.3s\n",
      "20:\tlearn: 0.4979097\ttotal: 1.1s\tremaining: 51.1s\n",
      "21:\tlearn: 0.4962498\ttotal: 1.15s\tremaining: 51s\n",
      "22:\tlearn: 0.4946837\ttotal: 1.2s\tremaining: 51.1s\n",
      "23:\tlearn: 0.4933393\ttotal: 1.27s\tremaining: 51.7s\n",
      "24:\tlearn: 0.4922000\ttotal: 1.37s\tremaining: 53.5s\n",
      "25:\tlearn: 0.4912726\ttotal: 1.45s\tremaining: 54.5s\n",
      "26:\tlearn: 0.4902905\ttotal: 1.51s\tremaining: 54.6s\n",
      "27:\tlearn: 0.4894246\ttotal: 1.58s\tremaining: 54.9s\n",
      "28:\tlearn: 0.4887213\ttotal: 1.65s\tremaining: 55.4s\n",
      "29:\tlearn: 0.4880001\ttotal: 1.76s\tremaining: 56.9s\n",
      "30:\tlearn: 0.4874500\ttotal: 1.83s\tremaining: 57.1s\n",
      "31:\tlearn: 0.4870097\ttotal: 1.86s\tremaining: 56.2s\n",
      "32:\tlearn: 0.4864718\ttotal: 1.9s\tremaining: 55.7s\n",
      "33:\tlearn: 0.4859867\ttotal: 1.94s\tremaining: 55s\n",
      "34:\tlearn: 0.4855838\ttotal: 1.98s\tremaining: 54.5s\n",
      "35:\tlearn: 0.4852523\ttotal: 2.02s\tremaining: 54.2s\n",
      "36:\tlearn: 0.4848498\ttotal: 2.07s\tremaining: 53.8s\n",
      "37:\tlearn: 0.4845642\ttotal: 2.11s\tremaining: 53.4s\n",
      "38:\tlearn: 0.4842439\ttotal: 2.16s\tremaining: 53.2s\n",
      "39:\tlearn: 0.4839544\ttotal: 2.23s\tremaining: 53.4s\n",
      "40:\tlearn: 0.4837346\ttotal: 2.27s\tremaining: 53.2s\n",
      "41:\tlearn: 0.4835299\ttotal: 2.32s\tremaining: 52.8s\n",
      "42:\tlearn: 0.4833427\ttotal: 2.36s\tremaining: 52.5s\n",
      "43:\tlearn: 0.4831585\ttotal: 2.4s\tremaining: 52.1s\n",
      "44:\tlearn: 0.4829633\ttotal: 2.44s\tremaining: 51.8s\n",
      "45:\tlearn: 0.4827517\ttotal: 2.49s\tremaining: 51.6s\n",
      "46:\tlearn: 0.4826008\ttotal: 2.53s\tremaining: 51.2s\n",
      "47:\tlearn: 0.4824562\ttotal: 2.58s\tremaining: 51.1s\n",
      "48:\tlearn: 0.4823430\ttotal: 2.65s\tremaining: 51.4s\n",
      "49:\tlearn: 0.4822409\ttotal: 2.73s\tremaining: 51.8s\n",
      "50:\tlearn: 0.4821233\ttotal: 2.77s\tremaining: 51.6s\n",
      "51:\tlearn: 0.4820351\ttotal: 2.81s\tremaining: 51.3s\n",
      "52:\tlearn: 0.4819239\ttotal: 2.85s\tremaining: 51s\n",
      "53:\tlearn: 0.4817900\ttotal: 2.9s\tremaining: 50.8s\n",
      "54:\tlearn: 0.4817533\ttotal: 2.92s\tremaining: 50.2s\n",
      "55:\tlearn: 0.4816655\ttotal: 2.97s\tremaining: 50.1s\n",
      "56:\tlearn: 0.4815700\ttotal: 3.02s\tremaining: 50.1s\n",
      "57:\tlearn: 0.4814671\ttotal: 3.07s\tremaining: 49.9s\n",
      "58:\tlearn: 0.4814012\ttotal: 3.13s\tremaining: 49.8s\n",
      "59:\tlearn: 0.4813254\ttotal: 3.17s\tremaining: 49.6s\n",
      "60:\tlearn: 0.4812534\ttotal: 3.22s\tremaining: 49.6s\n",
      "61:\tlearn: 0.4812198\ttotal: 3.26s\tremaining: 49.3s\n",
      "62:\tlearn: 0.4811207\ttotal: 3.3s\tremaining: 49.1s\n",
      "63:\tlearn: 0.4810339\ttotal: 3.35s\tremaining: 48.9s\n",
      "64:\tlearn: 0.4809914\ttotal: 3.39s\tremaining: 48.7s\n",
      "65:\tlearn: 0.4809093\ttotal: 3.43s\tremaining: 48.5s\n",
      "66:\tlearn: 0.4808697\ttotal: 3.46s\tremaining: 48.3s\n",
      "67:\tlearn: 0.4808255\ttotal: 3.51s\tremaining: 48.1s\n",
      "68:\tlearn: 0.4807974\ttotal: 3.55s\tremaining: 47.9s\n",
      "69:\tlearn: 0.4807556\ttotal: 3.61s\tremaining: 48s\n",
      "70:\tlearn: 0.4807083\ttotal: 3.67s\tremaining: 48s\n",
      "71:\tlearn: 0.4806633\ttotal: 3.73s\tremaining: 48s\n",
      "72:\tlearn: 0.4806416\ttotal: 3.78s\tremaining: 48s\n",
      "73:\tlearn: 0.4805874\ttotal: 3.82s\tremaining: 47.9s\n",
      "74:\tlearn: 0.4805084\ttotal: 3.87s\tremaining: 47.7s\n",
      "75:\tlearn: 0.4804667\ttotal: 3.91s\tremaining: 47.5s\n",
      "76:\tlearn: 0.4803752\ttotal: 3.96s\tremaining: 47.4s\n",
      "77:\tlearn: 0.4803658\ttotal: 3.98s\tremaining: 47s\n",
      "78:\tlearn: 0.4803067\ttotal: 4.01s\tremaining: 46.8s\n",
      "79:\tlearn: 0.4802159\ttotal: 4.06s\tremaining: 46.7s\n",
      "80:\tlearn: 0.4801846\ttotal: 4.13s\tremaining: 46.8s\n",
      "81:\tlearn: 0.4801233\ttotal: 4.17s\tremaining: 46.7s\n",
      "82:\tlearn: 0.4800479\ttotal: 4.22s\tremaining: 46.6s\n",
      "83:\tlearn: 0.4800140\ttotal: 4.26s\tremaining: 46.5s\n",
      "84:\tlearn: 0.4799827\ttotal: 4.31s\tremaining: 46.4s\n",
      "85:\tlearn: 0.4799323\ttotal: 4.35s\tremaining: 46.3s\n",
      "86:\tlearn: 0.4798703\ttotal: 4.4s\tremaining: 46.1s\n",
      "87:\tlearn: 0.4798079\ttotal: 4.44s\tremaining: 46s\n",
      "88:\tlearn: 0.4797760\ttotal: 4.5s\tremaining: 46s\n",
      "89:\tlearn: 0.4797343\ttotal: 4.58s\tremaining: 46.3s\n",
      "90:\tlearn: 0.4796765\ttotal: 4.72s\tremaining: 47.2s\n",
      "91:\tlearn: 0.4796315\ttotal: 4.78s\tremaining: 47.2s\n",
      "92:\tlearn: 0.4795677\ttotal: 4.86s\tremaining: 47.4s\n",
      "93:\tlearn: 0.4795565\ttotal: 4.95s\tremaining: 47.7s\n",
      "94:\tlearn: 0.4795102\ttotal: 5.03s\tremaining: 47.9s\n",
      "95:\tlearn: 0.4794460\ttotal: 5.09s\tremaining: 47.9s\n",
      "96:\tlearn: 0.4794460\ttotal: 5.12s\tremaining: 47.7s\n",
      "97:\tlearn: 0.4793817\ttotal: 5.19s\tremaining: 47.7s\n",
      "98:\tlearn: 0.4793537\ttotal: 5.25s\tremaining: 47.8s\n",
      "99:\tlearn: 0.4793233\ttotal: 5.31s\tremaining: 47.8s\n",
      "100:\tlearn: 0.4792820\ttotal: 5.37s\tremaining: 47.8s\n",
      "101:\tlearn: 0.4792669\ttotal: 5.44s\tremaining: 47.9s\n",
      "102:\tlearn: 0.4791968\ttotal: 5.5s\tremaining: 47.9s\n",
      "103:\tlearn: 0.4791900\ttotal: 5.56s\tremaining: 47.9s\n",
      "104:\tlearn: 0.4791780\ttotal: 5.61s\tremaining: 47.8s\n",
      "105:\tlearn: 0.4791703\ttotal: 5.64s\tremaining: 47.6s\n",
      "106:\tlearn: 0.4790907\ttotal: 5.68s\tremaining: 47.4s\n",
      "107:\tlearn: 0.4790148\ttotal: 5.73s\tremaining: 47.3s\n",
      "108:\tlearn: 0.4789779\ttotal: 5.78s\tremaining: 47.2s\n",
      "109:\tlearn: 0.4789519\ttotal: 5.83s\tremaining: 47.1s\n",
      "110:\tlearn: 0.4789279\ttotal: 5.88s\tremaining: 47.1s\n",
      "111:\tlearn: 0.4789202\ttotal: 5.92s\tremaining: 46.9s\n",
      "112:\tlearn: 0.4788752\ttotal: 5.96s\tremaining: 46.8s\n",
      "113:\tlearn: 0.4788163\ttotal: 6s\tremaining: 46.6s\n",
      "114:\tlearn: 0.4787954\ttotal: 6.05s\tremaining: 46.6s\n",
      "115:\tlearn: 0.4787667\ttotal: 6.1s\tremaining: 46.5s\n",
      "116:\tlearn: 0.4787620\ttotal: 6.15s\tremaining: 46.4s\n",
      "117:\tlearn: 0.4787619\ttotal: 6.17s\tremaining: 46.1s\n",
      "118:\tlearn: 0.4787619\ttotal: 6.19s\tremaining: 45.8s\n",
      "119:\tlearn: 0.4787328\ttotal: 6.24s\tremaining: 45.7s\n",
      "120:\tlearn: 0.4786505\ttotal: 6.29s\tremaining: 45.7s\n",
      "121:\tlearn: 0.4786069\ttotal: 6.33s\tremaining: 45.6s\n",
      "122:\tlearn: 0.4785973\ttotal: 6.38s\tremaining: 45.5s\n",
      "123:\tlearn: 0.4785818\ttotal: 6.43s\tremaining: 45.5s\n",
      "124:\tlearn: 0.4785412\ttotal: 6.49s\tremaining: 45.4s\n",
      "125:\tlearn: 0.4784626\ttotal: 6.54s\tremaining: 45.4s\n",
      "126:\tlearn: 0.4784375\ttotal: 6.59s\tremaining: 45.3s\n",
      "127:\tlearn: 0.4783952\ttotal: 6.64s\tremaining: 45.2s\n",
      "128:\tlearn: 0.4783757\ttotal: 6.71s\tremaining: 45.3s\n",
      "129:\tlearn: 0.4783552\ttotal: 6.77s\tremaining: 45.3s\n",
      "130:\tlearn: 0.4783021\ttotal: 6.82s\tremaining: 45.3s\n",
      "131:\tlearn: 0.4782362\ttotal: 6.88s\tremaining: 45.2s\n",
      "132:\tlearn: 0.4782006\ttotal: 6.93s\tremaining: 45.2s\n",
      "133:\tlearn: 0.4781109\ttotal: 6.98s\tremaining: 45.1s\n",
      "134:\tlearn: 0.4780918\ttotal: 7.04s\tremaining: 45.1s\n",
      "135:\tlearn: 0.4780778\ttotal: 7.1s\tremaining: 45.1s\n",
      "136:\tlearn: 0.4780532\ttotal: 7.15s\tremaining: 45s\n",
      "137:\tlearn: 0.4780532\ttotal: 7.16s\tremaining: 44.7s\n",
      "138:\tlearn: 0.4780269\ttotal: 7.21s\tremaining: 44.6s\n",
      "139:\tlearn: 0.4780002\ttotal: 7.25s\tremaining: 44.6s\n",
      "140:\tlearn: 0.4779822\ttotal: 7.3s\tremaining: 44.5s\n",
      "141:\tlearn: 0.4779781\ttotal: 7.35s\tremaining: 44.4s\n",
      "142:\tlearn: 0.4779700\ttotal: 7.39s\tremaining: 44.3s\n",
      "143:\tlearn: 0.4779648\ttotal: 7.45s\tremaining: 44.3s\n",
      "144:\tlearn: 0.4779133\ttotal: 7.58s\tremaining: 44.7s\n",
      "145:\tlearn: 0.4778869\ttotal: 7.63s\tremaining: 44.6s\n",
      "146:\tlearn: 0.4778743\ttotal: 7.67s\tremaining: 44.5s\n",
      "147:\tlearn: 0.4778705\ttotal: 7.72s\tremaining: 44.4s\n",
      "148:\tlearn: 0.4778585\ttotal: 7.78s\tremaining: 44.4s\n",
      "149:\tlearn: 0.4777949\ttotal: 7.87s\tremaining: 44.6s\n",
      "150:\tlearn: 0.4777649\ttotal: 7.92s\tremaining: 44.5s\n",
      "151:\tlearn: 0.4777480\ttotal: 7.98s\tremaining: 44.5s\n",
      "152:\tlearn: 0.4777226\ttotal: 8.03s\tremaining: 44.5s\n",
      "153:\tlearn: 0.4777115\ttotal: 8.09s\tremaining: 44.4s\n",
      "154:\tlearn: 0.4776802\ttotal: 8.14s\tremaining: 44.4s\n",
      "155:\tlearn: 0.4776432\ttotal: 8.19s\tremaining: 44.3s\n",
      "156:\tlearn: 0.4776053\ttotal: 8.23s\tremaining: 44.2s\n",
      "157:\tlearn: 0.4775909\ttotal: 8.28s\tremaining: 44.1s\n",
      "158:\tlearn: 0.4775909\ttotal: 8.3s\tremaining: 43.9s\n",
      "159:\tlearn: 0.4775735\ttotal: 8.35s\tremaining: 43.8s\n",
      "160:\tlearn: 0.4775658\ttotal: 8.42s\tremaining: 43.9s\n",
      "161:\tlearn: 0.4775461\ttotal: 8.51s\tremaining: 44s\n",
      "162:\tlearn: 0.4775036\ttotal: 8.57s\tremaining: 44s\n",
      "163:\tlearn: 0.4774842\ttotal: 8.63s\tremaining: 44s\n",
      "164:\tlearn: 0.4774763\ttotal: 8.69s\tremaining: 44s\n",
      "165:\tlearn: 0.4774174\ttotal: 8.75s\tremaining: 44s\n",
      "166:\tlearn: 0.4774174\ttotal: 8.77s\tremaining: 43.8s\n",
      "167:\tlearn: 0.4773659\ttotal: 8.83s\tremaining: 43.8s\n",
      "168:\tlearn: 0.4773068\ttotal: 8.88s\tremaining: 43.7s\n",
      "169:\tlearn: 0.4772958\ttotal: 8.93s\tremaining: 43.6s\n",
      "170:\tlearn: 0.4772595\ttotal: 8.98s\tremaining: 43.5s\n",
      "171:\tlearn: 0.4772246\ttotal: 9.03s\tremaining: 43.5s\n",
      "172:\tlearn: 0.4771861\ttotal: 9.08s\tremaining: 43.4s\n",
      "173:\tlearn: 0.4771680\ttotal: 9.14s\tremaining: 43.4s\n",
      "174:\tlearn: 0.4771552\ttotal: 9.19s\tremaining: 43.3s\n",
      "175:\tlearn: 0.4771400\ttotal: 9.23s\tremaining: 43.2s\n",
      "176:\tlearn: 0.4771265\ttotal: 9.28s\tremaining: 43.1s\n",
      "177:\tlearn: 0.4770861\ttotal: 9.33s\tremaining: 43.1s\n",
      "178:\tlearn: 0.4770625\ttotal: 9.39s\tremaining: 43.1s\n",
      "179:\tlearn: 0.4770557\ttotal: 9.44s\tremaining: 43s\n",
      "180:\tlearn: 0.4770197\ttotal: 9.5s\tremaining: 43s\n",
      "181:\tlearn: 0.4769880\ttotal: 9.56s\tremaining: 43s\n",
      "182:\tlearn: 0.4769483\ttotal: 9.65s\tremaining: 43.1s\n",
      "183:\tlearn: 0.4769214\ttotal: 9.72s\tremaining: 43.1s\n",
      "184:\tlearn: 0.4769208\ttotal: 9.74s\tremaining: 42.9s\n",
      "185:\tlearn: 0.4768983\ttotal: 9.79s\tremaining: 42.8s\n",
      "186:\tlearn: 0.4768850\ttotal: 9.84s\tremaining: 42.8s\n",
      "187:\tlearn: 0.4768301\ttotal: 9.88s\tremaining: 42.7s\n",
      "188:\tlearn: 0.4768301\ttotal: 9.91s\tremaining: 42.5s\n",
      "189:\tlearn: 0.4768156\ttotal: 9.96s\tremaining: 42.4s\n",
      "190:\tlearn: 0.4768143\ttotal: 9.98s\tremaining: 42.3s\n",
      "191:\tlearn: 0.4768143\ttotal: 10s\tremaining: 42.1s\n",
      "192:\tlearn: 0.4767993\ttotal: 10s\tremaining: 42s\n",
      "193:\tlearn: 0.4767622\ttotal: 10.1s\tremaining: 41.9s\n",
      "194:\tlearn: 0.4767411\ttotal: 10.1s\tremaining: 41.8s\n",
      "195:\tlearn: 0.4766898\ttotal: 10.2s\tremaining: 41.8s\n",
      "196:\tlearn: 0.4766420\ttotal: 10.2s\tremaining: 41.7s\n",
      "197:\tlearn: 0.4766313\ttotal: 10.3s\tremaining: 41.6s\n",
      "198:\tlearn: 0.4766176\ttotal: 10.3s\tremaining: 41.6s\n",
      "199:\tlearn: 0.4765947\ttotal: 10.4s\tremaining: 41.5s\n",
      "200:\tlearn: 0.4765521\ttotal: 10.4s\tremaining: 41.5s\n",
      "201:\tlearn: 0.4765388\ttotal: 10.5s\tremaining: 41.6s\n",
      "202:\tlearn: 0.4764984\ttotal: 10.6s\tremaining: 41.6s\n",
      "203:\tlearn: 0.4764733\ttotal: 10.7s\tremaining: 41.6s\n",
      "204:\tlearn: 0.4764733\ttotal: 10.7s\tremaining: 41.5s\n",
      "205:\tlearn: 0.4764521\ttotal: 10.7s\tremaining: 41.4s\n",
      "206:\tlearn: 0.4764521\ttotal: 10.8s\tremaining: 41.3s\n",
      "207:\tlearn: 0.4764481\ttotal: 10.8s\tremaining: 41.2s\n",
      "208:\tlearn: 0.4764361\ttotal: 10.9s\tremaining: 41.1s\n",
      "209:\tlearn: 0.4764313\ttotal: 10.9s\tremaining: 41.1s\n",
      "210:\tlearn: 0.4764272\ttotal: 11s\tremaining: 41s\n",
      "211:\tlearn: 0.4764227\ttotal: 11s\tremaining: 40.9s\n",
      "212:\tlearn: 0.4763867\ttotal: 11.1s\tremaining: 40.8s\n",
      "213:\tlearn: 0.4763838\ttotal: 11.1s\tremaining: 40.8s\n",
      "214:\tlearn: 0.4763624\ttotal: 11.2s\tremaining: 40.9s\n",
      "215:\tlearn: 0.4763591\ttotal: 11.3s\tremaining: 40.9s\n",
      "216:\tlearn: 0.4763074\ttotal: 11.3s\tremaining: 40.9s\n",
      "217:\tlearn: 0.4762617\ttotal: 11.4s\tremaining: 40.8s\n",
      "218:\tlearn: 0.4762617\ttotal: 11.4s\tremaining: 40.7s\n",
      "219:\tlearn: 0.4762611\ttotal: 11.5s\tremaining: 40.6s\n",
      "220:\tlearn: 0.4762477\ttotal: 11.5s\tremaining: 40.6s\n",
      "221:\tlearn: 0.4762267\ttotal: 11.6s\tremaining: 40.6s\n",
      "222:\tlearn: 0.4762258\ttotal: 11.6s\tremaining: 40.5s\n",
      "223:\tlearn: 0.4761463\ttotal: 11.7s\tremaining: 40.5s\n",
      "224:\tlearn: 0.4761411\ttotal: 11.8s\tremaining: 40.5s\n",
      "225:\tlearn: 0.4761273\ttotal: 11.8s\tremaining: 40.4s\n",
      "226:\tlearn: 0.4761208\ttotal: 11.9s\tremaining: 40.5s\n",
      "227:\tlearn: 0.4761148\ttotal: 11.9s\tremaining: 40.5s\n",
      "228:\tlearn: 0.4760996\ttotal: 12s\tremaining: 40.4s\n",
      "229:\tlearn: 0.4760988\ttotal: 12.1s\tremaining: 40.4s\n",
      "230:\tlearn: 0.4760732\ttotal: 12.1s\tremaining: 40.3s\n",
      "231:\tlearn: 0.4760378\ttotal: 12.1s\tremaining: 40.2s\n",
      "232:\tlearn: 0.4760158\ttotal: 12.2s\tremaining: 40.1s\n",
      "233:\tlearn: 0.4760146\ttotal: 12.2s\tremaining: 40.1s\n",
      "234:\tlearn: 0.4759948\ttotal: 12.3s\tremaining: 40s\n",
      "235:\tlearn: 0.4759933\ttotal: 12.3s\tremaining: 39.9s\n",
      "236:\tlearn: 0.4759907\ttotal: 12.4s\tremaining: 39.9s\n",
      "237:\tlearn: 0.4759417\ttotal: 12.5s\tremaining: 39.9s\n",
      "238:\tlearn: 0.4758984\ttotal: 12.5s\tremaining: 39.8s\n",
      "239:\tlearn: 0.4758605\ttotal: 12.6s\tremaining: 39.7s\n",
      "240:\tlearn: 0.4758558\ttotal: 12.7s\tremaining: 40.1s\n",
      "241:\tlearn: 0.4758552\ttotal: 12.8s\tremaining: 40.1s\n",
      "242:\tlearn: 0.4758150\ttotal: 12.9s\tremaining: 40s\n",
      "243:\tlearn: 0.4758137\ttotal: 12.9s\tremaining: 40s\n",
      "244:\tlearn: 0.4757736\ttotal: 13s\tremaining: 39.9s\n",
      "245:\tlearn: 0.4757458\ttotal: 13s\tremaining: 39.9s\n",
      "246:\tlearn: 0.4757315\ttotal: 13.1s\tremaining: 39.8s\n",
      "247:\tlearn: 0.4757045\ttotal: 13.1s\tremaining: 39.7s\n",
      "248:\tlearn: 0.4756614\ttotal: 13.2s\tremaining: 39.7s\n",
      "249:\tlearn: 0.4756585\ttotal: 13.2s\tremaining: 39.6s\n",
      "250:\tlearn: 0.4756580\ttotal: 13.3s\tremaining: 39.5s\n",
      "251:\tlearn: 0.4755907\ttotal: 13.3s\tremaining: 39.5s\n",
      "252:\tlearn: 0.4755331\ttotal: 13.4s\tremaining: 39.4s\n",
      "253:\tlearn: 0.4755307\ttotal: 13.4s\tremaining: 39.4s\n",
      "254:\tlearn: 0.4754815\ttotal: 13.5s\tremaining: 39.3s\n",
      "255:\tlearn: 0.4754393\ttotal: 13.5s\tremaining: 39.3s\n",
      "256:\tlearn: 0.4754296\ttotal: 13.6s\tremaining: 39.3s\n",
      "257:\tlearn: 0.4753564\ttotal: 13.7s\tremaining: 39.3s\n",
      "258:\tlearn: 0.4753360\ttotal: 13.7s\tremaining: 39.3s\n",
      "259:\tlearn: 0.4752852\ttotal: 13.8s\tremaining: 39.3s\n",
      "260:\tlearn: 0.4752833\ttotal: 13.8s\tremaining: 39.2s\n",
      "261:\tlearn: 0.4752350\ttotal: 13.9s\tremaining: 39.1s\n",
      "262:\tlearn: 0.4752307\ttotal: 13.9s\tremaining: 39.1s\n",
      "263:\tlearn: 0.4751994\ttotal: 14s\tremaining: 39s\n",
      "264:\tlearn: 0.4751413\ttotal: 14s\tremaining: 39s\n",
      "265:\tlearn: 0.4751405\ttotal: 14.1s\tremaining: 38.9s\n",
      "266:\tlearn: 0.4751234\ttotal: 14.2s\tremaining: 38.9s\n",
      "267:\tlearn: 0.4751196\ttotal: 14.2s\tremaining: 38.9s\n",
      "268:\tlearn: 0.4751127\ttotal: 14.3s\tremaining: 38.9s\n",
      "269:\tlearn: 0.4750887\ttotal: 14.4s\tremaining: 38.9s\n",
      "270:\tlearn: 0.4750375\ttotal: 14.5s\tremaining: 38.9s\n",
      "271:\tlearn: 0.4750211\ttotal: 14.5s\tremaining: 38.9s\n",
      "272:\tlearn: 0.4750016\ttotal: 14.6s\tremaining: 38.8s\n",
      "273:\tlearn: 0.4750004\ttotal: 14.6s\tremaining: 38.8s\n",
      "274:\tlearn: 0.4749686\ttotal: 14.7s\tremaining: 38.7s\n",
      "275:\tlearn: 0.4749593\ttotal: 14.7s\tremaining: 38.7s\n",
      "276:\tlearn: 0.4749282\ttotal: 14.8s\tremaining: 38.6s\n",
      "277:\tlearn: 0.4749009\ttotal: 14.8s\tremaining: 38.5s\n",
      "278:\tlearn: 0.4748998\ttotal: 14.9s\tremaining: 38.5s\n",
      "279:\tlearn: 0.4748972\ttotal: 14.9s\tremaining: 38.4s\n",
      "280:\tlearn: 0.4748650\ttotal: 15s\tremaining: 38.3s\n",
      "281:\tlearn: 0.4748528\ttotal: 15s\tremaining: 38.3s\n",
      "282:\tlearn: 0.4748278\ttotal: 15.1s\tremaining: 38.2s\n",
      "283:\tlearn: 0.4747845\ttotal: 15.1s\tremaining: 38.2s\n",
      "284:\tlearn: 0.4747516\ttotal: 15.2s\tremaining: 38.1s\n",
      "285:\tlearn: 0.4747412\ttotal: 15.2s\tremaining: 38.1s\n",
      "286:\tlearn: 0.4747159\ttotal: 15.3s\tremaining: 38.1s\n",
      "287:\tlearn: 0.4746948\ttotal: 15.4s\tremaining: 38s\n",
      "288:\tlearn: 0.4746779\ttotal: 15.4s\tremaining: 38s\n",
      "289:\tlearn: 0.4746063\ttotal: 15.5s\tremaining: 37.9s\n",
      "290:\tlearn: 0.4746038\ttotal: 15.6s\tremaining: 37.9s\n",
      "291:\tlearn: 0.4745742\ttotal: 15.6s\tremaining: 37.9s\n",
      "292:\tlearn: 0.4745444\ttotal: 15.7s\tremaining: 37.8s\n",
      "293:\tlearn: 0.4745437\ttotal: 15.7s\tremaining: 37.7s\n",
      "294:\tlearn: 0.4745437\ttotal: 15.8s\tremaining: 37.7s\n",
      "295:\tlearn: 0.4745022\ttotal: 15.8s\tremaining: 37.7s\n",
      "296:\tlearn: 0.4744998\ttotal: 15.9s\tremaining: 37.7s\n",
      "297:\tlearn: 0.4744756\ttotal: 16s\tremaining: 37.7s\n",
      "298:\tlearn: 0.4744737\ttotal: 16.1s\tremaining: 37.7s\n",
      "299:\tlearn: 0.4744549\ttotal: 16.1s\tremaining: 37.6s\n",
      "300:\tlearn: 0.4744289\ttotal: 16.2s\tremaining: 37.5s\n",
      "301:\tlearn: 0.4744280\ttotal: 16.2s\tremaining: 37.5s\n",
      "302:\tlearn: 0.4744276\ttotal: 16.3s\tremaining: 37.4s\n",
      "303:\tlearn: 0.4744247\ttotal: 16.3s\tremaining: 37.3s\n",
      "304:\tlearn: 0.4743621\ttotal: 16.3s\tremaining: 37.2s\n",
      "305:\tlearn: 0.4743294\ttotal: 16.4s\tremaining: 37.2s\n",
      "306:\tlearn: 0.4743285\ttotal: 16.5s\tremaining: 37.3s\n",
      "307:\tlearn: 0.4742635\ttotal: 16.6s\tremaining: 37.2s\n",
      "308:\tlearn: 0.4742635\ttotal: 16.6s\tremaining: 37.1s\n",
      "309:\tlearn: 0.4742395\ttotal: 16.7s\tremaining: 37.2s\n",
      "310:\tlearn: 0.4742059\ttotal: 16.8s\tremaining: 37.2s\n",
      "311:\tlearn: 0.4741920\ttotal: 16.9s\tremaining: 37.2s\n",
      "312:\tlearn: 0.4741502\ttotal: 16.9s\tremaining: 37.1s\n",
      "313:\tlearn: 0.4741084\ttotal: 17s\tremaining: 37s\n",
      "314:\tlearn: 0.4740833\ttotal: 17s\tremaining: 37s\n",
      "315:\tlearn: 0.4740519\ttotal: 17.1s\tremaining: 37s\n",
      "316:\tlearn: 0.4740426\ttotal: 17.2s\tremaining: 37s\n",
      "317:\tlearn: 0.4740148\ttotal: 17.3s\tremaining: 37s\n",
      "318:\tlearn: 0.4740088\ttotal: 17.3s\tremaining: 36.9s\n",
      "319:\tlearn: 0.4739809\ttotal: 17.4s\tremaining: 36.9s\n",
      "320:\tlearn: 0.4739401\ttotal: 17.4s\tremaining: 36.9s\n",
      "321:\tlearn: 0.4739180\ttotal: 17.5s\tremaining: 36.8s\n",
      "322:\tlearn: 0.4739045\ttotal: 17.5s\tremaining: 36.7s\n",
      "323:\tlearn: 0.4738994\ttotal: 17.6s\tremaining: 36.7s\n",
      "324:\tlearn: 0.4738823\ttotal: 17.6s\tremaining: 36.6s\n",
      "325:\tlearn: 0.4738428\ttotal: 17.7s\tremaining: 36.6s\n",
      "326:\tlearn: 0.4738261\ttotal: 17.7s\tremaining: 36.5s\n",
      "327:\tlearn: 0.4738131\ttotal: 17.8s\tremaining: 36.4s\n",
      "328:\tlearn: 0.4737852\ttotal: 17.8s\tremaining: 36.3s\n",
      "329:\tlearn: 0.4737505\ttotal: 17.9s\tremaining: 36.3s\n",
      "330:\tlearn: 0.4737218\ttotal: 17.9s\tremaining: 36.2s\n",
      "331:\tlearn: 0.4737072\ttotal: 18s\tremaining: 36.1s\n",
      "332:\tlearn: 0.4737072\ttotal: 18s\tremaining: 36s\n",
      "333:\tlearn: 0.4737041\ttotal: 18s\tremaining: 36s\n",
      "334:\tlearn: 0.4736804\ttotal: 18.1s\tremaining: 35.9s\n",
      "335:\tlearn: 0.4736770\ttotal: 18.2s\tremaining: 35.9s\n",
      "336:\tlearn: 0.4736475\ttotal: 18.3s\tremaining: 35.9s\n",
      "337:\tlearn: 0.4736042\ttotal: 18.3s\tremaining: 35.9s\n",
      "338:\tlearn: 0.4735736\ttotal: 18.4s\tremaining: 35.9s\n",
      "339:\tlearn: 0.4735099\ttotal: 18.5s\tremaining: 35.9s\n",
      "340:\tlearn: 0.4734761\ttotal: 18.5s\tremaining: 35.8s\n",
      "341:\tlearn: 0.4734621\ttotal: 18.6s\tremaining: 35.8s\n",
      "342:\tlearn: 0.4734316\ttotal: 18.7s\tremaining: 35.8s\n",
      "343:\tlearn: 0.4734306\ttotal: 18.8s\tremaining: 35.8s\n",
      "344:\tlearn: 0.4734274\ttotal: 18.8s\tremaining: 35.8s\n",
      "345:\tlearn: 0.4734032\ttotal: 18.9s\tremaining: 35.7s\n",
      "346:\tlearn: 0.4733690\ttotal: 18.9s\tremaining: 35.6s\n",
      "347:\tlearn: 0.4733449\ttotal: 19s\tremaining: 35.6s\n",
      "348:\tlearn: 0.4733335\ttotal: 19s\tremaining: 35.5s\n",
      "349:\tlearn: 0.4732946\ttotal: 19.1s\tremaining: 35.5s\n",
      "350:\tlearn: 0.4732943\ttotal: 19.1s\tremaining: 35.4s\n",
      "351:\tlearn: 0.4732818\ttotal: 19.2s\tremaining: 35.3s\n",
      "352:\tlearn: 0.4732636\ttotal: 19.2s\tremaining: 35.3s\n",
      "353:\tlearn: 0.4732529\ttotal: 19.3s\tremaining: 35.2s\n",
      "354:\tlearn: 0.4732333\ttotal: 19.3s\tremaining: 35.1s\n",
      "355:\tlearn: 0.4732259\ttotal: 19.4s\tremaining: 35.1s\n",
      "356:\tlearn: 0.4732010\ttotal: 19.5s\tremaining: 35s\n",
      "357:\tlearn: 0.4731853\ttotal: 19.5s\tremaining: 35s\n",
      "358:\tlearn: 0.4731624\ttotal: 19.6s\tremaining: 35s\n",
      "359:\tlearn: 0.4731043\ttotal: 19.7s\tremaining: 35s\n",
      "360:\tlearn: 0.4731012\ttotal: 19.7s\tremaining: 34.9s\n",
      "361:\tlearn: 0.4730522\ttotal: 19.8s\tremaining: 34.9s\n",
      "362:\tlearn: 0.4730284\ttotal: 19.8s\tremaining: 34.8s\n",
      "363:\tlearn: 0.4730012\ttotal: 20s\tremaining: 34.9s\n",
      "364:\tlearn: 0.4729837\ttotal: 20s\tremaining: 34.8s\n",
      "365:\tlearn: 0.4729691\ttotal: 20.1s\tremaining: 34.8s\n",
      "366:\tlearn: 0.4729243\ttotal: 20.1s\tremaining: 34.7s\n",
      "367:\tlearn: 0.4728843\ttotal: 20.2s\tremaining: 34.6s\n",
      "368:\tlearn: 0.4728661\ttotal: 20.2s\tremaining: 34.6s\n",
      "369:\tlearn: 0.4728608\ttotal: 20.3s\tremaining: 34.5s\n",
      "370:\tlearn: 0.4728155\ttotal: 20.3s\tremaining: 34.5s\n",
      "371:\tlearn: 0.4727582\ttotal: 20.4s\tremaining: 34.4s\n",
      "372:\tlearn: 0.4727146\ttotal: 20.4s\tremaining: 34.4s\n",
      "373:\tlearn: 0.4727069\ttotal: 20.5s\tremaining: 34.3s\n",
      "374:\tlearn: 0.4726874\ttotal: 20.6s\tremaining: 34.3s\n",
      "375:\tlearn: 0.4726470\ttotal: 20.6s\tremaining: 34.2s\n",
      "376:\tlearn: 0.4726463\ttotal: 20.7s\tremaining: 34.2s\n",
      "377:\tlearn: 0.4725991\ttotal: 20.7s\tremaining: 34.1s\n",
      "378:\tlearn: 0.4725972\ttotal: 20.8s\tremaining: 34.1s\n",
      "379:\tlearn: 0.4725962\ttotal: 20.8s\tremaining: 34s\n",
      "380:\tlearn: 0.4725801\ttotal: 20.9s\tremaining: 33.9s\n",
      "381:\tlearn: 0.4725621\ttotal: 20.9s\tremaining: 33.9s\n",
      "382:\tlearn: 0.4725448\ttotal: 21s\tremaining: 33.8s\n",
      "383:\tlearn: 0.4725421\ttotal: 21.1s\tremaining: 33.8s\n",
      "384:\tlearn: 0.4725281\ttotal: 21.1s\tremaining: 33.7s\n",
      "385:\tlearn: 0.4725077\ttotal: 21.2s\tremaining: 33.7s\n",
      "386:\tlearn: 0.4724879\ttotal: 21.3s\tremaining: 33.7s\n",
      "387:\tlearn: 0.4724336\ttotal: 21.4s\tremaining: 33.7s\n",
      "388:\tlearn: 0.4724112\ttotal: 21.4s\tremaining: 33.6s\n",
      "389:\tlearn: 0.4724076\ttotal: 21.5s\tremaining: 33.6s\n",
      "390:\tlearn: 0.4724007\ttotal: 21.6s\tremaining: 33.6s\n",
      "391:\tlearn: 0.4723927\ttotal: 21.7s\tremaining: 33.6s\n",
      "392:\tlearn: 0.4723370\ttotal: 21.7s\tremaining: 33.6s\n",
      "393:\tlearn: 0.4723244\ttotal: 21.8s\tremaining: 33.5s\n",
      "394:\tlearn: 0.4723091\ttotal: 21.9s\tremaining: 33.5s\n",
      "395:\tlearn: 0.4722709\ttotal: 21.9s\tremaining: 33.5s\n",
      "396:\tlearn: 0.4722186\ttotal: 22s\tremaining: 33.4s\n",
      "397:\tlearn: 0.4722109\ttotal: 22.1s\tremaining: 33.4s\n",
      "398:\tlearn: 0.4722080\ttotal: 22.1s\tremaining: 33.3s\n",
      "399:\tlearn: 0.4722070\ttotal: 22.2s\tremaining: 33.3s\n",
      "400:\tlearn: 0.4721970\ttotal: 22.2s\tremaining: 33.2s\n",
      "401:\tlearn: 0.4721797\ttotal: 22.3s\tremaining: 33.2s\n",
      "402:\tlearn: 0.4721792\ttotal: 22.4s\tremaining: 33.1s\n",
      "403:\tlearn: 0.4721421\ttotal: 22.4s\tremaining: 33.1s\n",
      "404:\tlearn: 0.4721135\ttotal: 22.5s\tremaining: 33s\n",
      "405:\tlearn: 0.4721052\ttotal: 22.5s\tremaining: 33s\n",
      "406:\tlearn: 0.4720800\ttotal: 22.6s\tremaining: 32.9s\n",
      "407:\tlearn: 0.4720724\ttotal: 22.6s\tremaining: 32.8s\n",
      "408:\tlearn: 0.4720430\ttotal: 22.7s\tremaining: 32.8s\n",
      "409:\tlearn: 0.4720363\ttotal: 22.7s\tremaining: 32.7s\n",
      "410:\tlearn: 0.4720058\ttotal: 22.8s\tremaining: 32.6s\n",
      "411:\tlearn: 0.4719864\ttotal: 22.8s\tremaining: 32.6s\n",
      "412:\tlearn: 0.4719450\ttotal: 22.9s\tremaining: 32.5s\n",
      "413:\tlearn: 0.4719388\ttotal: 22.9s\tremaining: 32.4s\n",
      "414:\tlearn: 0.4719105\ttotal: 23s\tremaining: 32.4s\n",
      "415:\tlearn: 0.4718936\ttotal: 23s\tremaining: 32.3s\n",
      "416:\tlearn: 0.4718865\ttotal: 23.1s\tremaining: 32.2s\n",
      "417:\tlearn: 0.4718846\ttotal: 23.1s\tremaining: 32.2s\n",
      "418:\tlearn: 0.4718829\ttotal: 23.2s\tremaining: 32.1s\n",
      "419:\tlearn: 0.4718746\ttotal: 23.2s\tremaining: 32.1s\n",
      "420:\tlearn: 0.4718542\ttotal: 23.3s\tremaining: 32s\n",
      "421:\tlearn: 0.4718157\ttotal: 23.3s\tremaining: 32s\n",
      "422:\tlearn: 0.4718108\ttotal: 23.4s\tremaining: 31.9s\n",
      "423:\tlearn: 0.4717848\ttotal: 23.4s\tremaining: 31.8s\n",
      "424:\tlearn: 0.4717728\ttotal: 23.5s\tremaining: 31.7s\n",
      "425:\tlearn: 0.4717716\ttotal: 23.5s\tremaining: 31.7s\n",
      "426:\tlearn: 0.4717654\ttotal: 23.6s\tremaining: 31.6s\n",
      "427:\tlearn: 0.4717330\ttotal: 23.6s\tremaining: 31.6s\n",
      "428:\tlearn: 0.4717017\ttotal: 23.7s\tremaining: 31.5s\n",
      "429:\tlearn: 0.4716776\ttotal: 23.8s\tremaining: 31.5s\n",
      "430:\tlearn: 0.4716770\ttotal: 23.8s\tremaining: 31.4s\n",
      "431:\tlearn: 0.4716555\ttotal: 23.9s\tremaining: 31.4s\n",
      "432:\tlearn: 0.4716439\ttotal: 23.9s\tremaining: 31.3s\n",
      "433:\tlearn: 0.4716243\ttotal: 24s\tremaining: 31.3s\n",
      "434:\tlearn: 0.4716075\ttotal: 24s\tremaining: 31.2s\n",
      "435:\tlearn: 0.4716016\ttotal: 24.1s\tremaining: 31.1s\n",
      "436:\tlearn: 0.4715937\ttotal: 24.1s\tremaining: 31.1s\n",
      "437:\tlearn: 0.4715429\ttotal: 24.2s\tremaining: 31s\n",
      "438:\tlearn: 0.4715221\ttotal: 24.3s\tremaining: 31s\n",
      "439:\tlearn: 0.4714768\ttotal: 24.3s\tremaining: 30.9s\n",
      "440:\tlearn: 0.4714542\ttotal: 24.4s\tremaining: 30.9s\n",
      "441:\tlearn: 0.4714171\ttotal: 24.4s\tremaining: 30.8s\n",
      "442:\tlearn: 0.4714142\ttotal: 24.5s\tremaining: 30.8s\n",
      "443:\tlearn: 0.4713841\ttotal: 24.5s\tremaining: 30.7s\n",
      "444:\tlearn: 0.4713819\ttotal: 24.6s\tremaining: 30.7s\n",
      "445:\tlearn: 0.4713362\ttotal: 24.6s\tremaining: 30.6s\n",
      "446:\tlearn: 0.4713290\ttotal: 24.7s\tremaining: 30.5s\n",
      "447:\tlearn: 0.4712829\ttotal: 24.7s\tremaining: 30.5s\n",
      "448:\tlearn: 0.4712670\ttotal: 24.8s\tremaining: 30.4s\n",
      "449:\tlearn: 0.4712615\ttotal: 24.8s\tremaining: 30.3s\n",
      "450:\tlearn: 0.4712609\ttotal: 24.9s\tremaining: 30.3s\n",
      "451:\tlearn: 0.4712584\ttotal: 24.9s\tremaining: 30.2s\n",
      "452:\tlearn: 0.4712082\ttotal: 25s\tremaining: 30.1s\n",
      "453:\tlearn: 0.4712028\ttotal: 25s\tremaining: 30.1s\n",
      "454:\tlearn: 0.4711942\ttotal: 25.1s\tremaining: 30s\n",
      "455:\tlearn: 0.4711936\ttotal: 25.1s\tremaining: 29.9s\n",
      "456:\tlearn: 0.4711674\ttotal: 25.1s\tremaining: 29.9s\n",
      "457:\tlearn: 0.4711655\ttotal: 25.2s\tremaining: 29.8s\n",
      "458:\tlearn: 0.4711460\ttotal: 25.2s\tremaining: 29.7s\n",
      "459:\tlearn: 0.4711127\ttotal: 25.3s\tremaining: 29.7s\n",
      "460:\tlearn: 0.4710774\ttotal: 25.3s\tremaining: 29.6s\n",
      "461:\tlearn: 0.4710689\ttotal: 25.5s\tremaining: 29.7s\n",
      "462:\tlearn: 0.4710389\ttotal: 25.5s\tremaining: 29.6s\n",
      "463:\tlearn: 0.4710265\ttotal: 25.6s\tremaining: 29.6s\n",
      "464:\tlearn: 0.4709843\ttotal: 25.6s\tremaining: 29.5s\n",
      "465:\tlearn: 0.4709816\ttotal: 25.7s\tremaining: 29.5s\n",
      "466:\tlearn: 0.4709275\ttotal: 25.8s\tremaining: 29.4s\n",
      "467:\tlearn: 0.4709117\ttotal: 25.9s\tremaining: 29.4s\n",
      "468:\tlearn: 0.4708949\ttotal: 26s\tremaining: 29.5s\n",
      "469:\tlearn: 0.4708807\ttotal: 26.1s\tremaining: 29.4s\n",
      "470:\tlearn: 0.4708376\ttotal: 26.2s\tremaining: 29.4s\n",
      "471:\tlearn: 0.4707952\ttotal: 26.2s\tremaining: 29.3s\n",
      "472:\tlearn: 0.4707752\ttotal: 26.3s\tremaining: 29.3s\n",
      "473:\tlearn: 0.4707480\ttotal: 26.5s\tremaining: 29.4s\n",
      "474:\tlearn: 0.4707166\ttotal: 26.6s\tremaining: 29.4s\n",
      "475:\tlearn: 0.4706774\ttotal: 26.6s\tremaining: 29.3s\n",
      "476:\tlearn: 0.4706540\ttotal: 26.7s\tremaining: 29.3s\n",
      "477:\tlearn: 0.4706136\ttotal: 26.8s\tremaining: 29.2s\n",
      "478:\tlearn: 0.4705877\ttotal: 26.8s\tremaining: 29.2s\n",
      "479:\tlearn: 0.4705793\ttotal: 26.9s\tremaining: 29.1s\n",
      "480:\tlearn: 0.4705793\ttotal: 26.9s\tremaining: 29.1s\n",
      "481:\tlearn: 0.4705665\ttotal: 27s\tremaining: 29s\n",
      "482:\tlearn: 0.4705246\ttotal: 27s\tremaining: 28.9s\n",
      "483:\tlearn: 0.4705246\ttotal: 27.1s\tremaining: 28.9s\n",
      "484:\tlearn: 0.4704747\ttotal: 27.1s\tremaining: 28.8s\n",
      "485:\tlearn: 0.4704603\ttotal: 27.3s\tremaining: 28.8s\n",
      "486:\tlearn: 0.4704237\ttotal: 27.3s\tremaining: 28.8s\n",
      "487:\tlearn: 0.4704141\ttotal: 27.4s\tremaining: 28.8s\n",
      "488:\tlearn: 0.4704067\ttotal: 27.5s\tremaining: 28.7s\n",
      "489:\tlearn: 0.4703794\ttotal: 27.5s\tremaining: 28.7s\n",
      "490:\tlearn: 0.4703546\ttotal: 27.6s\tremaining: 28.6s\n",
      "491:\tlearn: 0.4703355\ttotal: 27.7s\tremaining: 28.6s\n",
      "492:\tlearn: 0.4703221\ttotal: 27.7s\tremaining: 28.5s\n",
      "493:\tlearn: 0.4702872\ttotal: 27.8s\tremaining: 28.4s\n",
      "494:\tlearn: 0.4702562\ttotal: 27.8s\tremaining: 28.4s\n",
      "495:\tlearn: 0.4702204\ttotal: 27.9s\tremaining: 28.3s\n",
      "496:\tlearn: 0.4701923\ttotal: 27.9s\tremaining: 28.3s\n",
      "497:\tlearn: 0.4701582\ttotal: 28s\tremaining: 28.2s\n",
      "498:\tlearn: 0.4701103\ttotal: 28.1s\tremaining: 28.2s\n",
      "499:\tlearn: 0.4701041\ttotal: 28.1s\tremaining: 28.1s\n",
      "500:\tlearn: 0.4700773\ttotal: 28.2s\tremaining: 28s\n",
      "501:\tlearn: 0.4700748\ttotal: 28.2s\tremaining: 28s\n",
      "502:\tlearn: 0.4700713\ttotal: 28.3s\tremaining: 27.9s\n",
      "503:\tlearn: 0.4700651\ttotal: 28.3s\tremaining: 27.9s\n",
      "504:\tlearn: 0.4700648\ttotal: 28.4s\tremaining: 27.8s\n",
      "505:\tlearn: 0.4700383\ttotal: 28.4s\tremaining: 27.8s\n",
      "506:\tlearn: 0.4699968\ttotal: 28.5s\tremaining: 27.7s\n",
      "507:\tlearn: 0.4699841\ttotal: 28.6s\tremaining: 27.7s\n",
      "508:\tlearn: 0.4699441\ttotal: 28.6s\tremaining: 27.6s\n",
      "509:\tlearn: 0.4698652\ttotal: 28.7s\tremaining: 27.5s\n",
      "510:\tlearn: 0.4698456\ttotal: 28.7s\tremaining: 27.5s\n",
      "511:\tlearn: 0.4698302\ttotal: 28.8s\tremaining: 27.4s\n",
      "512:\tlearn: 0.4698063\ttotal: 28.8s\tremaining: 27.4s\n",
      "513:\tlearn: 0.4697939\ttotal: 28.9s\tremaining: 27.3s\n",
      "514:\tlearn: 0.4697915\ttotal: 29s\tremaining: 27.3s\n",
      "515:\tlearn: 0.4697769\ttotal: 29s\tremaining: 27.2s\n",
      "516:\tlearn: 0.4697712\ttotal: 29.1s\tremaining: 27.1s\n",
      "517:\tlearn: 0.4697597\ttotal: 29.1s\tremaining: 27.1s\n",
      "518:\tlearn: 0.4697232\ttotal: 29.2s\tremaining: 27.1s\n",
      "519:\tlearn: 0.4697096\ttotal: 29.3s\tremaining: 27s\n",
      "520:\tlearn: 0.4697000\ttotal: 29.4s\tremaining: 27s\n",
      "521:\tlearn: 0.4696869\ttotal: 29.4s\tremaining: 26.9s\n",
      "522:\tlearn: 0.4696677\ttotal: 29.5s\tremaining: 26.9s\n",
      "523:\tlearn: 0.4696114\ttotal: 29.5s\tremaining: 26.8s\n",
      "524:\tlearn: 0.4695642\ttotal: 29.6s\tremaining: 26.8s\n",
      "525:\tlearn: 0.4695445\ttotal: 29.7s\tremaining: 26.7s\n",
      "526:\tlearn: 0.4695433\ttotal: 29.7s\tremaining: 26.7s\n",
      "527:\tlearn: 0.4695286\ttotal: 29.8s\tremaining: 26.6s\n",
      "528:\tlearn: 0.4694993\ttotal: 29.8s\tremaining: 26.6s\n",
      "529:\tlearn: 0.4694984\ttotal: 29.9s\tremaining: 26.5s\n",
      "530:\tlearn: 0.4694885\ttotal: 30s\tremaining: 26.5s\n",
      "531:\tlearn: 0.4694534\ttotal: 30.1s\tremaining: 26.4s\n",
      "532:\tlearn: 0.4694328\ttotal: 30.1s\tremaining: 26.4s\n",
      "533:\tlearn: 0.4694200\ttotal: 30.2s\tremaining: 26.3s\n",
      "534:\tlearn: 0.4694128\ttotal: 30.2s\tremaining: 26.3s\n",
      "535:\tlearn: 0.4693718\ttotal: 30.3s\tremaining: 26.2s\n",
      "536:\tlearn: 0.4693487\ttotal: 30.3s\tremaining: 26.1s\n",
      "537:\tlearn: 0.4693182\ttotal: 30.4s\tremaining: 26.1s\n",
      "538:\tlearn: 0.4693128\ttotal: 30.4s\tremaining: 26s\n",
      "539:\tlearn: 0.4692910\ttotal: 30.5s\tremaining: 26s\n",
      "540:\tlearn: 0.4692760\ttotal: 30.5s\tremaining: 25.9s\n",
      "541:\tlearn: 0.4692622\ttotal: 30.6s\tremaining: 25.9s\n",
      "542:\tlearn: 0.4692329\ttotal: 30.7s\tremaining: 25.8s\n",
      "543:\tlearn: 0.4692186\ttotal: 30.7s\tremaining: 25.7s\n",
      "544:\tlearn: 0.4691896\ttotal: 30.8s\tremaining: 25.7s\n",
      "545:\tlearn: 0.4691726\ttotal: 30.8s\tremaining: 25.6s\n",
      "546:\tlearn: 0.4691657\ttotal: 30.9s\tremaining: 25.6s\n",
      "547:\tlearn: 0.4691357\ttotal: 30.9s\tremaining: 25.5s\n",
      "548:\tlearn: 0.4691348\ttotal: 31s\tremaining: 25.4s\n",
      "549:\tlearn: 0.4691331\ttotal: 31s\tremaining: 25.4s\n",
      "550:\tlearn: 0.4691310\ttotal: 31s\tremaining: 25.3s\n",
      "551:\tlearn: 0.4691143\ttotal: 31.1s\tremaining: 25.3s\n",
      "552:\tlearn: 0.4691117\ttotal: 31.2s\tremaining: 25.2s\n",
      "553:\tlearn: 0.4690585\ttotal: 31.2s\tremaining: 25.1s\n",
      "554:\tlearn: 0.4690473\ttotal: 31.3s\tremaining: 25.1s\n",
      "555:\tlearn: 0.4690282\ttotal: 31.3s\tremaining: 25s\n",
      "556:\tlearn: 0.4690156\ttotal: 31.4s\tremaining: 25s\n",
      "557:\tlearn: 0.4689888\ttotal: 31.5s\tremaining: 24.9s\n",
      "558:\tlearn: 0.4689204\ttotal: 31.5s\tremaining: 24.9s\n",
      "559:\tlearn: 0.4688950\ttotal: 31.6s\tremaining: 24.8s\n",
      "560:\tlearn: 0.4688709\ttotal: 31.6s\tremaining: 24.7s\n",
      "561:\tlearn: 0.4688473\ttotal: 31.7s\tremaining: 24.7s\n",
      "562:\tlearn: 0.4688414\ttotal: 31.7s\tremaining: 24.6s\n",
      "563:\tlearn: 0.4688258\ttotal: 31.8s\tremaining: 24.5s\n",
      "564:\tlearn: 0.4688154\ttotal: 31.8s\tremaining: 24.5s\n",
      "565:\tlearn: 0.4687525\ttotal: 31.9s\tremaining: 24.4s\n",
      "566:\tlearn: 0.4686895\ttotal: 31.9s\tremaining: 24.4s\n",
      "567:\tlearn: 0.4686740\ttotal: 32s\tremaining: 24.3s\n",
      "568:\tlearn: 0.4686718\ttotal: 32s\tremaining: 24.3s\n",
      "569:\tlearn: 0.4686542\ttotal: 32.1s\tremaining: 24.2s\n",
      "570:\tlearn: 0.4686176\ttotal: 32.1s\tremaining: 24.2s\n",
      "571:\tlearn: 0.4686132\ttotal: 32.2s\tremaining: 24.1s\n",
      "572:\tlearn: 0.4685726\ttotal: 32.2s\tremaining: 24s\n",
      "573:\tlearn: 0.4685649\ttotal: 32.3s\tremaining: 24s\n",
      "574:\tlearn: 0.4685330\ttotal: 32.3s\tremaining: 23.9s\n",
      "575:\tlearn: 0.4684620\ttotal: 32.4s\tremaining: 23.8s\n",
      "576:\tlearn: 0.4684401\ttotal: 32.4s\tremaining: 23.8s\n",
      "577:\tlearn: 0.4684296\ttotal: 32.5s\tremaining: 23.7s\n",
      "578:\tlearn: 0.4683894\ttotal: 32.5s\tremaining: 23.7s\n",
      "579:\tlearn: 0.4683668\ttotal: 32.6s\tremaining: 23.6s\n",
      "580:\tlearn: 0.4683606\ttotal: 32.7s\tremaining: 23.6s\n",
      "581:\tlearn: 0.4683496\ttotal: 32.8s\tremaining: 23.5s\n",
      "582:\tlearn: 0.4683014\ttotal: 32.8s\tremaining: 23.5s\n",
      "583:\tlearn: 0.4682933\ttotal: 32.9s\tremaining: 23.4s\n",
      "584:\tlearn: 0.4682635\ttotal: 32.9s\tremaining: 23.4s\n",
      "585:\tlearn: 0.4682488\ttotal: 33s\tremaining: 23.3s\n",
      "586:\tlearn: 0.4682140\ttotal: 33s\tremaining: 23.2s\n",
      "587:\tlearn: 0.4681460\ttotal: 33.1s\tremaining: 23.2s\n",
      "588:\tlearn: 0.4681396\ttotal: 33.1s\tremaining: 23.1s\n",
      "589:\tlearn: 0.4681054\ttotal: 33.2s\tremaining: 23.1s\n",
      "590:\tlearn: 0.4681003\ttotal: 33.2s\tremaining: 23s\n",
      "591:\tlearn: 0.4680998\ttotal: 33.3s\tremaining: 22.9s\n",
      "592:\tlearn: 0.4680946\ttotal: 33.3s\tremaining: 22.9s\n",
      "593:\tlearn: 0.4680943\ttotal: 33.4s\tremaining: 22.8s\n",
      "594:\tlearn: 0.4680792\ttotal: 33.4s\tremaining: 22.7s\n",
      "595:\tlearn: 0.4680701\ttotal: 33.5s\tremaining: 22.7s\n",
      "596:\tlearn: 0.4680510\ttotal: 33.5s\tremaining: 22.6s\n",
      "597:\tlearn: 0.4680290\ttotal: 33.6s\tremaining: 22.6s\n",
      "598:\tlearn: 0.4679817\ttotal: 33.6s\tremaining: 22.5s\n",
      "599:\tlearn: 0.4679709\ttotal: 33.6s\tremaining: 22.4s\n",
      "600:\tlearn: 0.4679500\ttotal: 33.7s\tremaining: 22.4s\n",
      "601:\tlearn: 0.4678960\ttotal: 33.7s\tremaining: 22.3s\n",
      "602:\tlearn: 0.4678724\ttotal: 33.8s\tremaining: 22.2s\n",
      "603:\tlearn: 0.4678579\ttotal: 33.8s\tremaining: 22.2s\n",
      "604:\tlearn: 0.4678380\ttotal: 33.9s\tremaining: 22.1s\n",
      "605:\tlearn: 0.4677980\ttotal: 33.9s\tremaining: 22.1s\n",
      "606:\tlearn: 0.4677888\ttotal: 34s\tremaining: 22s\n",
      "607:\tlearn: 0.4677719\ttotal: 34.1s\tremaining: 22s\n",
      "608:\tlearn: 0.4677376\ttotal: 34.2s\tremaining: 21.9s\n",
      "609:\tlearn: 0.4676852\ttotal: 34.2s\tremaining: 21.9s\n",
      "610:\tlearn: 0.4676627\ttotal: 34.3s\tremaining: 21.8s\n",
      "611:\tlearn: 0.4676509\ttotal: 34.3s\tremaining: 21.8s\n",
      "612:\tlearn: 0.4676322\ttotal: 34.4s\tremaining: 21.7s\n",
      "613:\tlearn: 0.4675892\ttotal: 34.4s\tremaining: 21.6s\n",
      "614:\tlearn: 0.4675863\ttotal: 34.5s\tremaining: 21.6s\n",
      "615:\tlearn: 0.4675641\ttotal: 34.5s\tremaining: 21.5s\n",
      "616:\tlearn: 0.4675376\ttotal: 34.6s\tremaining: 21.5s\n",
      "617:\tlearn: 0.4675259\ttotal: 34.6s\tremaining: 21.4s\n",
      "618:\tlearn: 0.4675259\ttotal: 34.7s\tremaining: 21.4s\n",
      "619:\tlearn: 0.4675190\ttotal: 34.8s\tremaining: 21.3s\n",
      "620:\tlearn: 0.4675082\ttotal: 34.8s\tremaining: 21.3s\n",
      "621:\tlearn: 0.4674965\ttotal: 34.9s\tremaining: 21.2s\n",
      "622:\tlearn: 0.4674686\ttotal: 34.9s\tremaining: 21.1s\n",
      "623:\tlearn: 0.4674580\ttotal: 35s\tremaining: 21.1s\n",
      "624:\tlearn: 0.4674559\ttotal: 35s\tremaining: 21s\n",
      "625:\tlearn: 0.4674445\ttotal: 35.1s\tremaining: 21s\n",
      "626:\tlearn: 0.4674244\ttotal: 35.1s\tremaining: 20.9s\n",
      "627:\tlearn: 0.4673943\ttotal: 35.2s\tremaining: 20.8s\n",
      "628:\tlearn: 0.4673767\ttotal: 35.2s\tremaining: 20.8s\n",
      "629:\tlearn: 0.4673694\ttotal: 35.3s\tremaining: 20.7s\n",
      "630:\tlearn: 0.4673668\ttotal: 35.3s\tremaining: 20.7s\n",
      "631:\tlearn: 0.4673633\ttotal: 35.4s\tremaining: 20.6s\n",
      "632:\tlearn: 0.4673370\ttotal: 35.4s\tremaining: 20.5s\n",
      "633:\tlearn: 0.4673347\ttotal: 35.5s\tremaining: 20.5s\n",
      "634:\tlearn: 0.4673248\ttotal: 35.5s\tremaining: 20.4s\n",
      "635:\tlearn: 0.4673168\ttotal: 35.6s\tremaining: 20.4s\n",
      "636:\tlearn: 0.4673071\ttotal: 35.6s\tremaining: 20.3s\n",
      "637:\tlearn: 0.4672769\ttotal: 35.7s\tremaining: 20.3s\n",
      "638:\tlearn: 0.4672645\ttotal: 35.7s\tremaining: 20.2s\n",
      "639:\tlearn: 0.4672555\ttotal: 35.8s\tremaining: 20.1s\n",
      "640:\tlearn: 0.4672408\ttotal: 35.9s\tremaining: 20.1s\n",
      "641:\tlearn: 0.4672384\ttotal: 35.9s\tremaining: 20s\n",
      "642:\tlearn: 0.4672205\ttotal: 36s\tremaining: 20s\n",
      "643:\tlearn: 0.4672114\ttotal: 36s\tremaining: 19.9s\n",
      "644:\tlearn: 0.4671965\ttotal: 36.1s\tremaining: 19.9s\n",
      "645:\tlearn: 0.4671815\ttotal: 36.1s\tremaining: 19.8s\n",
      "646:\tlearn: 0.4671735\ttotal: 36.2s\tremaining: 19.7s\n",
      "647:\tlearn: 0.4671594\ttotal: 36.2s\tremaining: 19.7s\n",
      "648:\tlearn: 0.4671427\ttotal: 36.3s\tremaining: 19.6s\n",
      "649:\tlearn: 0.4671217\ttotal: 36.4s\tremaining: 19.6s\n",
      "650:\tlearn: 0.4671128\ttotal: 36.4s\tremaining: 19.5s\n",
      "651:\tlearn: 0.4671111\ttotal: 36.5s\tremaining: 19.5s\n",
      "652:\tlearn: 0.4670833\ttotal: 36.5s\tremaining: 19.4s\n",
      "653:\tlearn: 0.4670400\ttotal: 36.6s\tremaining: 19.4s\n",
      "654:\tlearn: 0.4670103\ttotal: 36.7s\tremaining: 19.3s\n",
      "655:\tlearn: 0.4670078\ttotal: 36.7s\tremaining: 19.3s\n",
      "656:\tlearn: 0.4669717\ttotal: 36.8s\tremaining: 19.2s\n",
      "657:\tlearn: 0.4669534\ttotal: 36.8s\tremaining: 19.1s\n",
      "658:\tlearn: 0.4669252\ttotal: 36.9s\tremaining: 19.1s\n",
      "659:\tlearn: 0.4669113\ttotal: 36.9s\tremaining: 19s\n",
      "660:\tlearn: 0.4669081\ttotal: 37s\tremaining: 19s\n",
      "661:\tlearn: 0.4669063\ttotal: 37s\tremaining: 18.9s\n",
      "662:\tlearn: 0.4668929\ttotal: 37.1s\tremaining: 18.9s\n",
      "663:\tlearn: 0.4668368\ttotal: 37.2s\tremaining: 18.8s\n",
      "664:\tlearn: 0.4668342\ttotal: 37.2s\tremaining: 18.7s\n",
      "665:\tlearn: 0.4668268\ttotal: 37.3s\tremaining: 18.7s\n",
      "666:\tlearn: 0.4668083\ttotal: 37.3s\tremaining: 18.6s\n",
      "667:\tlearn: 0.4667822\ttotal: 37.4s\tremaining: 18.6s\n",
      "668:\tlearn: 0.4667659\ttotal: 37.4s\tremaining: 18.5s\n",
      "669:\tlearn: 0.4667652\ttotal: 37.5s\tremaining: 18.5s\n",
      "670:\tlearn: 0.4667609\ttotal: 37.5s\tremaining: 18.4s\n",
      "671:\tlearn: 0.4667269\ttotal: 37.6s\tremaining: 18.3s\n",
      "672:\tlearn: 0.4666991\ttotal: 37.6s\tremaining: 18.3s\n",
      "673:\tlearn: 0.4666779\ttotal: 37.7s\tremaining: 18.2s\n",
      "674:\tlearn: 0.4666598\ttotal: 37.7s\tremaining: 18.2s\n",
      "675:\tlearn: 0.4666504\ttotal: 37.8s\tremaining: 18.1s\n",
      "676:\tlearn: 0.4666148\ttotal: 37.8s\tremaining: 18s\n",
      "677:\tlearn: 0.4666069\ttotal: 37.9s\tremaining: 18s\n",
      "678:\tlearn: 0.4665803\ttotal: 37.9s\tremaining: 17.9s\n",
      "679:\tlearn: 0.4665534\ttotal: 38s\tremaining: 17.9s\n",
      "680:\tlearn: 0.4665093\ttotal: 38.1s\tremaining: 17.8s\n",
      "681:\tlearn: 0.4664928\ttotal: 38.1s\tremaining: 17.8s\n",
      "682:\tlearn: 0.4664757\ttotal: 38.2s\tremaining: 17.7s\n",
      "683:\tlearn: 0.4664319\ttotal: 38.2s\tremaining: 17.7s\n",
      "684:\tlearn: 0.4664175\ttotal: 38.3s\tremaining: 17.6s\n",
      "685:\tlearn: 0.4663662\ttotal: 38.3s\tremaining: 17.5s\n",
      "686:\tlearn: 0.4663539\ttotal: 38.4s\tremaining: 17.5s\n",
      "687:\tlearn: 0.4663477\ttotal: 38.4s\tremaining: 17.4s\n",
      "688:\tlearn: 0.4663032\ttotal: 38.5s\tremaining: 17.4s\n",
      "689:\tlearn: 0.4662882\ttotal: 38.5s\tremaining: 17.3s\n",
      "690:\tlearn: 0.4662831\ttotal: 38.6s\tremaining: 17.2s\n",
      "691:\tlearn: 0.4662742\ttotal: 38.6s\tremaining: 17.2s\n",
      "692:\tlearn: 0.4662595\ttotal: 38.7s\tremaining: 17.1s\n",
      "693:\tlearn: 0.4662498\ttotal: 38.7s\tremaining: 17.1s\n",
      "694:\tlearn: 0.4662201\ttotal: 38.8s\tremaining: 17s\n",
      "695:\tlearn: 0.4662100\ttotal: 38.8s\tremaining: 17s\n",
      "696:\tlearn: 0.4661803\ttotal: 38.9s\tremaining: 16.9s\n",
      "697:\tlearn: 0.4661745\ttotal: 38.9s\tremaining: 16.8s\n",
      "698:\tlearn: 0.4661638\ttotal: 39s\tremaining: 16.8s\n",
      "699:\tlearn: 0.4661348\ttotal: 39s\tremaining: 16.7s\n",
      "700:\tlearn: 0.4661146\ttotal: 39.1s\tremaining: 16.7s\n",
      "701:\tlearn: 0.4660978\ttotal: 39.1s\tremaining: 16.6s\n",
      "702:\tlearn: 0.4660909\ttotal: 39.2s\tremaining: 16.6s\n",
      "703:\tlearn: 0.4660691\ttotal: 39.2s\tremaining: 16.5s\n",
      "704:\tlearn: 0.4660589\ttotal: 39.3s\tremaining: 16.5s\n",
      "705:\tlearn: 0.4660374\ttotal: 39.4s\tremaining: 16.4s\n",
      "706:\tlearn: 0.4660292\ttotal: 39.4s\tremaining: 16.3s\n",
      "707:\tlearn: 0.4660238\ttotal: 39.5s\tremaining: 16.3s\n",
      "708:\tlearn: 0.4660207\ttotal: 39.6s\tremaining: 16.3s\n",
      "709:\tlearn: 0.4660075\ttotal: 39.7s\tremaining: 16.2s\n",
      "710:\tlearn: 0.4659999\ttotal: 39.7s\tremaining: 16.2s\n",
      "711:\tlearn: 0.4659991\ttotal: 39.8s\tremaining: 16.1s\n",
      "712:\tlearn: 0.4659769\ttotal: 39.9s\tremaining: 16s\n",
      "713:\tlearn: 0.4659763\ttotal: 39.9s\tremaining: 16s\n",
      "714:\tlearn: 0.4659354\ttotal: 40s\tremaining: 15.9s\n",
      "715:\tlearn: 0.4659165\ttotal: 40s\tremaining: 15.9s\n",
      "716:\tlearn: 0.4658964\ttotal: 40.1s\tremaining: 15.8s\n",
      "717:\tlearn: 0.4658888\ttotal: 40.2s\tremaining: 15.8s\n",
      "718:\tlearn: 0.4658454\ttotal: 40.2s\tremaining: 15.7s\n",
      "719:\tlearn: 0.4658385\ttotal: 40.3s\tremaining: 15.7s\n",
      "720:\tlearn: 0.4658144\ttotal: 40.3s\tremaining: 15.6s\n",
      "721:\tlearn: 0.4657983\ttotal: 40.4s\tremaining: 15.5s\n",
      "722:\tlearn: 0.4657905\ttotal: 40.4s\tremaining: 15.5s\n",
      "723:\tlearn: 0.4657708\ttotal: 40.5s\tremaining: 15.4s\n",
      "724:\tlearn: 0.4657516\ttotal: 40.5s\tremaining: 15.4s\n",
      "725:\tlearn: 0.4656977\ttotal: 40.6s\tremaining: 15.3s\n",
      "726:\tlearn: 0.4656627\ttotal: 40.7s\tremaining: 15.3s\n",
      "727:\tlearn: 0.4656540\ttotal: 40.7s\tremaining: 15.2s\n",
      "728:\tlearn: 0.4656415\ttotal: 40.8s\tremaining: 15.2s\n",
      "729:\tlearn: 0.4656069\ttotal: 40.8s\tremaining: 15.1s\n",
      "730:\tlearn: 0.4655687\ttotal: 40.9s\tremaining: 15.1s\n",
      "731:\tlearn: 0.4655532\ttotal: 41s\tremaining: 15s\n",
      "732:\tlearn: 0.4655270\ttotal: 41s\tremaining: 14.9s\n",
      "733:\tlearn: 0.4654822\ttotal: 41.1s\tremaining: 14.9s\n",
      "734:\tlearn: 0.4654580\ttotal: 41.1s\tremaining: 14.8s\n",
      "735:\tlearn: 0.4654138\ttotal: 41.1s\tremaining: 14.8s\n",
      "736:\tlearn: 0.4653942\ttotal: 41.2s\tremaining: 14.7s\n",
      "737:\tlearn: 0.4653843\ttotal: 41.2s\tremaining: 14.6s\n",
      "738:\tlearn: 0.4653714\ttotal: 41.3s\tremaining: 14.6s\n",
      "739:\tlearn: 0.4653529\ttotal: 41.3s\tremaining: 14.5s\n",
      "740:\tlearn: 0.4653347\ttotal: 41.4s\tremaining: 14.5s\n",
      "741:\tlearn: 0.4653210\ttotal: 41.5s\tremaining: 14.4s\n",
      "742:\tlearn: 0.4652865\ttotal: 41.5s\tremaining: 14.4s\n",
      "743:\tlearn: 0.4652372\ttotal: 41.6s\tremaining: 14.3s\n",
      "744:\tlearn: 0.4652352\ttotal: 41.7s\tremaining: 14.3s\n",
      "745:\tlearn: 0.4652093\ttotal: 41.7s\tremaining: 14.2s\n",
      "746:\tlearn: 0.4651935\ttotal: 41.8s\tremaining: 14.2s\n",
      "747:\tlearn: 0.4651751\ttotal: 41.9s\tremaining: 14.1s\n",
      "748:\tlearn: 0.4651733\ttotal: 41.9s\tremaining: 14s\n",
      "749:\tlearn: 0.4651484\ttotal: 42s\tremaining: 14s\n",
      "750:\tlearn: 0.4651445\ttotal: 42s\tremaining: 13.9s\n",
      "751:\tlearn: 0.4651369\ttotal: 42.1s\tremaining: 13.9s\n",
      "752:\tlearn: 0.4650790\ttotal: 42.1s\tremaining: 13.8s\n",
      "753:\tlearn: 0.4650502\ttotal: 42.2s\tremaining: 13.8s\n",
      "754:\tlearn: 0.4650130\ttotal: 42.2s\tremaining: 13.7s\n",
      "755:\tlearn: 0.4649201\ttotal: 42.3s\tremaining: 13.6s\n",
      "756:\tlearn: 0.4648947\ttotal: 42.3s\tremaining: 13.6s\n",
      "757:\tlearn: 0.4648922\ttotal: 42.4s\tremaining: 13.5s\n",
      "758:\tlearn: 0.4648749\ttotal: 42.4s\tremaining: 13.5s\n",
      "759:\tlearn: 0.4648293\ttotal: 42.5s\tremaining: 13.4s\n",
      "760:\tlearn: 0.4648062\ttotal: 42.5s\tremaining: 13.4s\n",
      "761:\tlearn: 0.4647908\ttotal: 42.6s\tremaining: 13.3s\n",
      "762:\tlearn: 0.4647538\ttotal: 42.6s\tremaining: 13.2s\n",
      "763:\tlearn: 0.4647192\ttotal: 42.7s\tremaining: 13.2s\n",
      "764:\tlearn: 0.4646924\ttotal: 42.8s\tremaining: 13.1s\n",
      "765:\tlearn: 0.4646624\ttotal: 42.9s\tremaining: 13.1s\n",
      "766:\tlearn: 0.4646553\ttotal: 42.9s\tremaining: 13s\n",
      "767:\tlearn: 0.4646382\ttotal: 43s\tremaining: 13s\n",
      "768:\tlearn: 0.4646143\ttotal: 43s\tremaining: 12.9s\n",
      "769:\tlearn: 0.4645697\ttotal: 43.1s\tremaining: 12.9s\n",
      "770:\tlearn: 0.4645651\ttotal: 43.2s\tremaining: 12.8s\n",
      "771:\tlearn: 0.4645500\ttotal: 43.2s\tremaining: 12.8s\n",
      "772:\tlearn: 0.4645411\ttotal: 43.3s\tremaining: 12.7s\n",
      "773:\tlearn: 0.4645217\ttotal: 43.3s\tremaining: 12.6s\n",
      "774:\tlearn: 0.4645189\ttotal: 43.4s\tremaining: 12.6s\n",
      "775:\tlearn: 0.4644895\ttotal: 43.4s\tremaining: 12.5s\n",
      "776:\tlearn: 0.4644558\ttotal: 43.5s\tremaining: 12.5s\n",
      "777:\tlearn: 0.4644518\ttotal: 43.5s\tremaining: 12.4s\n",
      "778:\tlearn: 0.4644512\ttotal: 43.6s\tremaining: 12.4s\n",
      "779:\tlearn: 0.4644345\ttotal: 43.6s\tremaining: 12.3s\n",
      "780:\tlearn: 0.4644077\ttotal: 43.7s\tremaining: 12.2s\n",
      "781:\tlearn: 0.4643975\ttotal: 43.7s\tremaining: 12.2s\n",
      "782:\tlearn: 0.4643889\ttotal: 43.8s\tremaining: 12.1s\n",
      "783:\tlearn: 0.4643755\ttotal: 43.8s\tremaining: 12.1s\n",
      "784:\tlearn: 0.4643344\ttotal: 43.9s\tremaining: 12s\n",
      "785:\tlearn: 0.4642909\ttotal: 43.9s\tremaining: 12s\n",
      "786:\tlearn: 0.4642860\ttotal: 44s\tremaining: 11.9s\n",
      "787:\tlearn: 0.4642786\ttotal: 44s\tremaining: 11.8s\n",
      "788:\tlearn: 0.4642524\ttotal: 44.1s\tremaining: 11.8s\n",
      "789:\tlearn: 0.4642507\ttotal: 44.2s\tremaining: 11.7s\n",
      "790:\tlearn: 0.4642385\ttotal: 44.2s\tremaining: 11.7s\n",
      "791:\tlearn: 0.4641937\ttotal: 44.3s\tremaining: 11.6s\n",
      "792:\tlearn: 0.4641200\ttotal: 44.3s\tremaining: 11.6s\n",
      "793:\tlearn: 0.4640683\ttotal: 44.4s\tremaining: 11.5s\n",
      "794:\tlearn: 0.4640396\ttotal: 44.5s\tremaining: 11.5s\n",
      "795:\tlearn: 0.4640326\ttotal: 44.5s\tremaining: 11.4s\n",
      "796:\tlearn: 0.4640265\ttotal: 44.6s\tremaining: 11.4s\n",
      "797:\tlearn: 0.4640155\ttotal: 44.6s\tremaining: 11.3s\n",
      "798:\tlearn: 0.4640070\ttotal: 44.7s\tremaining: 11.2s\n",
      "799:\tlearn: 0.4639968\ttotal: 44.8s\tremaining: 11.2s\n",
      "800:\tlearn: 0.4639905\ttotal: 44.8s\tremaining: 11.1s\n",
      "801:\tlearn: 0.4639652\ttotal: 44.9s\tremaining: 11.1s\n",
      "802:\tlearn: 0.4639483\ttotal: 44.9s\tremaining: 11s\n",
      "803:\tlearn: 0.4638900\ttotal: 45s\tremaining: 11s\n",
      "804:\tlearn: 0.4638627\ttotal: 45s\tremaining: 10.9s\n",
      "805:\tlearn: 0.4638513\ttotal: 45.1s\tremaining: 10.8s\n",
      "806:\tlearn: 0.4638348\ttotal: 45.1s\tremaining: 10.8s\n",
      "807:\tlearn: 0.4637943\ttotal: 45.2s\tremaining: 10.7s\n",
      "808:\tlearn: 0.4637814\ttotal: 45.2s\tremaining: 10.7s\n",
      "809:\tlearn: 0.4637444\ttotal: 45.3s\tremaining: 10.6s\n",
      "810:\tlearn: 0.4637315\ttotal: 45.4s\tremaining: 10.6s\n",
      "811:\tlearn: 0.4637153\ttotal: 45.4s\tremaining: 10.5s\n",
      "812:\tlearn: 0.4636554\ttotal: 45.5s\tremaining: 10.5s\n",
      "813:\tlearn: 0.4635921\ttotal: 45.5s\tremaining: 10.4s\n",
      "814:\tlearn: 0.4635675\ttotal: 45.6s\tremaining: 10.3s\n",
      "815:\tlearn: 0.4635270\ttotal: 45.6s\tremaining: 10.3s\n",
      "816:\tlearn: 0.4635066\ttotal: 45.7s\tremaining: 10.2s\n",
      "817:\tlearn: 0.4634950\ttotal: 45.7s\tremaining: 10.2s\n",
      "818:\tlearn: 0.4634889\ttotal: 45.8s\tremaining: 10.1s\n",
      "819:\tlearn: 0.4634807\ttotal: 45.8s\tremaining: 10.1s\n",
      "820:\tlearn: 0.4634642\ttotal: 45.9s\tremaining: 10s\n",
      "821:\tlearn: 0.4634431\ttotal: 46s\tremaining: 9.96s\n",
      "822:\tlearn: 0.4634380\ttotal: 46.1s\tremaining: 9.91s\n",
      "823:\tlearn: 0.4633794\ttotal: 46.1s\tremaining: 9.85s\n",
      "824:\tlearn: 0.4633700\ttotal: 46.2s\tremaining: 9.8s\n",
      "825:\tlearn: 0.4633625\ttotal: 46.3s\tremaining: 9.74s\n",
      "826:\tlearn: 0.4633238\ttotal: 46.3s\tremaining: 9.69s\n",
      "827:\tlearn: 0.4632782\ttotal: 46.4s\tremaining: 9.63s\n",
      "828:\tlearn: 0.4632710\ttotal: 46.4s\tremaining: 9.58s\n",
      "829:\tlearn: 0.4632429\ttotal: 46.5s\tremaining: 9.52s\n",
      "830:\tlearn: 0.4632251\ttotal: 46.5s\tremaining: 9.46s\n",
      "831:\tlearn: 0.4632004\ttotal: 46.6s\tremaining: 9.41s\n",
      "832:\tlearn: 0.4631726\ttotal: 46.6s\tremaining: 9.35s\n",
      "833:\tlearn: 0.4631416\ttotal: 46.7s\tremaining: 9.29s\n",
      "834:\tlearn: 0.4631353\ttotal: 46.7s\tremaining: 9.24s\n",
      "835:\tlearn: 0.4630957\ttotal: 46.8s\tremaining: 9.18s\n",
      "836:\tlearn: 0.4630724\ttotal: 46.9s\tremaining: 9.12s\n",
      "837:\tlearn: 0.4630564\ttotal: 46.9s\tremaining: 9.07s\n",
      "838:\tlearn: 0.4630299\ttotal: 46.9s\tremaining: 9.01s\n",
      "839:\tlearn: 0.4629929\ttotal: 47s\tremaining: 8.95s\n",
      "840:\tlearn: 0.4629630\ttotal: 47s\tremaining: 8.89s\n",
      "841:\tlearn: 0.4629542\ttotal: 47.1s\tremaining: 8.84s\n",
      "842:\tlearn: 0.4629356\ttotal: 47.1s\tremaining: 8.78s\n",
      "843:\tlearn: 0.4629296\ttotal: 47.2s\tremaining: 8.72s\n",
      "844:\tlearn: 0.4629272\ttotal: 47.2s\tremaining: 8.67s\n",
      "845:\tlearn: 0.4629265\ttotal: 47.3s\tremaining: 8.61s\n",
      "846:\tlearn: 0.4629178\ttotal: 47.4s\tremaining: 8.55s\n",
      "847:\tlearn: 0.4629154\ttotal: 47.4s\tremaining: 8.49s\n",
      "848:\tlearn: 0.4629093\ttotal: 47.5s\tremaining: 8.44s\n",
      "849:\tlearn: 0.4628648\ttotal: 47.5s\tremaining: 8.39s\n",
      "850:\tlearn: 0.4628463\ttotal: 47.6s\tremaining: 8.33s\n",
      "851:\tlearn: 0.4628319\ttotal: 47.6s\tremaining: 8.27s\n",
      "852:\tlearn: 0.4627982\ttotal: 47.7s\tremaining: 8.21s\n",
      "853:\tlearn: 0.4627619\ttotal: 47.7s\tremaining: 8.16s\n",
      "854:\tlearn: 0.4627312\ttotal: 47.8s\tremaining: 8.1s\n",
      "855:\tlearn: 0.4627185\ttotal: 47.8s\tremaining: 8.04s\n",
      "856:\tlearn: 0.4626718\ttotal: 47.9s\tremaining: 7.99s\n",
      "857:\tlearn: 0.4626458\ttotal: 47.9s\tremaining: 7.93s\n",
      "858:\tlearn: 0.4626409\ttotal: 48s\tremaining: 7.87s\n",
      "859:\tlearn: 0.4626266\ttotal: 48s\tremaining: 7.82s\n",
      "860:\tlearn: 0.4626169\ttotal: 48.1s\tremaining: 7.76s\n",
      "861:\tlearn: 0.4625997\ttotal: 48.1s\tremaining: 7.7s\n",
      "862:\tlearn: 0.4625771\ttotal: 48.2s\tremaining: 7.65s\n",
      "863:\tlearn: 0.4625690\ttotal: 48.2s\tremaining: 7.59s\n",
      "864:\tlearn: 0.4625375\ttotal: 48.3s\tremaining: 7.54s\n",
      "865:\tlearn: 0.4625355\ttotal: 48.3s\tremaining: 7.48s\n",
      "866:\tlearn: 0.4625341\ttotal: 48.4s\tremaining: 7.42s\n",
      "867:\tlearn: 0.4625226\ttotal: 48.5s\tremaining: 7.37s\n",
      "868:\tlearn: 0.4625157\ttotal: 48.5s\tremaining: 7.31s\n",
      "869:\tlearn: 0.4625021\ttotal: 48.6s\tremaining: 7.26s\n",
      "870:\tlearn: 0.4624815\ttotal: 48.6s\tremaining: 7.2s\n",
      "871:\tlearn: 0.4624777\ttotal: 48.7s\tremaining: 7.15s\n",
      "872:\tlearn: 0.4624532\ttotal: 48.8s\tremaining: 7.09s\n",
      "873:\tlearn: 0.4624495\ttotal: 48.8s\tremaining: 7.04s\n",
      "874:\tlearn: 0.4624477\ttotal: 48.9s\tremaining: 6.98s\n",
      "875:\tlearn: 0.4624431\ttotal: 48.9s\tremaining: 6.92s\n",
      "876:\tlearn: 0.4624017\ttotal: 49s\tremaining: 6.87s\n",
      "877:\tlearn: 0.4623602\ttotal: 49s\tremaining: 6.81s\n",
      "878:\tlearn: 0.4623212\ttotal: 49s\tremaining: 6.75s\n",
      "879:\tlearn: 0.4622950\ttotal: 49.1s\tremaining: 6.69s\n",
      "880:\tlearn: 0.4622281\ttotal: 49.1s\tremaining: 6.64s\n",
      "881:\tlearn: 0.4622021\ttotal: 49.2s\tremaining: 6.58s\n",
      "882:\tlearn: 0.4621703\ttotal: 49.2s\tremaining: 6.52s\n",
      "883:\tlearn: 0.4621377\ttotal: 49.3s\tremaining: 6.47s\n",
      "884:\tlearn: 0.4621044\ttotal: 49.3s\tremaining: 6.41s\n",
      "885:\tlearn: 0.4620820\ttotal: 49.4s\tremaining: 6.35s\n",
      "886:\tlearn: 0.4620808\ttotal: 49.4s\tremaining: 6.3s\n",
      "887:\tlearn: 0.4620592\ttotal: 49.5s\tremaining: 6.24s\n",
      "888:\tlearn: 0.4620420\ttotal: 49.5s\tremaining: 6.18s\n",
      "889:\tlearn: 0.4619959\ttotal: 49.6s\tremaining: 6.13s\n",
      "890:\tlearn: 0.4619656\ttotal: 49.6s\tremaining: 6.07s\n",
      "891:\tlearn: 0.4619311\ttotal: 49.7s\tremaining: 6.01s\n",
      "892:\tlearn: 0.4618814\ttotal: 49.7s\tremaining: 5.95s\n",
      "893:\tlearn: 0.4618538\ttotal: 49.7s\tremaining: 5.9s\n",
      "894:\tlearn: 0.4617956\ttotal: 49.8s\tremaining: 5.84s\n",
      "895:\tlearn: 0.4617832\ttotal: 49.8s\tremaining: 5.79s\n",
      "896:\tlearn: 0.4617589\ttotal: 49.9s\tremaining: 5.73s\n",
      "897:\tlearn: 0.4617583\ttotal: 50s\tremaining: 5.67s\n",
      "898:\tlearn: 0.4617575\ttotal: 50s\tremaining: 5.62s\n",
      "899:\tlearn: 0.4617415\ttotal: 50.1s\tremaining: 5.57s\n",
      "900:\tlearn: 0.4616940\ttotal: 50.2s\tremaining: 5.51s\n",
      "901:\tlearn: 0.4616742\ttotal: 50.2s\tremaining: 5.46s\n",
      "902:\tlearn: 0.4616721\ttotal: 50.3s\tremaining: 5.4s\n",
      "903:\tlearn: 0.4616451\ttotal: 50.4s\tremaining: 5.35s\n",
      "904:\tlearn: 0.4616357\ttotal: 50.4s\tremaining: 5.29s\n",
      "905:\tlearn: 0.4616095\ttotal: 50.5s\tremaining: 5.24s\n",
      "906:\tlearn: 0.4615859\ttotal: 50.5s\tremaining: 5.18s\n",
      "907:\tlearn: 0.4615851\ttotal: 50.6s\tremaining: 5.12s\n",
      "908:\tlearn: 0.4615786\ttotal: 50.6s\tremaining: 5.07s\n",
      "909:\tlearn: 0.4615670\ttotal: 50.7s\tremaining: 5.01s\n",
      "910:\tlearn: 0.4615494\ttotal: 50.7s\tremaining: 4.96s\n",
      "911:\tlearn: 0.4615405\ttotal: 50.8s\tremaining: 4.9s\n",
      "912:\tlearn: 0.4615351\ttotal: 50.8s\tremaining: 4.84s\n",
      "913:\tlearn: 0.4615121\ttotal: 50.9s\tremaining: 4.79s\n",
      "914:\tlearn: 0.4614822\ttotal: 50.9s\tremaining: 4.73s\n",
      "915:\tlearn: 0.4614612\ttotal: 51s\tremaining: 4.67s\n",
      "916:\tlearn: 0.4614610\ttotal: 51s\tremaining: 4.62s\n",
      "917:\tlearn: 0.4614567\ttotal: 51.1s\tremaining: 4.56s\n",
      "918:\tlearn: 0.4614495\ttotal: 51.1s\tremaining: 4.5s\n",
      "919:\tlearn: 0.4614271\ttotal: 51.2s\tremaining: 4.45s\n",
      "920:\tlearn: 0.4614141\ttotal: 51.2s\tremaining: 4.39s\n",
      "921:\tlearn: 0.4613775\ttotal: 51.3s\tremaining: 4.34s\n",
      "922:\tlearn: 0.4613472\ttotal: 51.4s\tremaining: 4.29s\n",
      "923:\tlearn: 0.4613184\ttotal: 51.5s\tremaining: 4.23s\n",
      "924:\tlearn: 0.4613070\ttotal: 51.5s\tremaining: 4.18s\n",
      "925:\tlearn: 0.4613024\ttotal: 51.6s\tremaining: 4.12s\n",
      "926:\tlearn: 0.4612866\ttotal: 51.6s\tremaining: 4.07s\n",
      "927:\tlearn: 0.4612508\ttotal: 51.7s\tremaining: 4.01s\n",
      "928:\tlearn: 0.4612172\ttotal: 51.8s\tremaining: 3.96s\n",
      "929:\tlearn: 0.4611877\ttotal: 51.8s\tremaining: 3.9s\n",
      "930:\tlearn: 0.4611859\ttotal: 51.9s\tremaining: 3.85s\n",
      "931:\tlearn: 0.4611543\ttotal: 51.9s\tremaining: 3.79s\n",
      "932:\tlearn: 0.4611471\ttotal: 52s\tremaining: 3.73s\n",
      "933:\tlearn: 0.4611118\ttotal: 52s\tremaining: 3.68s\n",
      "934:\tlearn: 0.4610821\ttotal: 52.1s\tremaining: 3.62s\n",
      "935:\tlearn: 0.4610742\ttotal: 52.1s\tremaining: 3.56s\n",
      "936:\tlearn: 0.4610670\ttotal: 52.2s\tremaining: 3.51s\n",
      "937:\tlearn: 0.4610626\ttotal: 52.2s\tremaining: 3.45s\n",
      "938:\tlearn: 0.4610315\ttotal: 52.3s\tremaining: 3.4s\n",
      "939:\tlearn: 0.4610161\ttotal: 52.3s\tremaining: 3.34s\n",
      "940:\tlearn: 0.4609680\ttotal: 52.4s\tremaining: 3.29s\n",
      "941:\tlearn: 0.4609473\ttotal: 52.5s\tremaining: 3.23s\n",
      "942:\tlearn: 0.4609358\ttotal: 52.5s\tremaining: 3.17s\n",
      "943:\tlearn: 0.4608935\ttotal: 52.6s\tremaining: 3.12s\n",
      "944:\tlearn: 0.4608920\ttotal: 52.6s\tremaining: 3.06s\n",
      "945:\tlearn: 0.4608793\ttotal: 52.7s\tremaining: 3.01s\n",
      "946:\tlearn: 0.4608653\ttotal: 52.8s\tremaining: 2.95s\n",
      "947:\tlearn: 0.4608652\ttotal: 52.8s\tremaining: 2.9s\n",
      "948:\tlearn: 0.4608579\ttotal: 52.9s\tremaining: 2.84s\n",
      "949:\tlearn: 0.4608424\ttotal: 52.9s\tremaining: 2.78s\n",
      "950:\tlearn: 0.4608225\ttotal: 53s\tremaining: 2.73s\n",
      "951:\tlearn: 0.4607953\ttotal: 53s\tremaining: 2.67s\n",
      "952:\tlearn: 0.4607848\ttotal: 53.1s\tremaining: 2.62s\n",
      "953:\tlearn: 0.4607708\ttotal: 53.1s\tremaining: 2.56s\n",
      "954:\tlearn: 0.4607639\ttotal: 53.2s\tremaining: 2.51s\n",
      "955:\tlearn: 0.4607550\ttotal: 53.2s\tremaining: 2.45s\n",
      "956:\tlearn: 0.4607428\ttotal: 53.3s\tremaining: 2.39s\n",
      "957:\tlearn: 0.4607388\ttotal: 53.3s\tremaining: 2.34s\n",
      "958:\tlearn: 0.4607182\ttotal: 53.4s\tremaining: 2.28s\n",
      "959:\tlearn: 0.4606979\ttotal: 53.4s\tremaining: 2.23s\n",
      "960:\tlearn: 0.4606979\ttotal: 53.5s\tremaining: 2.17s\n",
      "961:\tlearn: 0.4606912\ttotal: 53.5s\tremaining: 2.11s\n",
      "962:\tlearn: 0.4606504\ttotal: 53.6s\tremaining: 2.06s\n",
      "963:\tlearn: 0.4606179\ttotal: 53.6s\tremaining: 2s\n",
      "964:\tlearn: 0.4605960\ttotal: 53.7s\tremaining: 1.95s\n",
      "965:\tlearn: 0.4605943\ttotal: 53.8s\tremaining: 1.89s\n",
      "966:\tlearn: 0.4605764\ttotal: 53.8s\tremaining: 1.84s\n",
      "967:\tlearn: 0.4605586\ttotal: 53.9s\tremaining: 1.78s\n",
      "968:\tlearn: 0.4605494\ttotal: 53.9s\tremaining: 1.72s\n",
      "969:\tlearn: 0.4605459\ttotal: 54s\tremaining: 1.67s\n",
      "970:\tlearn: 0.4605371\ttotal: 54s\tremaining: 1.61s\n",
      "971:\tlearn: 0.4604954\ttotal: 54.1s\tremaining: 1.56s\n",
      "972:\tlearn: 0.4604886\ttotal: 54.1s\tremaining: 1.5s\n",
      "973:\tlearn: 0.4604706\ttotal: 54.2s\tremaining: 1.45s\n",
      "974:\tlearn: 0.4604521\ttotal: 54.2s\tremaining: 1.39s\n",
      "975:\tlearn: 0.4603982\ttotal: 54.3s\tremaining: 1.33s\n",
      "976:\tlearn: 0.4603643\ttotal: 54.3s\tremaining: 1.28s\n",
      "977:\tlearn: 0.4603562\ttotal: 54.4s\tremaining: 1.22s\n",
      "978:\tlearn: 0.4603381\ttotal: 54.4s\tremaining: 1.17s\n",
      "979:\tlearn: 0.4603228\ttotal: 54.5s\tremaining: 1.11s\n",
      "980:\tlearn: 0.4603164\ttotal: 54.5s\tremaining: 1.06s\n",
      "981:\tlearn: 0.4603140\ttotal: 54.6s\tremaining: 1s\n",
      "982:\tlearn: 0.4602973\ttotal: 54.6s\tremaining: 945ms\n",
      "983:\tlearn: 0.4602827\ttotal: 54.7s\tremaining: 890ms\n",
      "984:\tlearn: 0.4602825\ttotal: 54.8s\tremaining: 834ms\n",
      "985:\tlearn: 0.4602500\ttotal: 54.8s\tremaining: 778ms\n",
      "986:\tlearn: 0.4602483\ttotal: 54.9s\tremaining: 723ms\n",
      "987:\tlearn: 0.4602380\ttotal: 55s\tremaining: 668ms\n",
      "988:\tlearn: 0.4602364\ttotal: 55.5s\tremaining: 618ms\n",
      "989:\tlearn: 0.4602332\ttotal: 55.6s\tremaining: 562ms\n",
      "990:\tlearn: 0.4602182\ttotal: 55.7s\tremaining: 506ms\n",
      "991:\tlearn: 0.4601935\ttotal: 55.7s\tremaining: 449ms\n",
      "992:\tlearn: 0.4601673\ttotal: 55.8s\tremaining: 393ms\n",
      "993:\tlearn: 0.4601300\ttotal: 55.8s\tremaining: 337ms\n",
      "994:\tlearn: 0.4601282\ttotal: 55.9s\tremaining: 281ms\n",
      "995:\tlearn: 0.4601191\ttotal: 55.9s\tremaining: 225ms\n",
      "996:\tlearn: 0.4600702\ttotal: 56s\tremaining: 168ms\n",
      "997:\tlearn: 0.4600700\ttotal: 56s\tremaining: 112ms\n",
      "998:\tlearn: 0.4600633\ttotal: 56.1s\tremaining: 56.1ms\n",
      "999:\tlearn: 0.4600510\ttotal: 56.1s\tremaining: 0us\n"
     ]
    }
   ],
   "source": [
    "cat.fit(X_train, y_train)\n",
    "train_preds = cat.predict(X_train)\n",
    "test_preds = cat.predict(X_test)"
   ]
  },
  {
   "cell_type": "code",
   "execution_count": 7,
   "metadata": {},
   "outputs": [
    {
     "name": "stdout",
     "output_type": "stream",
     "text": [
      "              precision    recall  f1-score   support\n",
      "\n",
      "           0       0.75      0.78      0.77     25669\n",
      "           1       0.81      0.78      0.79     29752\n",
      "\n",
      "    accuracy                           0.78     55421\n",
      "   macro avg       0.78      0.78      0.78     55421\n",
      "weighted avg       0.78      0.78      0.78     55421\n",
      "\n"
     ]
    }
   ],
   "source": [
    "print(classification_report(y_train, train_preds))"
   ]
  },
  {
   "cell_type": "code",
   "execution_count": 8,
   "metadata": {},
   "outputs": [
    {
     "name": "stdout",
     "output_type": "stream",
     "text": [
      "              precision    recall  f1-score   support\n",
      "\n",
      "           0       0.75      0.79      0.77      8603\n",
      "           1       0.80      0.77      0.79      9871\n",
      "\n",
      "    accuracy                           0.78     18474\n",
      "   macro avg       0.78      0.78      0.78     18474\n",
      "weighted avg       0.78      0.78      0.78     18474\n",
      "\n"
     ]
    }
   ],
   "source": [
    "print(classification_report(y_test, test_preds))"
   ]
  },
  {
   "cell_type": "code",
   "execution_count": 9,
   "metadata": {},
   "outputs": [
    {
     "data": {
      "text/plain": [
       "<BarContainer object of 25 artists>"
      ]
     },
     "execution_count": 9,
     "metadata": {},
     "output_type": "execute_result"
    },
    {
     "data": {
      "image/png": "[encoded data removed]",
      "text/plain": [
       "<Figure size 640x480 with 1 Axes>"
      ]
     },
     "metadata": {},
     "output_type": "display_data"
    }
   ],
   "source": [
    "importances = cat.feature_importances_\n",
    "names = cat.feature_names_\n",
    "plt.barh(names, importances)"
   ]
  },
  {
   "cell_type": "markdown",
   "metadata": {},
   "source": [
    "## Parameters tuning"
   ]
  },
  {
   "cell_type": "code",
   "execution_count": 10,
   "metadata": {},
   "outputs": [],
   "source": [
    "cb_op = OptunaTuner(\n",
    "    CatBoostClassifier,\n",
    "    accuracy_score,\n",
    "    direction='maximize',\n",
    "    random_state=571,\n",
    "    verbose=0,\n",
    "    cat_features=[col for col in X_train.columns if 'last_purchase_share' not in col]\n",
    ")\n",
    "cb_op.fit(\n",
    "    100, X_train, y_train, X_test, y_test,\n",
    "    ('learning_rate', 'float', 1e-3, 1e-1, {'log': True}),\n",
    "    ('depth', 'int', 2, 11),\n",
    "    ('iterations', 'int', 100, 1000),\n",
    "    ('subsample', 'float', 0.05, 1.0),\n",
    "    ('colsample_bylevel', 'float', 0.05, 1.0),\n",
    "    ('min_data_in_leaf', 'int', 1, 100),\n",
    ")"
   ]
  },
  {
   "cell_type": "code",
   "execution_count": null,
   "metadata": {},
   "outputs": [
    {
     "data": {
      "application/vnd.plotly.v1+json": {
       "config": {
        "plotlyServerURL": "https://plot.ly"
       },
       "data": [
        {
         "mode": "markers",
         "name": "Objective Value",
         "type": "scatter",
         "x": [
          0,
          1,
          2,
          3,
          4,
          5,
          6,
          7,
          8,
          9,
          10,
          11,
          12,
          13,
          14,
          15,
          16,
          17,
          18,
          19,
          20,
          21,
          22,
          23,
          24,
          25,
          26,
          27,
          28,
          29,
          30,
          31,
          32,
          33,
          34,
          35,
          36,
          37,
          38,
          39,
          40,
          41,
          42,
          43,
          44,
          45,
          46,
          47,
          48,
          49,
          50,
          51,
          52,
          53,
          54,
          55,
          56,
          57,
          58,
          59,
          60,
          61,
          62,
          63,
          64,
          65,
          66,
          67,
          68,
          69,
          70,
          71,
          72,
          73,
          74,
          75,
          76,
          77,
          78,
          79,
          80,
          81,
          82,
          83,
          84,
          85,
          86,
          87,
          88,
          89,
          90,
          91,
          92,
          93,
          94,
          95,
          96,
          97,
          98,
          99
         ],
         "y": [
          0.7760636570315037,
          0.7720038973692758,
          0.7751434448413987,
          0.7759012666450146,
          0.776009526902674,
          0.7744938832954422,
          0.7763343076756523,
          0.7747645339395908,
          0.7755764858720364,
          0.7737360614918264,
          0.7766049583198008,
          0.7750351845837393,
          0.7761719172891631,
          0.7764425679333117,
          0.7749810544549096,
          0.7764425679333117,
          0.7767673487062899,
          0.7766590884486305,
          0.7769297390927791,
          0.7761177871603334,
          0.7757388762585254,
          0.7756306160008661,
          0.7751975749702285,
          0.7767132185774602,
          0.7762260474179928,
          0.7769297390927791,
          0.7761177871603334,
          0.7765508281909711,
          0.7767132185774602,
          0.7764966980621414,
          0.776388437804482,
          0.7766049583198008,
          0.7764425679333117,
          0.7766049583198008,
          0.7766590884486305,
          0.7759553967738443,
          0.7767673487062899,
          0.7759553967738443,
          0.776388437804482,
          0.7761177871603334,
          0.7767673487062899,
          0.7767673487062899,
          0.7765508281909711,
          0.776388437804482,
          0.7760636570315037,
          0.7762801775468225,
          0.7761177871603334,
          0.7770379993504385,
          0.7759012666450146,
          0.7767132185774602,
          0.776009526902674,
          0.7764425679333117,
          0.7766590884486305,
          0.7756847461296957,
          0.7766590884486305,
          0.7763343076756523,
          0.7762260474179928,
          0.7757930063873552,
          0.7766049583198008,
          0.7762260474179928,
          0.7720038973692758,
          0.7759012666450146,
          0.7720038973692758,
          0.7759553967738443,
          0.7768756089639494,
          0.7768756089639494,
          0.7762260474179928,
          0.776388437804482,
          0.7762801775468225,
          0.7760636570315037,
          0.7760636570315037,
          0.7744397531666125,
          0.7755223557432067,
          0.776388437804482,
          0.7766590884486305,
          0.7751975749702285,
          0.7764425679333117,
          0.7758471365161849,
          0.7760636570315037,
          0.7765508281909711,
          0.7757930063873552,
          0.7761177871603334,
          0.7769297390927791,
          0.776009526902674,
          0.7769297390927791,
          0.776388437804482,
          0.7766049583198008,
          0.7764966980621414,
          0.7760636570315037,
          0.7755764858720364,
          0.7759553967738443,
          0.7733030204611887,
          0.7762260474179928,
          0.7763343076756523,
          0.7762260474179928,
          0.7761719172891631,
          0.7762260474179928,
          0.7720038973692758,
          0.7762801775468225,
          0.7766590884486305
         ]
        },
        {
         "name": "Best Value",
         "type": "scatter",
         "x": [
          0,
          1,
          2,
          3,
          4,
          5,
          6,
          7,
          8,
          9,
          10,
          11,
          12,
          13,
          14,
          15,
          16,
          17,
          18,
          19,
          20,
          21,
          22,
          23,
          24,
          25,
          26,
          27,
          28,
          29,
          30,
          31,
          32,
          33,
          34,
          35,
          36,
          37,
          38,
          39,
          40,
          41,
          42,
          43,
          44,
          45,
          46,
          47,
          48,
          49,
          50,
          51,
          52,
          53,
          54,
          55,
          56,
          57,
          58,
          59,
          60,
          61,
          62,
          63,
          64,
          65,
          66,
          67,
          68,
          69,
          70,
          71,
          72,
          73,
          74,
          75,
          76,
          77,
          78,
          79,
          80,
          81,
          82,
          83,
          84,
          85,
          86,
          87,
          88,
          89,
          90,
          91,
          92,
          93,
          94,
          95,
          96,
          97,
          98,
          99
         ],
         "y": [
          0.7760636570315037,
          0.7760636570315037,
          0.7760636570315037,
          0.7760636570315037,
          0.7760636570315037,
          0.7760636570315037,
          0.7763343076756523,
          0.7763343076756523,
          0.7763343076756523,
          0.7763343076756523,
          0.7766049583198008,
          0.7766049583198008,
          0.7766049583198008,
          0.7766049583198008,
          0.7766049583198008,
          0.7766049583198008,
          0.7767673487062899,
          0.7767673487062899,
          0.7769297390927791,
          0.7769297390927791,
          0.7769297390927791,
          0.7769297390927791,
          0.7769297390927791,
          0.7769297390927791,
          0.7769297390927791,
          0.7769297390927791,
          0.7769297390927791,
          0.7769297390927791,
          0.7769297390927791,
          0.7769297390927791,
          0.7769297390927791,
          0.7769297390927791,
          0.7769297390927791,
          0.7769297390927791,
          0.7769297390927791,
          0.7769297390927791,
          0.7769297390927791,
          0.7769297390927791,
          0.7769297390927791,
          0.7769297390927791,
          0.7769297390927791,
          0.7769297390927791,
          0.7769297390927791,
          0.7769297390927791,
          0.7769297390927791,
          0.7769297390927791,
          0.7769297390927791,
          0.7770379993504385,
          0.7770379993504385,
          0.7770379993504385,
          0.7770379993504385,
          0.7770379993504385,
          0.7770379993504385,
          0.7770379993504385,
          0.7770379993504385,
          0.7770379993504385,
          0.7770379993504385,
          0.7770379993504385,
          0.7770379993504385,
          0.7770379993504385,
          0.7770379993504385,
          0.7770379993504385,
          0.7770379993504385,
          0.7770379993504385,
          0.7770379993504385,
          0.7770379993504385,
          0.7770379993504385,
          0.7770379993504385,
          0.7770379993504385,
          0.7770379993504385,
          0.7770379993504385,
          0.7770379993504385,
          0.7770379993504385,
          0.7770379993504385,
          0.7770379993504385,
          0.7770379993504385,
          0.7770379993504385,
          0.7770379993504385,
          0.7770379993504385,
          0.7770379993504385,
          0.7770379993504385,
          0.7770379993504385,
          0.7770379993504385,
          0.7770379993504385,
          0.7770379993504385,
          0.7770379993504385,
          0.7770379993504385,
          0.7770379993504385,
          0.7770379993504385,
          0.7770379993504385,
          0.7770379993504385,
          0.7770379993504385,
          0.7770379993504385,
          0.7770379993504385,
          0.7770379993504385,
          0.7770379993504385,
          0.7770379993504385,
          0.7770379993504385,
          0.7770379993504385,
          0.7770379993504385
         ]
        }
       ],
       "layout": {
        "template": {
         "data": {
          "bar": [
           {
            "error_x": {
             "color": "#2a3f5f"
            },
            "error_y": {
             "color": "#2a3f5f"
            },
            "marker": {
             "line": {
              "color": "#E5ECF6",
              "width": 0.5
             },
             "pattern": {
              "fillmode": "overlay",
              "size": 10,
              "solidity": 0.2
             }
            },
            "type": "bar"
           }
          ],
          "barpolar": [
           {
            "marker": {
             "line": {
              "color": "#E5ECF6",
              "width": 0.5
             },
             "pattern": {
              "fillmode": "overlay",
              "size": 10,
              "solidity": 0.2
             }
            },
            "type": "barpolar"
           }
          ],
          "carpet": [
           {
            "aaxis": {
             "endlinecolor": "#2a3f5f",
             "gridcolor": "white",
             "linecolor": "white",
             "minorgridcolor": "white",
             "startlinecolor": "#2a3f5f"
            },
            "baxis": {
             "endlinecolor": "#2a3f5f",
             "gridcolor": "white",
             "linecolor": "white",
             "minorgridcolor": "white",
             "startlinecolor": "#2a3f5f"
            },
            "type": "carpet"
           }
          ],
          "choropleth": [
           {
            "colorbar": {
             "outlinewidth": 0,
             "ticks": ""
            },
            "type": "choropleth"
           }
          ],
          "contour": [
           {
            "colorbar": {
             "outlinewidth": 0,
             "ticks": ""
            },
            "colorscale": [
             [
              0,
              "#0d0887"
             ],
             [
              0.1111111111111111,
              "#46039f"
             ],
             [
              0.2222222222222222,
              "#7201a8"
             ],
             [
              0.3333333333333333,
              "#9c179e"
             ],
             [
              0.4444444444444444,
              "#bd3786"
             ],
             [
              0.5555555555555556,
              "#d8576b"
             ],
             [
              0.6666666666666666,
              "#ed7953"
             ],
             [
              0.7777777777777778,
              "#fb9f3a"
             ],
             [
              0.8888888888888888,
              "#fdca26"
             ],
             [
              1,
              "#f0f921"
             ]
            ],
            "type": "contour"
           }
          ],
          "contourcarpet": [
           {
            "colorbar": {
             "outlinewidth": 0,
             "ticks": ""
            },
            "type": "contourcarpet"
           }
          ],
          "heatmap": [
           {
            "colorbar": {
             "outlinewidth": 0,
             "ticks": ""
            },
            "colorscale": [
             [
              0,
              "#0d0887"
             ],
             [
              0.1111111111111111,
              "#46039f"
             ],
             [
              0.2222222222222222,
              "#7201a8"
             ],
             [
              0.3333333333333333,
              "#9c179e"
             ],
             [
              0.4444444444444444,
              "#bd3786"
             ],
             [
              0.5555555555555556,
              "#d8576b"
             ],
             [
              0.6666666666666666,
              "#ed7953"
             ],
             [
              0.7777777777777778,
              "#fb9f3a"
             ],
             [
              0.8888888888888888,
              "#fdca26"
             ],
             [
              1,
              "#f0f921"
             ]
            ],
            "type": "heatmap"
           }
          ],
          "heatmapgl": [
           {
            "colorbar": {
             "outlinewidth": 0,
             "ticks": ""
            },
            "colorscale": [
             [
              0,
              "#0d0887"
             ],
             [
              0.1111111111111111,
              "#46039f"
             ],
             [
              0.2222222222222222,
              "#7201a8"
             ],
             [
              0.3333333333333333,
              "#9c179e"
             ],
             [
              0.4444444444444444,
              "#bd3786"
             ],
             [
              0.5555555555555556,
              "#d8576b"
             ],
             [
              0.6666666666666666,
              "#ed7953"
             ],
             [
              0.7777777777777778,
              "#fb9f3a"
             ],
             [
              0.8888888888888888,
              "#fdca26"
             ],
             [
              1,
              "#f0f921"
             ]
            ],
            "type": "heatmapgl"
           }
          ],
          "histogram": [
           {
            "marker": {
             "pattern": {
              "fillmode": "overlay",
              "size": 10,
              "solidity": 0.2
             }
            },
            "type": "histogram"
           }
          ],
          "histogram2d": [
           {
            "colorbar": {
             "outlinewidth": 0,
             "ticks": ""
            },
            "colorscale": [
             [
              0,
              "#0d0887"
             ],
             [
              0.1111111111111111,
              "#46039f"
             ],
             [
              0.2222222222222222,
              "#7201a8"
             ],
             [
              0.3333333333333333,
              "#9c179e"
             ],
             [
              0.4444444444444444,
              "#bd3786"
             ],
             [
              0.5555555555555556,
              "#d8576b"
             ],
             [
              0.6666666666666666,
              "#ed7953"
             ],
             [
              0.7777777777777778,
              "#fb9f3a"
             ],
             [
              0.8888888888888888,
              "#fdca26"
             ],
             [
              1,
              "#f0f921"
             ]
            ],
            "type": "histogram2d"
           }
          ],
          "histogram2dcontour": [
           {
            "colorbar": {
             "outlinewidth": 0,
             "ticks": ""
            },
            "colorscale": [
             [
              0,
              "#0d0887"
             ],
             [
              0.1111111111111111,
              "#46039f"
             ],
             [
              0.2222222222222222,
              "#7201a8"
             ],
             [
              0.3333333333333333,
              "#9c179e"
             ],
             [
              0.4444444444444444,
              "#bd3786"
             ],
             [
              0.5555555555555556,
              "#d8576b"
             ],
             [
              0.6666666666666666,
              "#ed7953"
             ],
             [
              0.7777777777777778,
              "#fb9f3a"
             ],
             [
              0.8888888888888888,
              "#fdca26"
             ],
             [
              1,
              "#f0f921"
             ]
            ],
            "type": "histogram2dcontour"
           }
          ],
          "mesh3d": [
           {
            "colorbar": {
             "outlinewidth": 0,
             "ticks": ""
            },
            "type": "mesh3d"
           }
          ],
          "parcoords": [
           {
            "line": {
             "colorbar": {
              "outlinewidth": 0,
              "ticks": ""
             }
            },
            "type": "parcoords"
           }
          ],
          "pie": [
           {
            "automargin": true,
            "type": "pie"
           }
          ],
          "scatter": [
           {
            "fillpattern": {
             "fillmode": "overlay",
             "size": 10,
             "solidity": 0.2
            },
            "type": "scatter"
           }
          ],
          "scatter3d": [
           {
            "line": {
             "colorbar": {
              "outlinewidth": 0,
              "ticks": ""
             }
            },
            "marker": {
             "colorbar": {
              "outlinewidth": 0,
              "ticks": ""
             }
            },
            "type": "scatter3d"
           }
          ],
          "scattercarpet": [
           {
            "marker": {
             "colorbar": {
              "outlinewidth": 0,
              "ticks": ""
             }
            },
            "type": "scattercarpet"
           }
          ],
          "scattergeo": [
           {
            "marker": {
             "colorbar": {
              "outlinewidth": 0,
              "ticks": ""
             }
            },
            "type": "scattergeo"
           }
          ],
          "scattergl": [
           {
            "marker": {
             "colorbar": {
              "outlinewidth": 0,
              "ticks": ""
             }
            },
            "type": "scattergl"
           }
          ],
          "scattermapbox": [
           {
            "marker": {
             "colorbar": {
              "outlinewidth": 0,
              "ticks": ""
             }
            },
            "type": "scattermapbox"
           }
          ],
          "scatterpolar": [
           {
            "marker": {
             "colorbar": {
              "outlinewidth": 0,
              "ticks": ""
             }
            },
            "type": "scatterpolar"
           }
          ],
          "scatterpolargl": [
           {
            "marker": {
             "colorbar": {
              "outlinewidth": 0,
              "ticks": ""
             }
            },
            "type": "scatterpolargl"
           }
          ],
          "scatterternary": [
           {
            "marker": {
             "colorbar": {
              "outlinewidth": 0,
              "ticks": ""
             }
            },
            "type": "scatterternary"
           }
          ],
          "surface": [
           {
            "colorbar": {
             "outlinewidth": 0,
             "ticks": ""
            },
            "colorscale": [
             [
              0,
              "#0d0887"
             ],
             [
              0.1111111111111111,
              "#46039f"
             ],
             [
              0.2222222222222222,
              "#7201a8"
             ],
             [
              0.3333333333333333,
              "#9c179e"
             ],
             [
              0.4444444444444444,
              "#bd3786"
             ],
             [
              0.5555555555555556,
              "#d8576b"
             ],
             [
              0.6666666666666666,
              "#ed7953"
             ],
             [
              0.7777777777777778,
              "#fb9f3a"
             ],
             [
              0.8888888888888888,
              "#fdca26"
             ],
             [
              1,
              "#f0f921"
             ]
            ],
            "type": "surface"
           }
          ],
          "table": [
           {
            "cells": {
             "fill": {
              "color": "#EBF0F8"
             },
             "line": {
              "color": "white"
             }
            },
            "header": {
             "fill": {
              "color": "#C8D4E3"
             },
             "line": {
              "color": "white"
             }
            },
            "type": "table"
           }
          ]
         },
         "layout": {
          "annotationdefaults": {
           "arrowcolor": "#2a3f5f",
           "arrowhead": 0,
           "arrowwidth": 1
          },
          "autotypenumbers": "strict",
          "coloraxis": {
           "colorbar": {
            "outlinewidth": 0,
            "ticks": ""
           }
          },
          "colorscale": {
           "diverging": [
            [
             0,
             "#8e0152"
            ],
            [
             0.1,
             "#c51b7d"
            ],
            [
             0.2,
             "#de77ae"
            ],
            [
             0.3,
             "#f1b6da"
            ],
            [
             0.4,
             "#fde0ef"
            ],
            [
             0.5,
             "#f7f7f7"
            ],
            [
             0.6,
             "#e6f5d0"
            ],
            [
             0.7,
             "#b8e186"
            ],
            [
             0.8,
             "#7fbc41"
            ],
            [
             0.9,
             "#4d9221"
            ],
            [
             1,
             "#276419"
            ]
           ],
           "sequential": [
            [
             0,
             "#0d0887"
            ],
            [
             0.1111111111111111,
             "#46039f"
            ],
            [
             0.2222222222222222,
             "#7201a8"
            ],
            [
             0.3333333333333333,
             "#9c179e"
            ],
            [
             0.4444444444444444,
             "#bd3786"
            ],
            [
             0.5555555555555556,
             "#d8576b"
            ],
            [
             0.6666666666666666,
             "#ed7953"
            ],
            [
             0.7777777777777778,
             "#fb9f3a"
            ],
            [
             0.8888888888888888,
             "#fdca26"
            ],
            [
             1,
             "#f0f921"
            ]
           ],
           "sequentialminus": [
            [
             0,
             "#0d0887"
            ],
            [
             0.1111111111111111,
             "#46039f"
            ],
            [
             0.2222222222222222,
             "#7201a8"
            ],
            [
             0.3333333333333333,
             "#9c179e"
            ],
            [
             0.4444444444444444,
             "#bd3786"
            ],
            [
             0.5555555555555556,
             "#d8576b"
            ],
            [
             0.6666666666666666,
             "#ed7953"
            ],
            [
             0.7777777777777778,
             "#fb9f3a"
            ],
            [
             0.8888888888888888,
             "#fdca26"
            ],
            [
             1,
             "#f0f921"
            ]
           ]
          },
          "colorway": [
           "#636efa",
           "#EF553B",
           "#00cc96",
           "#ab63fa",
           "#FFA15A",
           "#19d3f3",
           "#FF6692",
           "#B6E880",
           "#FF97FF",
           "#FECB52"
          ],
          "font": {
           "color": "#2a3f5f"
          },
          "geo": {
           "bgcolor": "white",
           "lakecolor": "white",
           "landcolor": "#E5ECF6",
           "showlakes": true,
           "showland": true,
           "subunitcolor": "white"
          },
          "hoverlabel": {
           "align": "left"
          },
          "hovermode": "closest",
          "mapbox": {
           "style": "light"
          },
          "paper_bgcolor": "white",
          "plot_bgcolor": "#E5ECF6",
          "polar": {
           "angularaxis": {
            "gridcolor": "white",
            "linecolor": "white",
            "ticks": ""
           },
           "bgcolor": "#E5ECF6",
           "radialaxis": {
            "gridcolor": "white",
            "linecolor": "white",
            "ticks": ""
           }
          },
          "scene": {
           "xaxis": {
            "backgroundcolor": "#E5ECF6",
            "gridcolor": "white",
            "gridwidth": 2,
            "linecolor": "white",
            "showbackground": true,
            "ticks": "",
            "zerolinecolor": "white"
           },
           "yaxis": {
            "backgroundcolor": "#E5ECF6",
            "gridcolor": "white",
            "gridwidth": 2,
            "linecolor": "white",
            "showbackground": true,
            "ticks": "",
            "zerolinecolor": "white"
           },
           "zaxis": {
            "backgroundcolor": "#E5ECF6",
            "gridcolor": "white",
            "gridwidth": 2,
            "linecolor": "white",
            "showbackground": true,
            "ticks": "",
            "zerolinecolor": "white"
           }
          },
          "shapedefaults": {
           "line": {
            "color": "#2a3f5f"
           }
          },
          "ternary": {
           "aaxis": {
            "gridcolor": "white",
            "linecolor": "white",
            "ticks": ""
           },
           "baxis": {
            "gridcolor": "white",
            "linecolor": "white",
            "ticks": ""
           },
           "bgcolor": "#E5ECF6",
           "caxis": {
            "gridcolor": "white",
            "linecolor": "white",
            "ticks": ""
           }
          },
          "title": {
           "x": 0.05
          },
          "xaxis": {
           "automargin": true,
           "gridcolor": "white",
           "linecolor": "white",
           "ticks": "",
           "title": {
            "standoff": 15
           },
           "zerolinecolor": "white",
           "zerolinewidth": 2
          },
          "yaxis": {
           "automargin": true,
           "gridcolor": "white",
           "linecolor": "white",
           "ticks": "",
           "title": {
            "standoff": 15
           },
           "zerolinecolor": "white",
           "zerolinewidth": 2
          }
         }
        },
        "title": {
         "text": "Optimization History Plot"
        },
        "xaxis": {
         "title": {
          "text": "Trial"
         }
        },
        "yaxis": {
         "title": {
          "text": "Objective Value"
         }
        }
       }
      }
     },
     "metadata": {},
     "output_type": "display_data"
    }
   ],
   "source": [
    "optuna.visualization.plot_optimization_history(cb_op.study)"
   ]
  },
  {
   "cell_type": "code",
   "execution_count": null,
   "metadata": {},
   "outputs": [
    {
     "name": "stderr",
     "output_type": "stream",
     "text": [
      "Failed to detect the name of this notebook, you can set it manually with the WANDB_NOTEBOOK_NAME environment variable to enable code saving.\n"
     ]
    },
    {
     "name": "stdout",
     "output_type": "stream",
     "text": [
      "huggingface/tokenizers: The current process just got forked, after parallelism has already been used. Disabling parallelism to avoid deadlocks...\n",
      "To disable this warning, you can either:\n",
      "\t- Avoid using `tokenizers` before the fork if possible\n",
      "\t- Explicitly set the environment variable TOKENIZERS_PARALLELISM=(true | false)\n",
      "huggingface/tokenizers: The current process just got forked, after parallelism has already been used. Disabling parallelism to avoid deadlocks...\n",
      "To disable this warning, you can either:\n",
      "\t- Avoid using `tokenizers` before the fork if possible\n",
      "\t- Explicitly set the environment variable TOKENIZERS_PARALLELISM=(true | false)\n"
     ]
    },
    {
     "name": "stderr",
     "output_type": "stream",
     "text": [
      "\u001b[34m\u001b[1mwandb\u001b[0m: W&B API key is configured. Use \u001b[1m`wandb login --relogin`\u001b[0m to force relogin\n"
     ]
    },
    {
     "name": "stdout",
     "output_type": "stream",
     "text": [
      "huggingface/tokenizers: The current process just got forked, after parallelism has already been used. Disabling parallelism to avoid deadlocks...\n",
      "To disable this warning, you can either:\n",
      "\t- Avoid using `tokenizers` before the fork if possible\n",
      "\t- Explicitly set the environment variable TOKENIZERS_PARALLELISM=(true | false)\n",
      "huggingface/tokenizers: The current process just got forked, after parallelism has already been used. Disabling parallelism to avoid deadlocks...\n",
      "To disable this warning, you can either:\n",
      "\t- Avoid using `tokenizers` before the fork if possible\n",
      "\t- Explicitly set the environment variable TOKENIZERS_PARALLELISM=(true | false)\n"
     ]
    },
    {
     "data": {
      "application/vnd.jupyter.widget-view+json": {
       "model_id": "c6986a9ca1d74b88ac96acde7743e34a",
       "version_major": 2,
       "version_minor": 0
      },
      "text/plain": [
       "VBox(children=(Label(value='Waiting for wandb.init()...\\r'), FloatProgress(value=0.01673418957895289, max=1.0)…"
      ]
     },
     "metadata": {},
     "output_type": "display_data"
    },
    {
     "data": {
      "text/html": [
       "wandb version 0.15.7 is available!  To upgrade, please run:\n",
       " $ pip install wandb --upgrade"
      ],
      "text/plain": [
       "<IPython.core.display.HTML object>"
      ]
     },
     "metadata": {},
     "output_type": "display_data"
    },
    {
     "data": {
      "text/html": [
       "Tracking run with wandb version 0.15.5"
      ],
      "text/plain": [
       "<IPython.core.display.HTML object>"
      ]
     },
     "metadata": {},
     "output_type": "display_data"
    },
    {
     "data": {
      "text/html": [
       "Run data is saved locally in <code>/Users/fedorturchenko/Documents/UCY/DSC-571/dsc-571/wandb/run-20230801_163250-x8udkfzg</code>"
      ],
      "text/plain": [
       "<IPython.core.display.HTML object>"
      ]
     },
     "metadata": {},
     "output_type": "display_data"
    },
    {
     "data": {
      "text/html": [
       "Syncing run <strong><a href='https://wandb.ai/kpmg-capstone/Cat-BoostClassifier/runs/x8udkfzg' target=\"_blank\">categorical_features_optuna_subperiod_30_month3_2023-08-01_16-32-43</a></strong> to <a href='https://wandb.ai/kpmg-capstone/Cat-BoostClassifier' target=\"_blank\">Weights & Biases</a> (<a href='https://wandb.me/run' target=\"_blank\">docs</a>)<br/>"
      ],
      "text/plain": [
       "<IPython.core.display.HTML object>"
      ]
     },
     "metadata": {},
     "output_type": "display_data"
    },
    {
     "data": {
      "text/html": [
       " View project at <a href='https://wandb.ai/kpmg-capstone/Cat-BoostClassifier' target=\"_blank\">https://wandb.ai/kpmg-capstone/Cat-BoostClassifier</a>"
      ],
      "text/plain": [
       "<IPython.core.display.HTML object>"
      ]
     },
     "metadata": {},
     "output_type": "display_data"
    },
    {
     "data": {
      "text/html": [
       " View run at <a href='https://wandb.ai/kpmg-capstone/Cat-BoostClassifier/runs/x8udkfzg' target=\"_blank\">https://wandb.ai/kpmg-capstone/Cat-BoostClassifier/runs/x8udkfzg</a>"
      ],
      "text/plain": [
       "<IPython.core.display.HTML object>"
      ]
     },
     "metadata": {},
     "output_type": "display_data"
    },
    {
     "data": {
      "text/html": [
       "Waiting for W&B process to finish... <strong style=\"color:green\">(success).</strong>"
      ],
      "text/plain": [
       "<IPython.core.display.HTML object>"
      ]
     },
     "metadata": {},
     "output_type": "display_data"
    },
    {
     "data": {
      "text/html": [
       " View run <strong style=\"color:#cdcd00\">categorical_features_optuna_subperiod_30_month3_2023-08-01_16-32-43</strong> at: <a href='https://wandb.ai/kpmg-capstone/Cat-BoostClassifier/runs/x8udkfzg' target=\"_blank\">https://wandb.ai/kpmg-capstone/Cat-BoostClassifier/runs/x8udkfzg</a><br/>Synced 4 W&B file(s), 0 media file(s), 0 artifact file(s) and 0 other file(s)"
      ],
      "text/plain": [
       "<IPython.core.display.HTML object>"
      ]
     },
     "metadata": {},
     "output_type": "display_data"
    },
    {
     "data": {
      "text/html": [
       "Find logs at: <code>./wandb/run-20230801_163250-x8udkfzg/logs</code>"
      ],
      "text/plain": [
       "<IPython.core.display.HTML object>"
      ]
     },
     "metadata": {},
     "output_type": "display_data"
    },
    {
     "name": "stdout",
     "output_type": "stream",
     "text": [
      "huggingface/tokenizers: The current process just got forked, after parallelism has already been used. Disabling parallelism to avoid deadlocks...\n",
      "To disable this warning, you can either:\n",
      "\t- Avoid using `tokenizers` before the fork if possible\n",
      "\t- Explicitly set the environment variable TOKENIZERS_PARALLELISM=(true | false)\n"
     ]
    },
    {
     "data": {
      "application/vnd.jupyter.widget-view+json": {
       "model_id": "be2e4108109741bbbee9cd1d74039ec6",
       "version_major": 2,
       "version_minor": 0
      },
      "text/plain": [
       "VBox(children=(Label(value='Waiting for wandb.init()...\\r'), FloatProgress(value=0.016752294450998306, max=1.0…"
      ]
     },
     "metadata": {},
     "output_type": "display_data"
    },
    {
     "data": {
      "text/html": [
       "wandb version 0.15.7 is available!  To upgrade, please run:\n",
       " $ pip install wandb --upgrade"
      ],
      "text/plain": [
       "<IPython.core.display.HTML object>"
      ]
     },
     "metadata": {},
     "output_type": "display_data"
    },
    {
     "data": {
      "text/html": [
       "Tracking run with wandb version 0.15.5"
      ],
      "text/plain": [
       "<IPython.core.display.HTML object>"
      ]
     },
     "metadata": {},
     "output_type": "display_data"
    },
    {
     "data": {
      "text/html": [
       "Run data is saved locally in <code>/Users/fedorturchenko/Documents/UCY/DSC-571/dsc-571/wandb/run-20230801_163306-whr944gw</code>"
      ],
      "text/plain": [
       "<IPython.core.display.HTML object>"
      ]
     },
     "metadata": {},
     "output_type": "display_data"
    },
    {
     "data": {
      "text/html": [
       "Syncing run <strong><a href='https://wandb.ai/kpmg-capstone/Cat-BoostClassifier/runs/whr944gw' target=\"_blank\">categorical_features_optuna_subperiod_30_month3_2023-08-01_16-33-06</a></strong> to <a href='https://wandb.ai/kpmg-capstone/Cat-BoostClassifier' target=\"_blank\">Weights & Biases</a> (<a href='https://wandb.me/run' target=\"_blank\">docs</a>)<br/>"
      ],
      "text/plain": [
       "<IPython.core.display.HTML object>"
      ]
     },
     "metadata": {},
     "output_type": "display_data"
    },
    {
     "data": {
      "text/html": [
       " View project at <a href='https://wandb.ai/kpmg-capstone/Cat-BoostClassifier' target=\"_blank\">https://wandb.ai/kpmg-capstone/Cat-BoostClassifier</a>"
      ],
      "text/plain": [
       "<IPython.core.display.HTML object>"
      ]
     },
     "metadata": {},
     "output_type": "display_data"
    },
    {
     "data": {
      "text/html": [
       " View run at <a href='https://wandb.ai/kpmg-capstone/Cat-BoostClassifier/runs/whr944gw' target=\"_blank\">https://wandb.ai/kpmg-capstone/Cat-BoostClassifier/runs/whr944gw</a>"
      ],
      "text/plain": [
       "<IPython.core.display.HTML object>"
      ]
     },
     "metadata": {},
     "output_type": "display_data"
    },
    {
     "data": {
      "text/html": [
       "Waiting for W&B process to finish... <strong style=\"color:green\">(success).</strong>"
      ],
      "text/plain": [
       "<IPython.core.display.HTML object>"
      ]
     },
     "metadata": {},
     "output_type": "display_data"
    },
    {
     "data": {
      "text/html": [
       " View run <strong style=\"color:#cdcd00\">categorical_features_optuna_subperiod_30_month3_2023-08-01_16-33-06</strong> at: <a href='https://wandb.ai/kpmg-capstone/Cat-BoostClassifier/runs/whr944gw' target=\"_blank\">https://wandb.ai/kpmg-capstone/Cat-BoostClassifier/runs/whr944gw</a><br/>Synced 4 W&B file(s), 0 media file(s), 0 artifact file(s) and 0 other file(s)"
      ],
      "text/plain": [
       "<IPython.core.display.HTML object>"
      ]
     },
     "metadata": {},
     "output_type": "display_data"
    },
    {
     "data": {
      "text/html": [
       "Find logs at: <code>./wandb/run-20230801_163306-whr944gw/logs</code>"
      ],
      "text/plain": [
       "<IPython.core.display.HTML object>"
      ]
     },
     "metadata": {},
     "output_type": "display_data"
    }
   ],
   "source": [
    "config = cb_op.model.get_params()\n",
    "cat = CatBoostClassifier(**config)\n",
    "\n",
    "# Create w&b run for the training set\n",
    "with utils.init_wandb_run(\n",
    "    name=f'categorical_features_optuna_subperiod_{fe.subperiod}',\n",
    "    model=CatBoostClassifier,\n",
    "    config=config,\n",
    "    target_month=fe.target_month,\n",
    "    group='parameters_tuning',\n",
    "    job_type='tuning_train'\n",
    ") as run:\n",
    "\n",
    "    cat.fit(X_train, y_train)\n",
    "    train_preds = cat.predict(X_train)\n",
    "\n",
    "    rep = utils.parse_classification_report(\n",
    "        classification_report(y_train, train_preds, output_dict=True)\n",
    "    )\n",
    "\n",
    "    metadata = {\n",
    "        'experiment': {\n",
    "            'name': run.name,\n",
    "        },\n",
    "        'performance_report': rep,\n",
    "        'config': config\n",
    "    }\n",
    "\n",
    "    artifact = wandb.Artifact(\n",
    "        name=f'report_train',\n",
    "        type='performance_metric',\n",
    "        metadata=metadata\n",
    "    )\n",
    "    run.log_artifact(artifact)\n",
    "    run.finish()\n",
    "\n",
    "# Create w&b run for the test set\n",
    "with utils.init_wandb_run(\n",
    "    name=f'categorical_features_optuna_subperiod_{fe.subperiod}',\n",
    "    model=CatBoostClassifier,\n",
    "    config=config,\n",
    "    target_month=fe.target_month,\n",
    "    group='parameters_tuning',\n",
    "    job_type='tuning_test'\n",
    ") as run:\n",
    "    test_preds = cat.predict(X_test)\n",
    "    rep = utils.parse_classification_report(\n",
    "        classification_report(y_test, test_preds, output_dict=True)\n",
    "    )\n",
    "\n",
    "    metadata = {\n",
    "        'experiment': {\n",
    "            'name': run.name,\n",
    "        },\n",
    "        'performance_report': rep,\n",
    "        'config': config\n",
    "    }\n",
    "\n",
    "    artifact = wandb.Artifact(\n",
    "        name=f'report_test',\n",
    "        type='performance_metric',\n",
    "        metadata=metadata\n",
    "    )\n",
    "    run.log_artifact(artifact)\n",
    "    run.finish()"
   ]
  },
  {
   "cell_type": "code",
   "execution_count": null,
   "metadata": {},
   "outputs": [],
   "source": []
  }
 ],
 "metadata": {
  "kernelspec": {
   "display_name": "Python 3",
   "language": "python",
   "name": "python3"
  },
  "language_info": {
   "codemirror_mode": {
    "name": "ipython",
    "version": 3
   },
   "file_extension": ".py",
   "mimetype": "text/x-python",
   "name": "python",
   "nbconvert_exporter": "python",
   "pygments_lexer": "ipython3",
   "version": "3.10.9"
  },
  "orig_nbformat": 4
 },
 "nbformat": 4,
 "nbformat_minor": 2
}
