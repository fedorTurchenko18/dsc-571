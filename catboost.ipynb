{
 "cells": [
  {
   "cell_type": "code",
   "execution_count": 1,
   "metadata": {},
   "outputs": [
    {
     "name": "stderr",
     "output_type": "stream",
     "text": [
      "<frozen importlib._bootstrap>:241: RuntimeWarning: numpy.ufunc size changed, may indicate binary incompatibility. Expected 216 from C header, got 232 from PyObject\n"
     ]
    }
   ],
   "source": [
    "import pandas as pd\n",
    "import joblib\n",
    "import matplotlib.pyplot as plt\n",
    "\n",
    "from service.app_api.features.extractor import FeatureExtractor\n",
    "from tuning.optuna_tuning import OptunaTuner\n",
    "from configs import utils\n",
    "\n",
    "from catboost import CatBoostClassifier\n",
    "from sklearn.metrics import classification_report, accuracy_score\n",
    "import optuna\n",
    "import wandb"
   ]
  },
  {
   "cell_type": "code",
   "execution_count": 2,
   "metadata": {},
   "outputs": [],
   "source": [
    "try:\n",
    "    customers, sales = joblib.load('customers.joblib'), joblib.load('sales.joblib')\n",
    "except:\n",
    "    customers, sales = pd.read_excel('ucy_eko_data.xlsx', sheet_name='smile_customers'), pd.read_excel('ucy_eko_data.xlsx', sheet_name='smile_sales')\n",
    "    joblib.dump(customers, 'customers.joblib')\n",
    "    joblib.dump(sales, 'sales.joblib')"
   ]
  },
  {
   "cell_type": "code",
   "execution_count": 9,
   "metadata": {},
   "outputs": [
    {
     "name": "stdout",
     "output_type": "stream",
     "text": [
      "Token will not been saved to git credential helper. Pass `add_to_git_credential=True` if you want to set the git credential as well.\n",
      "Token is valid (permission: write).\n",
      "Your token has been saved to /Users/fedorturchenko/.cache/huggingface/token\n",
      "Login successful\n",
      "huggingface/tokenizers: The current process just got forked, after parallelism has already been used. Disabling parallelism to avoid deadlocks...\n",
      "To disable this warning, you can either:\n",
      "\t- Avoid using `tokenizers` before the fork if possible\n",
      "\t- Explicitly set the environment variable TOKENIZERS_PARALLELISM=(true | false)\n",
      "Successfully logged out.\n"
     ]
    }
   ],
   "source": [
    "fe = FeatureExtractor(target_month=3, n_purchases=3, perform_split=True, generation_type='categorical', filtering_set='customers', period=60, subperiod=15)\n",
    "X_train, X_test, y_train, y_test = fe.transform(sales=sales, customers=customers)"
   ]
  },
  {
   "cell_type": "markdown",
   "metadata": {},
   "source": [
    "## Default Parameters Performance"
   ]
  },
  {
   "cell_type": "code",
   "execution_count": 18,
   "metadata": {},
   "outputs": [],
   "source": [
    "cat = CatBoostClassifier(\n",
    "    cat_features=[col for col in X_train.columns if 'last_purchase_share' not in col],\n",
    "    random_seed=571,\n",
    "    scale_pos_weight=(y_train==0).sum()/(y_train==1).sum()\n",
    ")"
   ]
  },
  {
   "cell_type": "code",
   "execution_count": 19,
   "metadata": {},
   "outputs": [
    {
     "name": "stdout",
     "output_type": "stream",
     "text": [
      "Learning rate set to 0.038782\n",
      "0:\tlearn: 0.6721945\ttotal: 24.2ms\tremaining: 24.2s\n",
      "1:\tlearn: 0.6523733\ttotal: 48.2ms\tremaining: 24s\n",
      "2:\tlearn: 0.6348838\ttotal: 71.7ms\tremaining: 23.8s\n",
      "3:\tlearn: 0.6183729\ttotal: 92.8ms\tremaining: 23.1s\n",
      "4:\tlearn: 0.6045240\ttotal: 114ms\tremaining: 22.6s\n",
      "5:\tlearn: 0.5909936\ttotal: 134ms\tremaining: 22.2s\n",
      "6:\tlearn: 0.5788511\ttotal: 157ms\tremaining: 22.2s\n",
      "7:\tlearn: 0.5675873\ttotal: 179ms\tremaining: 22.1s\n",
      "8:\tlearn: 0.5575894\ttotal: 200ms\tremaining: 22.1s\n",
      "9:\tlearn: 0.5489920\ttotal: 226ms\tremaining: 22.4s\n",
      "10:\tlearn: 0.5408458\ttotal: 252ms\tremaining: 22.7s\n",
      "11:\tlearn: 0.5339591\ttotal: 267ms\tremaining: 22s\n",
      "12:\tlearn: 0.5271254\ttotal: 289ms\tremaining: 21.9s\n",
      "13:\tlearn: 0.5208985\ttotal: 309ms\tremaining: 21.8s\n",
      "14:\tlearn: 0.5150281\ttotal: 328ms\tremaining: 21.6s\n",
      "15:\tlearn: 0.5097675\ttotal: 351ms\tremaining: 21.6s\n",
      "16:\tlearn: 0.5046205\ttotal: 373ms\tremaining: 21.5s\n",
      "17:\tlearn: 0.5002382\ttotal: 393ms\tremaining: 21.4s\n",
      "18:\tlearn: 0.4965907\ttotal: 411ms\tremaining: 21.2s\n",
      "19:\tlearn: 0.4928890\ttotal: 436ms\tremaining: 21.4s\n",
      "20:\tlearn: 0.4891505\ttotal: 461ms\tremaining: 21.5s\n",
      "21:\tlearn: 0.4854379\ttotal: 482ms\tremaining: 21.4s\n",
      "22:\tlearn: 0.4823431\ttotal: 505ms\tremaining: 21.4s\n",
      "23:\tlearn: 0.4796937\ttotal: 523ms\tremaining: 21.3s\n",
      "24:\tlearn: 0.4770013\ttotal: 546ms\tremaining: 21.3s\n",
      "25:\tlearn: 0.4746591\ttotal: 568ms\tremaining: 21.3s\n",
      "26:\tlearn: 0.4724551\ttotal: 590ms\tremaining: 21.3s\n",
      "27:\tlearn: 0.4704860\ttotal: 611ms\tremaining: 21.2s\n",
      "28:\tlearn: 0.4685962\ttotal: 635ms\tremaining: 21.3s\n",
      "29:\tlearn: 0.4672966\ttotal: 652ms\tremaining: 21.1s\n",
      "30:\tlearn: 0.4657974\ttotal: 676ms\tremaining: 21.1s\n",
      "31:\tlearn: 0.4643200\ttotal: 696ms\tremaining: 21.1s\n",
      "32:\tlearn: 0.4628931\ttotal: 718ms\tremaining: 21s\n",
      "33:\tlearn: 0.4613846\ttotal: 740ms\tremaining: 21s\n",
      "34:\tlearn: 0.4600588\ttotal: 762ms\tremaining: 21s\n",
      "35:\tlearn: 0.4588279\ttotal: 783ms\tremaining: 21s\n",
      "36:\tlearn: 0.4575890\ttotal: 804ms\tremaining: 20.9s\n",
      "37:\tlearn: 0.4562881\ttotal: 824ms\tremaining: 20.9s\n",
      "38:\tlearn: 0.4551666\ttotal: 846ms\tremaining: 20.8s\n",
      "39:\tlearn: 0.4542034\ttotal: 868ms\tremaining: 20.8s\n",
      "40:\tlearn: 0.4532224\ttotal: 890ms\tremaining: 20.8s\n",
      "41:\tlearn: 0.4523509\ttotal: 913ms\tremaining: 20.8s\n",
      "42:\tlearn: 0.4516875\ttotal: 936ms\tremaining: 20.8s\n",
      "43:\tlearn: 0.4509538\ttotal: 957ms\tremaining: 20.8s\n",
      "44:\tlearn: 0.4503476\ttotal: 978ms\tremaining: 20.7s\n",
      "45:\tlearn: 0.4497353\ttotal: 1s\tremaining: 20.7s\n",
      "46:\tlearn: 0.4491487\ttotal: 1.02s\tremaining: 20.7s\n",
      "47:\tlearn: 0.4485172\ttotal: 1.04s\tremaining: 20.7s\n",
      "48:\tlearn: 0.4479081\ttotal: 1.07s\tremaining: 20.7s\n",
      "49:\tlearn: 0.4473242\ttotal: 1.09s\tremaining: 20.7s\n",
      "50:\tlearn: 0.4467305\ttotal: 1.11s\tremaining: 20.7s\n",
      "51:\tlearn: 0.4463062\ttotal: 1.13s\tremaining: 20.7s\n",
      "52:\tlearn: 0.4458985\ttotal: 1.15s\tremaining: 20.6s\n",
      "53:\tlearn: 0.4454235\ttotal: 1.17s\tremaining: 20.6s\n",
      "54:\tlearn: 0.4450596\ttotal: 1.19s\tremaining: 20.5s\n",
      "55:\tlearn: 0.4447752\ttotal: 1.21s\tremaining: 20.5s\n",
      "56:\tlearn: 0.4444022\ttotal: 1.24s\tremaining: 20.4s\n",
      "57:\tlearn: 0.4442466\ttotal: 1.25s\tremaining: 20.2s\n",
      "58:\tlearn: 0.4438495\ttotal: 1.26s\tremaining: 20.2s\n",
      "59:\tlearn: 0.4435492\ttotal: 1.29s\tremaining: 20.2s\n",
      "60:\tlearn: 0.4433457\ttotal: 1.31s\tremaining: 20.2s\n",
      "61:\tlearn: 0.4431468\ttotal: 1.33s\tremaining: 20.2s\n",
      "62:\tlearn: 0.4428930\ttotal: 1.35s\tremaining: 20.2s\n",
      "63:\tlearn: 0.4426343\ttotal: 1.38s\tremaining: 20.1s\n",
      "64:\tlearn: 0.4422593\ttotal: 1.4s\tremaining: 20.1s\n",
      "65:\tlearn: 0.4419703\ttotal: 1.42s\tremaining: 20.1s\n",
      "66:\tlearn: 0.4417242\ttotal: 1.44s\tremaining: 20s\n",
      "67:\tlearn: 0.4414532\ttotal: 1.46s\tremaining: 20s\n",
      "68:\tlearn: 0.4413062\ttotal: 1.47s\tremaining: 19.8s\n",
      "69:\tlearn: 0.4410422\ttotal: 1.49s\tremaining: 19.8s\n",
      "70:\tlearn: 0.4407445\ttotal: 1.51s\tremaining: 19.8s\n",
      "71:\tlearn: 0.4406130\ttotal: 1.53s\tremaining: 19.8s\n",
      "72:\tlearn: 0.4404067\ttotal: 1.56s\tremaining: 19.8s\n",
      "73:\tlearn: 0.4401771\ttotal: 1.58s\tremaining: 19.8s\n",
      "74:\tlearn: 0.4399514\ttotal: 1.6s\tremaining: 19.8s\n",
      "75:\tlearn: 0.4398228\ttotal: 1.62s\tremaining: 19.7s\n",
      "76:\tlearn: 0.4396540\ttotal: 1.64s\tremaining: 19.7s\n",
      "77:\tlearn: 0.4394504\ttotal: 1.66s\tremaining: 19.7s\n",
      "78:\tlearn: 0.4393083\ttotal: 1.68s\tremaining: 19.6s\n",
      "79:\tlearn: 0.4391408\ttotal: 1.71s\tremaining: 19.6s\n",
      "80:\tlearn: 0.4390774\ttotal: 1.73s\tremaining: 19.6s\n",
      "81:\tlearn: 0.4389175\ttotal: 1.76s\tremaining: 19.7s\n",
      "82:\tlearn: 0.4387753\ttotal: 1.81s\tremaining: 20s\n",
      "83:\tlearn: 0.4387011\ttotal: 1.83s\tremaining: 20s\n",
      "84:\tlearn: 0.4385268\ttotal: 1.86s\tremaining: 20s\n",
      "85:\tlearn: 0.4384345\ttotal: 1.89s\tremaining: 20.1s\n",
      "86:\tlearn: 0.4382821\ttotal: 1.91s\tremaining: 20.1s\n",
      "87:\tlearn: 0.4381299\ttotal: 1.94s\tremaining: 20.1s\n",
      "88:\tlearn: 0.4379637\ttotal: 1.97s\tremaining: 20.2s\n",
      "89:\tlearn: 0.4378839\ttotal: 2s\tremaining: 20.2s\n",
      "90:\tlearn: 0.4378736\ttotal: 2s\tremaining: 20s\n",
      "91:\tlearn: 0.4378090\ttotal: 2.03s\tremaining: 20s\n",
      "92:\tlearn: 0.4376385\ttotal: 2.05s\tremaining: 20s\n",
      "93:\tlearn: 0.4374602\ttotal: 2.08s\tremaining: 20s\n",
      "94:\tlearn: 0.4373589\ttotal: 2.11s\tremaining: 20.1s\n",
      "95:\tlearn: 0.4372601\ttotal: 2.13s\tremaining: 20.1s\n",
      "96:\tlearn: 0.4371473\ttotal: 2.17s\tremaining: 20.2s\n",
      "97:\tlearn: 0.4370684\ttotal: 2.23s\tremaining: 20.5s\n",
      "98:\tlearn: 0.4369854\ttotal: 2.31s\tremaining: 21.1s\n",
      "99:\tlearn: 0.4368416\ttotal: 2.35s\tremaining: 21.1s\n",
      "100:\tlearn: 0.4367568\ttotal: 2.37s\tremaining: 21.1s\n",
      "101:\tlearn: 0.4365962\ttotal: 2.39s\tremaining: 21.1s\n",
      "102:\tlearn: 0.4364179\ttotal: 2.42s\tremaining: 21s\n",
      "103:\tlearn: 0.4363533\ttotal: 2.44s\tremaining: 21.1s\n",
      "104:\tlearn: 0.4362875\ttotal: 2.47s\tremaining: 21.1s\n",
      "105:\tlearn: 0.4361653\ttotal: 2.52s\tremaining: 21.3s\n",
      "106:\tlearn: 0.4361064\ttotal: 2.56s\tremaining: 21.3s\n",
      "107:\tlearn: 0.4360068\ttotal: 2.58s\tremaining: 21.3s\n",
      "108:\tlearn: 0.4359003\ttotal: 2.61s\tremaining: 21.3s\n",
      "109:\tlearn: 0.4358576\ttotal: 2.63s\tremaining: 21.3s\n",
      "110:\tlearn: 0.4357434\ttotal: 2.65s\tremaining: 21.2s\n",
      "111:\tlearn: 0.4356576\ttotal: 2.67s\tremaining: 21.2s\n",
      "112:\tlearn: 0.4355891\ttotal: 2.69s\tremaining: 21.1s\n",
      "113:\tlearn: 0.4354888\ttotal: 2.72s\tremaining: 21.1s\n",
      "114:\tlearn: 0.4353472\ttotal: 2.74s\tremaining: 21.1s\n",
      "115:\tlearn: 0.4352231\ttotal: 2.77s\tremaining: 21.1s\n",
      "116:\tlearn: 0.4351210\ttotal: 2.79s\tremaining: 21.1s\n",
      "117:\tlearn: 0.4350090\ttotal: 2.82s\tremaining: 21.1s\n",
      "118:\tlearn: 0.4349691\ttotal: 2.84s\tremaining: 21.1s\n",
      "119:\tlearn: 0.4349118\ttotal: 2.87s\tremaining: 21s\n",
      "120:\tlearn: 0.4347750\ttotal: 2.89s\tremaining: 21s\n",
      "121:\tlearn: 0.4346960\ttotal: 2.91s\tremaining: 21s\n",
      "122:\tlearn: 0.4346938\ttotal: 2.92s\tremaining: 20.8s\n",
      "123:\tlearn: 0.4346281\ttotal: 2.94s\tremaining: 20.8s\n",
      "124:\tlearn: 0.4345627\ttotal: 2.97s\tremaining: 20.8s\n",
      "125:\tlearn: 0.4345236\ttotal: 3s\tremaining: 20.8s\n",
      "126:\tlearn: 0.4344511\ttotal: 3.02s\tremaining: 20.8s\n",
      "127:\tlearn: 0.4343624\ttotal: 3.05s\tremaining: 20.8s\n",
      "128:\tlearn: 0.4342449\ttotal: 3.07s\tremaining: 20.7s\n",
      "129:\tlearn: 0.4341995\ttotal: 3.1s\tremaining: 20.7s\n",
      "130:\tlearn: 0.4341435\ttotal: 3.12s\tremaining: 20.7s\n",
      "131:\tlearn: 0.4340984\ttotal: 3.15s\tremaining: 20.7s\n",
      "132:\tlearn: 0.4339565\ttotal: 3.18s\tremaining: 20.7s\n",
      "133:\tlearn: 0.4339423\ttotal: 3.2s\tremaining: 20.7s\n",
      "134:\tlearn: 0.4338834\ttotal: 3.24s\tremaining: 20.8s\n",
      "135:\tlearn: 0.4338231\ttotal: 3.27s\tremaining: 20.8s\n",
      "136:\tlearn: 0.4337393\ttotal: 3.29s\tremaining: 20.7s\n",
      "137:\tlearn: 0.4336923\ttotal: 3.31s\tremaining: 20.7s\n",
      "138:\tlearn: 0.4336399\ttotal: 3.33s\tremaining: 20.6s\n",
      "139:\tlearn: 0.4336062\ttotal: 3.36s\tremaining: 20.6s\n",
      "140:\tlearn: 0.4334977\ttotal: 3.38s\tremaining: 20.6s\n",
      "141:\tlearn: 0.4334097\ttotal: 3.4s\tremaining: 20.6s\n",
      "142:\tlearn: 0.4333512\ttotal: 3.43s\tremaining: 20.5s\n",
      "143:\tlearn: 0.4332990\ttotal: 3.45s\tremaining: 20.5s\n",
      "144:\tlearn: 0.4331906\ttotal: 3.47s\tremaining: 20.5s\n",
      "145:\tlearn: 0.4331268\ttotal: 3.49s\tremaining: 20.4s\n",
      "146:\tlearn: 0.4330711\ttotal: 3.52s\tremaining: 20.4s\n",
      "147:\tlearn: 0.4330105\ttotal: 3.54s\tremaining: 20.4s\n",
      "148:\tlearn: 0.4329001\ttotal: 3.56s\tremaining: 20.4s\n",
      "149:\tlearn: 0.4328238\ttotal: 3.59s\tremaining: 20.3s\n",
      "150:\tlearn: 0.4327675\ttotal: 3.61s\tremaining: 20.3s\n",
      "151:\tlearn: 0.4327149\ttotal: 3.63s\tremaining: 20.3s\n",
      "152:\tlearn: 0.4326474\ttotal: 3.66s\tremaining: 20.2s\n",
      "153:\tlearn: 0.4325841\ttotal: 3.68s\tremaining: 20.2s\n",
      "154:\tlearn: 0.4325637\ttotal: 3.7s\tremaining: 20.2s\n",
      "155:\tlearn: 0.4325400\ttotal: 3.73s\tremaining: 20.2s\n",
      "156:\tlearn: 0.4324621\ttotal: 3.75s\tremaining: 20.1s\n",
      "157:\tlearn: 0.4323550\ttotal: 3.78s\tremaining: 20.1s\n",
      "158:\tlearn: 0.4322447\ttotal: 3.8s\tremaining: 20.1s\n",
      "159:\tlearn: 0.4322358\ttotal: 3.82s\tremaining: 20s\n",
      "160:\tlearn: 0.4322172\ttotal: 3.84s\tremaining: 20s\n",
      "161:\tlearn: 0.4321958\ttotal: 3.87s\tremaining: 20s\n",
      "162:\tlearn: 0.4321239\ttotal: 3.89s\tremaining: 20s\n",
      "163:\tlearn: 0.4319789\ttotal: 3.91s\tremaining: 19.9s\n",
      "164:\tlearn: 0.4319367\ttotal: 3.94s\tremaining: 19.9s\n",
      "165:\tlearn: 0.4318859\ttotal: 3.95s\tremaining: 19.9s\n",
      "166:\tlearn: 0.4317951\ttotal: 3.98s\tremaining: 19.8s\n",
      "167:\tlearn: 0.4316951\ttotal: 4s\tremaining: 19.8s\n",
      "168:\tlearn: 0.4316163\ttotal: 4.02s\tremaining: 19.8s\n",
      "169:\tlearn: 0.4315179\ttotal: 4.04s\tremaining: 19.7s\n",
      "170:\tlearn: 0.4315144\ttotal: 4.05s\tremaining: 19.7s\n",
      "171:\tlearn: 0.4314681\ttotal: 4.08s\tremaining: 19.6s\n",
      "172:\tlearn: 0.4314488\ttotal: 4.1s\tremaining: 19.6s\n",
      "173:\tlearn: 0.4314144\ttotal: 4.12s\tremaining: 19.6s\n",
      "174:\tlearn: 0.4313931\ttotal: 4.14s\tremaining: 19.5s\n",
      "175:\tlearn: 0.4313878\ttotal: 4.15s\tremaining: 19.5s\n",
      "176:\tlearn: 0.4312530\ttotal: 4.18s\tremaining: 19.4s\n",
      "177:\tlearn: 0.4312523\ttotal: 4.19s\tremaining: 19.3s\n",
      "178:\tlearn: 0.4311802\ttotal: 4.21s\tremaining: 19.3s\n",
      "179:\tlearn: 0.4310792\ttotal: 4.23s\tremaining: 19.3s\n",
      "180:\tlearn: 0.4310176\ttotal: 4.25s\tremaining: 19.3s\n",
      "181:\tlearn: 0.4309852\ttotal: 4.28s\tremaining: 19.2s\n",
      "182:\tlearn: 0.4309401\ttotal: 4.3s\tremaining: 19.2s\n",
      "183:\tlearn: 0.4308729\ttotal: 4.32s\tremaining: 19.2s\n",
      "184:\tlearn: 0.4307536\ttotal: 4.34s\tremaining: 19.1s\n",
      "185:\tlearn: 0.4307227\ttotal: 4.36s\tremaining: 19.1s\n",
      "186:\tlearn: 0.4306112\ttotal: 4.39s\tremaining: 19.1s\n",
      "187:\tlearn: 0.4305810\ttotal: 4.42s\tremaining: 19.1s\n",
      "188:\tlearn: 0.4304909\ttotal: 4.44s\tremaining: 19.1s\n",
      "189:\tlearn: 0.4304656\ttotal: 4.46s\tremaining: 19s\n",
      "190:\tlearn: 0.4304321\ttotal: 4.49s\tremaining: 19s\n",
      "191:\tlearn: 0.4303860\ttotal: 4.51s\tremaining: 19s\n",
      "192:\tlearn: 0.4302932\ttotal: 4.53s\tremaining: 18.9s\n",
      "193:\tlearn: 0.4302214\ttotal: 4.55s\tremaining: 18.9s\n",
      "194:\tlearn: 0.4300903\ttotal: 4.57s\tremaining: 18.9s\n",
      "195:\tlearn: 0.4300164\ttotal: 4.59s\tremaining: 18.9s\n",
      "196:\tlearn: 0.4299751\ttotal: 4.62s\tremaining: 18.8s\n",
      "197:\tlearn: 0.4299361\ttotal: 4.64s\tremaining: 18.8s\n",
      "198:\tlearn: 0.4298461\ttotal: 4.66s\tremaining: 18.8s\n",
      "199:\tlearn: 0.4298350\ttotal: 4.68s\tremaining: 18.7s\n",
      "200:\tlearn: 0.4297889\ttotal: 4.7s\tremaining: 18.7s\n",
      "201:\tlearn: 0.4297055\ttotal: 4.72s\tremaining: 18.7s\n",
      "202:\tlearn: 0.4296774\ttotal: 4.75s\tremaining: 18.6s\n",
      "203:\tlearn: 0.4296143\ttotal: 4.76s\tremaining: 18.6s\n",
      "204:\tlearn: 0.4296143\ttotal: 4.77s\tremaining: 18.5s\n",
      "205:\tlearn: 0.4296054\ttotal: 4.79s\tremaining: 18.5s\n",
      "206:\tlearn: 0.4295261\ttotal: 4.81s\tremaining: 18.4s\n",
      "207:\tlearn: 0.4295258\ttotal: 4.82s\tremaining: 18.4s\n",
      "208:\tlearn: 0.4294867\ttotal: 4.84s\tremaining: 18.3s\n",
      "209:\tlearn: 0.4294255\ttotal: 4.87s\tremaining: 18.3s\n",
      "210:\tlearn: 0.4293875\ttotal: 4.89s\tremaining: 18.3s\n",
      "211:\tlearn: 0.4292874\ttotal: 4.92s\tremaining: 18.3s\n",
      "212:\tlearn: 0.4292259\ttotal: 4.94s\tremaining: 18.2s\n",
      "213:\tlearn: 0.4290915\ttotal: 4.96s\tremaining: 18.2s\n",
      "214:\tlearn: 0.4290115\ttotal: 4.99s\tremaining: 18.2s\n",
      "215:\tlearn: 0.4289435\ttotal: 5.01s\tremaining: 18.2s\n",
      "216:\tlearn: 0.4288794\ttotal: 5.03s\tremaining: 18.2s\n",
      "217:\tlearn: 0.4288749\ttotal: 5.04s\tremaining: 18.1s\n",
      "218:\tlearn: 0.4288467\ttotal: 5.05s\tremaining: 18s\n",
      "219:\tlearn: 0.4287553\ttotal: 5.08s\tremaining: 18s\n",
      "220:\tlearn: 0.4286355\ttotal: 5.1s\tremaining: 18s\n",
      "221:\tlearn: 0.4285829\ttotal: 5.12s\tremaining: 18s\n",
      "222:\tlearn: 0.4284845\ttotal: 5.14s\tremaining: 17.9s\n",
      "223:\tlearn: 0.4284326\ttotal: 5.17s\tremaining: 17.9s\n",
      "224:\tlearn: 0.4284029\ttotal: 5.19s\tremaining: 17.9s\n",
      "225:\tlearn: 0.4283582\ttotal: 5.21s\tremaining: 17.8s\n",
      "226:\tlearn: 0.4282793\ttotal: 5.23s\tremaining: 17.8s\n",
      "227:\tlearn: 0.4282211\ttotal: 5.26s\tremaining: 17.8s\n",
      "228:\tlearn: 0.4281815\ttotal: 5.28s\tremaining: 17.8s\n",
      "229:\tlearn: 0.4281143\ttotal: 5.3s\tremaining: 17.8s\n",
      "230:\tlearn: 0.4280509\ttotal: 5.33s\tremaining: 17.7s\n",
      "231:\tlearn: 0.4279957\ttotal: 5.35s\tremaining: 17.7s\n",
      "232:\tlearn: 0.4279957\ttotal: 5.36s\tremaining: 17.6s\n",
      "233:\tlearn: 0.4279525\ttotal: 5.38s\tremaining: 17.6s\n",
      "234:\tlearn: 0.4279428\ttotal: 5.4s\tremaining: 17.6s\n",
      "235:\tlearn: 0.4279221\ttotal: 5.43s\tremaining: 17.6s\n",
      "236:\tlearn: 0.4278871\ttotal: 5.45s\tremaining: 17.5s\n",
      "237:\tlearn: 0.4278871\ttotal: 5.46s\tremaining: 17.5s\n",
      "238:\tlearn: 0.4278064\ttotal: 5.48s\tremaining: 17.4s\n",
      "239:\tlearn: 0.4278013\ttotal: 5.5s\tremaining: 17.4s\n",
      "240:\tlearn: 0.4277831\ttotal: 5.53s\tremaining: 17.4s\n",
      "241:\tlearn: 0.4277119\ttotal: 5.55s\tremaining: 17.4s\n",
      "242:\tlearn: 0.4277059\ttotal: 5.57s\tremaining: 17.3s\n",
      "243:\tlearn: 0.4276755\ttotal: 5.59s\tremaining: 17.3s\n",
      "244:\tlearn: 0.4276140\ttotal: 5.61s\tremaining: 17.3s\n",
      "245:\tlearn: 0.4275961\ttotal: 5.63s\tremaining: 17.3s\n",
      "246:\tlearn: 0.4275733\ttotal: 5.66s\tremaining: 17.2s\n",
      "247:\tlearn: 0.4275118\ttotal: 5.68s\tremaining: 17.2s\n",
      "248:\tlearn: 0.4274750\ttotal: 5.7s\tremaining: 17.2s\n",
      "249:\tlearn: 0.4274096\ttotal: 5.72s\tremaining: 17.2s\n",
      "250:\tlearn: 0.4273713\ttotal: 5.74s\tremaining: 17.1s\n",
      "251:\tlearn: 0.4273009\ttotal: 5.77s\tremaining: 17.1s\n",
      "252:\tlearn: 0.4272543\ttotal: 5.79s\tremaining: 17.1s\n",
      "253:\tlearn: 0.4272135\ttotal: 5.81s\tremaining: 17.1s\n",
      "254:\tlearn: 0.4271624\ttotal: 5.83s\tremaining: 17s\n",
      "255:\tlearn: 0.4271352\ttotal: 5.85s\tremaining: 17s\n",
      "256:\tlearn: 0.4271035\ttotal: 5.87s\tremaining: 17s\n",
      "257:\tlearn: 0.4270465\ttotal: 5.89s\tremaining: 16.9s\n",
      "258:\tlearn: 0.4269015\ttotal: 5.92s\tremaining: 16.9s\n",
      "259:\tlearn: 0.4268783\ttotal: 5.94s\tremaining: 16.9s\n",
      "260:\tlearn: 0.4268783\ttotal: 5.95s\tremaining: 16.8s\n",
      "261:\tlearn: 0.4268551\ttotal: 5.97s\tremaining: 16.8s\n",
      "262:\tlearn: 0.4267735\ttotal: 5.99s\tremaining: 16.8s\n",
      "263:\tlearn: 0.4267090\ttotal: 6.01s\tremaining: 16.8s\n",
      "264:\tlearn: 0.4266873\ttotal: 6.04s\tremaining: 16.7s\n",
      "265:\tlearn: 0.4266395\ttotal: 6.06s\tremaining: 16.7s\n",
      "266:\tlearn: 0.4265784\ttotal: 6.08s\tremaining: 16.7s\n",
      "267:\tlearn: 0.4264602\ttotal: 6.1s\tremaining: 16.7s\n",
      "268:\tlearn: 0.4264262\ttotal: 6.13s\tremaining: 16.6s\n",
      "269:\tlearn: 0.4264247\ttotal: 6.15s\tremaining: 16.6s\n",
      "270:\tlearn: 0.4262933\ttotal: 6.17s\tremaining: 16.6s\n",
      "271:\tlearn: 0.4262681\ttotal: 6.2s\tremaining: 16.6s\n",
      "272:\tlearn: 0.4262583\ttotal: 6.22s\tremaining: 16.6s\n",
      "273:\tlearn: 0.4262558\ttotal: 6.24s\tremaining: 16.5s\n",
      "274:\tlearn: 0.4261628\ttotal: 6.26s\tremaining: 16.5s\n",
      "275:\tlearn: 0.4261089\ttotal: 6.28s\tremaining: 16.5s\n",
      "276:\tlearn: 0.4260755\ttotal: 6.3s\tremaining: 16.5s\n",
      "277:\tlearn: 0.4260608\ttotal: 6.33s\tremaining: 16.4s\n",
      "278:\tlearn: 0.4260588\ttotal: 6.35s\tremaining: 16.4s\n",
      "279:\tlearn: 0.4260500\ttotal: 6.37s\tremaining: 16.4s\n",
      "280:\tlearn: 0.4260217\ttotal: 6.39s\tremaining: 16.4s\n",
      "281:\tlearn: 0.4260043\ttotal: 6.42s\tremaining: 16.3s\n",
      "282:\tlearn: 0.4259787\ttotal: 6.44s\tremaining: 16.3s\n",
      "283:\tlearn: 0.4259090\ttotal: 6.46s\tremaining: 16.3s\n",
      "284:\tlearn: 0.4258963\ttotal: 6.48s\tremaining: 16.3s\n",
      "285:\tlearn: 0.4257994\ttotal: 6.5s\tremaining: 16.2s\n",
      "286:\tlearn: 0.4256828\ttotal: 6.53s\tremaining: 16.2s\n",
      "287:\tlearn: 0.4256773\ttotal: 6.55s\tremaining: 16.2s\n",
      "288:\tlearn: 0.4255998\ttotal: 6.57s\tremaining: 16.2s\n",
      "289:\tlearn: 0.4255416\ttotal: 6.59s\tremaining: 16.1s\n",
      "290:\tlearn: 0.4255045\ttotal: 6.62s\tremaining: 16.1s\n",
      "291:\tlearn: 0.4254358\ttotal: 6.64s\tremaining: 16.1s\n",
      "292:\tlearn: 0.4254160\ttotal: 6.66s\tremaining: 16.1s\n",
      "293:\tlearn: 0.4253658\ttotal: 6.68s\tremaining: 16s\n",
      "294:\tlearn: 0.4253461\ttotal: 6.71s\tremaining: 16s\n",
      "295:\tlearn: 0.4253243\ttotal: 6.73s\tremaining: 16s\n",
      "296:\tlearn: 0.4252505\ttotal: 6.75s\tremaining: 16s\n",
      "297:\tlearn: 0.4251582\ttotal: 6.78s\tremaining: 16s\n",
      "298:\tlearn: 0.4251417\ttotal: 6.8s\tremaining: 15.9s\n",
      "299:\tlearn: 0.4250213\ttotal: 6.83s\tremaining: 15.9s\n",
      "300:\tlearn: 0.4250121\ttotal: 6.85s\tremaining: 15.9s\n",
      "301:\tlearn: 0.4249448\ttotal: 6.87s\tremaining: 15.9s\n",
      "302:\tlearn: 0.4249423\ttotal: 6.89s\tremaining: 15.9s\n",
      "303:\tlearn: 0.4249131\ttotal: 6.92s\tremaining: 15.8s\n",
      "304:\tlearn: 0.4248508\ttotal: 6.94s\tremaining: 15.8s\n",
      "305:\tlearn: 0.4247572\ttotal: 6.96s\tremaining: 15.8s\n",
      "306:\tlearn: 0.4247544\ttotal: 6.99s\tremaining: 15.8s\n",
      "307:\tlearn: 0.4247127\ttotal: 7.01s\tremaining: 15.7s\n",
      "308:\tlearn: 0.4247082\ttotal: 7.03s\tremaining: 15.7s\n",
      "309:\tlearn: 0.4246858\ttotal: 7.05s\tremaining: 15.7s\n",
      "310:\tlearn: 0.4246212\ttotal: 7.08s\tremaining: 15.7s\n",
      "311:\tlearn: 0.4245908\ttotal: 7.1s\tremaining: 15.7s\n",
      "312:\tlearn: 0.4245871\ttotal: 7.12s\tremaining: 15.6s\n",
      "313:\tlearn: 0.4245844\ttotal: 7.14s\tremaining: 15.6s\n",
      "314:\tlearn: 0.4245830\ttotal: 7.16s\tremaining: 15.6s\n",
      "315:\tlearn: 0.4245805\ttotal: 7.19s\tremaining: 15.6s\n",
      "316:\tlearn: 0.4245373\ttotal: 7.21s\tremaining: 15.5s\n",
      "317:\tlearn: 0.4245331\ttotal: 7.23s\tremaining: 15.5s\n",
      "318:\tlearn: 0.4245277\ttotal: 7.25s\tremaining: 15.5s\n",
      "319:\tlearn: 0.4245235\ttotal: 7.28s\tremaining: 15.5s\n",
      "320:\tlearn: 0.4245197\ttotal: 7.3s\tremaining: 15.4s\n",
      "321:\tlearn: 0.4245168\ttotal: 7.32s\tremaining: 15.4s\n",
      "322:\tlearn: 0.4244984\ttotal: 7.34s\tremaining: 15.4s\n",
      "323:\tlearn: 0.4244981\ttotal: 7.37s\tremaining: 15.4s\n",
      "324:\tlearn: 0.4244937\ttotal: 7.39s\tremaining: 15.3s\n",
      "325:\tlearn: 0.4244575\ttotal: 7.41s\tremaining: 15.3s\n",
      "326:\tlearn: 0.4244570\ttotal: 7.44s\tremaining: 15.3s\n",
      "327:\tlearn: 0.4244564\ttotal: 7.46s\tremaining: 15.3s\n",
      "328:\tlearn: 0.4244480\ttotal: 7.48s\tremaining: 15.3s\n",
      "329:\tlearn: 0.4244457\ttotal: 7.5s\tremaining: 15.2s\n",
      "330:\tlearn: 0.4244409\ttotal: 7.52s\tremaining: 15.2s\n",
      "331:\tlearn: 0.4244080\ttotal: 7.55s\tremaining: 15.2s\n",
      "332:\tlearn: 0.4243464\ttotal: 7.57s\tremaining: 15.2s\n",
      "333:\tlearn: 0.4243390\ttotal: 7.59s\tremaining: 15.1s\n",
      "334:\tlearn: 0.4242899\ttotal: 7.61s\tremaining: 15.1s\n",
      "335:\tlearn: 0.4242851\ttotal: 7.64s\tremaining: 15.1s\n",
      "336:\tlearn: 0.4242750\ttotal: 7.66s\tremaining: 15.1s\n",
      "337:\tlearn: 0.4242511\ttotal: 7.68s\tremaining: 15s\n",
      "338:\tlearn: 0.4242403\ttotal: 7.7s\tremaining: 15s\n",
      "339:\tlearn: 0.4241076\ttotal: 7.72s\tremaining: 15s\n",
      "340:\tlearn: 0.4240601\ttotal: 7.75s\tremaining: 15s\n",
      "341:\tlearn: 0.4240574\ttotal: 7.77s\tremaining: 14.9s\n",
      "342:\tlearn: 0.4240465\ttotal: 7.79s\tremaining: 14.9s\n",
      "343:\tlearn: 0.4240432\ttotal: 7.81s\tremaining: 14.9s\n",
      "344:\tlearn: 0.4239666\ttotal: 7.84s\tremaining: 14.9s\n",
      "345:\tlearn: 0.4238735\ttotal: 7.86s\tremaining: 14.9s\n",
      "346:\tlearn: 0.4238698\ttotal: 7.88s\tremaining: 14.8s\n",
      "347:\tlearn: 0.4238671\ttotal: 7.9s\tremaining: 14.8s\n",
      "348:\tlearn: 0.4238059\ttotal: 7.92s\tremaining: 14.8s\n",
      "349:\tlearn: 0.4238015\ttotal: 7.95s\tremaining: 14.8s\n",
      "350:\tlearn: 0.4238003\ttotal: 7.97s\tremaining: 14.7s\n",
      "351:\tlearn: 0.4237298\ttotal: 7.99s\tremaining: 14.7s\n",
      "352:\tlearn: 0.4237277\ttotal: 8.01s\tremaining: 14.7s\n",
      "353:\tlearn: 0.4236897\ttotal: 8.03s\tremaining: 14.7s\n",
      "354:\tlearn: 0.4236137\ttotal: 8.05s\tremaining: 14.6s\n",
      "355:\tlearn: 0.4235509\ttotal: 8.08s\tremaining: 14.6s\n",
      "356:\tlearn: 0.4235238\ttotal: 8.1s\tremaining: 14.6s\n",
      "357:\tlearn: 0.4235224\ttotal: 8.12s\tremaining: 14.6s\n",
      "358:\tlearn: 0.4235160\ttotal: 8.14s\tremaining: 14.5s\n",
      "359:\tlearn: 0.4235151\ttotal: 8.17s\tremaining: 14.5s\n",
      "360:\tlearn: 0.4234624\ttotal: 8.19s\tremaining: 14.5s\n",
      "361:\tlearn: 0.4234595\ttotal: 8.21s\tremaining: 14.5s\n",
      "362:\tlearn: 0.4234207\ttotal: 8.23s\tremaining: 14.4s\n",
      "363:\tlearn: 0.4233895\ttotal: 8.25s\tremaining: 14.4s\n",
      "364:\tlearn: 0.4233412\ttotal: 8.28s\tremaining: 14.4s\n",
      "365:\tlearn: 0.4232937\ttotal: 8.3s\tremaining: 14.4s\n",
      "366:\tlearn: 0.4232902\ttotal: 8.32s\tremaining: 14.4s\n",
      "367:\tlearn: 0.4232043\ttotal: 8.35s\tremaining: 14.3s\n",
      "368:\tlearn: 0.4232008\ttotal: 8.37s\tremaining: 14.3s\n",
      "369:\tlearn: 0.4231680\ttotal: 8.39s\tremaining: 14.3s\n",
      "370:\tlearn: 0.4231631\ttotal: 8.41s\tremaining: 14.3s\n",
      "371:\tlearn: 0.4231622\ttotal: 8.43s\tremaining: 14.2s\n",
      "372:\tlearn: 0.4231603\ttotal: 8.45s\tremaining: 14.2s\n",
      "373:\tlearn: 0.4231490\ttotal: 8.47s\tremaining: 14.2s\n",
      "374:\tlearn: 0.4231444\ttotal: 8.5s\tremaining: 14.2s\n",
      "375:\tlearn: 0.4231402\ttotal: 8.52s\tremaining: 14.1s\n",
      "376:\tlearn: 0.4230967\ttotal: 8.55s\tremaining: 14.1s\n",
      "377:\tlearn: 0.4230633\ttotal: 8.57s\tremaining: 14.1s\n",
      "378:\tlearn: 0.4230423\ttotal: 8.59s\tremaining: 14.1s\n",
      "379:\tlearn: 0.4230301\ttotal: 8.61s\tremaining: 14.1s\n",
      "380:\tlearn: 0.4230272\ttotal: 8.63s\tremaining: 14s\n",
      "381:\tlearn: 0.4230051\ttotal: 8.66s\tremaining: 14s\n",
      "382:\tlearn: 0.4229753\ttotal: 8.68s\tremaining: 14s\n",
      "383:\tlearn: 0.4229514\ttotal: 8.7s\tremaining: 14s\n",
      "384:\tlearn: 0.4229503\ttotal: 8.72s\tremaining: 13.9s\n",
      "385:\tlearn: 0.4229396\ttotal: 8.75s\tremaining: 13.9s\n",
      "386:\tlearn: 0.4229367\ttotal: 8.77s\tremaining: 13.9s\n",
      "387:\tlearn: 0.4229062\ttotal: 8.79s\tremaining: 13.9s\n",
      "388:\tlearn: 0.4229013\ttotal: 8.81s\tremaining: 13.8s\n",
      "389:\tlearn: 0.4228606\ttotal: 8.83s\tremaining: 13.8s\n",
      "390:\tlearn: 0.4228392\ttotal: 8.86s\tremaining: 13.8s\n",
      "391:\tlearn: 0.4228360\ttotal: 8.88s\tremaining: 13.8s\n",
      "392:\tlearn: 0.4227955\ttotal: 8.9s\tremaining: 13.7s\n",
      "393:\tlearn: 0.4227917\ttotal: 8.92s\tremaining: 13.7s\n",
      "394:\tlearn: 0.4227661\ttotal: 8.94s\tremaining: 13.7s\n",
      "395:\tlearn: 0.4227187\ttotal: 8.97s\tremaining: 13.7s\n",
      "396:\tlearn: 0.4227152\ttotal: 8.99s\tremaining: 13.7s\n",
      "397:\tlearn: 0.4226795\ttotal: 9.01s\tremaining: 13.6s\n",
      "398:\tlearn: 0.4226503\ttotal: 9.04s\tremaining: 13.6s\n",
      "399:\tlearn: 0.4226477\ttotal: 9.06s\tremaining: 13.6s\n",
      "400:\tlearn: 0.4226134\ttotal: 9.08s\tremaining: 13.6s\n",
      "401:\tlearn: 0.4226007\ttotal: 9.11s\tremaining: 13.5s\n",
      "402:\tlearn: 0.4225297\ttotal: 9.13s\tremaining: 13.5s\n",
      "403:\tlearn: 0.4225267\ttotal: 9.15s\tremaining: 13.5s\n",
      "404:\tlearn: 0.4224761\ttotal: 9.17s\tremaining: 13.5s\n",
      "405:\tlearn: 0.4224732\ttotal: 9.19s\tremaining: 13.4s\n",
      "406:\tlearn: 0.4224704\ttotal: 9.21s\tremaining: 13.4s\n",
      "407:\tlearn: 0.4224699\ttotal: 9.23s\tremaining: 13.4s\n",
      "408:\tlearn: 0.4224679\ttotal: 9.26s\tremaining: 13.4s\n",
      "409:\tlearn: 0.4224422\ttotal: 9.28s\tremaining: 13.4s\n",
      "410:\tlearn: 0.4224308\ttotal: 9.3s\tremaining: 13.3s\n",
      "411:\tlearn: 0.4223217\ttotal: 9.32s\tremaining: 13.3s\n",
      "412:\tlearn: 0.4223212\ttotal: 9.37s\tremaining: 13.3s\n",
      "413:\tlearn: 0.4223167\ttotal: 9.4s\tremaining: 13.3s\n",
      "414:\tlearn: 0.4222614\ttotal: 9.43s\tremaining: 13.3s\n",
      "415:\tlearn: 0.4221907\ttotal: 9.45s\tremaining: 13.3s\n",
      "416:\tlearn: 0.4221524\ttotal: 9.48s\tremaining: 13.3s\n",
      "417:\tlearn: 0.4221450\ttotal: 9.5s\tremaining: 13.2s\n",
      "418:\tlearn: 0.4221245\ttotal: 9.52s\tremaining: 13.2s\n",
      "419:\tlearn: 0.4221195\ttotal: 9.54s\tremaining: 13.2s\n",
      "420:\tlearn: 0.4220921\ttotal: 9.57s\tremaining: 13.2s\n",
      "421:\tlearn: 0.4220915\ttotal: 9.59s\tremaining: 13.1s\n",
      "422:\tlearn: 0.4220051\ttotal: 9.61s\tremaining: 13.1s\n",
      "423:\tlearn: 0.4219837\ttotal: 9.64s\tremaining: 13.1s\n",
      "424:\tlearn: 0.4219567\ttotal: 9.66s\tremaining: 13.1s\n",
      "425:\tlearn: 0.4219514\ttotal: 9.68s\tremaining: 13s\n",
      "426:\tlearn: 0.4219223\ttotal: 9.7s\tremaining: 13s\n",
      "427:\tlearn: 0.4219218\ttotal: 9.73s\tremaining: 13s\n",
      "428:\tlearn: 0.4218840\ttotal: 9.75s\tremaining: 13s\n",
      "429:\tlearn: 0.4218824\ttotal: 9.77s\tremaining: 13s\n",
      "430:\tlearn: 0.4218820\ttotal: 9.8s\tremaining: 12.9s\n",
      "431:\tlearn: 0.4217789\ttotal: 9.82s\tremaining: 12.9s\n",
      "432:\tlearn: 0.4217618\ttotal: 9.84s\tremaining: 12.9s\n",
      "433:\tlearn: 0.4217610\ttotal: 9.87s\tremaining: 12.9s\n",
      "434:\tlearn: 0.4216846\ttotal: 9.89s\tremaining: 12.8s\n",
      "435:\tlearn: 0.4216326\ttotal: 9.91s\tremaining: 12.8s\n",
      "436:\tlearn: 0.4215964\ttotal: 9.94s\tremaining: 12.8s\n",
      "437:\tlearn: 0.4214964\ttotal: 9.96s\tremaining: 12.8s\n",
      "438:\tlearn: 0.4214891\ttotal: 9.98s\tremaining: 12.8s\n",
      "439:\tlearn: 0.4214474\ttotal: 10s\tremaining: 12.7s\n",
      "440:\tlearn: 0.4213818\ttotal: 10s\tremaining: 12.7s\n",
      "441:\tlearn: 0.4213294\ttotal: 10.1s\tremaining: 12.7s\n",
      "442:\tlearn: 0.4212109\ttotal: 10.1s\tremaining: 12.7s\n",
      "443:\tlearn: 0.4211957\ttotal: 10.1s\tremaining: 12.6s\n",
      "444:\tlearn: 0.4211033\ttotal: 10.1s\tremaining: 12.6s\n",
      "445:\tlearn: 0.4210310\ttotal: 10.1s\tremaining: 12.6s\n",
      "446:\tlearn: 0.4209865\ttotal: 10.2s\tremaining: 12.6s\n",
      "447:\tlearn: 0.4209706\ttotal: 10.2s\tremaining: 12.5s\n",
      "448:\tlearn: 0.4209243\ttotal: 10.2s\tremaining: 12.5s\n",
      "449:\tlearn: 0.4208790\ttotal: 10.2s\tremaining: 12.5s\n",
      "450:\tlearn: 0.4207789\ttotal: 10.3s\tremaining: 12.5s\n",
      "451:\tlearn: 0.4207660\ttotal: 10.3s\tremaining: 12.5s\n",
      "452:\tlearn: 0.4207551\ttotal: 10.3s\tremaining: 12.4s\n",
      "453:\tlearn: 0.4207544\ttotal: 10.3s\tremaining: 12.4s\n",
      "454:\tlearn: 0.4207097\ttotal: 10.3s\tremaining: 12.4s\n",
      "455:\tlearn: 0.4207068\ttotal: 10.4s\tremaining: 12.4s\n",
      "456:\tlearn: 0.4206493\ttotal: 10.4s\tremaining: 12.3s\n",
      "457:\tlearn: 0.4206271\ttotal: 10.4s\tremaining: 12.3s\n",
      "458:\tlearn: 0.4205593\ttotal: 10.4s\tremaining: 12.3s\n",
      "459:\tlearn: 0.4205446\ttotal: 10.5s\tremaining: 12.3s\n",
      "460:\tlearn: 0.4205154\ttotal: 10.5s\tremaining: 12.3s\n",
      "461:\tlearn: 0.4204572\ttotal: 10.5s\tremaining: 12.2s\n",
      "462:\tlearn: 0.4203827\ttotal: 10.5s\tremaining: 12.2s\n",
      "463:\tlearn: 0.4203755\ttotal: 10.6s\tremaining: 12.2s\n",
      "464:\tlearn: 0.4203751\ttotal: 10.6s\tremaining: 12.2s\n",
      "465:\tlearn: 0.4203748\ttotal: 10.6s\tremaining: 12.1s\n",
      "466:\tlearn: 0.4203711\ttotal: 10.6s\tremaining: 12.1s\n",
      "467:\tlearn: 0.4203320\ttotal: 10.6s\tremaining: 12.1s\n",
      "468:\tlearn: 0.4202947\ttotal: 10.7s\tremaining: 12.1s\n",
      "469:\tlearn: 0.4202430\ttotal: 10.7s\tremaining: 12.1s\n",
      "470:\tlearn: 0.4201762\ttotal: 10.7s\tremaining: 12s\n",
      "471:\tlearn: 0.4201079\ttotal: 10.7s\tremaining: 12s\n",
      "472:\tlearn: 0.4200583\ttotal: 10.8s\tremaining: 12s\n",
      "473:\tlearn: 0.4199778\ttotal: 10.8s\tremaining: 12s\n",
      "474:\tlearn: 0.4199630\ttotal: 10.8s\tremaining: 11.9s\n",
      "475:\tlearn: 0.4199602\ttotal: 10.8s\tremaining: 11.9s\n",
      "476:\tlearn: 0.4198642\ttotal: 10.8s\tremaining: 11.9s\n",
      "477:\tlearn: 0.4198640\ttotal: 10.9s\tremaining: 11.9s\n",
      "478:\tlearn: 0.4198169\ttotal: 10.9s\tremaining: 11.8s\n",
      "479:\tlearn: 0.4198092\ttotal: 10.9s\tremaining: 11.8s\n",
      "480:\tlearn: 0.4198032\ttotal: 10.9s\tremaining: 11.8s\n",
      "481:\tlearn: 0.4197312\ttotal: 11s\tremaining: 11.8s\n",
      "482:\tlearn: 0.4197035\ttotal: 11s\tremaining: 11.8s\n",
      "483:\tlearn: 0.4196965\ttotal: 11s\tremaining: 11.7s\n",
      "484:\tlearn: 0.4196518\ttotal: 11s\tremaining: 11.7s\n",
      "485:\tlearn: 0.4196432\ttotal: 11s\tremaining: 11.7s\n",
      "486:\tlearn: 0.4195315\ttotal: 11.1s\tremaining: 11.7s\n",
      "487:\tlearn: 0.4194597\ttotal: 11.1s\tremaining: 11.6s\n",
      "488:\tlearn: 0.4194498\ttotal: 11.1s\tremaining: 11.6s\n",
      "489:\tlearn: 0.4194175\ttotal: 11.1s\tremaining: 11.6s\n",
      "490:\tlearn: 0.4194095\ttotal: 11.2s\tremaining: 11.6s\n",
      "491:\tlearn: 0.4193862\ttotal: 11.2s\tremaining: 11.5s\n",
      "492:\tlearn: 0.4193710\ttotal: 11.2s\tremaining: 11.5s\n",
      "493:\tlearn: 0.4193601\ttotal: 11.2s\tremaining: 11.5s\n",
      "494:\tlearn: 0.4193194\ttotal: 11.2s\tremaining: 11.5s\n",
      "495:\tlearn: 0.4192834\ttotal: 11.3s\tremaining: 11.4s\n",
      "496:\tlearn: 0.4192767\ttotal: 11.3s\tremaining: 11.4s\n",
      "497:\tlearn: 0.4192059\ttotal: 11.3s\tremaining: 11.4s\n",
      "498:\tlearn: 0.4191938\ttotal: 11.3s\tremaining: 11.4s\n",
      "499:\tlearn: 0.4191935\ttotal: 11.4s\tremaining: 11.4s\n",
      "500:\tlearn: 0.4191277\ttotal: 11.4s\tremaining: 11.3s\n",
      "501:\tlearn: 0.4190602\ttotal: 11.4s\tremaining: 11.3s\n",
      "502:\tlearn: 0.4189981\ttotal: 11.4s\tremaining: 11.3s\n",
      "503:\tlearn: 0.4189978\ttotal: 11.5s\tremaining: 11.3s\n",
      "504:\tlearn: 0.4189951\ttotal: 11.5s\tremaining: 11.2s\n",
      "505:\tlearn: 0.4189434\ttotal: 11.5s\tremaining: 11.2s\n",
      "506:\tlearn: 0.4189325\ttotal: 11.5s\tremaining: 11.2s\n",
      "507:\tlearn: 0.4188736\ttotal: 11.5s\tremaining: 11.2s\n",
      "508:\tlearn: 0.4187226\ttotal: 11.6s\tremaining: 11.2s\n",
      "509:\tlearn: 0.4186198\ttotal: 11.6s\tremaining: 11.1s\n",
      "510:\tlearn: 0.4185834\ttotal: 11.6s\tremaining: 11.1s\n",
      "511:\tlearn: 0.4185720\ttotal: 11.6s\tremaining: 11.1s\n",
      "512:\tlearn: 0.4185654\ttotal: 11.7s\tremaining: 11.1s\n",
      "513:\tlearn: 0.4185173\ttotal: 11.7s\tremaining: 11s\n",
      "514:\tlearn: 0.4185071\ttotal: 11.7s\tremaining: 11s\n",
      "515:\tlearn: 0.4184828\ttotal: 11.7s\tremaining: 11s\n",
      "516:\tlearn: 0.4184582\ttotal: 11.7s\tremaining: 11s\n",
      "517:\tlearn: 0.4184071\ttotal: 11.8s\tremaining: 11s\n",
      "518:\tlearn: 0.4184020\ttotal: 11.8s\tremaining: 10.9s\n",
      "519:\tlearn: 0.4183518\ttotal: 11.8s\tremaining: 10.9s\n",
      "520:\tlearn: 0.4182716\ttotal: 11.8s\tremaining: 10.9s\n",
      "521:\tlearn: 0.4182552\ttotal: 11.9s\tremaining: 10.9s\n",
      "522:\tlearn: 0.4182512\ttotal: 11.9s\tremaining: 10.8s\n",
      "523:\tlearn: 0.4181868\ttotal: 11.9s\tremaining: 10.8s\n",
      "524:\tlearn: 0.4181155\ttotal: 11.9s\tremaining: 10.8s\n",
      "525:\tlearn: 0.4180576\ttotal: 12s\tremaining: 10.8s\n",
      "526:\tlearn: 0.4180499\ttotal: 12s\tremaining: 10.8s\n",
      "527:\tlearn: 0.4180105\ttotal: 12s\tremaining: 10.8s\n",
      "528:\tlearn: 0.4180103\ttotal: 12.1s\tremaining: 10.7s\n",
      "529:\tlearn: 0.4180053\ttotal: 12.1s\tremaining: 10.7s\n",
      "530:\tlearn: 0.4179538\ttotal: 12.1s\tremaining: 10.7s\n",
      "531:\tlearn: 0.4179281\ttotal: 12.1s\tremaining: 10.7s\n",
      "532:\tlearn: 0.4178723\ttotal: 12.1s\tremaining: 10.6s\n",
      "533:\tlearn: 0.4177968\ttotal: 12.2s\tremaining: 10.6s\n",
      "534:\tlearn: 0.4177608\ttotal: 12.2s\tremaining: 10.6s\n",
      "535:\tlearn: 0.4177596\ttotal: 12.2s\tremaining: 10.6s\n",
      "536:\tlearn: 0.4176892\ttotal: 12.2s\tremaining: 10.6s\n",
      "537:\tlearn: 0.4176831\ttotal: 12.3s\tremaining: 10.5s\n",
      "538:\tlearn: 0.4176716\ttotal: 12.3s\tremaining: 10.5s\n",
      "539:\tlearn: 0.4176257\ttotal: 12.3s\tremaining: 10.5s\n",
      "540:\tlearn: 0.4175562\ttotal: 12.3s\tremaining: 10.5s\n",
      "541:\tlearn: 0.4175436\ttotal: 12.4s\tremaining: 10.4s\n",
      "542:\tlearn: 0.4175422\ttotal: 12.4s\tremaining: 10.4s\n",
      "543:\tlearn: 0.4175344\ttotal: 12.4s\tremaining: 10.4s\n",
      "544:\tlearn: 0.4175256\ttotal: 12.4s\tremaining: 10.4s\n",
      "545:\tlearn: 0.4175233\ttotal: 12.4s\tremaining: 10.3s\n",
      "546:\tlearn: 0.4175141\ttotal: 12.5s\tremaining: 10.3s\n",
      "547:\tlearn: 0.4174929\ttotal: 12.5s\tremaining: 10.3s\n",
      "548:\tlearn: 0.4174851\ttotal: 12.5s\tremaining: 10.3s\n",
      "549:\tlearn: 0.4174813\ttotal: 12.5s\tremaining: 10.3s\n",
      "550:\tlearn: 0.4174802\ttotal: 12.6s\tremaining: 10.2s\n",
      "551:\tlearn: 0.4174799\ttotal: 12.6s\tremaining: 10.2s\n",
      "552:\tlearn: 0.4174097\ttotal: 12.6s\tremaining: 10.2s\n",
      "553:\tlearn: 0.4174083\ttotal: 12.6s\tremaining: 10.2s\n",
      "554:\tlearn: 0.4173597\ttotal: 12.6s\tremaining: 10.1s\n",
      "555:\tlearn: 0.4173584\ttotal: 12.7s\tremaining: 10.1s\n",
      "556:\tlearn: 0.4173108\ttotal: 12.7s\tremaining: 10.1s\n",
      "557:\tlearn: 0.4172002\ttotal: 12.7s\tremaining: 10.1s\n",
      "558:\tlearn: 0.4171666\ttotal: 12.7s\tremaining: 10.1s\n",
      "559:\tlearn: 0.4171540\ttotal: 12.8s\tremaining: 10s\n",
      "560:\tlearn: 0.4170622\ttotal: 12.8s\tremaining: 10s\n",
      "561:\tlearn: 0.4170491\ttotal: 12.8s\tremaining: 9.99s\n",
      "562:\tlearn: 0.4170355\ttotal: 12.8s\tremaining: 9.96s\n",
      "563:\tlearn: 0.4169801\ttotal: 12.9s\tremaining: 9.94s\n",
      "564:\tlearn: 0.4169617\ttotal: 12.9s\tremaining: 9.92s\n",
      "565:\tlearn: 0.4169588\ttotal: 12.9s\tremaining: 9.9s\n",
      "566:\tlearn: 0.4169340\ttotal: 12.9s\tremaining: 9.87s\n",
      "567:\tlearn: 0.4169179\ttotal: 13s\tremaining: 9.85s\n",
      "568:\tlearn: 0.4168924\ttotal: 13s\tremaining: 9.83s\n",
      "569:\tlearn: 0.4168924\ttotal: 13s\tremaining: 9.8s\n",
      "570:\tlearn: 0.4168591\ttotal: 13s\tremaining: 9.79s\n",
      "571:\tlearn: 0.4168333\ttotal: 13s\tremaining: 9.76s\n",
      "572:\tlearn: 0.4168008\ttotal: 13.1s\tremaining: 9.74s\n",
      "573:\tlearn: 0.4167460\ttotal: 13.1s\tremaining: 9.72s\n",
      "574:\tlearn: 0.4167447\ttotal: 13.1s\tremaining: 9.69s\n",
      "575:\tlearn: 0.4167390\ttotal: 13.1s\tremaining: 9.67s\n",
      "576:\tlearn: 0.4166821\ttotal: 13.2s\tremaining: 9.65s\n",
      "577:\tlearn: 0.4166358\ttotal: 13.2s\tremaining: 9.63s\n",
      "578:\tlearn: 0.4165999\ttotal: 13.2s\tremaining: 9.61s\n",
      "579:\tlearn: 0.4165131\ttotal: 13.2s\tremaining: 9.58s\n",
      "580:\tlearn: 0.4165101\ttotal: 13.3s\tremaining: 9.56s\n",
      "581:\tlearn: 0.4164436\ttotal: 13.3s\tremaining: 9.54s\n",
      "582:\tlearn: 0.4163935\ttotal: 13.3s\tremaining: 9.52s\n",
      "583:\tlearn: 0.4163885\ttotal: 13.3s\tremaining: 9.49s\n",
      "584:\tlearn: 0.4163883\ttotal: 13.3s\tremaining: 9.47s\n",
      "585:\tlearn: 0.4163538\ttotal: 13.4s\tremaining: 9.45s\n",
      "586:\tlearn: 0.4162817\ttotal: 13.4s\tremaining: 9.42s\n",
      "587:\tlearn: 0.4162727\ttotal: 13.4s\tremaining: 9.4s\n",
      "588:\tlearn: 0.4161969\ttotal: 13.4s\tremaining: 9.38s\n",
      "589:\tlearn: 0.4161519\ttotal: 13.5s\tremaining: 9.35s\n",
      "590:\tlearn: 0.4160840\ttotal: 13.5s\tremaining: 9.33s\n",
      "591:\tlearn: 0.4159980\ttotal: 13.5s\tremaining: 9.31s\n",
      "592:\tlearn: 0.4159938\ttotal: 13.5s\tremaining: 9.29s\n",
      "593:\tlearn: 0.4159762\ttotal: 13.6s\tremaining: 9.26s\n",
      "594:\tlearn: 0.4159218\ttotal: 13.6s\tremaining: 9.24s\n",
      "595:\tlearn: 0.4159196\ttotal: 13.6s\tremaining: 9.22s\n",
      "596:\tlearn: 0.4158796\ttotal: 13.6s\tremaining: 9.2s\n",
      "597:\tlearn: 0.4158459\ttotal: 13.6s\tremaining: 9.18s\n",
      "598:\tlearn: 0.4158205\ttotal: 13.7s\tremaining: 9.15s\n",
      "599:\tlearn: 0.4158097\ttotal: 13.7s\tremaining: 9.13s\n",
      "600:\tlearn: 0.4157535\ttotal: 13.7s\tremaining: 9.1s\n",
      "601:\tlearn: 0.4157195\ttotal: 13.7s\tremaining: 9.08s\n",
      "602:\tlearn: 0.4157193\ttotal: 13.8s\tremaining: 9.06s\n",
      "603:\tlearn: 0.4156464\ttotal: 13.8s\tremaining: 9.04s\n",
      "604:\tlearn: 0.4156443\ttotal: 13.8s\tremaining: 9.01s\n",
      "605:\tlearn: 0.4156091\ttotal: 13.8s\tremaining: 8.99s\n",
      "606:\tlearn: 0.4156089\ttotal: 13.9s\tremaining: 8.97s\n",
      "607:\tlearn: 0.4155687\ttotal: 13.9s\tremaining: 8.95s\n",
      "608:\tlearn: 0.4155396\ttotal: 13.9s\tremaining: 8.93s\n",
      "609:\tlearn: 0.4155308\ttotal: 13.9s\tremaining: 8.9s\n",
      "610:\tlearn: 0.4155049\ttotal: 13.9s\tremaining: 8.88s\n",
      "611:\tlearn: 0.4154612\ttotal: 14s\tremaining: 8.86s\n",
      "612:\tlearn: 0.4153890\ttotal: 14s\tremaining: 8.84s\n",
      "613:\tlearn: 0.4153888\ttotal: 14s\tremaining: 8.81s\n",
      "614:\tlearn: 0.4153887\ttotal: 14s\tremaining: 8.79s\n",
      "615:\tlearn: 0.4153386\ttotal: 14.1s\tremaining: 8.77s\n",
      "616:\tlearn: 0.4153181\ttotal: 14.1s\tremaining: 8.74s\n",
      "617:\tlearn: 0.4152739\ttotal: 14.1s\tremaining: 8.72s\n",
      "618:\tlearn: 0.4152604\ttotal: 14.1s\tremaining: 8.7s\n",
      "619:\tlearn: 0.4152432\ttotal: 14.2s\tremaining: 8.68s\n",
      "620:\tlearn: 0.4151701\ttotal: 14.2s\tremaining: 8.66s\n",
      "621:\tlearn: 0.4151483\ttotal: 14.2s\tremaining: 8.63s\n",
      "622:\tlearn: 0.4150523\ttotal: 14.2s\tremaining: 8.61s\n",
      "623:\tlearn: 0.4150109\ttotal: 14.3s\tremaining: 8.59s\n",
      "624:\tlearn: 0.4149252\ttotal: 14.3s\tremaining: 8.57s\n",
      "625:\tlearn: 0.4148670\ttotal: 14.3s\tremaining: 8.54s\n",
      "626:\tlearn: 0.4148669\ttotal: 14.3s\tremaining: 8.52s\n",
      "627:\tlearn: 0.4148470\ttotal: 14.3s\tremaining: 8.5s\n",
      "628:\tlearn: 0.4148007\ttotal: 14.4s\tremaining: 8.48s\n",
      "629:\tlearn: 0.4147987\ttotal: 14.4s\tremaining: 8.45s\n",
      "630:\tlearn: 0.4147384\ttotal: 14.4s\tremaining: 8.43s\n",
      "631:\tlearn: 0.4147189\ttotal: 14.4s\tremaining: 8.41s\n",
      "632:\tlearn: 0.4147135\ttotal: 14.5s\tremaining: 8.38s\n",
      "633:\tlearn: 0.4146803\ttotal: 14.5s\tremaining: 8.36s\n",
      "634:\tlearn: 0.4146384\ttotal: 14.5s\tremaining: 8.34s\n",
      "635:\tlearn: 0.4146249\ttotal: 14.5s\tremaining: 8.32s\n",
      "636:\tlearn: 0.4145558\ttotal: 14.6s\tremaining: 8.29s\n",
      "637:\tlearn: 0.4145151\ttotal: 14.6s\tremaining: 8.27s\n",
      "638:\tlearn: 0.4144550\ttotal: 14.6s\tremaining: 8.25s\n",
      "639:\tlearn: 0.4144011\ttotal: 14.6s\tremaining: 8.23s\n",
      "640:\tlearn: 0.4143382\ttotal: 14.6s\tremaining: 8.2s\n",
      "641:\tlearn: 0.4142803\ttotal: 14.7s\tremaining: 8.18s\n",
      "642:\tlearn: 0.4142573\ttotal: 14.7s\tremaining: 8.16s\n",
      "643:\tlearn: 0.4142341\ttotal: 14.7s\tremaining: 8.13s\n",
      "644:\tlearn: 0.4142001\ttotal: 14.7s\tremaining: 8.11s\n",
      "645:\tlearn: 0.4141735\ttotal: 14.8s\tremaining: 8.09s\n",
      "646:\tlearn: 0.4140379\ttotal: 14.8s\tremaining: 8.06s\n",
      "647:\tlearn: 0.4140343\ttotal: 14.8s\tremaining: 8.04s\n",
      "648:\tlearn: 0.4140061\ttotal: 14.8s\tremaining: 8.02s\n",
      "649:\tlearn: 0.4139749\ttotal: 14.9s\tremaining: 8s\n",
      "650:\tlearn: 0.4139509\ttotal: 14.9s\tremaining: 7.98s\n",
      "651:\tlearn: 0.4139072\ttotal: 14.9s\tremaining: 7.95s\n",
      "652:\tlearn: 0.4138067\ttotal: 14.9s\tremaining: 7.93s\n",
      "653:\tlearn: 0.4137567\ttotal: 14.9s\tremaining: 7.91s\n",
      "654:\tlearn: 0.4136923\ttotal: 15s\tremaining: 7.88s\n",
      "655:\tlearn: 0.4136426\ttotal: 15s\tremaining: 7.86s\n",
      "656:\tlearn: 0.4136113\ttotal: 15s\tremaining: 7.84s\n",
      "657:\tlearn: 0.4136014\ttotal: 15s\tremaining: 7.82s\n",
      "658:\tlearn: 0.4135573\ttotal: 15.1s\tremaining: 7.79s\n",
      "659:\tlearn: 0.4135051\ttotal: 15.1s\tremaining: 7.77s\n",
      "660:\tlearn: 0.4134521\ttotal: 15.1s\tremaining: 7.75s\n",
      "661:\tlearn: 0.4134397\ttotal: 15.1s\tremaining: 7.73s\n",
      "662:\tlearn: 0.4133991\ttotal: 15.2s\tremaining: 7.7s\n",
      "663:\tlearn: 0.4133840\ttotal: 15.2s\tremaining: 7.68s\n",
      "664:\tlearn: 0.4133341\ttotal: 15.2s\tremaining: 7.66s\n",
      "665:\tlearn: 0.4132650\ttotal: 15.2s\tremaining: 7.63s\n",
      "666:\tlearn: 0.4132528\ttotal: 15.2s\tremaining: 7.61s\n",
      "667:\tlearn: 0.4132081\ttotal: 15.3s\tremaining: 7.59s\n",
      "668:\tlearn: 0.4131718\ttotal: 15.3s\tremaining: 7.57s\n",
      "669:\tlearn: 0.4131527\ttotal: 15.3s\tremaining: 7.54s\n",
      "670:\tlearn: 0.4131079\ttotal: 15.3s\tremaining: 7.52s\n",
      "671:\tlearn: 0.4130664\ttotal: 15.4s\tremaining: 7.5s\n",
      "672:\tlearn: 0.4130464\ttotal: 15.4s\tremaining: 7.48s\n",
      "673:\tlearn: 0.4130235\ttotal: 15.4s\tremaining: 7.46s\n",
      "674:\tlearn: 0.4130235\ttotal: 15.4s\tremaining: 7.43s\n",
      "675:\tlearn: 0.4128974\ttotal: 15.5s\tremaining: 7.41s\n",
      "676:\tlearn: 0.4128568\ttotal: 15.5s\tremaining: 7.39s\n",
      "677:\tlearn: 0.4128530\ttotal: 15.5s\tremaining: 7.36s\n",
      "678:\tlearn: 0.4127671\ttotal: 15.5s\tremaining: 7.34s\n",
      "679:\tlearn: 0.4127292\ttotal: 15.6s\tremaining: 7.32s\n",
      "680:\tlearn: 0.4126743\ttotal: 15.6s\tremaining: 7.3s\n",
      "681:\tlearn: 0.4126667\ttotal: 15.6s\tremaining: 7.27s\n",
      "682:\tlearn: 0.4126304\ttotal: 15.6s\tremaining: 7.25s\n",
      "683:\tlearn: 0.4126208\ttotal: 15.6s\tremaining: 7.23s\n",
      "684:\tlearn: 0.4125970\ttotal: 15.7s\tremaining: 7.21s\n",
      "685:\tlearn: 0.4125898\ttotal: 15.7s\tremaining: 7.18s\n",
      "686:\tlearn: 0.4125676\ttotal: 15.7s\tremaining: 7.16s\n",
      "687:\tlearn: 0.4124802\ttotal: 15.7s\tremaining: 7.14s\n",
      "688:\tlearn: 0.4123938\ttotal: 15.8s\tremaining: 7.11s\n",
      "689:\tlearn: 0.4123520\ttotal: 15.8s\tremaining: 7.09s\n",
      "690:\tlearn: 0.4123233\ttotal: 15.8s\tremaining: 7.07s\n",
      "691:\tlearn: 0.4123160\ttotal: 15.8s\tremaining: 7.04s\n",
      "692:\tlearn: 0.4122620\ttotal: 15.8s\tremaining: 7.02s\n",
      "693:\tlearn: 0.4122474\ttotal: 15.9s\tremaining: 7s\n",
      "694:\tlearn: 0.4122028\ttotal: 15.9s\tremaining: 6.97s\n",
      "695:\tlearn: 0.4121222\ttotal: 15.9s\tremaining: 6.95s\n",
      "696:\tlearn: 0.4121222\ttotal: 15.9s\tremaining: 6.93s\n",
      "697:\tlearn: 0.4120825\ttotal: 16s\tremaining: 6.91s\n",
      "698:\tlearn: 0.4120511\ttotal: 16s\tremaining: 6.88s\n",
      "699:\tlearn: 0.4119884\ttotal: 16s\tremaining: 6.86s\n",
      "700:\tlearn: 0.4119596\ttotal: 16s\tremaining: 6.84s\n",
      "701:\tlearn: 0.4119505\ttotal: 16.1s\tremaining: 6.82s\n",
      "702:\tlearn: 0.4118903\ttotal: 16.1s\tremaining: 6.79s\n",
      "703:\tlearn: 0.4118558\ttotal: 16.1s\tremaining: 6.77s\n",
      "704:\tlearn: 0.4118224\ttotal: 16.1s\tremaining: 6.75s\n",
      "705:\tlearn: 0.4118023\ttotal: 16.1s\tremaining: 6.72s\n",
      "706:\tlearn: 0.4118023\ttotal: 16.2s\tremaining: 6.7s\n",
      "707:\tlearn: 0.4117386\ttotal: 16.2s\tremaining: 6.68s\n",
      "708:\tlearn: 0.4117369\ttotal: 16.2s\tremaining: 6.66s\n",
      "709:\tlearn: 0.4117309\ttotal: 16.2s\tremaining: 6.63s\n",
      "710:\tlearn: 0.4117192\ttotal: 16.3s\tremaining: 6.61s\n",
      "711:\tlearn: 0.4116873\ttotal: 16.3s\tremaining: 6.59s\n",
      "712:\tlearn: 0.4116280\ttotal: 16.3s\tremaining: 6.56s\n",
      "713:\tlearn: 0.4116109\ttotal: 16.3s\tremaining: 6.54s\n",
      "714:\tlearn: 0.4116089\ttotal: 16.3s\tremaining: 6.52s\n",
      "715:\tlearn: 0.4115826\ttotal: 16.4s\tremaining: 6.49s\n",
      "716:\tlearn: 0.4115820\ttotal: 16.4s\tremaining: 6.47s\n",
      "717:\tlearn: 0.4115064\ttotal: 16.4s\tremaining: 6.45s\n",
      "718:\tlearn: 0.4114984\ttotal: 16.4s\tremaining: 6.42s\n",
      "719:\tlearn: 0.4114954\ttotal: 16.5s\tremaining: 6.4s\n",
      "720:\tlearn: 0.4114098\ttotal: 16.5s\tremaining: 6.38s\n",
      "721:\tlearn: 0.4112694\ttotal: 16.5s\tremaining: 6.36s\n",
      "722:\tlearn: 0.4112687\ttotal: 16.5s\tremaining: 6.33s\n",
      "723:\tlearn: 0.4112553\ttotal: 16.6s\tremaining: 6.31s\n",
      "724:\tlearn: 0.4112275\ttotal: 16.6s\tremaining: 6.29s\n",
      "725:\tlearn: 0.4112124\ttotal: 16.6s\tremaining: 6.26s\n",
      "726:\tlearn: 0.4111564\ttotal: 16.6s\tremaining: 6.24s\n",
      "727:\tlearn: 0.4111373\ttotal: 16.6s\tremaining: 6.22s\n",
      "728:\tlearn: 0.4111367\ttotal: 16.7s\tremaining: 6.19s\n",
      "729:\tlearn: 0.4111158\ttotal: 16.7s\tremaining: 6.17s\n",
      "730:\tlearn: 0.4110777\ttotal: 16.7s\tremaining: 6.15s\n",
      "731:\tlearn: 0.4110358\ttotal: 16.7s\tremaining: 6.13s\n",
      "732:\tlearn: 0.4109883\ttotal: 16.8s\tremaining: 6.1s\n",
      "733:\tlearn: 0.4109723\ttotal: 16.8s\tremaining: 6.08s\n",
      "734:\tlearn: 0.4109613\ttotal: 16.8s\tremaining: 6.06s\n",
      "735:\tlearn: 0.4109248\ttotal: 16.8s\tremaining: 6.03s\n",
      "736:\tlearn: 0.4109015\ttotal: 16.8s\tremaining: 6.01s\n",
      "737:\tlearn: 0.4108994\ttotal: 16.9s\tremaining: 5.99s\n",
      "738:\tlearn: 0.4108261\ttotal: 16.9s\tremaining: 5.97s\n",
      "739:\tlearn: 0.4108246\ttotal: 16.9s\tremaining: 5.94s\n",
      "740:\tlearn: 0.4107463\ttotal: 16.9s\tremaining: 5.92s\n",
      "741:\tlearn: 0.4107275\ttotal: 17s\tremaining: 5.9s\n",
      "742:\tlearn: 0.4106661\ttotal: 17s\tremaining: 5.87s\n",
      "743:\tlearn: 0.4106021\ttotal: 17s\tremaining: 5.85s\n",
      "744:\tlearn: 0.4105949\ttotal: 17s\tremaining: 5.83s\n",
      "745:\tlearn: 0.4105542\ttotal: 17s\tremaining: 5.8s\n",
      "746:\tlearn: 0.4105100\ttotal: 17.1s\tremaining: 5.78s\n",
      "747:\tlearn: 0.4104832\ttotal: 17.1s\tremaining: 5.76s\n",
      "748:\tlearn: 0.4104486\ttotal: 17.1s\tremaining: 5.74s\n",
      "749:\tlearn: 0.4103834\ttotal: 17.1s\tremaining: 5.71s\n",
      "750:\tlearn: 0.4103224\ttotal: 17.2s\tremaining: 5.69s\n",
      "751:\tlearn: 0.4102908\ttotal: 17.2s\tremaining: 5.67s\n",
      "752:\tlearn: 0.4102712\ttotal: 17.2s\tremaining: 5.64s\n",
      "753:\tlearn: 0.4102394\ttotal: 17.2s\tremaining: 5.62s\n",
      "754:\tlearn: 0.4101232\ttotal: 17.3s\tremaining: 5.6s\n",
      "755:\tlearn: 0.4100936\ttotal: 17.3s\tremaining: 5.58s\n",
      "756:\tlearn: 0.4100814\ttotal: 17.3s\tremaining: 5.55s\n",
      "757:\tlearn: 0.4100802\ttotal: 17.3s\tremaining: 5.53s\n",
      "758:\tlearn: 0.4100722\ttotal: 17.3s\tremaining: 5.51s\n",
      "759:\tlearn: 0.4100673\ttotal: 17.4s\tremaining: 5.48s\n",
      "760:\tlearn: 0.4100415\ttotal: 17.4s\tremaining: 5.46s\n",
      "761:\tlearn: 0.4100028\ttotal: 17.4s\tremaining: 5.44s\n",
      "762:\tlearn: 0.4099529\ttotal: 17.4s\tremaining: 5.42s\n",
      "763:\tlearn: 0.4099256\ttotal: 17.5s\tremaining: 5.39s\n",
      "764:\tlearn: 0.4099159\ttotal: 17.5s\tremaining: 5.37s\n",
      "765:\tlearn: 0.4098479\ttotal: 17.5s\tremaining: 5.35s\n",
      "766:\tlearn: 0.4098400\ttotal: 17.5s\tremaining: 5.32s\n",
      "767:\tlearn: 0.4097510\ttotal: 17.6s\tremaining: 5.3s\n",
      "768:\tlearn: 0.4097310\ttotal: 17.6s\tremaining: 5.28s\n",
      "769:\tlearn: 0.4096763\ttotal: 17.6s\tremaining: 5.25s\n",
      "770:\tlearn: 0.4096436\ttotal: 17.6s\tremaining: 5.23s\n",
      "771:\tlearn: 0.4096361\ttotal: 17.6s\tremaining: 5.21s\n",
      "772:\tlearn: 0.4096017\ttotal: 17.7s\tremaining: 5.19s\n",
      "773:\tlearn: 0.4095239\ttotal: 17.7s\tremaining: 5.17s\n",
      "774:\tlearn: 0.4094757\ttotal: 17.7s\tremaining: 5.14s\n",
      "775:\tlearn: 0.4094518\ttotal: 17.7s\tremaining: 5.12s\n",
      "776:\tlearn: 0.4094479\ttotal: 17.8s\tremaining: 5.1s\n",
      "777:\tlearn: 0.4093299\ttotal: 17.8s\tremaining: 5.07s\n",
      "778:\tlearn: 0.4093121\ttotal: 17.8s\tremaining: 5.05s\n",
      "779:\tlearn: 0.4093114\ttotal: 17.8s\tremaining: 5.03s\n",
      "780:\tlearn: 0.4092236\ttotal: 17.8s\tremaining: 5s\n",
      "781:\tlearn: 0.4091733\ttotal: 17.9s\tremaining: 4.98s\n",
      "782:\tlearn: 0.4091429\ttotal: 17.9s\tremaining: 4.96s\n",
      "783:\tlearn: 0.4091250\ttotal: 17.9s\tremaining: 4.94s\n",
      "784:\tlearn: 0.4090822\ttotal: 17.9s\tremaining: 4.91s\n",
      "785:\tlearn: 0.4089803\ttotal: 18s\tremaining: 4.89s\n",
      "786:\tlearn: 0.4088973\ttotal: 18s\tremaining: 4.87s\n",
      "787:\tlearn: 0.4088966\ttotal: 18s\tremaining: 4.84s\n",
      "788:\tlearn: 0.4088231\ttotal: 18s\tremaining: 4.82s\n",
      "789:\tlearn: 0.4087695\ttotal: 18.1s\tremaining: 4.8s\n",
      "790:\tlearn: 0.4087131\ttotal: 18.1s\tremaining: 4.78s\n",
      "791:\tlearn: 0.4086739\ttotal: 18.1s\tremaining: 4.75s\n",
      "792:\tlearn: 0.4086366\ttotal: 18.1s\tremaining: 4.73s\n",
      "793:\tlearn: 0.4086003\ttotal: 18.2s\tremaining: 4.71s\n",
      "794:\tlearn: 0.4085872\ttotal: 18.2s\tremaining: 4.69s\n",
      "795:\tlearn: 0.4085840\ttotal: 18.2s\tremaining: 4.66s\n",
      "796:\tlearn: 0.4085456\ttotal: 18.2s\tremaining: 4.64s\n",
      "797:\tlearn: 0.4084646\ttotal: 18.2s\tremaining: 4.62s\n",
      "798:\tlearn: 0.4084201\ttotal: 18.3s\tremaining: 4.59s\n",
      "799:\tlearn: 0.4083928\ttotal: 18.3s\tremaining: 4.57s\n",
      "800:\tlearn: 0.4082830\ttotal: 18.3s\tremaining: 4.55s\n",
      "801:\tlearn: 0.4082821\ttotal: 18.3s\tremaining: 4.53s\n",
      "802:\tlearn: 0.4081434\ttotal: 18.4s\tremaining: 4.5s\n",
      "803:\tlearn: 0.4081428\ttotal: 18.4s\tremaining: 4.48s\n",
      "804:\tlearn: 0.4080926\ttotal: 18.4s\tremaining: 4.46s\n",
      "805:\tlearn: 0.4080804\ttotal: 18.4s\tremaining: 4.43s\n",
      "806:\tlearn: 0.4080598\ttotal: 18.4s\tremaining: 4.41s\n",
      "807:\tlearn: 0.4080393\ttotal: 18.5s\tremaining: 4.39s\n",
      "808:\tlearn: 0.4079759\ttotal: 18.5s\tremaining: 4.37s\n",
      "809:\tlearn: 0.4079754\ttotal: 18.5s\tremaining: 4.34s\n",
      "810:\tlearn: 0.4079749\ttotal: 18.6s\tremaining: 4.32s\n",
      "811:\tlearn: 0.4079486\ttotal: 18.6s\tremaining: 4.3s\n",
      "812:\tlearn: 0.4079439\ttotal: 18.6s\tremaining: 4.28s\n",
      "813:\tlearn: 0.4079164\ttotal: 18.6s\tremaining: 4.26s\n",
      "814:\tlearn: 0.4078889\ttotal: 18.7s\tremaining: 4.23s\n",
      "815:\tlearn: 0.4078884\ttotal: 18.7s\tremaining: 4.21s\n",
      "816:\tlearn: 0.4078858\ttotal: 18.7s\tremaining: 4.19s\n",
      "817:\tlearn: 0.4078267\ttotal: 18.7s\tremaining: 4.17s\n",
      "818:\tlearn: 0.4078218\ttotal: 18.7s\tremaining: 4.14s\n",
      "819:\tlearn: 0.4077855\ttotal: 18.8s\tremaining: 4.12s\n",
      "820:\tlearn: 0.4077543\ttotal: 18.8s\tremaining: 4.1s\n",
      "821:\tlearn: 0.4077177\ttotal: 18.8s\tremaining: 4.07s\n",
      "822:\tlearn: 0.4076995\ttotal: 18.8s\tremaining: 4.05s\n",
      "823:\tlearn: 0.4076943\ttotal: 18.9s\tremaining: 4.03s\n",
      "824:\tlearn: 0.4076087\ttotal: 18.9s\tremaining: 4s\n",
      "825:\tlearn: 0.4075389\ttotal: 18.9s\tremaining: 3.98s\n",
      "826:\tlearn: 0.4074783\ttotal: 18.9s\tremaining: 3.96s\n",
      "827:\tlearn: 0.4074702\ttotal: 19s\tremaining: 3.94s\n",
      "828:\tlearn: 0.4073847\ttotal: 19s\tremaining: 3.91s\n",
      "829:\tlearn: 0.4073447\ttotal: 19s\tremaining: 3.89s\n",
      "830:\tlearn: 0.4072785\ttotal: 19s\tremaining: 3.87s\n",
      "831:\tlearn: 0.4072523\ttotal: 19.1s\tremaining: 3.85s\n",
      "832:\tlearn: 0.4071725\ttotal: 19.1s\tremaining: 3.82s\n",
      "833:\tlearn: 0.4071530\ttotal: 19.1s\tremaining: 3.8s\n",
      "834:\tlearn: 0.4071092\ttotal: 19.1s\tremaining: 3.78s\n",
      "835:\tlearn: 0.4070736\ttotal: 19.1s\tremaining: 3.76s\n",
      "836:\tlearn: 0.4070704\ttotal: 19.2s\tremaining: 3.73s\n",
      "837:\tlearn: 0.4070331\ttotal: 19.2s\tremaining: 3.71s\n",
      "838:\tlearn: 0.4069982\ttotal: 19.2s\tremaining: 3.69s\n",
      "839:\tlearn: 0.4069496\ttotal: 19.2s\tremaining: 3.67s\n",
      "840:\tlearn: 0.4069120\ttotal: 19.3s\tremaining: 3.64s\n",
      "841:\tlearn: 0.4068384\ttotal: 19.3s\tremaining: 3.62s\n",
      "842:\tlearn: 0.4067582\ttotal: 19.3s\tremaining: 3.6s\n",
      "843:\tlearn: 0.4067572\ttotal: 19.3s\tremaining: 3.57s\n",
      "844:\tlearn: 0.4067374\ttotal: 19.4s\tremaining: 3.55s\n",
      "845:\tlearn: 0.4067176\ttotal: 19.4s\tremaining: 3.53s\n",
      "846:\tlearn: 0.4066910\ttotal: 19.4s\tremaining: 3.51s\n",
      "847:\tlearn: 0.4066261\ttotal: 19.4s\tremaining: 3.48s\n",
      "848:\tlearn: 0.4065789\ttotal: 19.5s\tremaining: 3.46s\n",
      "849:\tlearn: 0.4065732\ttotal: 19.5s\tremaining: 3.44s\n",
      "850:\tlearn: 0.4065389\ttotal: 19.5s\tremaining: 3.41s\n",
      "851:\tlearn: 0.4065370\ttotal: 19.5s\tremaining: 3.39s\n",
      "852:\tlearn: 0.4064848\ttotal: 19.5s\tremaining: 3.37s\n",
      "853:\tlearn: 0.4064501\ttotal: 19.6s\tremaining: 3.35s\n",
      "854:\tlearn: 0.4064494\ttotal: 19.6s\tremaining: 3.32s\n",
      "855:\tlearn: 0.4063712\ttotal: 19.6s\tremaining: 3.3s\n",
      "856:\tlearn: 0.4063489\ttotal: 19.6s\tremaining: 3.28s\n",
      "857:\tlearn: 0.4062977\ttotal: 19.7s\tremaining: 3.25s\n",
      "858:\tlearn: 0.4062904\ttotal: 19.7s\tremaining: 3.23s\n",
      "859:\tlearn: 0.4062782\ttotal: 19.7s\tremaining: 3.21s\n",
      "860:\tlearn: 0.4061806\ttotal: 19.7s\tremaining: 3.18s\n",
      "861:\tlearn: 0.4061742\ttotal: 19.8s\tremaining: 3.16s\n",
      "862:\tlearn: 0.4061466\ttotal: 19.8s\tremaining: 3.14s\n",
      "863:\tlearn: 0.4061128\ttotal: 19.8s\tremaining: 3.12s\n",
      "864:\tlearn: 0.4060625\ttotal: 19.8s\tremaining: 3.09s\n",
      "865:\tlearn: 0.4059540\ttotal: 19.8s\tremaining: 3.07s\n",
      "866:\tlearn: 0.4059394\ttotal: 19.9s\tremaining: 3.05s\n",
      "867:\tlearn: 0.4059361\ttotal: 19.9s\tremaining: 3.02s\n",
      "868:\tlearn: 0.4059175\ttotal: 19.9s\tremaining: 3s\n",
      "869:\tlearn: 0.4058949\ttotal: 19.9s\tremaining: 2.98s\n",
      "870:\tlearn: 0.4058913\ttotal: 20s\tremaining: 2.96s\n",
      "871:\tlearn: 0.4058422\ttotal: 20s\tremaining: 2.93s\n",
      "872:\tlearn: 0.4058180\ttotal: 20s\tremaining: 2.91s\n",
      "873:\tlearn: 0.4057783\ttotal: 20s\tremaining: 2.89s\n",
      "874:\tlearn: 0.4057499\ttotal: 20s\tremaining: 2.86s\n",
      "875:\tlearn: 0.4057247\ttotal: 20.1s\tremaining: 2.84s\n",
      "876:\tlearn: 0.4056746\ttotal: 20.1s\tremaining: 2.82s\n",
      "877:\tlearn: 0.4056643\ttotal: 20.1s\tremaining: 2.79s\n",
      "878:\tlearn: 0.4056125\ttotal: 20.1s\tremaining: 2.77s\n",
      "879:\tlearn: 0.4055945\ttotal: 20.2s\tremaining: 2.75s\n",
      "880:\tlearn: 0.4055548\ttotal: 20.2s\tremaining: 2.73s\n",
      "881:\tlearn: 0.4055368\ttotal: 20.2s\tremaining: 2.7s\n",
      "882:\tlearn: 0.4055178\ttotal: 20.2s\tremaining: 2.68s\n",
      "883:\tlearn: 0.4054857\ttotal: 20.3s\tremaining: 2.66s\n",
      "884:\tlearn: 0.4054632\ttotal: 20.3s\tremaining: 2.63s\n",
      "885:\tlearn: 0.4054632\ttotal: 20.3s\tremaining: 2.61s\n",
      "886:\tlearn: 0.4054578\ttotal: 20.3s\tremaining: 2.59s\n",
      "887:\tlearn: 0.4054498\ttotal: 20.3s\tremaining: 2.56s\n",
      "888:\tlearn: 0.4054288\ttotal: 20.4s\tremaining: 2.54s\n",
      "889:\tlearn: 0.4053974\ttotal: 20.4s\tremaining: 2.52s\n",
      "890:\tlearn: 0.4053644\ttotal: 20.4s\tremaining: 2.5s\n",
      "891:\tlearn: 0.4053359\ttotal: 20.4s\tremaining: 2.47s\n",
      "892:\tlearn: 0.4053072\ttotal: 20.5s\tremaining: 2.45s\n",
      "893:\tlearn: 0.4052312\ttotal: 20.5s\tremaining: 2.43s\n",
      "894:\tlearn: 0.4051622\ttotal: 20.5s\tremaining: 2.4s\n",
      "895:\tlearn: 0.4051195\ttotal: 20.5s\tremaining: 2.38s\n",
      "896:\tlearn: 0.4050747\ttotal: 20.5s\tremaining: 2.36s\n",
      "897:\tlearn: 0.4049503\ttotal: 20.6s\tremaining: 2.34s\n",
      "898:\tlearn: 0.4049451\ttotal: 20.6s\tremaining: 2.31s\n",
      "899:\tlearn: 0.4049397\ttotal: 20.6s\tremaining: 2.29s\n",
      "900:\tlearn: 0.4049146\ttotal: 20.6s\tremaining: 2.27s\n",
      "901:\tlearn: 0.4048782\ttotal: 20.7s\tremaining: 2.24s\n",
      "902:\tlearn: 0.4048560\ttotal: 20.7s\tremaining: 2.22s\n",
      "903:\tlearn: 0.4048222\ttotal: 20.7s\tremaining: 2.2s\n",
      "904:\tlearn: 0.4047956\ttotal: 20.7s\tremaining: 2.17s\n",
      "905:\tlearn: 0.4047857\ttotal: 20.8s\tremaining: 2.15s\n",
      "906:\tlearn: 0.4047535\ttotal: 20.8s\tremaining: 2.13s\n",
      "907:\tlearn: 0.4047447\ttotal: 20.8s\tremaining: 2.11s\n",
      "908:\tlearn: 0.4047389\ttotal: 20.8s\tremaining: 2.08s\n",
      "909:\tlearn: 0.4047230\ttotal: 20.8s\tremaining: 2.06s\n",
      "910:\tlearn: 0.4047222\ttotal: 20.9s\tremaining: 2.04s\n",
      "911:\tlearn: 0.4046190\ttotal: 20.9s\tremaining: 2.02s\n",
      "912:\tlearn: 0.4046112\ttotal: 20.9s\tremaining: 1.99s\n",
      "913:\tlearn: 0.4045916\ttotal: 20.9s\tremaining: 1.97s\n",
      "914:\tlearn: 0.4045854\ttotal: 21s\tremaining: 1.95s\n",
      "915:\tlearn: 0.4045697\ttotal: 21s\tremaining: 1.92s\n",
      "916:\tlearn: 0.4045526\ttotal: 21s\tremaining: 1.9s\n",
      "917:\tlearn: 0.4045273\ttotal: 21s\tremaining: 1.88s\n",
      "918:\tlearn: 0.4045249\ttotal: 21s\tremaining: 1.85s\n",
      "919:\tlearn: 0.4045118\ttotal: 21.1s\tremaining: 1.83s\n",
      "920:\tlearn: 0.4045100\ttotal: 21.1s\tremaining: 1.81s\n",
      "921:\tlearn: 0.4044837\ttotal: 21.1s\tremaining: 1.79s\n",
      "922:\tlearn: 0.4044288\ttotal: 21.1s\tremaining: 1.76s\n",
      "923:\tlearn: 0.4043369\ttotal: 21.2s\tremaining: 1.74s\n",
      "924:\tlearn: 0.4043284\ttotal: 21.2s\tremaining: 1.72s\n",
      "925:\tlearn: 0.4042678\ttotal: 21.2s\tremaining: 1.69s\n",
      "926:\tlearn: 0.4041954\ttotal: 21.2s\tremaining: 1.67s\n",
      "927:\tlearn: 0.4041777\ttotal: 21.3s\tremaining: 1.65s\n",
      "928:\tlearn: 0.4041730\ttotal: 21.3s\tremaining: 1.63s\n",
      "929:\tlearn: 0.4041532\ttotal: 21.3s\tremaining: 1.6s\n",
      "930:\tlearn: 0.4041472\ttotal: 21.3s\tremaining: 1.58s\n",
      "931:\tlearn: 0.4041457\ttotal: 21.3s\tremaining: 1.56s\n",
      "932:\tlearn: 0.4041312\ttotal: 21.4s\tremaining: 1.53s\n",
      "933:\tlearn: 0.4041286\ttotal: 21.4s\tremaining: 1.51s\n",
      "934:\tlearn: 0.4040399\ttotal: 21.4s\tremaining: 1.49s\n",
      "935:\tlearn: 0.4039825\ttotal: 21.4s\tremaining: 1.47s\n",
      "936:\tlearn: 0.4037930\ttotal: 21.5s\tremaining: 1.44s\n",
      "937:\tlearn: 0.4037460\ttotal: 21.5s\tremaining: 1.42s\n",
      "938:\tlearn: 0.4037443\ttotal: 21.5s\tremaining: 1.4s\n",
      "939:\tlearn: 0.4037438\ttotal: 21.5s\tremaining: 1.37s\n",
      "940:\tlearn: 0.4037416\ttotal: 21.6s\tremaining: 1.35s\n",
      "941:\tlearn: 0.4037222\ttotal: 21.6s\tremaining: 1.33s\n",
      "942:\tlearn: 0.4036080\ttotal: 21.6s\tremaining: 1.3s\n",
      "943:\tlearn: 0.4035780\ttotal: 21.6s\tremaining: 1.28s\n",
      "944:\tlearn: 0.4035536\ttotal: 21.6s\tremaining: 1.26s\n",
      "945:\tlearn: 0.4035097\ttotal: 21.7s\tremaining: 1.24s\n",
      "946:\tlearn: 0.4034917\ttotal: 21.7s\tremaining: 1.21s\n",
      "947:\tlearn: 0.4034501\ttotal: 21.7s\tremaining: 1.19s\n",
      "948:\tlearn: 0.4034061\ttotal: 21.7s\tremaining: 1.17s\n",
      "949:\tlearn: 0.4033424\ttotal: 21.8s\tremaining: 1.15s\n",
      "950:\tlearn: 0.4032943\ttotal: 21.8s\tremaining: 1.12s\n",
      "951:\tlearn: 0.4032936\ttotal: 21.8s\tremaining: 1.1s\n",
      "952:\tlearn: 0.4032661\ttotal: 21.8s\tremaining: 1.08s\n",
      "953:\tlearn: 0.4032654\ttotal: 21.9s\tremaining: 1.05s\n",
      "954:\tlearn: 0.4032182\ttotal: 21.9s\tremaining: 1.03s\n",
      "955:\tlearn: 0.4032161\ttotal: 21.9s\tremaining: 1.01s\n",
      "956:\tlearn: 0.4031582\ttotal: 21.9s\tremaining: 985ms\n",
      "957:\tlearn: 0.4031328\ttotal: 21.9s\tremaining: 962ms\n",
      "958:\tlearn: 0.4030891\ttotal: 22s\tremaining: 939ms\n",
      "959:\tlearn: 0.4030367\ttotal: 22s\tremaining: 917ms\n",
      "960:\tlearn: 0.4029892\ttotal: 22s\tremaining: 894ms\n",
      "961:\tlearn: 0.4029165\ttotal: 22s\tremaining: 871ms\n",
      "962:\tlearn: 0.4028346\ttotal: 22.1s\tremaining: 848ms\n",
      "963:\tlearn: 0.4028244\ttotal: 22.1s\tremaining: 825ms\n",
      "964:\tlearn: 0.4027975\ttotal: 22.1s\tremaining: 802ms\n",
      "965:\tlearn: 0.4027793\ttotal: 22.1s\tremaining: 779ms\n",
      "966:\tlearn: 0.4026976\ttotal: 22.2s\tremaining: 757ms\n",
      "967:\tlearn: 0.4026134\ttotal: 22.2s\tremaining: 734ms\n",
      "968:\tlearn: 0.4025705\ttotal: 22.2s\tremaining: 711ms\n",
      "969:\tlearn: 0.4025586\ttotal: 22.2s\tremaining: 688ms\n",
      "970:\tlearn: 0.4025412\ttotal: 22.3s\tremaining: 665ms\n",
      "971:\tlearn: 0.4024555\ttotal: 22.3s\tremaining: 642ms\n",
      "972:\tlearn: 0.4023391\ttotal: 22.3s\tremaining: 619ms\n",
      "973:\tlearn: 0.4023357\ttotal: 22.3s\tremaining: 596ms\n",
      "974:\tlearn: 0.4023068\ttotal: 22.4s\tremaining: 573ms\n",
      "975:\tlearn: 0.4023068\ttotal: 22.4s\tremaining: 550ms\n",
      "976:\tlearn: 0.4023064\ttotal: 22.4s\tremaining: 527ms\n",
      "977:\tlearn: 0.4022891\ttotal: 22.4s\tremaining: 504ms\n",
      "978:\tlearn: 0.4022013\ttotal: 22.4s\tremaining: 481ms\n",
      "979:\tlearn: 0.4021982\ttotal: 22.5s\tremaining: 459ms\n",
      "980:\tlearn: 0.4021779\ttotal: 22.5s\tremaining: 436ms\n",
      "981:\tlearn: 0.4021776\ttotal: 22.5s\tremaining: 413ms\n",
      "982:\tlearn: 0.4020957\ttotal: 22.5s\tremaining: 390ms\n",
      "983:\tlearn: 0.4020434\ttotal: 22.6s\tremaining: 367ms\n",
      "984:\tlearn: 0.4020268\ttotal: 22.6s\tremaining: 344ms\n",
      "985:\tlearn: 0.4019981\ttotal: 22.6s\tremaining: 321ms\n",
      "986:\tlearn: 0.4019605\ttotal: 22.6s\tremaining: 298ms\n",
      "987:\tlearn: 0.4018522\ttotal: 22.7s\tremaining: 275ms\n",
      "988:\tlearn: 0.4018291\ttotal: 22.7s\tremaining: 252ms\n",
      "989:\tlearn: 0.4018190\ttotal: 22.7s\tremaining: 229ms\n",
      "990:\tlearn: 0.4018089\ttotal: 22.7s\tremaining: 206ms\n",
      "991:\tlearn: 0.4017739\ttotal: 22.8s\tremaining: 183ms\n",
      "992:\tlearn: 0.4017730\ttotal: 22.8s\tremaining: 161ms\n",
      "993:\tlearn: 0.4017317\ttotal: 22.8s\tremaining: 138ms\n",
      "994:\tlearn: 0.4016793\ttotal: 22.8s\tremaining: 115ms\n",
      "995:\tlearn: 0.4016548\ttotal: 22.8s\tremaining: 91.7ms\n",
      "996:\tlearn: 0.4016455\ttotal: 22.9s\tremaining: 68.8ms\n",
      "997:\tlearn: 0.4016413\ttotal: 22.9s\tremaining: 45.9ms\n",
      "998:\tlearn: 0.4016359\ttotal: 22.9s\tremaining: 22.9ms\n",
      "999:\tlearn: 0.4014606\ttotal: 22.9s\tremaining: 0us\n"
     ]
    }
   ],
   "source": [
    "cat.fit(X_train, y_train)\n",
    "train_preds = cat.predict(X_train)\n",
    "test_preds = cat.predict(X_test)"
   ]
  },
  {
   "cell_type": "code",
   "execution_count": 20,
   "metadata": {},
   "outputs": [
    {
     "name": "stdout",
     "output_type": "stream",
     "text": [
      "              precision    recall  f1-score   support\n",
      "\n",
      "           0       0.93      0.82      0.87     16722\n",
      "           1       0.60      0.81      0.69      5575\n",
      "\n",
      "    accuracy                           0.82     22297\n",
      "   macro avg       0.76      0.81      0.78     22297\n",
      "weighted avg       0.84      0.82      0.82     22297\n",
      "\n"
     ]
    }
   ],
   "source": [
    "print(classification_report(y_train, train_preds))"
   ]
  },
  {
   "cell_type": "code",
   "execution_count": 21,
   "metadata": {},
   "outputs": [
    {
     "name": "stdout",
     "output_type": "stream",
     "text": [
      "              precision    recall  f1-score   support\n",
      "\n",
      "           0       0.91      0.81      0.86      5519\n",
      "           1       0.59      0.78      0.67      1914\n",
      "\n",
      "    accuracy                           0.80      7433\n",
      "   macro avg       0.75      0.80      0.77      7433\n",
      "weighted avg       0.83      0.80      0.81      7433\n",
      "\n"
     ]
    }
   ],
   "source": [
    "print(classification_report(y_test, test_preds))"
   ]
  },
  {
   "cell_type": "code",
   "execution_count": 8,
   "metadata": {},
   "outputs": [
    {
     "data": {
      "text/plain": [
       "<BarContainer object of 29 artists>"
      ]
     },
     "execution_count": 8,
     "metadata": {},
     "output_type": "execute_result"
    },
    {
     "data": {
      "image/png": "[encoded data removed]",
      "text/plain": [
       "<Figure size 640x480 with 1 Axes>"
      ]
     },
     "metadata": {},
     "output_type": "display_data"
    }
   ],
   "source": [
    "importances = cat.feature_importances_\n",
    "names = cat.feature_names_\n",
    "plt.barh(names, importances)"
   ]
  },
  {
   "cell_type": "markdown",
   "metadata": {},
   "source": [
    "## Parameters tuning"
   ]
  },
  {
   "cell_type": "code",
   "execution_count": 10,
   "metadata": {},
   "outputs": [],
   "source": [
    "cb_op = OptunaTuner(\n",
    "    CatBoostClassifier,\n",
    "    accuracy_score,\n",
    "    direction='maximize',\n",
    "    random_state=571,\n",
    "    verbose=0,\n",
    "    cat_features=[col for col in X_train.columns if 'last_purchase_share' not in col],\n",
    "    scale_pos_weight=(y_train==0).sum()/(y_train==1).sum()\n",
    ")\n",
    "cb_op.fit(\n",
    "    100, X_train, y_train, X_test, y_test,\n",
    "    ('learning_rate', 'float', 1e-3, 1e-1, {'log': True}),\n",
    "    ('depth', 'int', 2, 11),\n",
    "    ('iterations', 'int', 100, 1000),\n",
    "    ('subsample', 'float', 0.05, 1.0),\n",
    "    ('colsample_bylevel', 'float', 0.05, 1.0),\n",
    "    ('min_data_in_leaf', 'int', 1, 100),\n",
    ")"
   ]
  },
  {
   "cell_type": "code",
   "execution_count": null,
   "metadata": {},
   "outputs": [
    {
     "data": {
      "application/vnd.plotly.v1+json": {
       "config": {
        "plotlyServerURL": "https://plot.ly"
       },
       "data": [
        {
         "mode": "markers",
         "name": "Objective Value",
         "type": "scatter",
         "x": [
          0,
          1,
          2,
          3,
          4,
          5,
          6,
          7,
          8,
          9,
          10,
          11,
          12,
          13,
          14,
          15,
          16,
          17,
          18,
          19,
          20,
          21,
          22,
          23,
          24,
          25,
          26,
          27,
          28,
          29,
          30,
          31,
          32,
          33,
          34,
          35,
          36,
          37,
          38,
          39,
          40,
          41,
          42,
          43,
          44,
          45,
          46,
          47,
          48,
          49,
          50,
          51,
          52,
          53,
          54,
          55,
          56,
          57,
          58,
          59,
          60,
          61,
          62,
          63,
          64,
          65,
          66,
          67,
          68,
          69,
          70,
          71,
          72,
          73,
          74,
          75,
          76,
          77,
          78,
          79,
          80,
          81,
          82,
          83,
          84,
          85,
          86,
          87,
          88,
          89,
          90,
          91,
          92,
          93,
          94,
          95,
          96,
          97,
          98,
          99
         ],
         "y": [
          0.7760636570315037,
          0.7720038973692758,
          0.7751434448413987,
          0.7759012666450146,
          0.776009526902674,
          0.7744938832954422,
          0.7763343076756523,
          0.7747645339395908,
          0.7755764858720364,
          0.7737360614918264,
          0.7766049583198008,
          0.7750351845837393,
          0.7761719172891631,
          0.7764425679333117,
          0.7749810544549096,
          0.7764425679333117,
          0.7767673487062899,
          0.7766590884486305,
          0.7769297390927791,
          0.7761177871603334,
          0.7757388762585254,
          0.7756306160008661,
          0.7751975749702285,
          0.7767132185774602,
          0.7762260474179928,
          0.7769297390927791,
          0.7761177871603334,
          0.7765508281909711,
          0.7767132185774602,
          0.7764966980621414,
          0.776388437804482,
          0.7766049583198008,
          0.7764425679333117,
          0.7766049583198008,
          0.7766590884486305,
          0.7759553967738443,
          0.7767673487062899,
          0.7759553967738443,
          0.776388437804482,
          0.7761177871603334,
          0.7767673487062899,
          0.7767673487062899,
          0.7765508281909711,
          0.776388437804482,
          0.7760636570315037,
          0.7762801775468225,
          0.7761177871603334,
          0.7770379993504385,
          0.7759012666450146,
          0.7767132185774602,
          0.776009526902674,
          0.7764425679333117,
          0.7766590884486305,
          0.7756847461296957,
          0.7766590884486305,
          0.7763343076756523,
          0.7762260474179928,
          0.7757930063873552,
          0.7766049583198008,
          0.7762260474179928,
          0.7720038973692758,
          0.7759012666450146,
          0.7720038973692758,
          0.7759553967738443,
          0.7768756089639494,
          0.7768756089639494,
          0.7762260474179928,
          0.776388437804482,
          0.7762801775468225,
          0.7760636570315037,
          0.7760636570315037,
          0.7744397531666125,
          0.7755223557432067,
          0.776388437804482,
          0.7766590884486305,
          0.7751975749702285,
          0.7764425679333117,
          0.7758471365161849,
          0.7760636570315037,
          0.7765508281909711,
          0.7757930063873552,
          0.7761177871603334,
          0.7769297390927791,
          0.776009526902674,
          0.7769297390927791,
          0.776388437804482,
          0.7766049583198008,
          0.7764966980621414,
          0.7760636570315037,
          0.7755764858720364,
          0.7759553967738443,
          0.7733030204611887,
          0.7762260474179928,
          0.7763343076756523,
          0.7762260474179928,
          0.7761719172891631,
          0.7762260474179928,
          0.7720038973692758,
          0.7762801775468225,
          0.7766590884486305
         ]
        },
        {
         "name": "Best Value",
         "type": "scatter",
         "x": [
          0,
          1,
          2,
          3,
          4,
          5,
          6,
          7,
          8,
          9,
          10,
          11,
          12,
          13,
          14,
          15,
          16,
          17,
          18,
          19,
          20,
          21,
          22,
          23,
          24,
          25,
          26,
          27,
          28,
          29,
          30,
          31,
          32,
          33,
          34,
          35,
          36,
          37,
          38,
          39,
          40,
          41,
          42,
          43,
          44,
          45,
          46,
          47,
          48,
          49,
          50,
          51,
          52,
          53,
          54,
          55,
          56,
          57,
          58,
          59,
          60,
          61,
          62,
          63,
          64,
          65,
          66,
          67,
          68,
          69,
          70,
          71,
          72,
          73,
          74,
          75,
          76,
          77,
          78,
          79,
          80,
          81,
          82,
          83,
          84,
          85,
          86,
          87,
          88,
          89,
          90,
          91,
          92,
          93,
          94,
          95,
          96,
          97,
          98,
          99
         ],
         "y": [
          0.7760636570315037,
          0.7760636570315037,
          0.7760636570315037,
          0.7760636570315037,
          0.7760636570315037,
          0.7760636570315037,
          0.7763343076756523,
          0.7763343076756523,
          0.7763343076756523,
          0.7763343076756523,
          0.7766049583198008,
          0.7766049583198008,
          0.7766049583198008,
          0.7766049583198008,
          0.7766049583198008,
          0.7766049583198008,
          0.7767673487062899,
          0.7767673487062899,
          0.7769297390927791,
          0.7769297390927791,
          0.7769297390927791,
          0.7769297390927791,
          0.7769297390927791,
          0.7769297390927791,
          0.7769297390927791,
          0.7769297390927791,
          0.7769297390927791,
          0.7769297390927791,
          0.7769297390927791,
          0.7769297390927791,
          0.7769297390927791,
          0.7769297390927791,
          0.7769297390927791,
          0.7769297390927791,
          0.7769297390927791,
          0.7769297390927791,
          0.7769297390927791,
          0.7769297390927791,
          0.7769297390927791,
          0.7769297390927791,
          0.7769297390927791,
          0.7769297390927791,
          0.7769297390927791,
          0.7769297390927791,
          0.7769297390927791,
          0.7769297390927791,
          0.7769297390927791,
          0.7770379993504385,
          0.7770379993504385,
          0.7770379993504385,
          0.7770379993504385,
          0.7770379993504385,
          0.7770379993504385,
          0.7770379993504385,
          0.7770379993504385,
          0.7770379993504385,
          0.7770379993504385,
          0.7770379993504385,
          0.7770379993504385,
          0.7770379993504385,
          0.7770379993504385,
          0.7770379993504385,
          0.7770379993504385,
          0.7770379993504385,
          0.7770379993504385,
          0.7770379993504385,
          0.7770379993504385,
          0.7770379993504385,
          0.7770379993504385,
          0.7770379993504385,
          0.7770379993504385,
          0.7770379993504385,
          0.7770379993504385,
          0.7770379993504385,
          0.7770379993504385,
          0.7770379993504385,
          0.7770379993504385,
          0.7770379993504385,
          0.7770379993504385,
          0.7770379993504385,
          0.7770379993504385,
          0.7770379993504385,
          0.7770379993504385,
          0.7770379993504385,
          0.7770379993504385,
          0.7770379993504385,
          0.7770379993504385,
          0.7770379993504385,
          0.7770379993504385,
          0.7770379993504385,
          0.7770379993504385,
          0.7770379993504385,
          0.7770379993504385,
          0.7770379993504385,
          0.7770379993504385,
          0.7770379993504385,
          0.7770379993504385,
          0.7770379993504385,
          0.7770379993504385,
          0.7770379993504385
         ]
        }
       ],
       "layout": {
        "template": {
         "data": {
          "bar": [
           {
            "error_x": {
             "color": "#2a3f5f"
            },
            "error_y": {
             "color": "#2a3f5f"
            },
            "marker": {
             "line": {
              "color": "#E5ECF6",
              "width": 0.5
             },
             "pattern": {
              "fillmode": "overlay",
              "size": 10,
              "solidity": 0.2
             }
            },
            "type": "bar"
           }
          ],
          "barpolar": [
           {
            "marker": {
             "line": {
              "color": "#E5ECF6",
              "width": 0.5
             },
             "pattern": {
              "fillmode": "overlay",
              "size": 10,
              "solidity": 0.2
             }
            },
            "type": "barpolar"
           }
          ],
          "carpet": [
           {
            "aaxis": {
             "endlinecolor": "#2a3f5f",
             "gridcolor": "white",
             "linecolor": "white",
             "minorgridcolor": "white",
             "startlinecolor": "#2a3f5f"
            },
            "baxis": {
             "endlinecolor": "#2a3f5f",
             "gridcolor": "white",
             "linecolor": "white",
             "minorgridcolor": "white",
             "startlinecolor": "#2a3f5f"
            },
            "type": "carpet"
           }
          ],
          "choropleth": [
           {
            "colorbar": {
             "outlinewidth": 0,
             "ticks": ""
            },
            "type": "choropleth"
           }
          ],
          "contour": [
           {
            "colorbar": {
             "outlinewidth": 0,
             "ticks": ""
            },
            "colorscale": [
             [
              0,
              "#0d0887"
             ],
             [
              0.1111111111111111,
              "#46039f"
             ],
             [
              0.2222222222222222,
              "#7201a8"
             ],
             [
              0.3333333333333333,
              "#9c179e"
             ],
             [
              0.4444444444444444,
              "#bd3786"
             ],
             [
              0.5555555555555556,
              "#d8576b"
             ],
             [
              0.6666666666666666,
              "#ed7953"
             ],
             [
              0.7777777777777778,
              "#fb9f3a"
             ],
             [
              0.8888888888888888,
              "#fdca26"
             ],
             [
              1,
              "#f0f921"
             ]
            ],
            "type": "contour"
           }
          ],
          "contourcarpet": [
           {
            "colorbar": {
             "outlinewidth": 0,
             "ticks": ""
            },
            "type": "contourcarpet"
           }
          ],
          "heatmap": [
           {
            "colorbar": {
             "outlinewidth": 0,
             "ticks": ""
            },
            "colorscale": [
             [
              0,
              "#0d0887"
             ],
             [
              0.1111111111111111,
              "#46039f"
             ],
             [
              0.2222222222222222,
              "#7201a8"
             ],
             [
              0.3333333333333333,
              "#9c179e"
             ],
             [
              0.4444444444444444,
              "#bd3786"
             ],
             [
              0.5555555555555556,
              "#d8576b"
             ],
             [
              0.6666666666666666,
              "#ed7953"
             ],
             [
              0.7777777777777778,
              "#fb9f3a"
             ],
             [
              0.8888888888888888,
              "#fdca26"
             ],
             [
              1,
              "#f0f921"
             ]
            ],
            "type": "heatmap"
           }
          ],
          "heatmapgl": [
           {
            "colorbar": {
             "outlinewidth": 0,
             "ticks": ""
            },
            "colorscale": [
             [
              0,
              "#0d0887"
             ],
             [
              0.1111111111111111,
              "#46039f"
             ],
             [
              0.2222222222222222,
              "#7201a8"
             ],
             [
              0.3333333333333333,
              "#9c179e"
             ],
             [
              0.4444444444444444,
              "#bd3786"
             ],
             [
              0.5555555555555556,
              "#d8576b"
             ],
             [
              0.6666666666666666,
              "#ed7953"
             ],
             [
              0.7777777777777778,
              "#fb9f3a"
             ],
             [
              0.8888888888888888,
              "#fdca26"
             ],
             [
              1,
              "#f0f921"
             ]
            ],
            "type": "heatmapgl"
           }
          ],
          "histogram": [
           {
            "marker": {
             "pattern": {
              "fillmode": "overlay",
              "size": 10,
              "solidity": 0.2
             }
            },
            "type": "histogram"
           }
          ],
          "histogram2d": [
           {
            "colorbar": {
             "outlinewidth": 0,
             "ticks": ""
            },
            "colorscale": [
             [
              0,
              "#0d0887"
             ],
             [
              0.1111111111111111,
              "#46039f"
             ],
             [
              0.2222222222222222,
              "#7201a8"
             ],
             [
              0.3333333333333333,
              "#9c179e"
             ],
             [
              0.4444444444444444,
              "#bd3786"
             ],
             [
              0.5555555555555556,
              "#d8576b"
             ],
             [
              0.6666666666666666,
              "#ed7953"
             ],
             [
              0.7777777777777778,
              "#fb9f3a"
             ],
             [
              0.8888888888888888,
              "#fdca26"
             ],
             [
              1,
              "#f0f921"
             ]
            ],
            "type": "histogram2d"
           }
          ],
          "histogram2dcontour": [
           {
            "colorbar": {
             "outlinewidth": 0,
             "ticks": ""
            },
            "colorscale": [
             [
              0,
              "#0d0887"
             ],
             [
              0.1111111111111111,
              "#46039f"
             ],
             [
              0.2222222222222222,
              "#7201a8"
             ],
             [
              0.3333333333333333,
              "#9c179e"
             ],
             [
              0.4444444444444444,
              "#bd3786"
             ],
             [
              0.5555555555555556,
              "#d8576b"
             ],
             [
              0.6666666666666666,
              "#ed7953"
             ],
             [
              0.7777777777777778,
              "#fb9f3a"
             ],
             [
              0.8888888888888888,
              "#fdca26"
             ],
             [
              1,
              "#f0f921"
             ]
            ],
            "type": "histogram2dcontour"
           }
          ],
          "mesh3d": [
           {
            "colorbar": {
             "outlinewidth": 0,
             "ticks": ""
            },
            "type": "mesh3d"
           }
          ],
          "parcoords": [
           {
            "line": {
             "colorbar": {
              "outlinewidth": 0,
              "ticks": ""
             }
            },
            "type": "parcoords"
           }
          ],
          "pie": [
           {
            "automargin": true,
            "type": "pie"
           }
          ],
          "scatter": [
           {
            "fillpattern": {
             "fillmode": "overlay",
             "size": 10,
             "solidity": 0.2
            },
            "type": "scatter"
           }
          ],
          "scatter3d": [
           {
            "line": {
             "colorbar": {
              "outlinewidth": 0,
              "ticks": ""
             }
            },
            "marker": {
             "colorbar": {
              "outlinewidth": 0,
              "ticks": ""
             }
            },
            "type": "scatter3d"
           }
          ],
          "scattercarpet": [
           {
            "marker": {
             "colorbar": {
              "outlinewidth": 0,
              "ticks": ""
             }
            },
            "type": "scattercarpet"
           }
          ],
          "scattergeo": [
           {
            "marker": {
             "colorbar": {
              "outlinewidth": 0,
              "ticks": ""
             }
            },
            "type": "scattergeo"
           }
          ],
          "scattergl": [
           {
            "marker": {
             "colorbar": {
              "outlinewidth": 0,
              "ticks": ""
             }
            },
            "type": "scattergl"
           }
          ],
          "scattermapbox": [
           {
            "marker": {
             "colorbar": {
              "outlinewidth": 0,
              "ticks": ""
             }
            },
            "type": "scattermapbox"
           }
          ],
          "scatterpolar": [
           {
            "marker": {
             "colorbar": {
              "outlinewidth": 0,
              "ticks": ""
             }
            },
            "type": "scatterpolar"
           }
          ],
          "scatterpolargl": [
           {
            "marker": {
             "colorbar": {
              "outlinewidth": 0,
              "ticks": ""
             }
            },
            "type": "scatterpolargl"
           }
          ],
          "scatterternary": [
           {
            "marker": {
             "colorbar": {
              "outlinewidth": 0,
              "ticks": ""
             }
            },
            "type": "scatterternary"
           }
          ],
          "surface": [
           {
            "colorbar": {
             "outlinewidth": 0,
             "ticks": ""
            },
            "colorscale": [
             [
              0,
              "#0d0887"
             ],
             [
              0.1111111111111111,
              "#46039f"
             ],
             [
              0.2222222222222222,
              "#7201a8"
             ],
             [
              0.3333333333333333,
              "#9c179e"
             ],
             [
              0.4444444444444444,
              "#bd3786"
             ],
             [
              0.5555555555555556,
              "#d8576b"
             ],
             [
              0.6666666666666666,
              "#ed7953"
             ],
             [
              0.7777777777777778,
              "#fb9f3a"
             ],
             [
              0.8888888888888888,
              "#fdca26"
             ],
             [
              1,
              "#f0f921"
             ]
            ],
            "type": "surface"
           }
          ],
          "table": [
           {
            "cells": {
             "fill": {
              "color": "#EBF0F8"
             },
             "line": {
              "color": "white"
             }
            },
            "header": {
             "fill": {
              "color": "#C8D4E3"
             },
             "line": {
              "color": "white"
             }
            },
            "type": "table"
           }
          ]
         },
         "layout": {
          "annotationdefaults": {
           "arrowcolor": "#2a3f5f",
           "arrowhead": 0,
           "arrowwidth": 1
          },
          "autotypenumbers": "strict",
          "coloraxis": {
           "colorbar": {
            "outlinewidth": 0,
            "ticks": ""
           }
          },
          "colorscale": {
           "diverging": [
            [
             0,
             "#8e0152"
            ],
            [
             0.1,
             "#c51b7d"
            ],
            [
             0.2,
             "#de77ae"
            ],
            [
             0.3,
             "#f1b6da"
            ],
            [
             0.4,
             "#fde0ef"
            ],
            [
             0.5,
             "#f7f7f7"
            ],
            [
             0.6,
             "#e6f5d0"
            ],
            [
             0.7,
             "#b8e186"
            ],
            [
             0.8,
             "#7fbc41"
            ],
            [
             0.9,
             "#4d9221"
            ],
            [
             1,
             "#276419"
            ]
           ],
           "sequential": [
            [
             0,
             "#0d0887"
            ],
            [
             0.1111111111111111,
             "#46039f"
            ],
            [
             0.2222222222222222,
             "#7201a8"
            ],
            [
             0.3333333333333333,
             "#9c179e"
            ],
            [
             0.4444444444444444,
             "#bd3786"
            ],
            [
             0.5555555555555556,
             "#d8576b"
            ],
            [
             0.6666666666666666,
             "#ed7953"
            ],
            [
             0.7777777777777778,
             "#fb9f3a"
            ],
            [
             0.8888888888888888,
             "#fdca26"
            ],
            [
             1,
             "#f0f921"
            ]
           ],
           "sequentialminus": [
            [
             0,
             "#0d0887"
            ],
            [
             0.1111111111111111,
             "#46039f"
            ],
            [
             0.2222222222222222,
             "#7201a8"
            ],
            [
             0.3333333333333333,
             "#9c179e"
            ],
            [
             0.4444444444444444,
             "#bd3786"
            ],
            [
             0.5555555555555556,
             "#d8576b"
            ],
            [
             0.6666666666666666,
             "#ed7953"
            ],
            [
             0.7777777777777778,
             "#fb9f3a"
            ],
            [
             0.8888888888888888,
             "#fdca26"
            ],
            [
             1,
             "#f0f921"
            ]
           ]
          },
          "colorway": [
           "#636efa",
           "#EF553B",
           "#00cc96",
           "#ab63fa",
           "#FFA15A",
           "#19d3f3",
           "#FF6692",
           "#B6E880",
           "#FF97FF",
           "#FECB52"
          ],
          "font": {
           "color": "#2a3f5f"
          },
          "geo": {
           "bgcolor": "white",
           "lakecolor": "white",
           "landcolor": "#E5ECF6",
           "showlakes": true,
           "showland": true,
           "subunitcolor": "white"
          },
          "hoverlabel": {
           "align": "left"
          },
          "hovermode": "closest",
          "mapbox": {
           "style": "light"
          },
          "paper_bgcolor": "white",
          "plot_bgcolor": "#E5ECF6",
          "polar": {
           "angularaxis": {
            "gridcolor": "white",
            "linecolor": "white",
            "ticks": ""
           },
           "bgcolor": "#E5ECF6",
           "radialaxis": {
            "gridcolor": "white",
            "linecolor": "white",
            "ticks": ""
           }
          },
          "scene": {
           "xaxis": {
            "backgroundcolor": "#E5ECF6",
            "gridcolor": "white",
            "gridwidth": 2,
            "linecolor": "white",
            "showbackground": true,
            "ticks": "",
            "zerolinecolor": "white"
           },
           "yaxis": {
            "backgroundcolor": "#E5ECF6",
            "gridcolor": "white",
            "gridwidth": 2,
            "linecolor": "white",
            "showbackground": true,
            "ticks": "",
            "zerolinecolor": "white"
           },
           "zaxis": {
            "backgroundcolor": "#E5ECF6",
            "gridcolor": "white",
            "gridwidth": 2,
            "linecolor": "white",
            "showbackground": true,
            "ticks": "",
            "zerolinecolor": "white"
           }
          },
          "shapedefaults": {
           "line": {
            "color": "#2a3f5f"
           }
          },
          "ternary": {
           "aaxis": {
            "gridcolor": "white",
            "linecolor": "white",
            "ticks": ""
           },
           "baxis": {
            "gridcolor": "white",
            "linecolor": "white",
            "ticks": ""
           },
           "bgcolor": "#E5ECF6",
           "caxis": {
            "gridcolor": "white",
            "linecolor": "white",
            "ticks": ""
           }
          },
          "title": {
           "x": 0.05
          },
          "xaxis": {
           "automargin": true,
           "gridcolor": "white",
           "linecolor": "white",
           "ticks": "",
           "title": {
            "standoff": 15
           },
           "zerolinecolor": "white",
           "zerolinewidth": 2
          },
          "yaxis": {
           "automargin": true,
           "gridcolor": "white",
           "linecolor": "white",
           "ticks": "",
           "title": {
            "standoff": 15
           },
           "zerolinecolor": "white",
           "zerolinewidth": 2
          }
         }
        },
        "title": {
         "text": "Optimization History Plot"
        },
        "xaxis": {
         "title": {
          "text": "Trial"
         }
        },
        "yaxis": {
         "title": {
          "text": "Objective Value"
         }
        }
       }
      }
     },
     "metadata": {},
     "output_type": "display_data"
    }
   ],
   "source": [
    "optuna.visualization.plot_optimization_history(cb_op.study)"
   ]
  },
  {
   "cell_type": "code",
   "execution_count": null,
   "metadata": {},
   "outputs": [
    {
     "name": "stderr",
     "output_type": "stream",
     "text": [
      "Failed to detect the name of this notebook, you can set it manually with the WANDB_NOTEBOOK_NAME environment variable to enable code saving.\n"
     ]
    },
    {
     "name": "stdout",
     "output_type": "stream",
     "text": [
      "huggingface/tokenizers: The current process just got forked, after parallelism has already been used. Disabling parallelism to avoid deadlocks...\n",
      "To disable this warning, you can either:\n",
      "\t- Avoid using `tokenizers` before the fork if possible\n",
      "\t- Explicitly set the environment variable TOKENIZERS_PARALLELISM=(true | false)\n",
      "huggingface/tokenizers: The current process just got forked, after parallelism has already been used. Disabling parallelism to avoid deadlocks...\n",
      "To disable this warning, you can either:\n",
      "\t- Avoid using `tokenizers` before the fork if possible\n",
      "\t- Explicitly set the environment variable TOKENIZERS_PARALLELISM=(true | false)\n"
     ]
    },
    {
     "name": "stderr",
     "output_type": "stream",
     "text": [
      "\u001b[34m\u001b[1mwandb\u001b[0m: W&B API key is configured. Use \u001b[1m`wandb login --relogin`\u001b[0m to force relogin\n"
     ]
    },
    {
     "name": "stdout",
     "output_type": "stream",
     "text": [
      "huggingface/tokenizers: The current process just got forked, after parallelism has already been used. Disabling parallelism to avoid deadlocks...\n",
      "To disable this warning, you can either:\n",
      "\t- Avoid using `tokenizers` before the fork if possible\n",
      "\t- Explicitly set the environment variable TOKENIZERS_PARALLELISM=(true | false)\n",
      "huggingface/tokenizers: The current process just got forked, after parallelism has already been used. Disabling parallelism to avoid deadlocks...\n",
      "To disable this warning, you can either:\n",
      "\t- Avoid using `tokenizers` before the fork if possible\n",
      "\t- Explicitly set the environment variable TOKENIZERS_PARALLELISM=(true | false)\n"
     ]
    },
    {
     "data": {
      "application/vnd.jupyter.widget-view+json": {
       "model_id": "c6986a9ca1d74b88ac96acde7743e34a",
       "version_major": 2,
       "version_minor": 0
      },
      "text/plain": [
       "VBox(children=(Label(value='Waiting for wandb.init()...\\r'), FloatProgress(value=0.01673418957895289, max=1.0)…"
      ]
     },
     "metadata": {},
     "output_type": "display_data"
    },
    {
     "data": {
      "text/html": [
       "wandb version 0.15.7 is available!  To upgrade, please run:\n",
       " $ pip install wandb --upgrade"
      ],
      "text/plain": [
       "<IPython.core.display.HTML object>"
      ]
     },
     "metadata": {},
     "output_type": "display_data"
    },
    {
     "data": {
      "text/html": [
       "Tracking run with wandb version 0.15.5"
      ],
      "text/plain": [
       "<IPython.core.display.HTML object>"
      ]
     },
     "metadata": {},
     "output_type": "display_data"
    },
    {
     "data": {
      "text/html": [
       "Run data is saved locally in <code>/Users/fedorturchenko/Documents/UCY/DSC-571/dsc-571/wandb/run-20230801_163250-x8udkfzg</code>"
      ],
      "text/plain": [
       "<IPython.core.display.HTML object>"
      ]
     },
     "metadata": {},
     "output_type": "display_data"
    },
    {
     "data": {
      "text/html": [
       "Syncing run <strong><a href='https://wandb.ai/kpmg-capstone/Cat-BoostClassifier/runs/x8udkfzg' target=\"_blank\">categorical_features_optuna_subperiod_30_month3_2023-08-01_16-32-43</a></strong> to <a href='https://wandb.ai/kpmg-capstone/Cat-BoostClassifier' target=\"_blank\">Weights & Biases</a> (<a href='https://wandb.me/run' target=\"_blank\">docs</a>)<br/>"
      ],
      "text/plain": [
       "<IPython.core.display.HTML object>"
      ]
     },
     "metadata": {},
     "output_type": "display_data"
    },
    {
     "data": {
      "text/html": [
       " View project at <a href='https://wandb.ai/kpmg-capstone/Cat-BoostClassifier' target=\"_blank\">https://wandb.ai/kpmg-capstone/Cat-BoostClassifier</a>"
      ],
      "text/plain": [
       "<IPython.core.display.HTML object>"
      ]
     },
     "metadata": {},
     "output_type": "display_data"
    },
    {
     "data": {
      "text/html": [
       " View run at <a href='https://wandb.ai/kpmg-capstone/Cat-BoostClassifier/runs/x8udkfzg' target=\"_blank\">https://wandb.ai/kpmg-capstone/Cat-BoostClassifier/runs/x8udkfzg</a>"
      ],
      "text/plain": [
       "<IPython.core.display.HTML object>"
      ]
     },
     "metadata": {},
     "output_type": "display_data"
    },
    {
     "data": {
      "text/html": [
       "Waiting for W&B process to finish... <strong style=\"color:green\">(success).</strong>"
      ],
      "text/plain": [
       "<IPython.core.display.HTML object>"
      ]
     },
     "metadata": {},
     "output_type": "display_data"
    },
    {
     "data": {
      "text/html": [
       " View run <strong style=\"color:#cdcd00\">categorical_features_optuna_subperiod_30_month3_2023-08-01_16-32-43</strong> at: <a href='https://wandb.ai/kpmg-capstone/Cat-BoostClassifier/runs/x8udkfzg' target=\"_blank\">https://wandb.ai/kpmg-capstone/Cat-BoostClassifier/runs/x8udkfzg</a><br/>Synced 4 W&B file(s), 0 media file(s), 0 artifact file(s) and 0 other file(s)"
      ],
      "text/plain": [
       "<IPython.core.display.HTML object>"
      ]
     },
     "metadata": {},
     "output_type": "display_data"
    },
    {
     "data": {
      "text/html": [
       "Find logs at: <code>./wandb/run-20230801_163250-x8udkfzg/logs</code>"
      ],
      "text/plain": [
       "<IPython.core.display.HTML object>"
      ]
     },
     "metadata": {},
     "output_type": "display_data"
    },
    {
     "name": "stdout",
     "output_type": "stream",
     "text": [
      "huggingface/tokenizers: The current process just got forked, after parallelism has already been used. Disabling parallelism to avoid deadlocks...\n",
      "To disable this warning, you can either:\n",
      "\t- Avoid using `tokenizers` before the fork if possible\n",
      "\t- Explicitly set the environment variable TOKENIZERS_PARALLELISM=(true | false)\n"
     ]
    },
    {
     "data": {
      "application/vnd.jupyter.widget-view+json": {
       "model_id": "be2e4108109741bbbee9cd1d74039ec6",
       "version_major": 2,
       "version_minor": 0
      },
      "text/plain": [
       "VBox(children=(Label(value='Waiting for wandb.init()...\\r'), FloatProgress(value=0.016752294450998306, max=1.0…"
      ]
     },
     "metadata": {},
     "output_type": "display_data"
    },
    {
     "data": {
      "text/html": [
       "wandb version 0.15.7 is available!  To upgrade, please run:\n",
       " $ pip install wandb --upgrade"
      ],
      "text/plain": [
       "<IPython.core.display.HTML object>"
      ]
     },
     "metadata": {},
     "output_type": "display_data"
    },
    {
     "data": {
      "text/html": [
       "Tracking run with wandb version 0.15.5"
      ],
      "text/plain": [
       "<IPython.core.display.HTML object>"
      ]
     },
     "metadata": {},
     "output_type": "display_data"
    },
    {
     "data": {
      "text/html": [
       "Run data is saved locally in <code>/Users/fedorturchenko/Documents/UCY/DSC-571/dsc-571/wandb/run-20230801_163306-whr944gw</code>"
      ],
      "text/plain": [
       "<IPython.core.display.HTML object>"
      ]
     },
     "metadata": {},
     "output_type": "display_data"
    },
    {
     "data": {
      "text/html": [
       "Syncing run <strong><a href='https://wandb.ai/kpmg-capstone/Cat-BoostClassifier/runs/whr944gw' target=\"_blank\">categorical_features_optuna_subperiod_30_month3_2023-08-01_16-33-06</a></strong> to <a href='https://wandb.ai/kpmg-capstone/Cat-BoostClassifier' target=\"_blank\">Weights & Biases</a> (<a href='https://wandb.me/run' target=\"_blank\">docs</a>)<br/>"
      ],
      "text/plain": [
       "<IPython.core.display.HTML object>"
      ]
     },
     "metadata": {},
     "output_type": "display_data"
    },
    {
     "data": {
      "text/html": [
       " View project at <a href='https://wandb.ai/kpmg-capstone/Cat-BoostClassifier' target=\"_blank\">https://wandb.ai/kpmg-capstone/Cat-BoostClassifier</a>"
      ],
      "text/plain": [
       "<IPython.core.display.HTML object>"
      ]
     },
     "metadata": {},
     "output_type": "display_data"
    },
    {
     "data": {
      "text/html": [
       " View run at <a href='https://wandb.ai/kpmg-capstone/Cat-BoostClassifier/runs/whr944gw' target=\"_blank\">https://wandb.ai/kpmg-capstone/Cat-BoostClassifier/runs/whr944gw</a>"
      ],
      "text/plain": [
       "<IPython.core.display.HTML object>"
      ]
     },
     "metadata": {},
     "output_type": "display_data"
    },
    {
     "data": {
      "text/html": [
       "Waiting for W&B process to finish... <strong style=\"color:green\">(success).</strong>"
      ],
      "text/plain": [
       "<IPython.core.display.HTML object>"
      ]
     },
     "metadata": {},
     "output_type": "display_data"
    },
    {
     "data": {
      "text/html": [
       " View run <strong style=\"color:#cdcd00\">categorical_features_optuna_subperiod_30_month3_2023-08-01_16-33-06</strong> at: <a href='https://wandb.ai/kpmg-capstone/Cat-BoostClassifier/runs/whr944gw' target=\"_blank\">https://wandb.ai/kpmg-capstone/Cat-BoostClassifier/runs/whr944gw</a><br/>Synced 4 W&B file(s), 0 media file(s), 0 artifact file(s) and 0 other file(s)"
      ],
      "text/plain": [
       "<IPython.core.display.HTML object>"
      ]
     },
     "metadata": {},
     "output_type": "display_data"
    },
    {
     "data": {
      "text/html": [
       "Find logs at: <code>./wandb/run-20230801_163306-whr944gw/logs</code>"
      ],
      "text/plain": [
       "<IPython.core.display.HTML object>"
      ]
     },
     "metadata": {},
     "output_type": "display_data"
    }
   ],
   "source": [
    "config = cb_op.model.get_params()\n",
    "cat = CatBoostClassifier(**config)\n",
    "\n",
    "# Create w&b run for the training set\n",
    "with utils.init_wandb_run(\n",
    "    name=f'categorical_features_optuna_subperiod_{fe.subperiod}',\n",
    "    model=CatBoostClassifier,\n",
    "    config=config,\n",
    "    target_month=fe.target_month,\n",
    "    group='parameters_tuning',\n",
    "    job_type='tuning_train'\n",
    ") as run:\n",
    "\n",
    "    cat.fit(X_train, y_train)\n",
    "    train_preds = cat.predict(X_train)\n",
    "\n",
    "    rep = utils.parse_classification_report(\n",
    "        classification_report(y_train, train_preds, output_dict=True)\n",
    "    )\n",
    "\n",
    "    metadata = {\n",
    "        'experiment': {\n",
    "            'name': run.name,\n",
    "        },\n",
    "        'performance_report': rep,\n",
    "        'config': config\n",
    "    }\n",
    "\n",
    "    artifact = wandb.Artifact(\n",
    "        name=f'report_train',\n",
    "        type='performance_metric',\n",
    "        metadata=metadata\n",
    "    )\n",
    "    run.log_artifact(artifact)\n",
    "    run.finish()\n",
    "\n",
    "# Create w&b run for the test set\n",
    "with utils.init_wandb_run(\n",
    "    name=f'categorical_features_optuna_subperiod_{fe.subperiod}',\n",
    "    model=CatBoostClassifier,\n",
    "    config=config,\n",
    "    target_month=fe.target_month,\n",
    "    group='parameters_tuning',\n",
    "    job_type='tuning_test'\n",
    ") as run:\n",
    "    test_preds = cat.predict(X_test)\n",
    "    rep = utils.parse_classification_report(\n",
    "        classification_report(y_test, test_preds, output_dict=True)\n",
    "    )\n",
    "\n",
    "    metadata = {\n",
    "        'experiment': {\n",
    "            'name': run.name,\n",
    "        },\n",
    "        'performance_report': rep,\n",
    "        'config': config\n",
    "    }\n",
    "\n",
    "    artifact = wandb.Artifact(\n",
    "        name=f'report_test',\n",
    "        type='performance_metric',\n",
    "        metadata=metadata\n",
    "    )\n",
    "    run.log_artifact(artifact)\n",
    "    run.finish()"
   ]
  },
  {
   "cell_type": "code",
   "execution_count": null,
   "metadata": {},
   "outputs": [],
   "source": []
  }
 ],
 "metadata": {
  "kernelspec": {
   "display_name": "Python 3",
   "language": "python",
   "name": "python3"
  },
  "language_info": {
   "codemirror_mode": {
    "name": "ipython",
    "version": 3
   },
   "file_extension": ".py",
   "mimetype": "text/x-python",
   "name": "python",
   "nbconvert_exporter": "python",
   "pygments_lexer": "ipython3",
   "version": "3.10.9"
  },
  "orig_nbformat": 4
 },
 "nbformat": 4,
 "nbformat_minor": 2
}
