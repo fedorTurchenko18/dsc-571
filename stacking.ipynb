{
 "cells": [
  {
   "cell_type": "code",
   "execution_count": 97,
   "metadata": {},
   "outputs": [],
   "source": [
    "import pandas as pd\n",
    "import joblib\n",
    "import json\n",
    "import matplotlib.pyplot as plt\n",
    "from matplotlib_venn import venn3\n",
    "\n",
    "from service.app_api.features.extractor import FeatureExtractor\n",
    "from service.app_api.features.final_processing import CustomColumnTransformer\n",
    "from service.app_api.configs import settings\n",
    "from tuning.optuna_tuning import OptunaTuner\n",
    "import optuna\n",
    "import wandb\n",
    "\n",
    "from sklearn.preprocessing import StandardScaler, RobustScaler\n",
    "from sklearn.pipeline import Pipeline\n",
    "from sklearn.metrics import accuracy_score, classification_report\n",
    "# Base classifiers\n",
    "from sklearn.neighbors import KNeighborsClassifier\n",
    "from sklearn.svm import SVC\n",
    "from sklearn.ensemble import RandomForestClassifier\n",
    "# Meta classifier\n",
    "from sklearn.linear_model import LogisticRegression\n",
    "from sklearn.ensemble import StackingClassifier"
   ]
  },
  {
   "cell_type": "code",
   "execution_count": 2,
   "metadata": {},
   "outputs": [],
   "source": [
    "try:\n",
    "    customers, sales = joblib.load('customers.joblib'), joblib.load('sales.joblib')\n",
    "except:\n",
    "    customers, sales = pd.read_excel('ucy_eko_data.xlsx', sheet_name='smile_customers'), pd.read_excel('ucy_eko_data.xlsx', sheet_name='smile_sales')\n",
    "    joblib.dump(customers, 'customers.joblib')\n",
    "    joblib.dump(sales, 'sales.joblib')"
   ]
  },
  {
   "cell_type": "code",
   "execution_count": 3,
   "metadata": {},
   "outputs": [
    {
     "name": "stdout",
     "output_type": "stream",
     "text": [
      "Token will not been saved to git credential helper. Pass `add_to_git_credential=True` if you want to set the git credential as well.\n",
      "Token is valid (permission: write).\n",
      "Your token has been saved to /Users/fedorturchenko/.cache/huggingface/token\n",
      "Login successful\n",
      "Successfully logged out.\n"
     ]
    }
   ],
   "source": [
    "fe = FeatureExtractor(target_month=3, perform_split=True, generation_type='continuous', filtering_set='sales', period=60, subperiod=15)\n",
    "X_train, X_test, y_train, y_test = fe.transform(sales=sales, customers=customers)"
   ]
  },
  {
   "cell_type": "code",
   "execution_count": 100,
   "metadata": {},
   "outputs": [],
   "source": [
    "qty_cols = [col for col in X_train.columns if 'qty' in col]\n",
    "col_transform = CustomColumnTransformer(\n",
    "    cols_for_scaling=qty_cols,\n",
    "    scaling_algo=RobustScaler(),\n",
    "    cols_for_ohe=None,\n",
    "    cols_for_winsor=None,\n",
    "    cols_to_skip=None\n",
    ")"
   ]
  },
  {
   "cell_type": "code",
   "execution_count": 101,
   "metadata": {},
   "outputs": [],
   "source": [
    "X_train_trans = col_transform.fit_transform(X_train)\n",
    "X_test_trans = col_transform.fit_transform(X_test)"
   ]
  },
  {
   "cell_type": "markdown",
   "metadata": {},
   "source": [
    "## SVC base model"
   ]
  },
  {
   "cell_type": "code",
   "execution_count": null,
   "metadata": {},
   "outputs": [],
   "source": [
    "# svc_op = OptunaTuner(\n",
    "#     SVC,\n",
    "#     accuracy_score,\n",
    "#     direction='maximize',\n",
    "#     random_state=571,\n",
    "#     verbose=False,\n",
    "#     tol=1\n",
    "# )\n",
    "# svc_op.fit(\n",
    "#     50, X_train_trans, y_train, X_test_trans, y_test,\n",
    "#     ('C', 'float', 1e-3, 1.0),\n",
    "#     ('kernel', 'categorical', ['linear', 'poly', 'rbf', 'sigmoid']),\n",
    "#     ('degree', 'int', 1, 15)\n",
    "# )"
   ]
  },
  {
   "cell_type": "code",
   "execution_count": null,
   "metadata": {},
   "outputs": [],
   "source": [
    "# optuna.visualization.plot_optimization_history(svc_op.study)"
   ]
  },
  {
   "cell_type": "code",
   "execution_count": null,
   "metadata": {},
   "outputs": [],
   "source": [
    "# svc_op.model.get_params()"
   ]
  },
  {
   "cell_type": "code",
   "execution_count": 103,
   "metadata": {},
   "outputs": [],
   "source": [
    "svc_best = SVC(\n",
    "    verbose=False,\n",
    "    random_state=571,\n",
    "    tol=1\n",
    ")\n",
    "svc_best.fit(X_train_trans, y_train)\n",
    "svc_train_preds = svc_best.predict(X_train_trans)\n",
    "svc_test_preds = svc_best.predict(X_test_trans)"
   ]
  },
  {
   "cell_type": "code",
   "execution_count": 104,
   "metadata": {},
   "outputs": [
    {
     "name": "stdout",
     "output_type": "stream",
     "text": [
      "Train:\n",
      "              precision    recall  f1-score   support\n",
      "\n",
      "           0       0.67      0.82      0.74     25669\n",
      "           1       0.81      0.65      0.72     29752\n",
      "\n",
      "    accuracy                           0.73     55421\n",
      "   macro avg       0.74      0.74      0.73     55421\n",
      "weighted avg       0.74      0.73      0.73     55421\n",
      " \n",
      "\n",
      "Test:\n",
      "              precision    recall  f1-score   support\n",
      "\n",
      "           0       0.67      0.83      0.74      8603\n",
      "           1       0.81      0.64      0.72      9871\n",
      "\n",
      "    accuracy                           0.73     18474\n",
      "   macro avg       0.74      0.73      0.73     18474\n",
      "weighted avg       0.74      0.73      0.73     18474\n",
      "\n"
     ]
    }
   ],
   "source": [
    "print('Train:')\n",
    "print(classification_report(y_train, svc_train_preds), '\\n')\n",
    "print('Test:')\n",
    "print(classification_report(y_test, svc_test_preds))"
   ]
  },
  {
   "cell_type": "markdown",
   "metadata": {},
   "source": [
    "## KNN base model"
   ]
  },
  {
   "cell_type": "code",
   "execution_count": 105,
   "metadata": {},
   "outputs": [],
   "source": [
    "knn_op = OptunaTuner(\n",
    "    KNeighborsClassifier,\n",
    "    accuracy_score,\n",
    "    direction='maximize',\n",
    "    n_jobs=7\n",
    ")\n",
    "knn_op.fit(\n",
    "    100, X_train_trans, y_train, X_test_trans, y_test,\n",
    "    ('n_neighbors', 'int', 1, 50)\n",
    ")"
   ]
  },
  {
   "cell_type": "code",
   "execution_count": 106,
   "metadata": {},
   "outputs": [
    {
     "data": {
      "application/vnd.plotly.v1+json": {
       "config": {
        "plotlyServerURL": "https://plot.ly"
       },
       "data": [
        {
         "mode": "markers",
         "name": "Objective Value",
         "type": "scatter",
         "x": [
          0,
          1,
          2,
          3,
          4,
          5,
          6,
          7,
          8,
          9,
          10,
          11,
          12,
          13,
          14,
          15,
          16,
          17,
          18,
          19,
          20,
          21,
          22,
          23,
          24,
          25,
          26,
          27,
          28,
          29,
          30,
          31,
          32,
          33,
          34,
          35,
          36,
          37,
          38,
          39,
          40,
          41,
          42,
          43,
          44,
          45,
          46,
          47,
          48,
          49,
          50,
          51,
          52,
          53,
          54,
          55,
          56,
          57,
          58,
          59,
          60,
          61,
          62,
          63,
          64,
          65,
          66,
          67,
          68,
          69,
          70,
          71,
          72,
          73,
          74,
          75,
          76,
          77,
          78,
          79,
          80,
          81,
          82,
          83,
          84,
          85,
          86,
          87,
          88,
          89,
          90,
          91,
          92,
          93,
          94,
          95,
          96,
          97,
          98,
          99
         ],
         "y": [
          0.7557648587203638,
          0.7561437696221717,
          0.7535455234383458,
          0.7561437696221717,
          0.7114864133376637,
          0.7534913933095161,
          0.7403919021327271,
          0.7556024683338747,
          0.7497564144202663,
          0.7524629208617517,
          0.7507307567392011,
          0.7550070369167479,
          0.7534913933095161,
          0.7523005304752626,
          0.7506766266103714,
          0.7541409548554725,
          0.751650968929306,
          0.7556024683338747,
          0.7556024683338747,
          0.7556024683338747,
          0.7556024683338747,
          0.7561437696221717,
          0.7543033452419616,
          0.7556024683338747,
          0.7543574753707913,
          0.7549529067879182,
          0.7549529067879182,
          0.7554942080762153,
          0.7543574753707913,
          0.7543574753707913,
          0.7554942080762153,
          0.7543574753707913,
          0.7554942080762153,
          0.7534372631806864,
          0.7535455234383458,
          0.7535455234383458,
          0.7557648587203638,
          0.7557648587203638,
          0.7541409548554725,
          0.7541409548554725,
          0.7541409548554725,
          0.7541409548554725,
          0.755169427303237,
          0.6681823102738984,
          0.7314604308758255,
          0.7114864133376637,
          0.7093753383133052,
          0.7549529067879182,
          0.7530583522788784,
          0.7550070369167479,
          0.7549529067879182,
          0.7534913933095161,
          0.7549529067879182,
          0.7530583522788784,
          0.7556024683338747,
          0.7556024683338747,
          0.7543033452419616,
          0.7550070369167479,
          0.7511637977698387,
          0.7458049150156978,
          0.7550070369167479,
          0.7472122983652701,
          0.7458049150156978,
          0.7543033452419616,
          0.7543033452419616,
          0.7543033452419616,
          0.7543033452419616,
          0.7543033452419616,
          0.7543033452419616,
          0.7561437696221717,
          0.7561437696221717,
          0.7561437696221717,
          0.7556024683338747,
          0.7556024683338747,
          0.7556024683338747,
          0.7556024683338747,
          0.7556024683338747,
          0.7556024683338747,
          0.7556024683338747,
          0.7556024683338747,
          0.7556024683338747,
          0.7557648587203638,
          0.7557648587203638,
          0.7557648587203638,
          0.7541409548554725,
          0.7557648587203638,
          0.7557648587203638,
          0.7557648587203638,
          0.7557648587203638,
          0.7541409548554725,
          0.755169427303237,
          0.7534372631806864,
          0.755169427303237,
          0.755169427303237,
          0.7519216195734546,
          0.755169427303237,
          0.755169427303237,
          0.7534372631806864,
          0.7534372631806864,
          0.7534372631806864
         ]
        },
        {
         "name": "Best Value",
         "type": "scatter",
         "x": [
          0,
          1,
          2,
          3,
          4,
          5,
          6,
          7,
          8,
          9,
          10,
          11,
          12,
          13,
          14,
          15,
          16,
          17,
          18,
          19,
          20,
          21,
          22,
          23,
          24,
          25,
          26,
          27,
          28,
          29,
          30,
          31,
          32,
          33,
          34,
          35,
          36,
          37,
          38,
          39,
          40,
          41,
          42,
          43,
          44,
          45,
          46,
          47,
          48,
          49,
          50,
          51,
          52,
          53,
          54,
          55,
          56,
          57,
          58,
          59,
          60,
          61,
          62,
          63,
          64,
          65,
          66,
          67,
          68,
          69,
          70,
          71,
          72,
          73,
          74,
          75,
          76,
          77,
          78,
          79,
          80,
          81,
          82,
          83,
          84,
          85,
          86,
          87,
          88,
          89,
          90,
          91,
          92,
          93,
          94,
          95,
          96,
          97,
          98,
          99
         ],
         "y": [
          0.7557648587203638,
          0.7561437696221717,
          0.7561437696221717,
          0.7561437696221717,
          0.7561437696221717,
          0.7561437696221717,
          0.7561437696221717,
          0.7561437696221717,
          0.7561437696221717,
          0.7561437696221717,
          0.7561437696221717,
          0.7561437696221717,
          0.7561437696221717,
          0.7561437696221717,
          0.7561437696221717,
          0.7561437696221717,
          0.7561437696221717,
          0.7561437696221717,
          0.7561437696221717,
          0.7561437696221717,
          0.7561437696221717,
          0.7561437696221717,
          0.7561437696221717,
          0.7561437696221717,
          0.7561437696221717,
          0.7561437696221717,
          0.7561437696221717,
          0.7561437696221717,
          0.7561437696221717,
          0.7561437696221717,
          0.7561437696221717,
          0.7561437696221717,
          0.7561437696221717,
          0.7561437696221717,
          0.7561437696221717,
          0.7561437696221717,
          0.7561437696221717,
          0.7561437696221717,
          0.7561437696221717,
          0.7561437696221717,
          0.7561437696221717,
          0.7561437696221717,
          0.7561437696221717,
          0.7561437696221717,
          0.7561437696221717,
          0.7561437696221717,
          0.7561437696221717,
          0.7561437696221717,
          0.7561437696221717,
          0.7561437696221717,
          0.7561437696221717,
          0.7561437696221717,
          0.7561437696221717,
          0.7561437696221717,
          0.7561437696221717,
          0.7561437696221717,
          0.7561437696221717,
          0.7561437696221717,
          0.7561437696221717,
          0.7561437696221717,
          0.7561437696221717,
          0.7561437696221717,
          0.7561437696221717,
          0.7561437696221717,
          0.7561437696221717,
          0.7561437696221717,
          0.7561437696221717,
          0.7561437696221717,
          0.7561437696221717,
          0.7561437696221717,
          0.7561437696221717,
          0.7561437696221717,
          0.7561437696221717,
          0.7561437696221717,
          0.7561437696221717,
          0.7561437696221717,
          0.7561437696221717,
          0.7561437696221717,
          0.7561437696221717,
          0.7561437696221717,
          0.7561437696221717,
          0.7561437696221717,
          0.7561437696221717,
          0.7561437696221717,
          0.7561437696221717,
          0.7561437696221717,
          0.7561437696221717,
          0.7561437696221717,
          0.7561437696221717,
          0.7561437696221717,
          0.7561437696221717,
          0.7561437696221717,
          0.7561437696221717,
          0.7561437696221717,
          0.7561437696221717,
          0.7561437696221717,
          0.7561437696221717,
          0.7561437696221717,
          0.7561437696221717,
          0.7561437696221717
         ]
        }
       ],
       "layout": {
        "template": {
         "data": {
          "bar": [
           {
            "error_x": {
             "color": "#2a3f5f"
            },
            "error_y": {
             "color": "#2a3f5f"
            },
            "marker": {
             "line": {
              "color": "#E5ECF6",
              "width": 0.5
             },
             "pattern": {
              "fillmode": "overlay",
              "size": 10,
              "solidity": 0.2
             }
            },
            "type": "bar"
           }
          ],
          "barpolar": [
           {
            "marker": {
             "line": {
              "color": "#E5ECF6",
              "width": 0.5
             },
             "pattern": {
              "fillmode": "overlay",
              "size": 10,
              "solidity": 0.2
             }
            },
            "type": "barpolar"
           }
          ],
          "carpet": [
           {
            "aaxis": {
             "endlinecolor": "#2a3f5f",
             "gridcolor": "white",
             "linecolor": "white",
             "minorgridcolor": "white",
             "startlinecolor": "#2a3f5f"
            },
            "baxis": {
             "endlinecolor": "#2a3f5f",
             "gridcolor": "white",
             "linecolor": "white",
             "minorgridcolor": "white",
             "startlinecolor": "#2a3f5f"
            },
            "type": "carpet"
           }
          ],
          "choropleth": [
           {
            "colorbar": {
             "outlinewidth": 0,
             "ticks": ""
            },
            "type": "choropleth"
           }
          ],
          "contour": [
           {
            "colorbar": {
             "outlinewidth": 0,
             "ticks": ""
            },
            "colorscale": [
             [
              0,
              "#0d0887"
             ],
             [
              0.1111111111111111,
              "#46039f"
             ],
             [
              0.2222222222222222,
              "#7201a8"
             ],
             [
              0.3333333333333333,
              "#9c179e"
             ],
             [
              0.4444444444444444,
              "#bd3786"
             ],
             [
              0.5555555555555556,
              "#d8576b"
             ],
             [
              0.6666666666666666,
              "#ed7953"
             ],
             [
              0.7777777777777778,
              "#fb9f3a"
             ],
             [
              0.8888888888888888,
              "#fdca26"
             ],
             [
              1,
              "#f0f921"
             ]
            ],
            "type": "contour"
           }
          ],
          "contourcarpet": [
           {
            "colorbar": {
             "outlinewidth": 0,
             "ticks": ""
            },
            "type": "contourcarpet"
           }
          ],
          "heatmap": [
           {
            "colorbar": {
             "outlinewidth": 0,
             "ticks": ""
            },
            "colorscale": [
             [
              0,
              "#0d0887"
             ],
             [
              0.1111111111111111,
              "#46039f"
             ],
             [
              0.2222222222222222,
              "#7201a8"
             ],
             [
              0.3333333333333333,
              "#9c179e"
             ],
             [
              0.4444444444444444,
              "#bd3786"
             ],
             [
              0.5555555555555556,
              "#d8576b"
             ],
             [
              0.6666666666666666,
              "#ed7953"
             ],
             [
              0.7777777777777778,
              "#fb9f3a"
             ],
             [
              0.8888888888888888,
              "#fdca26"
             ],
             [
              1,
              "#f0f921"
             ]
            ],
            "type": "heatmap"
           }
          ],
          "heatmapgl": [
           {
            "colorbar": {
             "outlinewidth": 0,
             "ticks": ""
            },
            "colorscale": [
             [
              0,
              "#0d0887"
             ],
             [
              0.1111111111111111,
              "#46039f"
             ],
             [
              0.2222222222222222,
              "#7201a8"
             ],
             [
              0.3333333333333333,
              "#9c179e"
             ],
             [
              0.4444444444444444,
              "#bd3786"
             ],
             [
              0.5555555555555556,
              "#d8576b"
             ],
             [
              0.6666666666666666,
              "#ed7953"
             ],
             [
              0.7777777777777778,
              "#fb9f3a"
             ],
             [
              0.8888888888888888,
              "#fdca26"
             ],
             [
              1,
              "#f0f921"
             ]
            ],
            "type": "heatmapgl"
           }
          ],
          "histogram": [
           {
            "marker": {
             "pattern": {
              "fillmode": "overlay",
              "size": 10,
              "solidity": 0.2
             }
            },
            "type": "histogram"
           }
          ],
          "histogram2d": [
           {
            "colorbar": {
             "outlinewidth": 0,
             "ticks": ""
            },
            "colorscale": [
             [
              0,
              "#0d0887"
             ],
             [
              0.1111111111111111,
              "#46039f"
             ],
             [
              0.2222222222222222,
              "#7201a8"
             ],
             [
              0.3333333333333333,
              "#9c179e"
             ],
             [
              0.4444444444444444,
              "#bd3786"
             ],
             [
              0.5555555555555556,
              "#d8576b"
             ],
             [
              0.6666666666666666,
              "#ed7953"
             ],
             [
              0.7777777777777778,
              "#fb9f3a"
             ],
             [
              0.8888888888888888,
              "#fdca26"
             ],
             [
              1,
              "#f0f921"
             ]
            ],
            "type": "histogram2d"
           }
          ],
          "histogram2dcontour": [
           {
            "colorbar": {
             "outlinewidth": 0,
             "ticks": ""
            },
            "colorscale": [
             [
              0,
              "#0d0887"
             ],
             [
              0.1111111111111111,
              "#46039f"
             ],
             [
              0.2222222222222222,
              "#7201a8"
             ],
             [
              0.3333333333333333,
              "#9c179e"
             ],
             [
              0.4444444444444444,
              "#bd3786"
             ],
             [
              0.5555555555555556,
              "#d8576b"
             ],
             [
              0.6666666666666666,
              "#ed7953"
             ],
             [
              0.7777777777777778,
              "#fb9f3a"
             ],
             [
              0.8888888888888888,
              "#fdca26"
             ],
             [
              1,
              "#f0f921"
             ]
            ],
            "type": "histogram2dcontour"
           }
          ],
          "mesh3d": [
           {
            "colorbar": {
             "outlinewidth": 0,
             "ticks": ""
            },
            "type": "mesh3d"
           }
          ],
          "parcoords": [
           {
            "line": {
             "colorbar": {
              "outlinewidth": 0,
              "ticks": ""
             }
            },
            "type": "parcoords"
           }
          ],
          "pie": [
           {
            "automargin": true,
            "type": "pie"
           }
          ],
          "scatter": [
           {
            "fillpattern": {
             "fillmode": "overlay",
             "size": 10,
             "solidity": 0.2
            },
            "type": "scatter"
           }
          ],
          "scatter3d": [
           {
            "line": {
             "colorbar": {
              "outlinewidth": 0,
              "ticks": ""
             }
            },
            "marker": {
             "colorbar": {
              "outlinewidth": 0,
              "ticks": ""
             }
            },
            "type": "scatter3d"
           }
          ],
          "scattercarpet": [
           {
            "marker": {
             "colorbar": {
              "outlinewidth": 0,
              "ticks": ""
             }
            },
            "type": "scattercarpet"
           }
          ],
          "scattergeo": [
           {
            "marker": {
             "colorbar": {
              "outlinewidth": 0,
              "ticks": ""
             }
            },
            "type": "scattergeo"
           }
          ],
          "scattergl": [
           {
            "marker": {
             "colorbar": {
              "outlinewidth": 0,
              "ticks": ""
             }
            },
            "type": "scattergl"
           }
          ],
          "scattermapbox": [
           {
            "marker": {
             "colorbar": {
              "outlinewidth": 0,
              "ticks": ""
             }
            },
            "type": "scattermapbox"
           }
          ],
          "scatterpolar": [
           {
            "marker": {
             "colorbar": {
              "outlinewidth": 0,
              "ticks": ""
             }
            },
            "type": "scatterpolar"
           }
          ],
          "scatterpolargl": [
           {
            "marker": {
             "colorbar": {
              "outlinewidth": 0,
              "ticks": ""
             }
            },
            "type": "scatterpolargl"
           }
          ],
          "scatterternary": [
           {
            "marker": {
             "colorbar": {
              "outlinewidth": 0,
              "ticks": ""
             }
            },
            "type": "scatterternary"
           }
          ],
          "surface": [
           {
            "colorbar": {
             "outlinewidth": 0,
             "ticks": ""
            },
            "colorscale": [
             [
              0,
              "#0d0887"
             ],
             [
              0.1111111111111111,
              "#46039f"
             ],
             [
              0.2222222222222222,
              "#7201a8"
             ],
             [
              0.3333333333333333,
              "#9c179e"
             ],
             [
              0.4444444444444444,
              "#bd3786"
             ],
             [
              0.5555555555555556,
              "#d8576b"
             ],
             [
              0.6666666666666666,
              "#ed7953"
             ],
             [
              0.7777777777777778,
              "#fb9f3a"
             ],
             [
              0.8888888888888888,
              "#fdca26"
             ],
             [
              1,
              "#f0f921"
             ]
            ],
            "type": "surface"
           }
          ],
          "table": [
           {
            "cells": {
             "fill": {
              "color": "#EBF0F8"
             },
             "line": {
              "color": "white"
             }
            },
            "header": {
             "fill": {
              "color": "#C8D4E3"
             },
             "line": {
              "color": "white"
             }
            },
            "type": "table"
           }
          ]
         },
         "layout": {
          "annotationdefaults": {
           "arrowcolor": "#2a3f5f",
           "arrowhead": 0,
           "arrowwidth": 1
          },
          "autotypenumbers": "strict",
          "coloraxis": {
           "colorbar": {
            "outlinewidth": 0,
            "ticks": ""
           }
          },
          "colorscale": {
           "diverging": [
            [
             0,
             "#8e0152"
            ],
            [
             0.1,
             "#c51b7d"
            ],
            [
             0.2,
             "#de77ae"
            ],
            [
             0.3,
             "#f1b6da"
            ],
            [
             0.4,
             "#fde0ef"
            ],
            [
             0.5,
             "#f7f7f7"
            ],
            [
             0.6,
             "#e6f5d0"
            ],
            [
             0.7,
             "#b8e186"
            ],
            [
             0.8,
             "#7fbc41"
            ],
            [
             0.9,
             "#4d9221"
            ],
            [
             1,
             "#276419"
            ]
           ],
           "sequential": [
            [
             0,
             "#0d0887"
            ],
            [
             0.1111111111111111,
             "#46039f"
            ],
            [
             0.2222222222222222,
             "#7201a8"
            ],
            [
             0.3333333333333333,
             "#9c179e"
            ],
            [
             0.4444444444444444,
             "#bd3786"
            ],
            [
             0.5555555555555556,
             "#d8576b"
            ],
            [
             0.6666666666666666,
             "#ed7953"
            ],
            [
             0.7777777777777778,
             "#fb9f3a"
            ],
            [
             0.8888888888888888,
             "#fdca26"
            ],
            [
             1,
             "#f0f921"
            ]
           ],
           "sequentialminus": [
            [
             0,
             "#0d0887"
            ],
            [
             0.1111111111111111,
             "#46039f"
            ],
            [
             0.2222222222222222,
             "#7201a8"
            ],
            [
             0.3333333333333333,
             "#9c179e"
            ],
            [
             0.4444444444444444,
             "#bd3786"
            ],
            [
             0.5555555555555556,
             "#d8576b"
            ],
            [
             0.6666666666666666,
             "#ed7953"
            ],
            [
             0.7777777777777778,
             "#fb9f3a"
            ],
            [
             0.8888888888888888,
             "#fdca26"
            ],
            [
             1,
             "#f0f921"
            ]
           ]
          },
          "colorway": [
           "#636efa",
           "#EF553B",
           "#00cc96",
           "#ab63fa",
           "#FFA15A",
           "#19d3f3",
           "#FF6692",
           "#B6E880",
           "#FF97FF",
           "#FECB52"
          ],
          "font": {
           "color": "#2a3f5f"
          },
          "geo": {
           "bgcolor": "white",
           "lakecolor": "white",
           "landcolor": "#E5ECF6",
           "showlakes": true,
           "showland": true,
           "subunitcolor": "white"
          },
          "hoverlabel": {
           "align": "left"
          },
          "hovermode": "closest",
          "mapbox": {
           "style": "light"
          },
          "paper_bgcolor": "white",
          "plot_bgcolor": "#E5ECF6",
          "polar": {
           "angularaxis": {
            "gridcolor": "white",
            "linecolor": "white",
            "ticks": ""
           },
           "bgcolor": "#E5ECF6",
           "radialaxis": {
            "gridcolor": "white",
            "linecolor": "white",
            "ticks": ""
           }
          },
          "scene": {
           "xaxis": {
            "backgroundcolor": "#E5ECF6",
            "gridcolor": "white",
            "gridwidth": 2,
            "linecolor": "white",
            "showbackground": true,
            "ticks": "",
            "zerolinecolor": "white"
           },
           "yaxis": {
            "backgroundcolor": "#E5ECF6",
            "gridcolor": "white",
            "gridwidth": 2,
            "linecolor": "white",
            "showbackground": true,
            "ticks": "",
            "zerolinecolor": "white"
           },
           "zaxis": {
            "backgroundcolor": "#E5ECF6",
            "gridcolor": "white",
            "gridwidth": 2,
            "linecolor": "white",
            "showbackground": true,
            "ticks": "",
            "zerolinecolor": "white"
           }
          },
          "shapedefaults": {
           "line": {
            "color": "#2a3f5f"
           }
          },
          "ternary": {
           "aaxis": {
            "gridcolor": "white",
            "linecolor": "white",
            "ticks": ""
           },
           "baxis": {
            "gridcolor": "white",
            "linecolor": "white",
            "ticks": ""
           },
           "bgcolor": "#E5ECF6",
           "caxis": {
            "gridcolor": "white",
            "linecolor": "white",
            "ticks": ""
           }
          },
          "title": {
           "x": 0.05
          },
          "xaxis": {
           "automargin": true,
           "gridcolor": "white",
           "linecolor": "white",
           "ticks": "",
           "title": {
            "standoff": 15
           },
           "zerolinecolor": "white",
           "zerolinewidth": 2
          },
          "yaxis": {
           "automargin": true,
           "gridcolor": "white",
           "linecolor": "white",
           "ticks": "",
           "title": {
            "standoff": 15
           },
           "zerolinecolor": "white",
           "zerolinewidth": 2
          }
         }
        },
        "title": {
         "text": "Optimization History Plot"
        },
        "xaxis": {
         "title": {
          "text": "Trial"
         }
        },
        "yaxis": {
         "title": {
          "text": "Objective Value"
         }
        }
       }
      }
     },
     "metadata": {},
     "output_type": "display_data"
    }
   ],
   "source": [
    "optuna.visualization.plot_optimization_history(knn_op.study)"
   ]
  },
  {
   "cell_type": "code",
   "execution_count": 107,
   "metadata": {},
   "outputs": [],
   "source": [
    "knn_best = KNeighborsClassifier(**knn_op.model.get_params())\n",
    "knn_best.fit(X_train_trans, y_train)\n",
    "knn_train_preds = knn_best.predict(X_train_trans)\n",
    "knn_test_preds = knn_best.predict(X_test_trans)"
   ]
  },
  {
   "cell_type": "code",
   "execution_count": 108,
   "metadata": {},
   "outputs": [
    {
     "name": "stdout",
     "output_type": "stream",
     "text": [
      "Train:\n",
      "              precision    recall  f1-score   support\n",
      "\n",
      "           0       0.75      0.76      0.75     25669\n",
      "           1       0.79      0.78      0.78     29752\n",
      "\n",
      "    accuracy                           0.77     55421\n",
      "   macro avg       0.77      0.77      0.77     55421\n",
      "weighted avg       0.77      0.77      0.77     55421\n",
      " \n",
      "\n",
      "Test:\n",
      "              precision    recall  f1-score   support\n",
      "\n",
      "           0       0.73      0.75      0.74      8603\n",
      "           1       0.78      0.76      0.77      9871\n",
      "\n",
      "    accuracy                           0.76     18474\n",
      "   macro avg       0.76      0.76      0.76     18474\n",
      "weighted avg       0.76      0.76      0.76     18474\n",
      "\n"
     ]
    }
   ],
   "source": [
    "print('Train:')\n",
    "print(classification_report(y_train, knn_train_preds), '\\n')\n",
    "print('Test:')\n",
    "print(classification_report(y_test, knn_test_preds))"
   ]
  },
  {
   "cell_type": "markdown",
   "metadata": {},
   "source": [
    "## Load best Random Forest model"
   ]
  },
  {
   "cell_type": "code",
   "execution_count": 75,
   "metadata": {},
   "outputs": [],
   "source": [
    "api = wandb.Api()\n",
    "run = api.run(f\"{settings.SETTINGS['WANDB_ENTITY']}/Random-Forest-Classifier/qzbhynm9\")"
   ]
  },
  {
   "cell_type": "code",
   "execution_count": 76,
   "metadata": {},
   "outputs": [],
   "source": [
    "rf_config = json.loads(run.json_config)\n",
    "rf_params = {}\n",
    "for param in rf_config:\n",
    "    rf_params.update({param: rf_config[param]['value']})"
   ]
  },
  {
   "cell_type": "code",
   "execution_count": 110,
   "metadata": {},
   "outputs": [],
   "source": [
    "rf_best = RandomForestClassifier(**rf_params)\n",
    "rf_best.fit(X_train_trans, y_train)\n",
    "rf_train_preds = rf_best.predict(X_train_trans)\n",
    "rf_test_preds = rf_best.predict(X_test_trans)"
   ]
  },
  {
   "cell_type": "code",
   "execution_count": 111,
   "metadata": {},
   "outputs": [
    {
     "name": "stdout",
     "output_type": "stream",
     "text": [
      "Train:\n",
      "              precision    recall  f1-score   support\n",
      "\n",
      "           0       0.76      0.77      0.76     25669\n",
      "           1       0.80      0.79      0.79     29752\n",
      "\n",
      "    accuracy                           0.78     55421\n",
      "   macro avg       0.78      0.78      0.78     55421\n",
      "weighted avg       0.78      0.78      0.78     55421\n",
      " \n",
      "\n",
      "Test:\n",
      "              precision    recall  f1-score   support\n",
      "\n",
      "           0       0.75      0.77      0.76      8603\n",
      "           1       0.79      0.78      0.79      9871\n",
      "\n",
      "    accuracy                           0.77     18474\n",
      "   macro avg       0.77      0.77      0.77     18474\n",
      "weighted avg       0.78      0.77      0.77     18474\n",
      "\n"
     ]
    }
   ],
   "source": [
    "print('Train:')\n",
    "print(classification_report(y_train, rf_train_preds), '\\n')\n",
    "print('Test:')\n",
    "print(classification_report(y_test, rf_test_preds))"
   ]
  },
  {
   "cell_type": "markdown",
   "metadata": {},
   "source": [
    "## Identify overlaps of models errors"
   ]
  },
  {
   "cell_type": "code",
   "execution_count": 112,
   "metadata": {},
   "outputs": [],
   "source": [
    "base_models_df = pd.DataFrame(\n",
    "    {\n",
    "        'svc_preds': svc_test_preds,\n",
    "        'knn_preds': knn_test_preds,\n",
    "        'rf_preds': rf_test_preds,\n",
    "        'y_true': y_test\n",
    "    }\n",
    ")"
   ]
  },
  {
   "cell_type": "code",
   "execution_count": 113,
   "metadata": {},
   "outputs": [],
   "source": [
    "base_models_df['svc_accuracy'] = base_models_df.apply(lambda x: 'error' if x['svc_preds'] != x['y_true'] else 'correct', axis=1)\n",
    "base_models_df['knn_accuracy'] = base_models_df.apply(lambda x: 'error' if x['knn_preds'] != x['y_true'] else 'correct', axis=1)\n",
    "base_models_df['rf_accuracy'] = base_models_df.apply(lambda x: 'error' if x['rf_preds'] != x['y_true'] else 'correct', axis=1)"
   ]
  },
  {
   "cell_type": "code",
   "execution_count": 114,
   "metadata": {},
   "outputs": [],
   "source": [
    "svc_errors = base_models_df[base_models_df['svc_accuracy']=='error'].index\n",
    "knn_errors = base_models_df[base_models_df['knn_accuracy']=='error'].index\n",
    "rf_errors = base_models_df[base_models_df['rf_accuracy']=='error'].index"
   ]
  },
  {
   "cell_type": "code",
   "execution_count": 115,
   "metadata": {},
   "outputs": [
    {
     "data": {
      "image/png": "[encoded data removed]",
      "text/plain": [
       "<Figure size 640x480 with 1 Axes>"
      ]
     },
     "metadata": {},
     "output_type": "display_data"
    }
   ],
   "source": [
    "venn3([set(svc_errors), set(knn_errors), set(rf_errors)], ('SVC', 'KNN', 'RF'))\n",
    "\n",
    "plt.show()"
   ]
  },
  {
   "cell_type": "code",
   "execution_count": 116,
   "metadata": {},
   "outputs": [
    {
     "data": {
      "text/plain": [
       "0.1637436397098625"
      ]
     },
     "execution_count": 116,
     "metadata": {},
     "output_type": "execute_result"
    }
   ],
   "source": [
    "# Overlap of all models\n",
    "len(\n",
    "    set.intersection(\n",
    "        set(svc_errors),\n",
    "        set(knn_errors),\n",
    "        set(rf_errors)\n",
    "    )\n",
    ") / base_models_df.shape[0]"
   ]
  },
  {
   "cell_type": "code",
   "execution_count": 117,
   "metadata": {},
   "outputs": [
    {
     "data": {
      "text/plain": [
       "0.19459781314279528"
      ]
     },
     "execution_count": 117,
     "metadata": {},
     "output_type": "execute_result"
    }
   ],
   "source": [
    "# Overlap of SVC vs KNN\n",
    "len(\n",
    "    set.intersection(\n",
    "        set(svc_errors),\n",
    "        set(knn_errors)\n",
    "    )\n",
    ") / base_models_df.shape[0]"
   ]
  },
  {
   "cell_type": "code",
   "execution_count": 118,
   "metadata": {},
   "outputs": [
    {
     "data": {
      "text/plain": [
       "0.17662661037133268"
      ]
     },
     "execution_count": 118,
     "metadata": {},
     "output_type": "execute_result"
    }
   ],
   "source": [
    "# Overlap of SVC vs RF\n",
    "len(\n",
    "    set.intersection(\n",
    "        set(svc_errors),\n",
    "        set(rf_errors)\n",
    "    )\n",
    ") / base_models_df.shape[0]"
   ]
  },
  {
   "cell_type": "code",
   "execution_count": 119,
   "metadata": {},
   "outputs": [
    {
     "data": {
      "text/plain": [
       "0.19443542275630615"
      ]
     },
     "execution_count": 119,
     "metadata": {},
     "output_type": "execute_result"
    }
   ],
   "source": [
    "# Overlap of RF vs KNN\n",
    "len(\n",
    "    set.intersection(\n",
    "        set(rf_errors),\n",
    "        set(knn_errors)\n",
    "    )\n",
    ") / base_models_df.shape[0]"
   ]
  },
  {
   "cell_type": "markdown",
   "metadata": {},
   "source": [
    "## Models Stacking"
   ]
  },
  {
   "cell_type": "code",
   "execution_count": 120,
   "metadata": {},
   "outputs": [],
   "source": [
    "stacking_model = StackingClassifier(\n",
    "    estimators=[\n",
    "        ('svc', svc_best),\n",
    "        ('knn', knn_best),\n",
    "        ('rf', rf_best)\n",
    "    ],\n",
    "    final_estimator=LogisticRegression(),\n",
    "    cv=5\n",
    ")"
   ]
  },
  {
   "cell_type": "code",
   "execution_count": 121,
   "metadata": {},
   "outputs": [
    {
     "name": "stdout",
     "output_type": "stream",
     "text": [
      "huggingface/tokenizers: The current process just got forked, after parallelism has already been used. Disabling parallelism to avoid deadlocks...\n",
      "To disable this warning, you can either:\n",
      "\t- Avoid using `tokenizers` before the fork if possible\n",
      "\t- Explicitly set the environment variable TOKENIZERS_PARALLELISM=(true | false)\n",
      "huggingface/tokenizers: The current process just got forked, after parallelism has already been used. Disabling parallelism to avoid deadlocks...\n",
      "To disable this warning, you can either:\n",
      "\t- Avoid using `tokenizers` before the fork if possible\n",
      "\t- Explicitly set the environment variable TOKENIZERS_PARALLELISM=(true | false)\n",
      "huggingface/tokenizers: The current process just got forked, after parallelism has already been used. Disabling parallelism to avoid deadlocks...\n",
      "To disable this warning, you can either:\n",
      "\t- Avoid using `tokenizers` before the fork if possible\n",
      "\t- Explicitly set the environment variable TOKENIZERS_PARALLELISM=(true | false)\n",
      "huggingface/tokenizers: The current process just got forked, after parallelism has already been used. Disabling parallelism to avoid deadlocks...\n",
      "To disable this warning, you can either:\n",
      "\t- Avoid using `tokenizers` before the fork if possible\n",
      "\t- Explicitly set the environment variable TOKENIZERS_PARALLELISM=(true | false)\n",
      "huggingface/tokenizers: The current process just got forked, after parallelism has already been used. Disabling parallelism to avoid deadlocks...\n",
      "To disable this warning, you can either:\n",
      "\t- Avoid using `tokenizers` before the fork if possible\n",
      "\t- Explicitly set the environment variable TOKENIZERS_PARALLELISM=(true | false)\n",
      "huggingface/tokenizers: The current process just got forked, after parallelism has already been used. Disabling parallelism to avoid deadlocks...\n",
      "To disable this warning, you can either:\n",
      "\t- Avoid using `tokenizers` before the fork if possible\n",
      "\t- Explicitly set the environment variable TOKENIZERS_PARALLELISM=(true | false)\n",
      "huggingface/tokenizers: The current process just got forked, after parallelism has already been used. Disabling parallelism to avoid deadlocks...\n",
      "To disable this warning, you can either:\n",
      "\t- Avoid using `tokenizers` before the fork if possible\n",
      "\t- Explicitly set the environment variable TOKENIZERS_PARALLELISM=(true | false)\n",
      "huggingface/tokenizers: The current process just got forked, after parallelism has already been used. Disabling parallelism to avoid deadlocks...\n",
      "To disable this warning, you can either:\n",
      "\t- Avoid using `tokenizers` before the fork if possible\n",
      "\t- Explicitly set the environment variable TOKENIZERS_PARALLELISM=(true | false)\n",
      "huggingface/tokenizers: The current process just got forked, after parallelism has already been used. Disabling parallelism to avoid deadlocks...\n",
      "To disable this warning, you can either:\n",
      "\t- Avoid using `tokenizers` before the fork if possible\n",
      "\t- Explicitly set the environment variable TOKENIZERS_PARALLELISM=(true | false)\n",
      "huggingface/tokenizers: The current process just got forked, after parallelism has already been used. Disabling parallelism to avoid deadlocks...\n",
      "To disable this warning, you can either:\n",
      "\t- Avoid using `tokenizers` before the fork if possible\n",
      "\t- Explicitly set the environment variable TOKENIZERS_PARALLELISM=(true | false)\n",
      "huggingface/tokenizers: The current process just got forked, after parallelism has already been used. Disabling parallelism to avoid deadlocks...\n",
      "To disable this warning, you can either:\n",
      "\t- Avoid using `tokenizers` before the fork if possible\n",
      "\t- Explicitly set the environment variable TOKENIZERS_PARALLELISM=(true | false)\n",
      "huggingface/tokenizers: The current process just got forked, after parallelism has already been used. Disabling parallelism to avoid deadlocks...\n",
      "To disable this warning, you can either:\n",
      "\t- Avoid using `tokenizers` before the fork if possible\n",
      "\t- Explicitly set the environment variable TOKENIZERS_PARALLELISM=(true | false)\n",
      "huggingface/tokenizers: The current process just got forked, after parallelism has already been used. Disabling parallelism to avoid deadlocks...\n",
      "To disable this warning, you can either:\n",
      "\t- Avoid using `tokenizers` before the fork if possible\n",
      "\t- Explicitly set the environment variable TOKENIZERS_PARALLELISM=(true | false)\n",
      "huggingface/tokenizers: The current process just got forked, after parallelism has already been used. Disabling parallelism to avoid deadlocks...\n",
      "To disable this warning, you can either:\n",
      "\t- Avoid using `tokenizers` before the fork if possible\n",
      "\t- Explicitly set the environment variable TOKENIZERS_PARALLELISM=(true | false)\n"
     ]
    }
   ],
   "source": [
    "stacking_model.fit(X_train_trans, y_train)\n",
    "stacking_train_preds = stacking_model.predict(X_train_trans)\n",
    "stacking_test_preds = stacking_model.predict(X_test_trans)"
   ]
  },
  {
   "cell_type": "code",
   "execution_count": 122,
   "metadata": {},
   "outputs": [
    {
     "name": "stdout",
     "output_type": "stream",
     "text": [
      "Train:\n",
      "              precision    recall  f1-score   support\n",
      "\n",
      "           0       0.76      0.77      0.76     25669\n",
      "           1       0.80      0.79      0.79     29752\n",
      "\n",
      "    accuracy                           0.78     55421\n",
      "   macro avg       0.78      0.78      0.78     55421\n",
      "weighted avg       0.78      0.78      0.78     55421\n",
      " \n",
      "\n",
      "Test:\n",
      "              precision    recall  f1-score   support\n",
      "\n",
      "           0       0.75      0.77      0.76      8603\n",
      "           1       0.79      0.78      0.79      9871\n",
      "\n",
      "    accuracy                           0.77     18474\n",
      "   macro avg       0.77      0.77      0.77     18474\n",
      "weighted avg       0.77      0.77      0.77     18474\n",
      "\n"
     ]
    }
   ],
   "source": [
    "print('Train:')\n",
    "print(classification_report(y_train, stacking_train_preds), '\\n')\n",
    "print('Test:')\n",
    "print(classification_report(y_test, stacking_test_preds))"
   ]
  },
  {
   "cell_type": "code",
   "execution_count": null,
   "metadata": {},
   "outputs": [],
   "source": []
  }
 ],
 "metadata": {
  "kernelspec": {
   "display_name": "Python 3",
   "language": "python",
   "name": "python3"
  },
  "language_info": {
   "codemirror_mode": {
    "name": "ipython",
    "version": 3
   },
   "file_extension": ".py",
   "mimetype": "text/x-python",
   "name": "python",
   "nbconvert_exporter": "python",
   "pygments_lexer": "ipython3",
   "version": "3.10.9"
  },
  "orig_nbformat": 4
 },
 "nbformat": 4,
 "nbformat_minor": 2
}
