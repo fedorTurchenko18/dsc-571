{
 "cells": [
  {
   "cell_type": "code",
   "execution_count": 66,
   "metadata": {},
   "outputs": [],
   "source": [
    "import pandas as pd\n",
    "import joblib\n",
    "import json\n",
    "from functools import partial\n",
    "\n",
    "from service.app_api.features.extractor import FeatureExtractor\n",
    "from service.app_api.features.final_processing import CustomColumnTransformer\n",
    "from service.app_api.configs import utils\n",
    "from tuning.optuna_tuning import OptunaTuner\n",
    "import optuna\n",
    "import wandb\n",
    "\n",
    "from sklearn.preprocessing import RobustScaler\n",
    "from sklearn.metrics import classification_report, f1_score, confusion_matrix, ConfusionMatrixDisplay, make_scorer\n",
    "# Base classifiers\n",
    "from sklearn.neighbors import KNeighborsClassifier\n",
    "from sklearn.svm import SVC\n",
    "from sklearn.ensemble import RandomForestClassifier\n",
    "from xgboost import XGBClassifier\n",
    "from sklearn.model_selection import cross_val_score, GridSearchCV\n",
    "# Meta classifier\n",
    "from sklearn.linear_model import LogisticRegression\n",
    "from sklearn.ensemble import StackingClassifier, VotingClassifier"
   ]
  },
  {
   "cell_type": "code",
   "execution_count": 2,
   "metadata": {},
   "outputs": [],
   "source": [
    "try:\n",
    "    customers, sales = joblib.load('customers.joblib'), joblib.load('sales.joblib')\n",
    "except:\n",
    "    customers, sales = pd.read_excel('ucy_eko_data.xlsx', sheet_name='smile_customers'), pd.read_excel('ucy_eko_data.xlsx', sheet_name='smile_sales')\n",
    "    joblib.dump(customers, 'customers.joblib')\n",
    "    joblib.dump(sales, 'sales.joblib')"
   ]
  },
  {
   "cell_type": "code",
   "execution_count": 3,
   "metadata": {},
   "outputs": [
    {
     "name": "stdout",
     "output_type": "stream",
     "text": [
      "Token will not been saved to git credential helper. Pass `add_to_git_credential=True` if you want to set the git credential as well.\n",
      "Token is valid (permission: write).\n",
      "Your token has been saved to /Users/fedorturchenko/.cache/huggingface/token\n",
      "Login successful\n",
      "Successfully logged out.\n",
      "['fuel_qty', 'labour_cards_catalogue_consumables_qty', 'peak_hours_qty', 'usual_hours_qty', 'weekday_qty', 'weekend_qty', 'unleaded_95_qty', 'last_purchase_qty_share']\n"
     ]
    }
   ],
   "source": [
    "fe = FeatureExtractor(target_month=3, n_purchases=2, perform_split=True, generation_type='continuous', filtering_set='customers', period=60, subperiod=15)\n",
    "X_train, X_test, y_train, y_test = fe.transform(sales=sales, customers=customers)"
   ]
  },
  {
   "cell_type": "code",
   "execution_count": 49,
   "metadata": {},
   "outputs": [],
   "source": [
    "y_train.to_csv('y_train_2_purchases.csv', index=False)\n",
    "y_test.to_csv('y_test_2_purchases.csv', index=False)"
   ]
  },
  {
   "cell_type": "code",
   "execution_count": 4,
   "metadata": {},
   "outputs": [],
   "source": [
    "qty_cols = [col for col in X_train.columns if 'qty' in col]\n",
    "col_transform = CustomColumnTransformer(\n",
    "    cols_for_scaling=qty_cols,\n",
    "    scaling_algo=RobustScaler(),\n",
    "    cols_for_ohe=None,\n",
    "    cols_for_winsor=None,\n",
    "    cols_to_skip=[col for col in X_train.columns if 'qty' in col]\n",
    ")"
   ]
  },
  {
   "cell_type": "code",
   "execution_count": 5,
   "metadata": {},
   "outputs": [],
   "source": [
    "X_train_trans = col_transform.fit_transform(X_train)\n",
    "X_test_trans = col_transform.fit_transform(X_test)"
   ]
  },
  {
   "cell_type": "code",
   "execution_count": 4,
   "metadata": {},
   "outputs": [],
   "source": [
    "f1_score_average_weighted = partial(f1_score, average='weighted')"
   ]
  },
  {
   "cell_type": "code",
   "execution_count": 5,
   "metadata": {},
   "outputs": [],
   "source": [
    "def params_to_txt(optuna_object):\n",
    "    model = optuna_object.model\n",
    "    model_name = model.__str__()[:model.__str__().find('(')]\n",
    "    best_params = model.get_params()\n",
    "    with open(f'{model_name}.txt', 'w') as f:\n",
    "        f.write(json.dumps(best_params, indent=4))"
   ]
  },
  {
   "cell_type": "code",
   "execution_count": 21,
   "metadata": {},
   "outputs": [],
   "source": [
    "def load_params(model):\n",
    "    try:\n",
    "        model = model()\n",
    "    except TypeError:\n",
    "        pass\n",
    "    model_name = model.__str__()[:model.__str__().find('(')]\n",
    "    with open(f'{model_name}.txt', 'r') as f:\n",
    "        params = json.loads(f.read())\n",
    "    return params"
   ]
  },
  {
   "cell_type": "markdown",
   "metadata": {},
   "source": [
    "## SVC base model"
   ]
  },
  {
   "cell_type": "code",
   "execution_count": 8,
   "metadata": {},
   "outputs": [],
   "source": [
    "# svc_op = OptunaTuner(\n",
    "#     SVC,\n",
    "#     accuracy_score,\n",
    "#     direction='maximize',\n",
    "#     random_state=571,\n",
    "#     verbose=False,\n",
    "#     tol=1\n",
    "# )\n",
    "# svc_op.fit(\n",
    "#     50, X_train_trans, y_train, X_test_trans, y_test,\n",
    "#     ('C', 'float', 1e-3, 1.0),\n",
    "#     ('kernel', 'categorical', ['linear', 'poly', 'rbf', 'sigmoid']),\n",
    "#     ('degree', 'int', 1, 15)\n",
    "# )"
   ]
  },
  {
   "cell_type": "code",
   "execution_count": 9,
   "metadata": {},
   "outputs": [],
   "source": [
    "# optuna.visualization.plot_optimization_history(svc_op.study)"
   ]
  },
  {
   "cell_type": "code",
   "execution_count": 10,
   "metadata": {},
   "outputs": [],
   "source": [
    "# svc_op.model.get_params()"
   ]
  },
  {
   "cell_type": "code",
   "execution_count": 36,
   "metadata": {},
   "outputs": [],
   "source": [
    "svc_best = SVC(\n",
    "    verbose=False,\n",
    "    random_state=571,\n",
    "    tol=1,\n",
    "    probability=True\n",
    ")\n",
    "svc_best.fit(X_train, y_train)\n",
    "svc_train_preds = svc_best.predict(X_train)\n",
    "svc_test_preds = svc_best.predict(X_test)"
   ]
  },
  {
   "cell_type": "code",
   "execution_count": 37,
   "metadata": {},
   "outputs": [
    {
     "name": "stdout",
     "output_type": "stream",
     "text": [
      "Train:\n",
      "              precision    recall  f1-score   support\n",
      "\n",
      "           0       0.80      0.90      0.85     14415\n",
      "           1       0.77      0.58      0.66      7882\n",
      "\n",
      "    accuracy                           0.79     22297\n",
      "   macro avg       0.78      0.74      0.75     22297\n",
      "weighted avg       0.79      0.79      0.78     22297\n",
      " \n",
      "\n",
      "Test:\n",
      "              precision    recall  f1-score   support\n",
      "\n",
      "           0       0.79      0.90      0.84      4744\n",
      "           1       0.76      0.57      0.65      2689\n",
      "\n",
      "    accuracy                           0.78      7433\n",
      "   macro avg       0.77      0.74      0.75      7433\n",
      "weighted avg       0.78      0.78      0.77      7433\n",
      "\n"
     ]
    }
   ],
   "source": [
    "print('Train:')\n",
    "print(classification_report(y_train, svc_train_preds), '\\n')\n",
    "print('Test:')\n",
    "print(classification_report(y_test, svc_test_preds))"
   ]
  },
  {
   "cell_type": "markdown",
   "metadata": {},
   "source": [
    "## KNN base model"
   ]
  },
  {
   "cell_type": "code",
   "execution_count": 13,
   "metadata": {},
   "outputs": [],
   "source": [
    "knn_op = OptunaTuner(\n",
    "    KNeighborsClassifier,\n",
    "    f1_score_average_weighted,\n",
    "    direction='maximize',\n",
    "    n_jobs=7\n",
    ")\n",
    "knn_op.fit(\n",
    "    100, X_train, y_train, X_test, y_test,\n",
    "    ('n_neighbors', 'int', 1, 50)\n",
    ")"
   ]
  },
  {
   "cell_type": "code",
   "execution_count": 14,
   "metadata": {},
   "outputs": [
    {
     "data": {
      "application/vnd.plotly.v1+json": {
       "config": {
        "plotlyServerURL": "https://plot.ly"
       },
       "data": [
        {
         "mode": "markers",
         "name": "Objective Value",
         "type": "scatter",
         "x": [
          0,
          1,
          2,
          3,
          4,
          5,
          6,
          7,
          8,
          9,
          10,
          11,
          12,
          13,
          14,
          15,
          16,
          17,
          18,
          19,
          20,
          21,
          22,
          23,
          24,
          25,
          26,
          27,
          28,
          29,
          30,
          31,
          32,
          33,
          34,
          35,
          36,
          37,
          38,
          39,
          40,
          41,
          42,
          43,
          44,
          45,
          46,
          47,
          48,
          49,
          50,
          51,
          52,
          53,
          54,
          55,
          56,
          57,
          58,
          59,
          60,
          61,
          62,
          63,
          64,
          65,
          66,
          67,
          68,
          69,
          70,
          71,
          72,
          73,
          74,
          75,
          76,
          77,
          78,
          79,
          80,
          81,
          82,
          83,
          84,
          85,
          86,
          87,
          88,
          89,
          90,
          91,
          92,
          93,
          94,
          95,
          96,
          97,
          98,
          99
         ],
         "y": [
          0.7781181533610544,
          0.777118580555699,
          0.7675266411987791,
          0.7529979391627971,
          0.7783036851139731,
          0.7746587632933496,
          0.7773120488094495,
          0.7742965930155403,
          0.7779595285306339,
          0.7651076797279427,
          0.7783730283698995,
          0.778538469307705,
          0.7779317820644273,
          0.7696952625062713,
          0.7775870268889548,
          0.6967366688949035,
          0.7798196255605956,
          0.7770769283645033,
          0.7760347608082228,
          0.773521781899565,
          0.7770296025691432,
          0.7756876537115022,
          0.7783730283698995,
          0.777118580555699,
          0.7798340585935581,
          0.7798340585935581,
          0.7717125955888868,
          0.777118580555699,
          0.7783730283698995,
          0.7742965930155403,
          0.7717125955888868,
          0.7635185702403297,
          0.7635185702403297,
          0.7717125955888868,
          0.7773120488094495,
          0.7779317820644273,
          0.7779317820644273,
          0.7740362744750224,
          0.773521781899565,
          0.7740362744750224,
          0.773521781899565,
          0.773521781899565,
          0.7740362744750224,
          0.773521781899565,
          0.773521781899565,
          0.778538469307705,
          0.773521781899565,
          0.778538469307705,
          0.778538469307705,
          0.778538469307705,
          0.7760347608082228,
          0.778538469307705,
          0.7744033792856791,
          0.7775870268889548,
          0.7775870268889548,
          0.7744033792856791,
          0.7775870268889548,
          0.7775870268889548,
          0.7744033792856791,
          0.7775870268889548,
          0.7770769283645033,
          0.7781181533610544,
          0.7798196255605956,
          0.7781181533610544,
          0.7798196255605956,
          0.7798340585935581,
          0.7781181533610544,
          0.778538469307705,
          0.778538469307705,
          0.7781181533610544,
          0.7798340585935581,
          0.7758755771663113,
          0.7770769283645033,
          0.7770769283645033,
          0.7769168348066562,
          0.7758755771663113,
          0.7758755771663113,
          0.7798340585935581,
          0.7798340585935581,
          0.7798340585935581,
          0.7746587632933496,
          0.7798340585935581,
          0.7756876537115022,
          0.7746587632933496,
          0.7746587632933496,
          0.7798340585935581,
          0.7798340585935581,
          0.7798340585935581,
          0.7798340585935581,
          0.7798340585935581,
          0.7798340585935581,
          0.7798340585935581,
          0.7798340585935581,
          0.7798340585935581,
          0.7783730283698995,
          0.7770296025691432,
          0.7783730283698995,
          0.7783730283698995,
          0.7783730283698995,
          0.778538469307705
         ]
        },
        {
         "name": "Best Value",
         "type": "scatter",
         "x": [
          0,
          1,
          2,
          3,
          4,
          5,
          6,
          7,
          8,
          9,
          10,
          11,
          12,
          13,
          14,
          15,
          16,
          17,
          18,
          19,
          20,
          21,
          22,
          23,
          24,
          25,
          26,
          27,
          28,
          29,
          30,
          31,
          32,
          33,
          34,
          35,
          36,
          37,
          38,
          39,
          40,
          41,
          42,
          43,
          44,
          45,
          46,
          47,
          48,
          49,
          50,
          51,
          52,
          53,
          54,
          55,
          56,
          57,
          58,
          59,
          60,
          61,
          62,
          63,
          64,
          65,
          66,
          67,
          68,
          69,
          70,
          71,
          72,
          73,
          74,
          75,
          76,
          77,
          78,
          79,
          80,
          81,
          82,
          83,
          84,
          85,
          86,
          87,
          88,
          89,
          90,
          91,
          92,
          93,
          94,
          95,
          96,
          97,
          98,
          99
         ],
         "y": [
          0.7781181533610544,
          0.7781181533610544,
          0.7781181533610544,
          0.7781181533610544,
          0.7783036851139731,
          0.7783036851139731,
          0.7783036851139731,
          0.7783036851139731,
          0.7783036851139731,
          0.7783036851139731,
          0.7783730283698995,
          0.778538469307705,
          0.778538469307705,
          0.778538469307705,
          0.778538469307705,
          0.778538469307705,
          0.7798196255605956,
          0.7798196255605956,
          0.7798196255605956,
          0.7798196255605956,
          0.7798196255605956,
          0.7798196255605956,
          0.7798196255605956,
          0.7798196255605956,
          0.7798340585935581,
          0.7798340585935581,
          0.7798340585935581,
          0.7798340585935581,
          0.7798340585935581,
          0.7798340585935581,
          0.7798340585935581,
          0.7798340585935581,
          0.7798340585935581,
          0.7798340585935581,
          0.7798340585935581,
          0.7798340585935581,
          0.7798340585935581,
          0.7798340585935581,
          0.7798340585935581,
          0.7798340585935581,
          0.7798340585935581,
          0.7798340585935581,
          0.7798340585935581,
          0.7798340585935581,
          0.7798340585935581,
          0.7798340585935581,
          0.7798340585935581,
          0.7798340585935581,
          0.7798340585935581,
          0.7798340585935581,
          0.7798340585935581,
          0.7798340585935581,
          0.7798340585935581,
          0.7798340585935581,
          0.7798340585935581,
          0.7798340585935581,
          0.7798340585935581,
          0.7798340585935581,
          0.7798340585935581,
          0.7798340585935581,
          0.7798340585935581,
          0.7798340585935581,
          0.7798340585935581,
          0.7798340585935581,
          0.7798340585935581,
          0.7798340585935581,
          0.7798340585935581,
          0.7798340585935581,
          0.7798340585935581,
          0.7798340585935581,
          0.7798340585935581,
          0.7798340585935581,
          0.7798340585935581,
          0.7798340585935581,
          0.7798340585935581,
          0.7798340585935581,
          0.7798340585935581,
          0.7798340585935581,
          0.7798340585935581,
          0.7798340585935581,
          0.7798340585935581,
          0.7798340585935581,
          0.7798340585935581,
          0.7798340585935581,
          0.7798340585935581,
          0.7798340585935581,
          0.7798340585935581,
          0.7798340585935581,
          0.7798340585935581,
          0.7798340585935581,
          0.7798340585935581,
          0.7798340585935581,
          0.7798340585935581,
          0.7798340585935581,
          0.7798340585935581,
          0.7798340585935581,
          0.7798340585935581,
          0.7798340585935581,
          0.7798340585935581,
          0.7798340585935581
         ]
        }
       ],
       "layout": {
        "template": {
         "data": {
          "bar": [
           {
            "error_x": {
             "color": "#2a3f5f"
            },
            "error_y": {
             "color": "#2a3f5f"
            },
            "marker": {
             "line": {
              "color": "#E5ECF6",
              "width": 0.5
             },
             "pattern": {
              "fillmode": "overlay",
              "size": 10,
              "solidity": 0.2
             }
            },
            "type": "bar"
           }
          ],
          "barpolar": [
           {
            "marker": {
             "line": {
              "color": "#E5ECF6",
              "width": 0.5
             },
             "pattern": {
              "fillmode": "overlay",
              "size": 10,
              "solidity": 0.2
             }
            },
            "type": "barpolar"
           }
          ],
          "carpet": [
           {
            "aaxis": {
             "endlinecolor": "#2a3f5f",
             "gridcolor": "white",
             "linecolor": "white",
             "minorgridcolor": "white",
             "startlinecolor": "#2a3f5f"
            },
            "baxis": {
             "endlinecolor": "#2a3f5f",
             "gridcolor": "white",
             "linecolor": "white",
             "minorgridcolor": "white",
             "startlinecolor": "#2a3f5f"
            },
            "type": "carpet"
           }
          ],
          "choropleth": [
           {
            "colorbar": {
             "outlinewidth": 0,
             "ticks": ""
            },
            "type": "choropleth"
           }
          ],
          "contour": [
           {
            "colorbar": {
             "outlinewidth": 0,
             "ticks": ""
            },
            "colorscale": [
             [
              0,
              "#0d0887"
             ],
             [
              0.1111111111111111,
              "#46039f"
             ],
             [
              0.2222222222222222,
              "#7201a8"
             ],
             [
              0.3333333333333333,
              "#9c179e"
             ],
             [
              0.4444444444444444,
              "#bd3786"
             ],
             [
              0.5555555555555556,
              "#d8576b"
             ],
             [
              0.6666666666666666,
              "#ed7953"
             ],
             [
              0.7777777777777778,
              "#fb9f3a"
             ],
             [
              0.8888888888888888,
              "#fdca26"
             ],
             [
              1,
              "#f0f921"
             ]
            ],
            "type": "contour"
           }
          ],
          "contourcarpet": [
           {
            "colorbar": {
             "outlinewidth": 0,
             "ticks": ""
            },
            "type": "contourcarpet"
           }
          ],
          "heatmap": [
           {
            "colorbar": {
             "outlinewidth": 0,
             "ticks": ""
            },
            "colorscale": [
             [
              0,
              "#0d0887"
             ],
             [
              0.1111111111111111,
              "#46039f"
             ],
             [
              0.2222222222222222,
              "#7201a8"
             ],
             [
              0.3333333333333333,
              "#9c179e"
             ],
             [
              0.4444444444444444,
              "#bd3786"
             ],
             [
              0.5555555555555556,
              "#d8576b"
             ],
             [
              0.6666666666666666,
              "#ed7953"
             ],
             [
              0.7777777777777778,
              "#fb9f3a"
             ],
             [
              0.8888888888888888,
              "#fdca26"
             ],
             [
              1,
              "#f0f921"
             ]
            ],
            "type": "heatmap"
           }
          ],
          "heatmapgl": [
           {
            "colorbar": {
             "outlinewidth": 0,
             "ticks": ""
            },
            "colorscale": [
             [
              0,
              "#0d0887"
             ],
             [
              0.1111111111111111,
              "#46039f"
             ],
             [
              0.2222222222222222,
              "#7201a8"
             ],
             [
              0.3333333333333333,
              "#9c179e"
             ],
             [
              0.4444444444444444,
              "#bd3786"
             ],
             [
              0.5555555555555556,
              "#d8576b"
             ],
             [
              0.6666666666666666,
              "#ed7953"
             ],
             [
              0.7777777777777778,
              "#fb9f3a"
             ],
             [
              0.8888888888888888,
              "#fdca26"
             ],
             [
              1,
              "#f0f921"
             ]
            ],
            "type": "heatmapgl"
           }
          ],
          "histogram": [
           {
            "marker": {
             "pattern": {
              "fillmode": "overlay",
              "size": 10,
              "solidity": 0.2
             }
            },
            "type": "histogram"
           }
          ],
          "histogram2d": [
           {
            "colorbar": {
             "outlinewidth": 0,
             "ticks": ""
            },
            "colorscale": [
             [
              0,
              "#0d0887"
             ],
             [
              0.1111111111111111,
              "#46039f"
             ],
             [
              0.2222222222222222,
              "#7201a8"
             ],
             [
              0.3333333333333333,
              "#9c179e"
             ],
             [
              0.4444444444444444,
              "#bd3786"
             ],
             [
              0.5555555555555556,
              "#d8576b"
             ],
             [
              0.6666666666666666,
              "#ed7953"
             ],
             [
              0.7777777777777778,
              "#fb9f3a"
             ],
             [
              0.8888888888888888,
              "#fdca26"
             ],
             [
              1,
              "#f0f921"
             ]
            ],
            "type": "histogram2d"
           }
          ],
          "histogram2dcontour": [
           {
            "colorbar": {
             "outlinewidth": 0,
             "ticks": ""
            },
            "colorscale": [
             [
              0,
              "#0d0887"
             ],
             [
              0.1111111111111111,
              "#46039f"
             ],
             [
              0.2222222222222222,
              "#7201a8"
             ],
             [
              0.3333333333333333,
              "#9c179e"
             ],
             [
              0.4444444444444444,
              "#bd3786"
             ],
             [
              0.5555555555555556,
              "#d8576b"
             ],
             [
              0.6666666666666666,
              "#ed7953"
             ],
             [
              0.7777777777777778,
              "#fb9f3a"
             ],
             [
              0.8888888888888888,
              "#fdca26"
             ],
             [
              1,
              "#f0f921"
             ]
            ],
            "type": "histogram2dcontour"
           }
          ],
          "mesh3d": [
           {
            "colorbar": {
             "outlinewidth": 0,
             "ticks": ""
            },
            "type": "mesh3d"
           }
          ],
          "parcoords": [
           {
            "line": {
             "colorbar": {
              "outlinewidth": 0,
              "ticks": ""
             }
            },
            "type": "parcoords"
           }
          ],
          "pie": [
           {
            "automargin": true,
            "type": "pie"
           }
          ],
          "scatter": [
           {
            "fillpattern": {
             "fillmode": "overlay",
             "size": 10,
             "solidity": 0.2
            },
            "type": "scatter"
           }
          ],
          "scatter3d": [
           {
            "line": {
             "colorbar": {
              "outlinewidth": 0,
              "ticks": ""
             }
            },
            "marker": {
             "colorbar": {
              "outlinewidth": 0,
              "ticks": ""
             }
            },
            "type": "scatter3d"
           }
          ],
          "scattercarpet": [
           {
            "marker": {
             "colorbar": {
              "outlinewidth": 0,
              "ticks": ""
             }
            },
            "type": "scattercarpet"
           }
          ],
          "scattergeo": [
           {
            "marker": {
             "colorbar": {
              "outlinewidth": 0,
              "ticks": ""
             }
            },
            "type": "scattergeo"
           }
          ],
          "scattergl": [
           {
            "marker": {
             "colorbar": {
              "outlinewidth": 0,
              "ticks": ""
             }
            },
            "type": "scattergl"
           }
          ],
          "scattermapbox": [
           {
            "marker": {
             "colorbar": {
              "outlinewidth": 0,
              "ticks": ""
             }
            },
            "type": "scattermapbox"
           }
          ],
          "scatterpolar": [
           {
            "marker": {
             "colorbar": {
              "outlinewidth": 0,
              "ticks": ""
             }
            },
            "type": "scatterpolar"
           }
          ],
          "scatterpolargl": [
           {
            "marker": {
             "colorbar": {
              "outlinewidth": 0,
              "ticks": ""
             }
            },
            "type": "scatterpolargl"
           }
          ],
          "scatterternary": [
           {
            "marker": {
             "colorbar": {
              "outlinewidth": 0,
              "ticks": ""
             }
            },
            "type": "scatterternary"
           }
          ],
          "surface": [
           {
            "colorbar": {
             "outlinewidth": 0,
             "ticks": ""
            },
            "colorscale": [
             [
              0,
              "#0d0887"
             ],
             [
              0.1111111111111111,
              "#46039f"
             ],
             [
              0.2222222222222222,
              "#7201a8"
             ],
             [
              0.3333333333333333,
              "#9c179e"
             ],
             [
              0.4444444444444444,
              "#bd3786"
             ],
             [
              0.5555555555555556,
              "#d8576b"
             ],
             [
              0.6666666666666666,
              "#ed7953"
             ],
             [
              0.7777777777777778,
              "#fb9f3a"
             ],
             [
              0.8888888888888888,
              "#fdca26"
             ],
             [
              1,
              "#f0f921"
             ]
            ],
            "type": "surface"
           }
          ],
          "table": [
           {
            "cells": {
             "fill": {
              "color": "#EBF0F8"
             },
             "line": {
              "color": "white"
             }
            },
            "header": {
             "fill": {
              "color": "#C8D4E3"
             },
             "line": {
              "color": "white"
             }
            },
            "type": "table"
           }
          ]
         },
         "layout": {
          "annotationdefaults": {
           "arrowcolor": "#2a3f5f",
           "arrowhead": 0,
           "arrowwidth": 1
          },
          "autotypenumbers": "strict",
          "coloraxis": {
           "colorbar": {
            "outlinewidth": 0,
            "ticks": ""
           }
          },
          "colorscale": {
           "diverging": [
            [
             0,
             "#8e0152"
            ],
            [
             0.1,
             "#c51b7d"
            ],
            [
             0.2,
             "#de77ae"
            ],
            [
             0.3,
             "#f1b6da"
            ],
            [
             0.4,
             "#fde0ef"
            ],
            [
             0.5,
             "#f7f7f7"
            ],
            [
             0.6,
             "#e6f5d0"
            ],
            [
             0.7,
             "#b8e186"
            ],
            [
             0.8,
             "#7fbc41"
            ],
            [
             0.9,
             "#4d9221"
            ],
            [
             1,
             "#276419"
            ]
           ],
           "sequential": [
            [
             0,
             "#0d0887"
            ],
            [
             0.1111111111111111,
             "#46039f"
            ],
            [
             0.2222222222222222,
             "#7201a8"
            ],
            [
             0.3333333333333333,
             "#9c179e"
            ],
            [
             0.4444444444444444,
             "#bd3786"
            ],
            [
             0.5555555555555556,
             "#d8576b"
            ],
            [
             0.6666666666666666,
             "#ed7953"
            ],
            [
             0.7777777777777778,
             "#fb9f3a"
            ],
            [
             0.8888888888888888,
             "#fdca26"
            ],
            [
             1,
             "#f0f921"
            ]
           ],
           "sequentialminus": [
            [
             0,
             "#0d0887"
            ],
            [
             0.1111111111111111,
             "#46039f"
            ],
            [
             0.2222222222222222,
             "#7201a8"
            ],
            [
             0.3333333333333333,
             "#9c179e"
            ],
            [
             0.4444444444444444,
             "#bd3786"
            ],
            [
             0.5555555555555556,
             "#d8576b"
            ],
            [
             0.6666666666666666,
             "#ed7953"
            ],
            [
             0.7777777777777778,
             "#fb9f3a"
            ],
            [
             0.8888888888888888,
             "#fdca26"
            ],
            [
             1,
             "#f0f921"
            ]
           ]
          },
          "colorway": [
           "#636efa",
           "#EF553B",
           "#00cc96",
           "#ab63fa",
           "#FFA15A",
           "#19d3f3",
           "#FF6692",
           "#B6E880",
           "#FF97FF",
           "#FECB52"
          ],
          "font": {
           "color": "#2a3f5f"
          },
          "geo": {
           "bgcolor": "white",
           "lakecolor": "white",
           "landcolor": "#E5ECF6",
           "showlakes": true,
           "showland": true,
           "subunitcolor": "white"
          },
          "hoverlabel": {
           "align": "left"
          },
          "hovermode": "closest",
          "mapbox": {
           "style": "light"
          },
          "paper_bgcolor": "white",
          "plot_bgcolor": "#E5ECF6",
          "polar": {
           "angularaxis": {
            "gridcolor": "white",
            "linecolor": "white",
            "ticks": ""
           },
           "bgcolor": "#E5ECF6",
           "radialaxis": {
            "gridcolor": "white",
            "linecolor": "white",
            "ticks": ""
           }
          },
          "scene": {
           "xaxis": {
            "backgroundcolor": "#E5ECF6",
            "gridcolor": "white",
            "gridwidth": 2,
            "linecolor": "white",
            "showbackground": true,
            "ticks": "",
            "zerolinecolor": "white"
           },
           "yaxis": {
            "backgroundcolor": "#E5ECF6",
            "gridcolor": "white",
            "gridwidth": 2,
            "linecolor": "white",
            "showbackground": true,
            "ticks": "",
            "zerolinecolor": "white"
           },
           "zaxis": {
            "backgroundcolor": "#E5ECF6",
            "gridcolor": "white",
            "gridwidth": 2,
            "linecolor": "white",
            "showbackground": true,
            "ticks": "",
            "zerolinecolor": "white"
           }
          },
          "shapedefaults": {
           "line": {
            "color": "#2a3f5f"
           }
          },
          "ternary": {
           "aaxis": {
            "gridcolor": "white",
            "linecolor": "white",
            "ticks": ""
           },
           "baxis": {
            "gridcolor": "white",
            "linecolor": "white",
            "ticks": ""
           },
           "bgcolor": "#E5ECF6",
           "caxis": {
            "gridcolor": "white",
            "linecolor": "white",
            "ticks": ""
           }
          },
          "title": {
           "x": 0.05
          },
          "xaxis": {
           "automargin": true,
           "gridcolor": "white",
           "linecolor": "white",
           "ticks": "",
           "title": {
            "standoff": 15
           },
           "zerolinecolor": "white",
           "zerolinewidth": 2
          },
          "yaxis": {
           "automargin": true,
           "gridcolor": "white",
           "linecolor": "white",
           "ticks": "",
           "title": {
            "standoff": 15
           },
           "zerolinecolor": "white",
           "zerolinewidth": 2
          }
         }
        },
        "title": {
         "text": "Optimization History Plot"
        },
        "xaxis": {
         "title": {
          "text": "Trial"
         }
        },
        "yaxis": {
         "title": {
          "text": "Objective Value"
         }
        }
       }
      }
     },
     "metadata": {},
     "output_type": "display_data"
    }
   ],
   "source": [
    "optuna.visualization.plot_optimization_history(knn_op.study)"
   ]
  },
  {
   "cell_type": "code",
   "execution_count": 26,
   "metadata": {},
   "outputs": [],
   "source": [
    "try:\n",
    "    knn_best_params = load_params(KNeighborsClassifier)\n",
    "    knn_best = KNeighborsClassifier(**knn_best_params)\n",
    "except FileNotFoundError:\n",
    "    knn_best = KNeighborsClassifier(**knn_op.model.get_params())\n",
    "knn_best.fit(X_train, y_train)\n",
    "knn_train_preds = knn_best.predict(X_train)\n",
    "knn_test_preds = knn_best.predict(X_test)"
   ]
  },
  {
   "cell_type": "code",
   "execution_count": 16,
   "metadata": {},
   "outputs": [
    {
     "name": "stdout",
     "output_type": "stream",
     "text": [
      "Train:\n",
      "              precision    recall  f1-score   support\n",
      "\n",
      "           0       0.81      0.88      0.85     14415\n",
      "           1       0.75      0.62      0.68      7882\n",
      "\n",
      "    accuracy                           0.79     22297\n",
      "   macro avg       0.78      0.75      0.76     22297\n",
      "weighted avg       0.79      0.79      0.79     22297\n",
      " \n",
      "\n",
      "Test:\n",
      "              precision    recall  f1-score   support\n",
      "\n",
      "           0       0.80      0.88      0.84      4744\n",
      "           1       0.75      0.61      0.67      2689\n",
      "\n",
      "    accuracy                           0.79      7433\n",
      "   macro avg       0.77      0.75      0.76      7433\n",
      "weighted avg       0.78      0.79      0.78      7433\n",
      "\n"
     ]
    }
   ],
   "source": [
    "print('Train:')\n",
    "print(classification_report(y_train, knn_train_preds), '\\n')\n",
    "print('Test:')\n",
    "print(classification_report(y_test, knn_test_preds))"
   ]
  },
  {
   "cell_type": "code",
   "execution_count": 17,
   "metadata": {},
   "outputs": [],
   "source": [
    "params_to_txt(knn_op)"
   ]
  },
  {
   "cell_type": "markdown",
   "metadata": {},
   "source": [
    "## Random Forest base model"
   ]
  },
  {
   "cell_type": "code",
   "execution_count": 18,
   "metadata": {},
   "outputs": [],
   "source": [
    "# api = wandb.Api()\n",
    "# run = api.run(f\"{settings.SETTINGS['WANDB_ENTITY']}/Random-Forest-Classifier/qzbhynm9\")"
   ]
  },
  {
   "cell_type": "code",
   "execution_count": 19,
   "metadata": {},
   "outputs": [],
   "source": [
    "# rf_config = json.loads(run.json_config)\n",
    "# rf_params = {}\n",
    "# for param in rf_config:\n",
    "#     rf_params.update({param: rf_config[param]['value']})"
   ]
  },
  {
   "cell_type": "code",
   "execution_count": 20,
   "metadata": {},
   "outputs": [],
   "source": [
    "rf_op = OptunaTuner(RandomForestClassifier, f1_score_average_weighted, direction='maximize', random_state=571, n_jobs=7)\n",
    "rf_op.fit(\n",
    "    300, X_train, y_train, X_test, y_test,\n",
    "    ('n_estimators', 'int', 10, 200),\n",
    "    ('max_depth', 'int', 30, 60),\n",
    "    ('max_features', 'float', 0.05, 1.0, {'step': 0.05}),\n",
    "    ('max_samples', 'float', 0.05, 1.0, {'step': 0.05}),\n",
    "    ('min_samples_leaf', 'float', 1e-4, 1e-2, {'log': True}),\n",
    "    ('min_samples_split', 'float', 1e-4, 1e-2, {'log': True})\n",
    ")"
   ]
  },
  {
   "cell_type": "code",
   "execution_count": 27,
   "metadata": {},
   "outputs": [],
   "source": [
    "try:\n",
    "    rf_best_params = load_params(RandomForestClassifier)\n",
    "    rf_best = RandomForestClassifier(**rf_best_params)\n",
    "except FileNotFoundError:\n",
    "    rf_best = RandomForestClassifier(**rf_op.model.get_params())\n",
    "rf_best.fit(X_train, y_train)\n",
    "rf_train_preds = rf_best.predict(X_train)\n",
    "rf_test_preds = rf_best.predict(X_test)"
   ]
  },
  {
   "cell_type": "code",
   "execution_count": 23,
   "metadata": {},
   "outputs": [
    {
     "name": "stdout",
     "output_type": "stream",
     "text": [
      "Train:\n",
      "              precision    recall  f1-score   support\n",
      "\n",
      "           0       0.85      0.90      0.88     14415\n",
      "           1       0.80      0.71      0.75      7882\n",
      "\n",
      "    accuracy                           0.84     22297\n",
      "   macro avg       0.83      0.81      0.82     22297\n",
      "weighted avg       0.83      0.84      0.83     22297\n",
      " \n",
      "\n",
      "Test:\n",
      "              precision    recall  f1-score   support\n",
      "\n",
      "           0       0.83      0.88      0.85      4744\n",
      "           1       0.77      0.67      0.71      2689\n",
      "\n",
      "    accuracy                           0.81      7433\n",
      "   macro avg       0.80      0.78      0.78      7433\n",
      "weighted avg       0.80      0.81      0.80      7433\n",
      "\n"
     ]
    }
   ],
   "source": [
    "print('Train:')\n",
    "print(classification_report(y_train, rf_train_preds), '\\n')\n",
    "print('Test:')\n",
    "print(classification_report(y_test, rf_test_preds))"
   ]
  },
  {
   "cell_type": "code",
   "execution_count": 24,
   "metadata": {},
   "outputs": [],
   "source": [
    "params_to_txt(rf_op)"
   ]
  },
  {
   "cell_type": "markdown",
   "metadata": {},
   "source": [
    "## XGBoost base model"
   ]
  },
  {
   "cell_type": "code",
   "execution_count": 43,
   "metadata": {},
   "outputs": [],
   "source": [
    "xgb_op = OptunaTuner(\n",
    "    XGBClassifier, f1_score_average_weighted, 'maximize', # class-specific arguments\n",
    "    seed=571, predictor='cpu_predictor', verbosity=0, nthread=7, # model-specific technical parameters\n",
    "    objective='binary:hinge', eval_metric='error', n_estimators=1000 # model-specific fixed hyperparameters\n",
    ")\n",
    "xgb_op.fit(\n",
    "    300, X_train, y_train, X_test, y_test,\n",
    "    ('reg_alpha', 'loguniform', 1e-3, 10.0),\n",
    "    ('reg_lambda', 'loguniform', 1e-3, 10.0),\n",
    "    ('colsample_bytree', 'loguniform', 0.2, 1.0),\n",
    "    ('subsample', 'loguniform', 0.4, 1.0),\n",
    "    ('learning_rate', 'loguniform', 1e-4, 0.5),\n",
    "    ('max_depth', 'categorical', [5, 10, 20, 30])\n",
    ")"
   ]
  },
  {
   "cell_type": "code",
   "execution_count": 28,
   "metadata": {},
   "outputs": [],
   "source": [
    "try:\n",
    "    xgb_best_params = load_params(XGBClassifier)\n",
    "    xgb_best = XGBClassifier(**xgb_best_params)\n",
    "except FileNotFoundError:\n",
    "    xgb_best = XGBClassifier(**xgb_op.model.get_params())\n",
    "xgb_best.fit(X_train, y_train)\n",
    "xgb_train_preds = xgb_best.predict(X_train)\n",
    "xgb_test_preds = xgb_best.predict(X_test)"
   ]
  },
  {
   "cell_type": "code",
   "execution_count": 46,
   "metadata": {},
   "outputs": [
    {
     "name": "stdout",
     "output_type": "stream",
     "text": [
      "Train:\n",
      "              precision    recall  f1-score   support\n",
      "\n",
      "           0       0.88      0.91      0.89     14415\n",
      "           1       0.83      0.76      0.79      7882\n",
      "\n",
      "    accuracy                           0.86     22297\n",
      "   macro avg       0.85      0.84      0.84     22297\n",
      "weighted avg       0.86      0.86      0.86     22297\n",
      " \n",
      "\n",
      "Test:\n",
      "              precision    recall  f1-score   support\n",
      "\n",
      "           0       0.83      0.87      0.85      4744\n",
      "           1       0.75      0.70      0.72      2689\n",
      "\n",
      "    accuracy                           0.80      7433\n",
      "   macro avg       0.79      0.78      0.79      7433\n",
      "weighted avg       0.80      0.80      0.80      7433\n",
      "\n"
     ]
    }
   ],
   "source": [
    "print('Train:')\n",
    "print(classification_report(y_train, xgb_train_preds), '\\n')\n",
    "print('Test:')\n",
    "print(classification_report(y_test, xgb_test_preds))"
   ]
  },
  {
   "cell_type": "code",
   "execution_count": 48,
   "metadata": {},
   "outputs": [],
   "source": [
    "params_to_txt(xgb_op)"
   ]
  },
  {
   "cell_type": "code",
   "execution_count": null,
   "metadata": {},
   "outputs": [],
   "source": [
    "cm = confusion_matrix(y_test, xgb_test_preds)\n",
    "cm_disp = ConfusionMatrixDisplay(cm, display_labels=xgb_best.classes_)"
   ]
  },
  {
   "cell_type": "code",
   "execution_count": 53,
   "metadata": {},
   "outputs": [
    {
     "data": {
      "text/plain": [
       "<sklearn.metrics._plot.confusion_matrix.ConfusionMatrixDisplay at 0x2cbe38c40>"
      ]
     },
     "execution_count": 53,
     "metadata": {},
     "output_type": "execute_result"
    },
    {
     "data": {
      "image/png": "[encoded data removed]",
      "text/plain": [
       "<Figure size 640x480 with 2 Axes>"
      ]
     },
     "metadata": {},
     "output_type": "display_data"
    }
   ],
   "source": [
    "cm_disp.plot()"
   ]
  },
  {
   "cell_type": "code",
   "execution_count": null,
   "metadata": {},
   "outputs": [],
   "source": [
    "config = xgb_op.model.get_params()\n",
    "\n",
    "# Create w&b run for the training set\n",
    "with utils.init_wandb_run(\n",
    "    name='continuous_features_subperiod_15_customers_filtering_2_purchases',\n",
    "    model=XGBClassifier,\n",
    "    config=config,\n",
    "    target_month=fe.target_month,\n",
    "    group='parameters_tuning',\n",
    "    job_type='tuning_train'\n",
    ") as run:\n",
    "\n",
    "    rep = utils.parse_classification_report(\n",
    "        classification_report(y_train, xgb_train_preds, output_dict=True)\n",
    "    )\n",
    "\n",
    "    metadata = {\n",
    "        'experiment': {\n",
    "            'name': run.name,\n",
    "        },\n",
    "        'performance_report': rep,\n",
    "        'config': config\n",
    "    }\n",
    "\n",
    "    artifact = wandb.Artifact(\n",
    "        name=f'report_train',\n",
    "        type='performance_metric',\n",
    "        metadata=metadata\n",
    "    )\n",
    "    run.log_artifact(artifact)\n",
    "    run.finish()\n",
    "\n",
    "# Create w&b run for the test set\n",
    "with utils.init_wandb_run(\n",
    "    name='continuous_features_subperiod_15_customers_filtering_2_purchases',\n",
    "    model=XGBClassifier,\n",
    "    config=config,\n",
    "    target_month=fe.target_month,\n",
    "    group='parameters_tuning',\n",
    "    job_type='tuning_test'\n",
    ") as run:\n",
    "    rep = utils.parse_classification_report(\n",
    "        classification_report(y_test, xgb_test_preds, output_dict=True)\n",
    "    )\n",
    "\n",
    "    metadata = {\n",
    "        'experiment': {\n",
    "            'name': run.name\n",
    "        },\n",
    "        'performance_report': rep,\n",
    "        'config': config\n",
    "    }\n",
    "\n",
    "    artifact = wandb.Artifact(\n",
    "        name=f'report_test',\n",
    "        type='performance_metric',\n",
    "        metadata=metadata\n",
    "    )\n",
    "    run.log_artifact(artifact)\n",
    "    run.finish()"
   ]
  },
  {
   "cell_type": "markdown",
   "metadata": {},
   "source": [
    "## Identify overlaps of models errors"
   ]
  },
  {
   "cell_type": "code",
   "execution_count": 30,
   "metadata": {},
   "outputs": [],
   "source": [
    "base_models_df = pd.DataFrame(\n",
    "    {\n",
    "        'svc_preds': svc_test_preds,\n",
    "        'knn_preds': knn_test_preds,\n",
    "        'rf_preds': rf_test_preds,\n",
    "        'xgb_preds': xgb_test_preds,\n",
    "        'y_true': y_test\n",
    "    }\n",
    ")"
   ]
  },
  {
   "cell_type": "code",
   "execution_count": 31,
   "metadata": {},
   "outputs": [],
   "source": [
    "base_models_df['svc_accuracy'] = base_models_df.apply(lambda x: 'error' if x['svc_preds'] != x['y_true'] else 'correct', axis=1)\n",
    "base_models_df['knn_accuracy'] = base_models_df.apply(lambda x: 'error' if x['knn_preds'] != x['y_true'] else 'correct', axis=1)\n",
    "base_models_df['rf_accuracy'] = base_models_df.apply(lambda x: 'error' if x['rf_preds'] != x['y_true'] else 'correct', axis=1)\n",
    "base_models_df['xgb_accuracy'] = base_models_df.apply(lambda x: 'error' if x['xgb_preds'] != x['y_true'] else 'correct', axis=1)"
   ]
  },
  {
   "cell_type": "code",
   "execution_count": 32,
   "metadata": {},
   "outputs": [],
   "source": [
    "svc_errors = base_models_df[base_models_df['svc_accuracy']=='error'].index\n",
    "knn_errors = base_models_df[base_models_df['knn_accuracy']=='error'].index\n",
    "rf_errors = base_models_df[base_models_df['rf_accuracy']=='error'].index\n",
    "xgb_errors = base_models_df[base_models_df['xgb_accuracy']=='error'].index"
   ]
  },
  {
   "cell_type": "code",
   "execution_count": 33,
   "metadata": {},
   "outputs": [
    {
     "data": {
      "text/plain": [
       "0.1442217139782053"
      ]
     },
     "execution_count": 33,
     "metadata": {},
     "output_type": "execute_result"
    }
   ],
   "source": [
    "# Overlap of all models\n",
    "len(\n",
    "    set.intersection(\n",
    "        set(svc_errors),\n",
    "        set(knn_errors),\n",
    "        set(rf_errors),\n",
    "        set(xgb_errors)\n",
    "    )\n",
    ") / base_models_df.shape[0]"
   ]
  },
  {
   "cell_type": "code",
   "execution_count": 39,
   "metadata": {},
   "outputs": [
    {
     "data": {
      "text/plain": [
       "0.18269877572985335"
      ]
     },
     "execution_count": 39,
     "metadata": {},
     "output_type": "execute_result"
    }
   ],
   "source": [
    "len(\n",
    "    set.intersection(\n",
    "        set(rf_errors),\n",
    "        set(xgb_errors)\n",
    "    )\n",
    ") / base_models_df.shape[0]"
   ]
  },
  {
   "cell_type": "markdown",
   "metadata": {},
   "source": [
    "## Models Stacking"
   ]
  },
  {
   "cell_type": "code",
   "execution_count": 40,
   "metadata": {},
   "outputs": [],
   "source": [
    "stacking_model = StackingClassifier(\n",
    "    estimators=[\n",
    "        ('svc', svc_best),\n",
    "        ('knn', knn_best),\n",
    "        ('rf', rf_best),\n",
    "        ('xgb', xgb_best)\n",
    "    ],\n",
    "    final_estimator=LogisticRegression(),\n",
    "    cv=5\n",
    ")"
   ]
  },
  {
   "cell_type": "code",
   "execution_count": 41,
   "metadata": {},
   "outputs": [],
   "source": [
    "stacking_model.fit(X_train, y_train)\n",
    "stacking_train_preds = stacking_model.predict(X_train)\n",
    "stacking_test_preds = stacking_model.predict(X_test)"
   ]
  },
  {
   "cell_type": "code",
   "execution_count": 42,
   "metadata": {},
   "outputs": [
    {
     "name": "stdout",
     "output_type": "stream",
     "text": [
      "Train:\n",
      "              precision    recall  f1-score   support\n",
      "\n",
      "           0       0.85      0.91      0.88     14415\n",
      "           1       0.81      0.70      0.75      7882\n",
      "\n",
      "    accuracy                           0.84     22297\n",
      "   macro avg       0.83      0.81      0.81     22297\n",
      "weighted avg       0.83      0.84      0.83     22297\n",
      " \n",
      "\n",
      "Test:\n",
      "              precision    recall  f1-score   support\n",
      "\n",
      "           0       0.82      0.89      0.85      4744\n",
      "           1       0.77      0.66      0.71      2689\n",
      "\n",
      "    accuracy                           0.81      7433\n",
      "   macro avg       0.80      0.77      0.78      7433\n",
      "weighted avg       0.80      0.81      0.80      7433\n",
      "\n"
     ]
    }
   ],
   "source": [
    "print('Train:')\n",
    "print(classification_report(y_train, stacking_train_preds), '\\n')\n",
    "print('Test:')\n",
    "print(classification_report(y_test, stacking_test_preds))"
   ]
  },
  {
   "cell_type": "markdown",
   "metadata": {},
   "source": [
    "## Voting Stacking"
   ]
  },
  {
   "cell_type": "code",
   "execution_count": 63,
   "metadata": {},
   "outputs": [],
   "source": [
    "voting_stacking_model = VotingClassifier(\n",
    "    estimators=[\n",
    "        ('svc', svc_best),\n",
    "        ('knn', knn_best),\n",
    "        ('rf', rf_best),\n",
    "        ('xgb', xgb_best)\n",
    "    ],\n",
    "    voting='soft',\n",
    "    n_jobs=7\n",
    ")"
   ]
  },
  {
   "cell_type": "code",
   "execution_count": 64,
   "metadata": {},
   "outputs": [
    {
     "name": "stdout",
     "output_type": "stream",
     "text": [
      "huggingface/tokenizers: The current process just got forked, after parallelism has already been used. Disabling parallelism to avoid deadlocks...\n",
      "To disable this warning, you can either:\n",
      "\t- Avoid using `tokenizers` before the fork if possible\n",
      "\t- Explicitly set the environment variable TOKENIZERS_PARALLELISM=(true | false)\n",
      "huggingface/tokenizers: The current process just got forked, after parallelism has already been used. Disabling parallelism to avoid deadlocks...\n",
      "To disable this warning, you can either:\n",
      "\t- Avoid using `tokenizers` before the fork if possible\n",
      "\t- Explicitly set the environment variable TOKENIZERS_PARALLELISM=(true | false)\n",
      "huggingface/tokenizers: The current process just got forked, after parallelism has already been used. Disabling parallelism to avoid deadlocks...\n",
      "To disable this warning, you can either:\n",
      "\t- Avoid using `tokenizers` before the fork if possible\n",
      "\t- Explicitly set the environment variable TOKENIZERS_PARALLELISM=(true | false)\n"
     ]
    }
   ],
   "source": [
    "voting_stacking_model.fit(X_train, y_train)\n",
    "voting_stacking_train_preds = voting_stacking_model.predict(X_train)\n",
    "voting_stacking_test_preds = voting_stacking_model.predict(X_test)"
   ]
  },
  {
   "cell_type": "code",
   "execution_count": 65,
   "metadata": {},
   "outputs": [
    {
     "name": "stdout",
     "output_type": "stream",
     "text": [
      "Train:\n",
      "              precision    recall  f1-score   support\n",
      "\n",
      "           0       0.87      0.91      0.89     14415\n",
      "           1       0.82      0.75      0.79      7882\n",
      "\n",
      "    accuracy                           0.86     22297\n",
      "   macro avg       0.85      0.83      0.84     22297\n",
      "weighted avg       0.85      0.86      0.85     22297\n",
      " \n",
      "\n",
      "Test:\n",
      "              precision    recall  f1-score   support\n",
      "\n",
      "           0       0.83      0.87      0.85      4744\n",
      "           1       0.75      0.69      0.72      2689\n",
      "\n",
      "    accuracy                           0.80      7433\n",
      "   macro avg       0.79      0.78      0.78      7433\n",
      "weighted avg       0.80      0.80      0.80      7433\n",
      "\n"
     ]
    }
   ],
   "source": [
    "print('Train:')\n",
    "print(classification_report(y_train, voting_stacking_train_preds), '\\n')\n",
    "print('Test:')\n",
    "print(classification_report(y_test, voting_stacking_test_preds))"
   ]
  },
  {
   "cell_type": "code",
   "execution_count": 67,
   "metadata": {},
   "outputs": [],
   "source": [
    "params = {\n",
    "    'weights': [\n",
    "        (1, 1, 3, 3),\n",
    "        (1, 1, 2, 3),\n",
    "        (1, 1, 3, 4),\n",
    "        (1, 1, 2, 5),\n",
    "        (1, 2, 2, 3),\n",
    "        (1, 2, 3, 4),\n",
    "        (1, 2, 3, 3)\n",
    "    ]\n",
    "}\n",
    "grid = GridSearchCV(\n",
    "    estimator=voting_stacking_model,\n",
    "    param_grid=params,\n",
    "    n_jobs=7,\n",
    "    cv=5,\n",
    "    scoring=make_scorer(f1_score, **{'average': 'weighted'})\n",
    ")"
   ]
  },
  {
   "cell_type": "code",
   "execution_count": 68,
   "metadata": {},
   "outputs": [
    {
     "name": "stdout",
     "output_type": "stream",
     "text": [
      "huggingface/tokenizers: The current process just got forked, after parallelism has already been used. Disabling parallelism to avoid deadlocks...\n",
      "To disable this warning, you can either:\n",
      "\t- Avoid using `tokenizers` before the fork if possible\n",
      "\t- Explicitly set the environment variable TOKENIZERS_PARALLELISM=(true | false)\n",
      "huggingface/tokenizers: The current process just got forked, after parallelism has already been used. Disabling parallelism to avoid deadlocks...\n",
      "To disable this warning, you can either:\n",
      "\t- Avoid using `tokenizers` before the fork if possible\n",
      "\t- Explicitly set the environment variable TOKENIZERS_PARALLELISM=(true | false)\n",
      "huggingface/tokenizers: The current process just got forked, after parallelism has already been used. Disabling parallelism to avoid deadlocks...\n",
      "To disable this warning, you can either:\n",
      "\t- Avoid using `tokenizers` before the fork if possible\n",
      "\t- Explicitly set the environment variable TOKENIZERS_PARALLELISM=(true | false)\n"
     ]
    },
    {
     "data": {
      "text/html": [
       "<style>#sk-container-id-1 {color: black;background-color: white;}#sk-container-id-1 pre{padding: 0;}#sk-container-id-1 div.sk-toggleable {background-color: white;}#sk-container-id-1 label.sk-toggleable__label {cursor: pointer;display: block;width: 100%;margin-bottom: 0;padding: 0.3em;box-sizing: border-box;text-align: center;}#sk-container-id-1 label.sk-toggleable__label-arrow:before {content: \"▸\";float: left;margin-right: 0.25em;color: #696969;}#sk-container-id-1 label.sk-toggleable__label-arrow:hover:before {color: black;}#sk-container-id-1 div.sk-estimator:hover label.sk-toggleable__label-arrow:before {color: black;}#sk-container-id-1 div.sk-toggleable__content {max-height: 0;max-width: 0;overflow: hidden;text-align: left;background-color: #f0f8ff;}#sk-container-id-1 div.sk-toggleable__content pre {margin: 0.2em;color: black;border-radius: 0.25em;background-color: #f0f8ff;}#sk-container-id-1 input.sk-toggleable__control:checked~div.sk-toggleable__content {max-height: 200px;max-width: 100%;overflow: auto;}#sk-container-id-1 input.sk-toggleable__control:checked~label.sk-toggleable__label-arrow:before {content: \"▾\";}#sk-container-id-1 div.sk-estimator input.sk-toggleable__control:checked~label.sk-toggleable__label {background-color: #d4ebff;}#sk-container-id-1 div.sk-label input.sk-toggleable__control:checked~label.sk-toggleable__label {background-color: #d4ebff;}#sk-container-id-1 input.sk-hidden--visually {border: 0;clip: rect(1px 1px 1px 1px);clip: rect(1px, 1px, 1px, 1px);height: 1px;margin: -1px;overflow: hidden;padding: 0;position: absolute;width: 1px;}#sk-container-id-1 div.sk-estimator {font-family: monospace;background-color: #f0f8ff;border: 1px dotted black;border-radius: 0.25em;box-sizing: border-box;margin-bottom: 0.5em;}#sk-container-id-1 div.sk-estimator:hover {background-color: #d4ebff;}#sk-container-id-1 div.sk-parallel-item::after {content: \"\";width: 100%;border-bottom: 1px solid gray;flex-grow: 1;}#sk-container-id-1 div.sk-label:hover label.sk-toggleable__label {background-color: #d4ebff;}#sk-container-id-1 div.sk-serial::before {content: \"\";position: absolute;border-left: 1px solid gray;box-sizing: border-box;top: 0;bottom: 0;left: 50%;z-index: 0;}#sk-container-id-1 div.sk-serial {display: flex;flex-direction: column;align-items: center;background-color: white;padding-right: 0.2em;padding-left: 0.2em;position: relative;}#sk-container-id-1 div.sk-item {position: relative;z-index: 1;}#sk-container-id-1 div.sk-parallel {display: flex;align-items: stretch;justify-content: center;background-color: white;position: relative;}#sk-container-id-1 div.sk-item::before, #sk-container-id-1 div.sk-parallel-item::before {content: \"\";position: absolute;border-left: 1px solid gray;box-sizing: border-box;top: 0;bottom: 0;left: 50%;z-index: -1;}#sk-container-id-1 div.sk-parallel-item {display: flex;flex-direction: column;z-index: 1;position: relative;background-color: white;}#sk-container-id-1 div.sk-parallel-item:first-child::after {align-self: flex-end;width: 50%;}#sk-container-id-1 div.sk-parallel-item:last-child::after {align-self: flex-start;width: 50%;}#sk-container-id-1 div.sk-parallel-item:only-child::after {width: 0;}#sk-container-id-1 div.sk-dashed-wrapped {border: 1px dashed gray;margin: 0 0.4em 0.5em 0.4em;box-sizing: border-box;padding-bottom: 0.4em;background-color: white;}#sk-container-id-1 div.sk-label label {font-family: monospace;font-weight: bold;display: inline-block;line-height: 1.2em;}#sk-container-id-1 div.sk-label-container {text-align: center;}#sk-container-id-1 div.sk-container {/* jupyter's `normalize.less` sets `[hidden] { display: none; }` but bootstrap.min.css set `[hidden] { display: none !important; }` so we also need the `!important` here to be able to override the default hidden behavior on the sphinx rendered scikit-learn.org. See: https://github.com/scikit-learn/scikit-learn/issues/21755 */display: inline-block !important;position: relative;}#sk-container-id-1 div.sk-text-repr-fallback {display: none;}</style><div id=\"sk-container-id-1\" class=\"sk-top-container\"><div class=\"sk-text-repr-fallback\"><pre>GridSearchCV(cv=5,\n",
       "             estimator=VotingClassifier(estimators=[(&#x27;svc&#x27;,\n",
       "                                                     SVC(probability=True,\n",
       "                                                         random_state=571,\n",
       "                                                         tol=1)),\n",
       "                                                    (&#x27;knn&#x27;,\n",
       "                                                     KNeighborsClassifier(n_jobs=7,\n",
       "                                                                          n_neighbors=33)),\n",
       "                                                    (&#x27;rf&#x27;,\n",
       "                                                     RandomForestClassifier(max_depth=53,\n",
       "                                                                            max_features=0.8500000000000001,\n",
       "                                                                            max_samples=0.7000000000000001,\n",
       "                                                                            min_samples_leaf=0.0007811550408734325,\n",
       "                                                                            min_samples_split=0.00012081964294076039,\n",
       "                                                                            n...\n",
       "                                                                   max_delta_step=0,\n",
       "                                                                   max_depth=20,\n",
       "                                                                   max_leaves=0,\n",
       "                                                                   min_child_weight=1,\n",
       "                                                                   missing=nan,\n",
       "                                                                   monotone_constraints=&#x27;()&#x27;,\n",
       "                                                                   n_estimators=1000,\n",
       "                                                                   n_jobs=7,\n",
       "                                                                   nthread=7,\n",
       "                                                                   num_parallel_tree=1,\n",
       "                                                                   objective=&#x27;binary:hinge&#x27;, ...))],\n",
       "                                        n_jobs=7, voting=&#x27;soft&#x27;),\n",
       "             n_jobs=7,\n",
       "             param_grid={&#x27;weights&#x27;: [(1, 1, 3, 3), (1, 1, 2, 3), (1, 1, 3, 4),\n",
       "                                     (1, 1, 2, 5), (1, 2, 2, 3), (1, 2, 3, 4),\n",
       "                                     (1, 2, 3, 3)]},\n",
       "             scoring=make_scorer(f1_score, average=weighted))</pre><b>In a Jupyter environment, please rerun this cell to show the HTML representation or trust the notebook. <br />On GitHub, the HTML representation is unable to render, please try loading this page with nbviewer.org.</b></div><div class=\"sk-container\" hidden><div class=\"sk-item sk-dashed-wrapped\"><div class=\"sk-label-container\"><div class=\"sk-label sk-toggleable\"><input class=\"sk-toggleable__control sk-hidden--visually\" id=\"sk-estimator-id-1\" type=\"checkbox\" ><label for=\"sk-estimator-id-1\" class=\"sk-toggleable__label sk-toggleable__label-arrow\">GridSearchCV</label><div class=\"sk-toggleable__content\"><pre>GridSearchCV(cv=5,\n",
       "             estimator=VotingClassifier(estimators=[(&#x27;svc&#x27;,\n",
       "                                                     SVC(probability=True,\n",
       "                                                         random_state=571,\n",
       "                                                         tol=1)),\n",
       "                                                    (&#x27;knn&#x27;,\n",
       "                                                     KNeighborsClassifier(n_jobs=7,\n",
       "                                                                          n_neighbors=33)),\n",
       "                                                    (&#x27;rf&#x27;,\n",
       "                                                     RandomForestClassifier(max_depth=53,\n",
       "                                                                            max_features=0.8500000000000001,\n",
       "                                                                            max_samples=0.7000000000000001,\n",
       "                                                                            min_samples_leaf=0.0007811550408734325,\n",
       "                                                                            min_samples_split=0.00012081964294076039,\n",
       "                                                                            n...\n",
       "                                                                   max_delta_step=0,\n",
       "                                                                   max_depth=20,\n",
       "                                                                   max_leaves=0,\n",
       "                                                                   min_child_weight=1,\n",
       "                                                                   missing=nan,\n",
       "                                                                   monotone_constraints=&#x27;()&#x27;,\n",
       "                                                                   n_estimators=1000,\n",
       "                                                                   n_jobs=7,\n",
       "                                                                   nthread=7,\n",
       "                                                                   num_parallel_tree=1,\n",
       "                                                                   objective=&#x27;binary:hinge&#x27;, ...))],\n",
       "                                        n_jobs=7, voting=&#x27;soft&#x27;),\n",
       "             n_jobs=7,\n",
       "             param_grid={&#x27;weights&#x27;: [(1, 1, 3, 3), (1, 1, 2, 3), (1, 1, 3, 4),\n",
       "                                     (1, 1, 2, 5), (1, 2, 2, 3), (1, 2, 3, 4),\n",
       "                                     (1, 2, 3, 3)]},\n",
       "             scoring=make_scorer(f1_score, average=weighted))</pre></div></div></div><div class=\"sk-parallel\"><div class=\"sk-parallel-item\"><div class=\"sk-item\"><div class=\"sk-label-container\"><div class=\"sk-label sk-toggleable\"><input class=\"sk-toggleable__control sk-hidden--visually\" id=\"sk-estimator-id-2\" type=\"checkbox\" ><label for=\"sk-estimator-id-2\" class=\"sk-toggleable__label sk-toggleable__label-arrow\">estimator: VotingClassifier</label><div class=\"sk-toggleable__content\"><pre>VotingClassifier(estimators=[(&#x27;svc&#x27;,\n",
       "                              SVC(probability=True, random_state=571, tol=1)),\n",
       "                             (&#x27;knn&#x27;,\n",
       "                              KNeighborsClassifier(n_jobs=7, n_neighbors=33)),\n",
       "                             (&#x27;rf&#x27;,\n",
       "                              RandomForestClassifier(max_depth=53,\n",
       "                                                     max_features=0.8500000000000001,\n",
       "                                                     max_samples=0.7000000000000001,\n",
       "                                                     min_samples_leaf=0.0007811550408734325,\n",
       "                                                     min_samples_split=0.00012081964294076039,\n",
       "                                                     n_estimators=96, n_jobs=7,\n",
       "                                                     rand...\n",
       "                                            gpu_id=-1, grow_policy=&#x27;depthwise&#x27;,\n",
       "                                            importance_type=None,\n",
       "                                            interaction_constraints=&#x27;&#x27;,\n",
       "                                            learning_rate=0.006123608322685779,\n",
       "                                            max_bin=256, max_cat_threshold=64,\n",
       "                                            max_cat_to_onehot=4,\n",
       "                                            max_delta_step=0, max_depth=20,\n",
       "                                            max_leaves=0, min_child_weight=1,\n",
       "                                            missing=nan,\n",
       "                                            monotone_constraints=&#x27;()&#x27;,\n",
       "                                            n_estimators=1000, n_jobs=7,\n",
       "                                            nthread=7, num_parallel_tree=1,\n",
       "                                            objective=&#x27;binary:hinge&#x27;, ...))],\n",
       "                 n_jobs=7, voting=&#x27;soft&#x27;)</pre></div></div></div><div class=\"sk-serial\"><div class=\"sk-item sk-dashed-wrapped\"><div class=\"sk-parallel\"><div class=\"sk-parallel-item\"><div class=\"sk-item\"><div class=\"sk-label-container\"><div class=\"sk-label sk-toggleable\"><label>svc</label></div></div><div class=\"sk-serial\"><div class=\"sk-item\"><div class=\"sk-estimator sk-toggleable\"><input class=\"sk-toggleable__control sk-hidden--visually\" id=\"sk-estimator-id-3\" type=\"checkbox\" ><label for=\"sk-estimator-id-3\" class=\"sk-toggleable__label sk-toggleable__label-arrow\">SVC</label><div class=\"sk-toggleable__content\"><pre>SVC(probability=True, random_state=571, tol=1)</pre></div></div></div></div></div></div><div class=\"sk-parallel-item\"><div class=\"sk-item\"><div class=\"sk-label-container\"><div class=\"sk-label sk-toggleable\"><label>knn</label></div></div><div class=\"sk-serial\"><div class=\"sk-item\"><div class=\"sk-estimator sk-toggleable\"><input class=\"sk-toggleable__control sk-hidden--visually\" id=\"sk-estimator-id-4\" type=\"checkbox\" ><label for=\"sk-estimator-id-4\" class=\"sk-toggleable__label sk-toggleable__label-arrow\">KNeighborsClassifier</label><div class=\"sk-toggleable__content\"><pre>KNeighborsClassifier(n_jobs=7, n_neighbors=33)</pre></div></div></div></div></div></div><div class=\"sk-parallel-item\"><div class=\"sk-item\"><div class=\"sk-label-container\"><div class=\"sk-label sk-toggleable\"><label>rf</label></div></div><div class=\"sk-serial\"><div class=\"sk-item\"><div class=\"sk-estimator sk-toggleable\"><input class=\"sk-toggleable__control sk-hidden--visually\" id=\"sk-estimator-id-5\" type=\"checkbox\" ><label for=\"sk-estimator-id-5\" class=\"sk-toggleable__label sk-toggleable__label-arrow\">RandomForestClassifier</label><div class=\"sk-toggleable__content\"><pre>RandomForestClassifier(max_depth=53, max_features=0.8500000000000001,\n",
       "                       max_samples=0.7000000000000001,\n",
       "                       min_samples_leaf=0.0007811550408734325,\n",
       "                       min_samples_split=0.00012081964294076039,\n",
       "                       n_estimators=96, n_jobs=7, random_state=571)</pre></div></div></div></div></div></div><div class=\"sk-parallel-item\"><div class=\"sk-item\"><div class=\"sk-label-container\"><div class=\"sk-label sk-toggleable\"><label>xgb</label></div></div><div class=\"sk-serial\"><div class=\"sk-item\"><div class=\"sk-estimator sk-toggleable\"><input class=\"sk-toggleable__control sk-hidden--visually\" id=\"sk-estimator-id-6\" type=\"checkbox\" ><label for=\"sk-estimator-id-6\" class=\"sk-toggleable__label sk-toggleable__label-arrow\">XGBClassifier</label><div class=\"sk-toggleable__content\"><pre>XGBClassifier(base_score=0.5, booster=&#x27;gbtree&#x27;, callbacks=None,\n",
       "              colsample_bylevel=1, colsample_bynode=1,\n",
       "              colsample_bytree=0.2638320200129905, early_stopping_rounds=None,\n",
       "              enable_categorical=False, eval_metric=&#x27;error&#x27;, feature_types=None,\n",
       "              gamma=0, gpu_id=-1, grow_policy=&#x27;depthwise&#x27;, importance_type=None,\n",
       "              interaction_constraints=&#x27;&#x27;, learning_rate=0.006123608322685779,\n",
       "              max_bin=256, max_cat_threshold=64, max_cat_to_onehot=4,\n",
       "              max_delta_step=0, max_depth=20, max_leaves=0, min_child_weight=1,\n",
       "              missing=nan, monotone_constraints=&#x27;()&#x27;, n_estimators=1000,\n",
       "              n_jobs=7, nthread=7, num_parallel_tree=1,\n",
       "              objective=&#x27;binary:hinge&#x27;, ...)</pre></div></div></div></div></div></div></div></div></div></div></div></div></div></div></div>"
      ],
      "text/plain": [
       "GridSearchCV(cv=5,\n",
       "             estimator=VotingClassifier(estimators=[('svc',\n",
       "                                                     SVC(probability=True,\n",
       "                                                         random_state=571,\n",
       "                                                         tol=1)),\n",
       "                                                    ('knn',\n",
       "                                                     KNeighborsClassifier(n_jobs=7,\n",
       "                                                                          n_neighbors=33)),\n",
       "                                                    ('rf',\n",
       "                                                     RandomForestClassifier(max_depth=53,\n",
       "                                                                            max_features=0.8500000000000001,\n",
       "                                                                            max_samples=0.7000000000000001,\n",
       "                                                                            min_samples_leaf=0.0007811550408734325,\n",
       "                                                                            min_samples_split=0.00012081964294076039,\n",
       "                                                                            n...\n",
       "                                                                   max_delta_step=0,\n",
       "                                                                   max_depth=20,\n",
       "                                                                   max_leaves=0,\n",
       "                                                                   min_child_weight=1,\n",
       "                                                                   missing=nan,\n",
       "                                                                   monotone_constraints='()',\n",
       "                                                                   n_estimators=1000,\n",
       "                                                                   n_jobs=7,\n",
       "                                                                   nthread=7,\n",
       "                                                                   num_parallel_tree=1,\n",
       "                                                                   objective='binary:hinge', ...))],\n",
       "                                        n_jobs=7, voting='soft'),\n",
       "             n_jobs=7,\n",
       "             param_grid={'weights': [(1, 1, 3, 3), (1, 1, 2, 3), (1, 1, 3, 4),\n",
       "                                     (1, 1, 2, 5), (1, 2, 2, 3), (1, 2, 3, 4),\n",
       "                                     (1, 2, 3, 3)]},\n",
       "             scoring=make_scorer(f1_score, average=weighted))"
      ]
     },
     "execution_count": 68,
     "metadata": {},
     "output_type": "execute_result"
    }
   ],
   "source": [
    "grid.fit(X_train, y_train)"
   ]
  },
  {
   "cell_type": "code",
   "execution_count": 69,
   "metadata": {},
   "outputs": [],
   "source": [
    "tuned_voting_stacking_train_preds = grid.predict(X_train)\n",
    "tuned_voting_stacking_test_preds = grid.predict(X_test)"
   ]
  },
  {
   "cell_type": "code",
   "execution_count": 71,
   "metadata": {},
   "outputs": [
    {
     "name": "stdout",
     "output_type": "stream",
     "text": [
      "Train:\n",
      "              precision    recall  f1-score   support\n",
      "\n",
      "           0       0.88      0.91      0.89     14415\n",
      "           1       0.83      0.76      0.79      7882\n",
      "\n",
      "    accuracy                           0.86     22297\n",
      "   macro avg       0.85      0.84      0.84     22297\n",
      "weighted avg       0.86      0.86      0.86     22297\n",
      " \n",
      "\n",
      "Test:\n",
      "              precision    recall  f1-score   support\n",
      "\n",
      "           0       0.83      0.87      0.85      4744\n",
      "           1       0.75      0.70      0.72      2689\n",
      "\n",
      "    accuracy                           0.80      7433\n",
      "   macro avg       0.79      0.78      0.79      7433\n",
      "weighted avg       0.80      0.80      0.80      7433\n",
      "\n"
     ]
    }
   ],
   "source": [
    "print('Train:')\n",
    "print(classification_report(y_train, tuned_voting_stacking_train_preds), '\\n')\n",
    "print('Test:')\n",
    "print(classification_report(y_test, tuned_voting_stacking_test_preds))"
   ]
  },
  {
   "cell_type": "code",
   "execution_count": null,
   "metadata": {},
   "outputs": [],
   "source": []
  }
 ],
 "metadata": {
  "kernelspec": {
   "display_name": "Python 3",
   "language": "python",
   "name": "python3"
  },
  "language_info": {
   "codemirror_mode": {
    "name": "ipython",
    "version": 3
   },
   "file_extension": ".py",
   "mimetype": "text/x-python",
   "name": "python",
   "nbconvert_exporter": "python",
   "pygments_lexer": "ipython3",
   "version": "3.10.9"
  },
  "orig_nbformat": 4
 },
 "nbformat": 4,
 "nbformat_minor": 2
}
